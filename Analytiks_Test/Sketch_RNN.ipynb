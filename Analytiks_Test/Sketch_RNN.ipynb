{
 "cells": [
  {
   "cell_type": "markdown",
   "metadata": {},
   "source": [
    "### Requirements:"
   ]
  },
  {
   "cell_type": "code",
   "execution_count": 1,
   "metadata": {},
   "outputs": [],
   "source": [
    "#Update pip3\n",
    "!sudo pip3 install --upgrade -q pip"
   ]
  },
  {
   "cell_type": "code",
   "execution_count": 2,
   "metadata": {},
   "outputs": [],
   "source": [
    "#Update to Tensorflow 1.13.1 ; Required for running Magenta\n",
    "!pip3 install -q tensorflow-rocm==1.13.1"
   ]
  },
  {
   "cell_type": "code",
   "execution_count": 3,
   "metadata": {},
   "outputs": [],
   "source": [
    "#Downgrade to Numpy 1.16.1 to solve ValueError: Object arrays cannot be loaded when allow_pickle=False\n",
    "!pip3 install -q numpy==1.16.1"
   ]
  },
  {
   "cell_type": "markdown",
   "metadata": {
    "colab_type": "text",
    "id": "tDybPQiEFQuJ"
   },
   "source": [
    "In this notebook, we will show how to load pre-trained models and draw things with sketch-rnn"
   ]
  },
  {
   "cell_type": "code",
   "execution_count": 4,
   "metadata": {
    "colab": {},
    "colab_type": "code",
    "id": "k0GqvYgB9JLC"
   },
   "outputs": [],
   "source": [
    "# import the required libraries\n",
    "import numpy as np\n",
    "import time\n",
    "import random\n",
    "#import cPickle no longer supported for Python 3\n",
    "import _pickle as cPickle\n",
    "import codecs\n",
    "import collections\n",
    "import os\n",
    "import math\n",
    "import json\n",
    "import tensorflow as tf\n",
    "from six.moves import xrange"
   ]
  },
  {
   "cell_type": "code",
   "execution_count": 5,
   "metadata": {
    "colab": {},
    "colab_type": "code",
    "id": "UI4ZC__4FQuL"
   },
   "outputs": [],
   "source": [
    "# libraries required for visualisation:\n",
    "from IPython.display import SVG, display\n",
    "import PIL\n",
    "from PIL import Image\n",
    "import matplotlib.pyplot as plt\n",
    "\n",
    "# set numpy output to something sensible\n",
    "np.set_printoptions(precision=8, edgeitems=6, linewidth=200, suppress=True)"
   ]
  },
  {
   "cell_type": "code",
   "execution_count": 6,
   "metadata": {
    "colab": {},
    "colab_type": "code",
    "id": "D7ObpAUh9jrk"
   },
   "outputs": [],
   "source": [
    "#Changed to pip3\n",
    "!pip3 install -qU svgwrite"
   ]
  },
  {
   "cell_type": "code",
   "execution_count": 7,
   "metadata": {
    "colab": {},
    "colab_type": "code",
    "id": "4xYY-TUd9aiD"
   },
   "outputs": [],
   "source": [
    "import svgwrite # conda install -c omnia svgwrite=1.1.6"
   ]
  },
  {
   "cell_type": "code",
   "execution_count": 8,
   "metadata": {
    "colab": {
     "base_uri": "https://localhost:8080/",
     "height": 34
    },
    "colab_type": "code",
    "id": "NzPSD-XRFQuP",
    "outputId": "daa0dd33-6d59-4d15-f437-d8ec787c8884"
   },
   "outputs": [
    {
     "name": "stdout",
     "output_type": "stream",
     "text": [
      "INFO:tensorflow:TensorFlow Version: 1.13.1\n"
     ]
    }
   ],
   "source": [
    "tf.logging.info(\"TensorFlow Version: %s\", tf.__version__)"
   ]
  },
  {
   "cell_type": "code",
   "execution_count": 9,
   "metadata": {},
   "outputs": [
    {
     "name": "stdout",
     "output_type": "stream",
     "text": [
      "Reading package lists...\n",
      "Building dependency tree...\n",
      "Reading state information...\n",
      "build-essential is already the newest version (12.1ubuntu2).\n",
      "libasound2-dev is already the newest version (1.1.0-0ubuntu1).\n",
      "libjack-dev is already the newest version (1:0.124.1+20140122git5013bed0-3build2).\n",
      "0 upgraded, 0 newly installed, 0 to remove and 0 not upgraded.\n"
     ]
    }
   ],
   "source": [
    "#Required for Magenta installation\n",
    "!apt-get install -yq build-essential libasound2-dev libjack-dev"
   ]
  },
  {
   "cell_type": "code",
   "execution_count": 10,
   "metadata": {
    "colab": {},
    "colab_type": "code",
    "id": "LebxcF4p90OR"
   },
   "outputs": [
    {
     "name": "stdout",
     "output_type": "stream",
     "text": [
      "\u001b[31mERROR: Cannot uninstall 'httplib2'. It is a distutils installed project and thus we cannot accurately determine which files belong to it which would lead to only a partial uninstall.\u001b[0m\r\n"
     ]
    }
   ],
   "source": [
    "#Changed to pip3\n",
    "!pip3 install -q magenta"
   ]
  },
  {
   "cell_type": "code",
   "execution_count": 11,
   "metadata": {
    "colab": {},
    "colab_type": "code",
    "id": "NkFS0E1zFQuU"
   },
   "outputs": [
    {
     "name": "stdout",
     "output_type": "stream",
     "text": [
      "\n",
      "WARNING: The TensorFlow contrib module will not be included in TensorFlow 2.0.\n",
      "For more information, please see:\n",
      "  * https://github.com/tensorflow/community/blob/master/rfcs/20180907-contrib-sunset.md\n",
      "  * https://github.com/tensorflow/addons\n",
      "If you depend on functionality not listed there, please file an issue.\n",
      "\n"
     ]
    }
   ],
   "source": [
    "# import our command line tools\n",
    "from magenta.models.sketch_rnn.sketch_rnn_train import *\n",
    "from magenta.models.sketch_rnn.model import *\n",
    "from magenta.models.sketch_rnn.utils import *\n",
    "from magenta.models.sketch_rnn.rnn import *"
   ]
  },
  {
   "cell_type": "code",
   "execution_count": 12,
   "metadata": {
    "colab": {},
    "colab_type": "code",
    "id": "GBde4xkEFQuX"
   },
   "outputs": [],
   "source": [
    "# little function that displays vector images and saves them to .svg\n",
    "def draw_strokes(data, factor=0.2, svg_filename = '/tmp/sketch_rnn/svg/sample.svg'):\n",
    "  tf.gfile.MakeDirs(os.path.dirname(svg_filename))\n",
    "  min_x, max_x, min_y, max_y = get_bounds(data, factor)\n",
    "  dims = (50 + max_x - min_x, 50 + max_y - min_y)\n",
    "  dwg = svgwrite.Drawing(svg_filename, size=dims)\n",
    "  dwg.add(dwg.rect(insert=(0, 0), size=dims,fill='white'))\n",
    "  lift_pen = 1\n",
    "  abs_x = 25 - min_x \n",
    "  abs_y = 25 - min_y\n",
    "  p = \"M%s,%s \" % (abs_x, abs_y)\n",
    "  command = \"m\"\n",
    "  for i in xrange(len(data)):\n",
    "    if (lift_pen == 1):\n",
    "      command = \"m\"\n",
    "    elif (command != \"l\"):\n",
    "      command = \"l\"\n",
    "    else:\n",
    "      command = \"\"\n",
    "    x = float(data[i,0])/factor\n",
    "    y = float(data[i,1])/factor\n",
    "    lift_pen = data[i, 2]\n",
    "    p += command+str(x)+\",\"+str(y)+\" \"\n",
    "  the_color = \"black\"\n",
    "  stroke_width = 1\n",
    "  dwg.add(dwg.path(p).stroke(the_color,stroke_width).fill(\"none\"))\n",
    "  dwg.save()\n",
    "  display(SVG(dwg.tostring()))\n",
    "\n",
    "# generate a 2D grid of many vector drawings\n",
    "def make_grid_svg(s_list, grid_space=10.0, grid_space_x=16.0):\n",
    "  def get_start_and_end(x):\n",
    "    x = np.array(x)\n",
    "    x = x[:, 0:2]\n",
    "    x_start = x[0]\n",
    "    x_end = x.sum(axis=0)\n",
    "    x = x.cumsum(axis=0)\n",
    "    x_max = x.max(axis=0)\n",
    "    x_min = x.min(axis=0)\n",
    "    center_loc = (x_max+x_min)*0.5\n",
    "    return x_start-center_loc, x_end\n",
    "  x_pos = 0.0\n",
    "  y_pos = 0.0\n",
    "  result = [[x_pos, y_pos, 1]]\n",
    "  for sample in s_list:\n",
    "    s = sample[0]\n",
    "    grid_loc = sample[1]\n",
    "    grid_y = grid_loc[0]*grid_space+grid_space*0.5\n",
    "    grid_x = grid_loc[1]*grid_space_x+grid_space_x*0.5\n",
    "    start_loc, delta_pos = get_start_and_end(s)\n",
    "\n",
    "    loc_x = start_loc[0]\n",
    "    loc_y = start_loc[1]\n",
    "    new_x_pos = grid_x+loc_x\n",
    "    new_y_pos = grid_y+loc_y\n",
    "    result.append([new_x_pos-x_pos, new_y_pos-y_pos, 0])\n",
    "\n",
    "    result += s.tolist()\n",
    "    result[-1][2] = 1\n",
    "    x_pos = new_x_pos+delta_pos[0]\n",
    "    y_pos = new_y_pos+delta_pos[1]\n",
    "  return np.array(result)"
   ]
  },
  {
   "cell_type": "markdown",
   "metadata": {
    "colab_type": "text",
    "id": "if7-UyxzFQuY"
   },
   "source": [
    "define the path of the model you want to load, and also the path of the dataset"
   ]
  },
  {
   "cell_type": "code",
   "execution_count": 13,
   "metadata": {
    "colab": {},
    "colab_type": "code",
    "id": "Dipv1EbsFQuZ"
   },
   "outputs": [],
   "source": [
    "data_dir = 'http://github.com/hardmaru/sketch-rnn-datasets/raw/master/aaron_sheep/'\n",
    "models_root_dir = '/tmp/sketch_rnn/models'\n",
    "model_dir = '/tmp/sketch_rnn/models/aaron_sheep/layer_norm'"
   ]
  },
  {
   "cell_type": "code",
   "execution_count": 14,
   "metadata": {
    "colab": {
     "base_uri": "https://localhost:8080/",
     "height": 68
    },
    "colab_type": "code",
    "id": "eaSqI0fIFQub",
    "outputId": "06df45a6-cc86-4f50-802e-25ae185037f7"
   },
   "outputs": [
    {
     "name": "stdout",
     "output_type": "stream",
     "text": [
      "INFO:tensorflow:Downloading pretrained models from http://download.magenta.tensorflow.org/models/sketch_rnn.zip...\n",
      "INFO:tensorflow:Download complete.\n",
      "INFO:tensorflow:Unzipping /tmp/sketch_rnn/models/sketch_rnn.zip...\n",
      "INFO:tensorflow:Unzipping complete.\n"
     ]
    }
   ],
   "source": [
    "download_pretrained_models(models_root_dir=models_root_dir)"
   ]
  },
  {
   "cell_type": "code",
   "execution_count": 15,
   "metadata": {
    "colab": {},
    "colab_type": "code",
    "id": "G4sRuxyn_1aO"
   },
   "outputs": [],
   "source": [
    "def load_env_compatible(data_dir, model_dir):\n",
    "  \"\"\"Loads environment for inference mode, used in jupyter notebook.\"\"\"\n",
    "  # modified https://github.com/tensorflow/magenta/blob/master/magenta/models/sketch_rnn/sketch_rnn_train.py\n",
    "  # to work with depreciated tf.HParams functionality\n",
    "  model_params = sketch_rnn_model.get_default_hparams()\n",
    "  with tf.gfile.Open(os.path.join(model_dir, 'model_config.json'), 'r') as f:\n",
    "    data = json.load(f)\n",
    "  fix_list = ['conditional', 'is_training', 'use_input_dropout', 'use_output_dropout', 'use_recurrent_dropout']\n",
    "  for fix in fix_list:\n",
    "    data[fix] = (data[fix] == 1)\n",
    "  model_params.parse_json(json.dumps(data))\n",
    "  return load_dataset(data_dir, model_params, inference_mode=True)\n",
    "\n",
    "def load_model_compatible(model_dir):\n",
    "  \"\"\"Loads model for inference mode, used in jupyter notebook.\"\"\"\n",
    "  # modified https://github.com/tensorflow/magenta/blob/master/magenta/models/sketch_rnn/sketch_rnn_train.py\n",
    "  # to work with depreciated tf.HParams functionality\n",
    "  model_params = sketch_rnn_model.get_default_hparams()\n",
    "  with tf.gfile.Open(os.path.join(model_dir, 'model_config.json'), 'r') as f:\n",
    "    data = json.load(f)\n",
    "  fix_list = ['conditional', 'is_training', 'use_input_dropout', 'use_output_dropout', 'use_recurrent_dropout']\n",
    "  for fix in fix_list:\n",
    "    data[fix] = (data[fix] == 1)\n",
    "  model_params.parse_json(json.dumps(data))\n",
    "\n",
    "  model_params.batch_size = 1  # only sample one at a time\n",
    "  eval_model_params = sketch_rnn_model.copy_hparams(model_params)\n",
    "  eval_model_params.use_input_dropout = 0\n",
    "  eval_model_params.use_recurrent_dropout = 0\n",
    "  eval_model_params.use_output_dropout = 0\n",
    "  eval_model_params.is_training = 0\n",
    "  sample_model_params = sketch_rnn_model.copy_hparams(eval_model_params)\n",
    "  sample_model_params.max_seq_len = 1  # sample one point at a time\n",
    "  return [model_params, eval_model_params, sample_model_params]"
   ]
  },
  {
   "cell_type": "code",
   "execution_count": 16,
   "metadata": {
    "colab": {
     "base_uri": "https://localhost:8080/",
     "height": 153
    },
    "colab_type": "code",
    "id": "9m-jSAb3FQuf",
    "outputId": "debc045d-d15a-4b30-f747-fa4bcbd069fd"
   },
   "outputs": [
    {
     "name": "stdout",
     "output_type": "stream",
     "text": [
      "INFO:tensorflow:Downloading http://github.com/hardmaru/sketch-rnn-datasets/raw/master/aaron_sheep//aaron_sheep.npz\n",
      "INFO:tensorflow:Loaded 7400/300/300 from aaron_sheep.npz\n",
      "INFO:tensorflow:Dataset combined: 8000 (7400/300/300), avg len 125\n",
      "INFO:tensorflow:model_params.max_seq_len 250.\n",
      "total images <= max_seq_len is 7400\n",
      "total images <= max_seq_len is 300\n",
      "total images <= max_seq_len is 300\n",
      "INFO:tensorflow:normalizing_scale_factor 18.5198.\n"
     ]
    }
   ],
   "source": [
    "[train_set, valid_set, test_set, hps_model, eval_hps_model, sample_hps_model] = load_env_compatible(data_dir, model_dir)"
   ]
  },
  {
   "cell_type": "code",
   "execution_count": 17,
   "metadata": {
    "colab": {
     "base_uri": "https://localhost:8080/",
     "height": 479
    },
    "colab_type": "code",
    "id": "1pHS8TSgFQui",
    "outputId": "50b0e14d-ff0f-43bf-d996-90e9e6a1491e"
   },
   "outputs": [
    {
     "name": "stdout",
     "output_type": "stream",
     "text": [
      "INFO:tensorflow:Model using gpu.\n",
      "WARNING:tensorflow:From /usr/local/lib/python3.5/dist-packages/tensorflow/python/framework/op_def_library.py:263: colocate_with (from tensorflow.python.framework.ops) is deprecated and will be removed in a future version.\n",
      "Instructions for updating:\n",
      "Colocations handled automatically by placer.\n",
      "INFO:tensorflow:Input dropout mode = False.\n",
      "INFO:tensorflow:Output dropout mode = False.\n",
      "INFO:tensorflow:Recurrent dropout mode = True.\n",
      "WARNING:tensorflow:From /usr/local/lib/python3.5/dist-packages/magenta/models/sketch_rnn/model.py:100: bidirectional_dynamic_rnn (from tensorflow.python.ops.rnn) is deprecated and will be removed in a future version.\n",
      "Instructions for updating:\n",
      "Please use `keras.layers.Bidirectional(keras.layers.RNN(cell))`, which is equivalent to this API\n",
      "WARNING:tensorflow:From /usr/local/lib/python3.5/dist-packages/tensorflow/python/ops/rnn.py:443: dynamic_rnn (from tensorflow.python.ops.rnn) is deprecated and will be removed in a future version.\n",
      "Instructions for updating:\n",
      "Please use `keras.layers.RNN(cell)`, which is equivalent to this API\n",
      "WARNING:tensorflow:From /usr/local/lib/python3.5/dist-packages/tensorflow/python/ops/rnn.py:626: to_int32 (from tensorflow.python.ops.math_ops) is deprecated and will be removed in a future version.\n",
      "Instructions for updating:\n",
      "Use tf.cast instead.\n",
      "WARNING:tensorflow:From /usr/local/lib/python3.5/dist-packages/magenta/models/sketch_rnn/rnn.py:302: calling dropout (from tensorflow.python.ops.nn_ops) with keep_prob is deprecated and will be removed in a future version.\n",
      "Instructions for updating:\n",
      "Please use `rate` instead of `keep_prob`. Rate should be set to `rate = 1 - keep_prob`.\n",
      "WARNING:tensorflow:From /usr/local/lib/python3.5/dist-packages/magenta/models/sketch_rnn/model.py:266: div (from tensorflow.python.ops.math_ops) is deprecated and will be removed in a future version.\n",
      "Instructions for updating:\n",
      "Deprecated in favor of operator or tf.math.divide.\n",
      "WARNING:tensorflow:From /usr/local/lib/python3.5/dist-packages/magenta/models/sketch_rnn/model.py:285: calling reduce_sum_v1 (from tensorflow.python.ops.math_ops) with keep_dims is deprecated and will be removed in a future version.\n",
      "Instructions for updating:\n",
      "keep_dims is deprecated, use keepdims instead\n",
      "WARNING:tensorflow:From /usr/local/lib/python3.5/dist-packages/magenta/models/sketch_rnn/model.py:295: softmax_cross_entropy_with_logits (from tensorflow.python.ops.nn_ops) is deprecated and will be removed in a future version.\n",
      "Instructions for updating:\n",
      "\n",
      "Future major versions of TensorFlow will allow gradients to flow\n",
      "into the labels input on backprop by default.\n",
      "\n",
      "See `tf.nn.softmax_cross_entropy_with_logits_v2`.\n",
      "\n",
      "INFO:tensorflow:Model using gpu.\n",
      "INFO:tensorflow:Input dropout mode = 0.\n",
      "INFO:tensorflow:Output dropout mode = 0.\n",
      "INFO:tensorflow:Recurrent dropout mode = 0.\n",
      "INFO:tensorflow:Model using gpu.\n",
      "INFO:tensorflow:Input dropout mode = 0.\n",
      "INFO:tensorflow:Output dropout mode = 0.\n",
      "INFO:tensorflow:Recurrent dropout mode = 0.\n"
     ]
    }
   ],
   "source": [
    "# construct the sketch-rnn model here:\n",
    "reset_graph()\n",
    "model = Model(hps_model)\n",
    "eval_model = Model(eval_hps_model, reuse=True)\n",
    "sample_model = Model(sample_hps_model, reuse=True)"
   ]
  },
  {
   "cell_type": "code",
   "execution_count": 18,
   "metadata": {
    "colab": {},
    "colab_type": "code",
    "id": "1gxYLPTQFQuk"
   },
   "outputs": [],
   "source": [
    "sess = tf.InteractiveSession()\n",
    "sess.run(tf.global_variables_initializer())"
   ]
  },
  {
   "cell_type": "code",
   "execution_count": 19,
   "metadata": {
    "colab": {
     "base_uri": "https://localhost:8080/",
     "height": 51
    },
    "colab_type": "code",
    "id": "bVlDyfN_FQum",
    "outputId": "fb41ce20-4c7f-4991-e9f6-559ea9b34a31"
   },
   "outputs": [
    {
     "name": "stdout",
     "output_type": "stream",
     "text": [
      "INFO:tensorflow:Loading model /tmp/sketch_rnn/models/aaron_sheep/layer_norm/vector.\n",
      "WARNING:tensorflow:From /usr/local/lib/python3.5/dist-packages/tensorflow/python/training/saver.py:1266: checkpoint_exists (from tensorflow.python.training.checkpoint_management) is deprecated and will be removed in a future version.\n",
      "Instructions for updating:\n",
      "Use standard file APIs to check for files with this prefix.\n",
      "INFO:tensorflow:Restoring parameters from /tmp/sketch_rnn/models/aaron_sheep/layer_norm/vector\n"
     ]
    }
   ],
   "source": [
    "# loads the weights from checkpoint into our model\n",
    "load_checkpoint(sess, model_dir)"
   ]
  },
  {
   "cell_type": "markdown",
   "metadata": {
    "colab_type": "text",
    "id": "EOblwpFeFQuq"
   },
   "source": [
    "We define two convenience functions to encode a stroke into a latent vector, and decode from latent vector to stroke."
   ]
  },
  {
   "cell_type": "code",
   "execution_count": 20,
   "metadata": {
    "colab": {},
    "colab_type": "code",
    "id": "tMFlV487FQur"
   },
   "outputs": [],
   "source": [
    "def encode(input_strokes):\n",
    "  strokes = to_big_strokes(input_strokes).tolist()\n",
    "  strokes.insert(0, [0, 0, 1, 0, 0])\n",
    "  seq_len = [len(input_strokes)]\n",
    "  draw_strokes(to_normal_strokes(np.array(strokes)))\n",
    "  return sess.run(eval_model.batch_z, feed_dict={eval_model.input_data: [strokes], eval_model.sequence_lengths: seq_len})[0]"
   ]
  },
  {
   "cell_type": "code",
   "execution_count": 21,
   "metadata": {
    "colab": {},
    "colab_type": "code",
    "id": "1D5CV7ZlFQut"
   },
   "outputs": [],
   "source": [
    "def decode(z_input=None, draw_mode=True, temperature=0.1, factor=0.2):\n",
    "  z = None\n",
    "  if z_input is not None:\n",
    "    z = [z_input]\n",
    "  sample_strokes, m = sample(sess, sample_model, seq_len=eval_model.hps.max_seq_len, temperature=temperature, z=z)\n",
    "  strokes = to_normal_strokes(sample_strokes)\n",
    "  if draw_mode:\n",
    "    draw_strokes(strokes, factor)\n",
    "  return strokes"
   ]
  },
  {
   "cell_type": "code",
   "execution_count": 22,
   "metadata": {
    "colab": {
     "base_uri": "https://localhost:8080/",
     "height": 123
    },
    "colab_type": "code",
    "id": "fUOAvRQtFQuw",
    "outputId": "c8e9a1c3-28db-4263-ac67-62ffece1e1e0"
   },
   "outputs": [
    {
     "data": {
      "image/svg+xml": [
       "<svg baseProfile=\"full\" height=\"82.93768003582954\" version=\"1.1\" width=\"106.42602395266294\" xmlns=\"http://www.w3.org/2000/svg\" xmlns:ev=\"http://www.w3.org/2001/xml-events\" xmlns:xlink=\"http://www.w3.org/1999/xlink\"><defs/><rect fill=\"white\" height=\"82.93768003582954\" width=\"106.42602395266294\" x=\"0\" y=\"0\"/><path d=\"M67.92697548866272,25 m-18.088725805282593,0.2699809893965721 l-5.129638910293579,3.2397717237472534 -5.6696003675460815,6.209562420845032 l-1.0799239575862885,2.42982879281044 0.2699809893965721,2.159847915172577 l1.0799239575862885,1.3499048352241516 1.3499048352241516,2.9697906970977783 l4.049714803695679,2.9697906970977783 8.909372091293335,3.2397717237472534 l9.71931517124176,0.5399619787931442 2.6998096704483032,-0.8099429309368134 l5.129638910293579,-2.6998096704483032 5.6696003675460815,-4.319695830345154 l3.7797337770462036,-6.209562420845032 0.8099429309368134,-3.2397717237472534 l0.0,-3.2397717237472534 -0.8099429309368134,-1.8898668885231018 l-1.3499048352241516,-1.6198858618736267 -1.8898668885231018,-0.5399619787931442 l-9.71931517124176,-0.2699809893965721 m-18.088725805282593,23.218364715576172 l-1.8898668885231018,4.85965758562088 -0.2699809893965721,3.7797337770462036 l1.0799239575862885,0.0 2.6998096704483032,-1.0799239575862885 l1.6198858618736267,-3.2397717237472534 0.2699809893965721,-3.5097527503967285 m0.5399619787931442,0.0 l0.2699809893965721,8.369410634040833 1.8898668885231018,0.0 l0.2699809893965721,-0.5399619787931442 0.5399619787931442,0.0 l0.0,-1.0799239575862885 1.0799239575862885,-2.42982879281044 l0.0,-3.5097527503967285 m9.449334144592285,-1.3499048352241516 l0.0,2.159847915172577 -1.8898668885231018,4.049714803695679 l0.0,2.42982879281044 3.7797337770462036,0.0 l1.0799239575862885,-8.099429607391357 0.0,-2.9697906970977783 m0.8099429309368134,-0.2699809893965721 l1.0799239575862885,4.319695830345154 3.2397717237472534,6.749524474143982 l1.8898668885231018,0.2699809893965721 2.42982879281044,-0.5399619787931442 l-0.8099429309368134,-6.749524474143982 -1.0799239575862885,-2.42982879281044 l-1.0799239575862885,-5.3996193408966064 m-36.71741247177124,-10.529258251190186 l-0.2699809893965721,-2.42982879281044 -1.8898668885231018,-4.049714803695679 l-0.5399619787931442,-0.5399619787931442 -2.6998096704483032,0.0 l-6.209562420845032,3.5097527503967285 -1.6198858618736267,1.6198858618736267 l-1.6198858618736267,2.9697906970977783 0.0,4.319695830345154 l2.6998096704483032,5.129638910293579 2.9697906970977783,1.3499048352241516 l7.559467554092407,0.0 1.0799239575862885,-0.5399619787931442 l1.0799239575862885,-1.3499048352241516 m-0.2699809893965721,-10.799238681793213 l0.2699809893965721,4.049714803695679 m-11.879162788391113,-3.5097527503967285 l0.2699809893965721,0.2699809893965721 2.159847915172577,-0.5399619787931442 \" fill=\"none\" stroke=\"black\" stroke-width=\"1\"/></svg>"
      ],
      "text/plain": [
       "<IPython.core.display.SVG object>"
      ]
     },
     "metadata": {},
     "output_type": "display_data"
    }
   ],
   "source": [
    "# get a sample drawing from the test set, and render it to .svg\n",
    "stroke = test_set.random_sample()\n",
    "draw_strokes(stroke)"
   ]
  },
  {
   "cell_type": "markdown",
   "metadata": {
    "colab_type": "text",
    "id": "j114Re2JFQuz"
   },
   "source": [
    "Let's try to encode the sample stroke into latent vector $z$"
   ]
  },
  {
   "cell_type": "code",
   "execution_count": 23,
   "metadata": {
    "colab": {
     "base_uri": "https://localhost:8080/",
     "height": 123
    },
    "colab_type": "code",
    "id": "DBRjPBo-FQu0",
    "outputId": "e089dc78-88e3-44c6-ed7e-f1844471f47f"
   },
   "outputs": [
    {
     "data": {
      "image/svg+xml": [
       "<svg baseProfile=\"full\" height=\"82.93768003582954\" version=\"1.1\" width=\"106.42602395266294\" xmlns=\"http://www.w3.org/2000/svg\" xmlns:ev=\"http://www.w3.org/2001/xml-events\" xmlns:xlink=\"http://www.w3.org/1999/xlink\"><defs/><rect fill=\"white\" height=\"82.93768003582954\" width=\"106.42602395266294\" x=\"0\" y=\"0\"/><path d=\"M67.92697548866272,25 m0.0,0.0 l-18.088725805282593,0.2699809893965721 -5.129638910293579,3.2397717237472534 l-5.6696003675460815,6.209562420845032 -1.0799239575862885,2.42982879281044 l0.2699809893965721,2.159847915172577 1.0799239575862885,1.3499048352241516 l1.3499048352241516,2.9697906970977783 4.049714803695679,2.9697906970977783 l8.909372091293335,3.2397717237472534 9.71931517124176,0.5399619787931442 l2.6998096704483032,-0.8099429309368134 5.129638910293579,-2.6998096704483032 l5.6696003675460815,-4.319695830345154 3.7797337770462036,-6.209562420845032 l0.8099429309368134,-3.2397717237472534 0.0,-3.2397717237472534 l-0.8099429309368134,-1.8898668885231018 -1.3499048352241516,-1.6198858618736267 l-1.8898668885231018,-0.5399619787931442 -9.71931517124176,-0.2699809893965721 m-18.088725805282593,23.218364715576172 l-1.8898668885231018,4.85965758562088 -0.2699809893965721,3.7797337770462036 l1.0799239575862885,0.0 2.6998096704483032,-1.0799239575862885 l1.6198858618736267,-3.2397717237472534 0.2699809893965721,-3.5097527503967285 m0.5399619787931442,0.0 l0.2699809893965721,8.369410634040833 1.8898668885231018,0.0 l0.2699809893965721,-0.5399619787931442 0.5399619787931442,0.0 l0.0,-1.0799239575862885 1.0799239575862885,-2.42982879281044 l0.0,-3.5097527503967285 m9.449334144592285,-1.3499048352241516 l0.0,2.159847915172577 -1.8898668885231018,4.049714803695679 l0.0,2.42982879281044 3.7797337770462036,0.0 l1.0799239575862885,-8.099429607391357 0.0,-2.9697906970977783 m0.8099429309368134,-0.2699809893965721 l1.0799239575862885,4.319695830345154 3.2397717237472534,6.749524474143982 l1.8898668885231018,0.2699809893965721 2.42982879281044,-0.5399619787931442 l-0.8099429309368134,-6.749524474143982 -1.0799239575862885,-2.42982879281044 l-1.0799239575862885,-5.3996193408966064 m-36.71741247177124,-10.529258251190186 l-0.2699809893965721,-2.42982879281044 -1.8898668885231018,-4.049714803695679 l-0.5399619787931442,-0.5399619787931442 -2.6998096704483032,0.0 l-6.209562420845032,3.5097527503967285 -1.6198858618736267,1.6198858618736267 l-1.6198858618736267,2.9697906970977783 0.0,4.319695830345154 l2.6998096704483032,5.129638910293579 2.9697906970977783,1.3499048352241516 l7.559467554092407,0.0 1.0799239575862885,-0.5399619787931442 l1.0799239575862885,-1.3499048352241516 m-0.2699809893965721,-10.799238681793213 l0.2699809893965721,4.049714803695679 m-11.879162788391113,-3.5097527503967285 l0.2699809893965721,0.2699809893965721 2.159847915172577,-0.5399619787931442 \" fill=\"none\" stroke=\"black\" stroke-width=\"1\"/></svg>"
      ],
      "text/plain": [
       "<IPython.core.display.SVG object>"
      ]
     },
     "metadata": {},
     "output_type": "display_data"
    }
   ],
   "source": [
    "z = encode(stroke)"
   ]
  },
  {
   "cell_type": "code",
   "execution_count": 24,
   "metadata": {
    "colab": {
     "base_uri": "https://localhost:8080/",
     "height": 124
    },
    "colab_type": "code",
    "id": "-37v6eZLFQu5",
    "outputId": "5ddac2f2-5b3b-4cd7-b81f-7a8fa374aa6b"
   },
   "outputs": [
    {
     "data": {
      "image/svg+xml": [
       "<svg baseProfile=\"full\" height=\"74.89323951303959\" version=\"1.1\" width=\"95.1887350808829\" xmlns=\"http://www.w3.org/2000/svg\" xmlns:ev=\"http://www.w3.org/2001/xml-events\" xmlns:xlink=\"http://www.w3.org/1999/xlink\"><defs/><rect fill=\"white\" height=\"74.89323951303959\" width=\"95.1887350808829\" x=\"0\" y=\"0\"/><path d=\"M53.979793936014175,27.405665227852296 m-15.333806276321411,-0.029286560602486134 l-7.0946890115737915,3.283105790615082 -3.258677124977112,2.6532092690467834 l-1.6840177774429321,2.599942982196808 -1.6086037456989288,5.1487696170806885 l0.09234736673533916,2.1412785351276398 3.4665533900260925,2.9615747928619385 l3.9679691195487976,2.435721755027771 7.344098091125488,1.292881816625595 l10.274616479873657,0.00037628720747306943 5.821433663368225,-1.4967085421085358 l8.022353649139404,-1.0624219477176666 2.854565978050232,-1.3594482839107513 l0.9702824801206589,-0.9131763130426407 0.9814288467168808,-1.8086452782154083 l0.6144463270902634,-2.185508757829666 0.7786396890878677,-4.843608140945435 l-1.2143302708864212,-3.0416300892829895 -2.5450316071510315,-2.27231964468956 l-2.5576022267341614,-1.08658067882061 0.9272520244121552,-2.8449153900146484 l0.28144408017396927,-0.8248603343963623 -1.543547809123993,-1.1534161120653152 m-2.0504070818424225,3.454885482788086 l-0.7627139985561371,0.00022264701328822412 -1.1026610434055328,1.8876005709171295 l0.908321738243103,3.683255612850189 2.917432487010956,-1.609690934419632 l0.5858232453465462,-0.8778039366006851 0.0003158791150781326,-2.3345671594142914 l-1.394134759902954,-1.5005864202976227 m-24.346771240234375,11.935291290283203 l-3.2481756806373596,0.0010372972610639408 -3.675127923488617,2.589084804058075 l-1.8495982885360718,5.423679947853088 0.948905348777771,-0.21367501467466354 l2.0452117919921875,0.8029758930206299 3.77341091632843,-3.1376194953918457 l3.592149019241333,-5.853381156921387 5.315915132086957e-05,-0.44107042253017426 m8.02941620349884,2.2703172266483307 l0.2500973083078861,2.4547840654850006 3.132048547267914,5.103052258491516 l0.9415868669748306,0.6620080769062042 1.1038365215063095,0.0004837030792259611 l0.9388828277587891,-2.844231128692627 0.26883920654654503,-3.4622320532798767 l0.6818457692861557,-2.156659960746765 m-9.827302098274231,-6.717973351478577 l0.24496270343661308,4.589764475822449 -0.42213600128889084,1.6057020425796509 l-1.1348431557416916,0.0429921830072999 -2.052771896123886,-1.5781161189079285 l-0.18946243450045586,-4.159611761569977 m16.122334003448486,2.546938955783844 l0.13612660579383373,1.824571043252945 -0.49202606081962585,1.1428110301494598 l-1.4680339395999908,1.5490558743476868 -1.2090369313955307,-0.1938592828810215 l-1.4731788635253906,-1.9276383519172668 m10.301159620285034,-3.779565989971161 l-0.00022158596038934775,3.817177712917328 -3.4055984020233154,-0.6378339231014252 m-17.89533495903015,-11.983331441879272 l1.7330138385295868,1.359400600194931 2.3104341328144073,1.6213954985141754 l0.22524183616042137,-2.5826337933540344 \" fill=\"none\" stroke=\"black\" stroke-width=\"1\"/></svg>"
      ],
      "text/plain": [
       "<IPython.core.display.SVG object>"
      ]
     },
     "metadata": {},
     "output_type": "display_data"
    }
   ],
   "source": [
    "_ = decode(z, temperature=0.8) # convert z back to drawing at temperature of 0.8"
   ]
  },
  {
   "cell_type": "markdown",
   "metadata": {
    "colab_type": "text",
    "id": "M5ft6IEBFQu9"
   },
   "source": [
    "Create generated grid at various temperatures from 0.1 to 1.0"
   ]
  },
  {
   "cell_type": "code",
   "execution_count": 25,
   "metadata": {
    "colab": {
     "base_uri": "https://localhost:8080/",
     "height": 130
    },
    "colab_type": "code",
    "id": "BuhaZI0aFQu9",
    "outputId": "d87d4b00-30c2-4302-bec8-46566ef26922"
   },
   "outputs": [
    {
     "data": {
      "image/svg+xml": [
       "<svg baseProfile=\"full\" height=\"99.14760622880749\" version=\"1.1\" width=\"820.094222655307\" xmlns=\"http://www.w3.org/2000/svg\" xmlns:ev=\"http://www.w3.org/2001/xml-events\" xmlns:xlink=\"http://www.w3.org/1999/xlink\"><defs/><rect fill=\"white\" height=\"99.14760622880749\" width=\"820.094222655307\" x=\"0\" y=\"0\"/><path d=\"M26.302655820754808,25 m0.0,0.0 m33.94581239393119,10.169569010490136 l-16.17414116859436,0.014940719120204449 -6.064388751983643,2.5749674439430237 l-4.067830145359039,4.322159588336945 -2.0114076137542725,4.282073974609375 l-0.3922402858734131,3.87240469455719 1.0835633426904678,2.256522625684738 l2.026374340057373,1.981494277715683 2.9801684617996216,1.7256611585617065 l7.365768551826477,2.0923668146133423 8.805021047592163,0.0001313381471845787 l7.313103675842285,-1.2597985565662384 5.857827663421631,-2.4845492839813232 l4.430760145187378,-3.242412805557251 3.044593632221222,-4.136894047260284 l0.8113881945610046,-2.042139917612076 -0.00024748411306063645,-2.8761380910873413 l-1.2658192217350006,-2.5784891843795776 -2.2217459976673126,-1.9948381185531616 l-2.97182559967041,-1.3997939229011536 -4.415319561958313,0.00027878242690349 m-23.8132381439209,7.8057944774627686 l-1.0935594886541367,-0.9385481476783752 -3.71378630399704,-1.9807736575603485 l-4.263456463813782,-0.5863232910633087 -3.777433931827545,1.1174383759498596 l-2.417980879545212,2.9022878408432007 -0.3026162274181843,3.419344425201416 l1.4017175137996674,1.9557307660579681 2.625255584716797,1.3814038038253784 l6.180360317230225,0.0002810483783832751 2.5023719668388367,-1.275273710489273 l1.4965227246284485,-1.8052764236927032 -6.20642640569713e-05,-1.3608700037002563 l-1.1420687288045883,-1.2267788499593735 m-9.046580791473389,-3.0079537630081177 l1.0393859446048737,-0.06840462330728769 -0.0006009531352901831,-0.0710187666118145 l-0.49003511667251587,-0.5423498153686523 -0.6382227689027786,9.78263506112853e-05 l-0.00022958665795158595,0.34589145332574844 0.3971371427178383,-0.2090335264801979 l-0.3439778462052345,-0.20791545510292053 -0.12608060613274574,0.03512777853757143 l0.10936119593679905,-0.12869319878518581 -0.08921093307435513,-0.12673506513237953 l-0.00027800988391391,0.15792524442076683 -0.0004752579116029665,-0.17510268837213516 l0.022653802298009396,-0.07102333474904299 m-1.7243407666683197,4.496017694473267 l1.5865680575370789,7.311747367566568e-06 0.872509777545929,-0.6296918541193008 m16.985647678375244,7.066898345947266 l-0.8163280040025711,1.4294721186161041 -3.9420193433761597,7.249971032142639 l-2.3948773741722107,2.84483402967453 0.0002195301749452483,0.6245692074298859 l2.1255218982696533,0.00011839864782814402 2.1592622995376587,-1.359589546918869 l1.7498616874217987,-2.2110915184020996 0.25192713364958763,-7.036164402961731 m11.728935241699219,0.38885999470949173 l-2.1358151733875275,6.878460645675659 -1.827777475118637,3.4859350323677063 l1.823674589395523,-0.0783541239798069 1.7566590011119843,-1.4664079248905182 l1.3199305534362793,-2.3786307871341705 0.47263916581869125,-7.526255249977112 m6.814857721328735,-0.06865975446999073 l0.0001820915895223152,5.359638333320618 -1.8511934740672586e-05,3.7130746245384216 l1.260455697774887,8.1415637396276e-05 1.251196414232254,-1.4519968628883362 l0.00011221365639357828,-7.796176075935364 m71.67692730253066,-18.56776398114846 l-16.257660388946533,0.02935277996584773 -6.40628457069397,2.58846253156662 l-3.82207453250885,4.329989552497864 -1.4983248710632324,3.3311352133750916 l-0.4138563573360443,4.322737157344818 1.0375530272722244,2.4476009607315063 l2.071901112794876,2.3111552000045776 2.9688796401023865,1.8692775070667267 l7.0438045263290405,2.1753013134002686 9.638345837593079,0.00011753955732274335 l7.123037576675415,-1.3392309844493866 3.358652889728546,-1.258484572172165 l1.2374155968427658,-1.0569308698177338 2.620997130870819,-4.162361323833466 l9.509434676147066e-05,-5.0486159324646 -0.9868347644805908,-3.063235580921173 l-2.6047784090042114,-4.151578843593597 -2.520693838596344,-1.5293192863464355 l-3.8163983821868896,0.0002064679574687034 m-17.994128465652466,13.681997060775757 l-3.050137162208557,4.8908039927482605 -0.9649127721786499,4.6056050062179565 l8.52382891025627e-05,2.640625536441803 0.8371516317129135,1.3586050271987915 l2.359892427921295,0.7989604771137238 3.0258476734161377,-7.129041023290483e-05 l1.6492384672164917,-1.2611886858940125 1.2432857602834702,-2.1775509417057037 l9.963885531760752e-05,-5.691826343536377 -0.5328981578350067,-1.0309480130672455 m8.298523426055908,-0.035334001295268536 l-0.2814585901796818,7.251183986663818 0.9178391844034195,2.1810775995254517 l1.7710410058498383,1.5490466356277466 2.1717239916324615,0.3049452602863312 l1.8161380290985107,-1.1295756697654724 1.804996132850647,-3.93186092376709 l8.39451422507409e-05,-4.457076191902161 -0.8236242085695267,-2.335498332977295 m-9.456042647361755,-9.486355781555176 l-0.3844521567225456,0.6247911229729652 0.5365140736103058,2.2979356348514557 l1.5669836103916168,1.5081049501895905 3.0164629220962524,0.273087453097105 l1.5113422274589539,-1.0955669730901718 0.17805147916078568,-3.2781124114990234 l-1.3103216886520386,-1.494419425725937 m-9.270057082176208,-0.280970074236393 l-0.00027237983886152506,1.5301063656806946 1.2323503196239471,1.4538955688476562 l2.2712545096874237,0.0004468817132874392 1.137179657816887,-1.2793774902820587 l-0.00017444801414967515,-1.8617817759513855 m-4.367375671863556,1.4938794076442719 l-0.00016348059943993576,1.9411906599998474 1.6026809811592102,1.3985241949558258 l2.8244295716285706,0.00033522337616886944 1.3755236566066742,-1.3074211776256561 l-0.00012637140571314376,-1.856713443994522 m-6.6894203424453735,-0.41940852999687195 l-0.0004128289583604783,1.6091708838939667 1.3192126154899597,1.5648537874221802 l3.139944076538086,0.0003534981806296855 1.1989803612232208,-1.2144336104393005 l-9.644962119637057e-05,-1.4978525042533875 m-3.247774839401245,-0.1526264939457178 l-0.0002821867383318022,2.0365044474601746 1.4321531355381012,1.501804143190384 l3.325550854206085,0.0003306239523226395 m83.64716425862724,-13.898637202471491 l-16.433314085006714,0.09693880565464497 -6.469511389732361,2.790883183479309 l-3.6789754033088684,3.8147830963134766 -1.972242295742035,4.891974627971649 l0.203603133559227,3.7619027495384216 1.5337210893630981,2.2416380047798157 l2.1179044246673584,1.6967736184597015 4.398890733718872,1.8472535908222198 l6.22799277305603,1.0966063290834427 10.33886432647705,0.00017541709894430824 l5.629534125328064,-1.0412485897541046 7.771234512329102,-4.045380651950836 l3.0372658371925354,-3.7358281016349792 0.8836128562688828,-2.049647867679596 l-0.00019599869119701907,-3.1736111640930176 -2.310633510351181,-4.266444742679596 l-2.576659619808197,-1.9876587390899658 -3.2323727011680603,-1.3290299475193024 l-6.473554372787476,0.0002806235170282889 m-16.379458904266357,18.379719257354736 l-6.971201401029248e-05,5.018748044967651 0.2709589712321758,6.862239241600037 l0.6985440105199814,1.8197554349899292 1.8883803486824036,-0.00010119757462234702 l1.6579164564609528,-1.2419365346431732 0.9284548461437225,-1.8595725297927856 l-7.19291563200386e-06,-6.7360758781433105 -0.5582249537110329,-1.234998106956482 m14.06036376953125,-0.4980546608567238 l-0.10548211634159088,6.924595832824707 1.0201875120401382,2.0780736207962036 l1.7406569421291351,1.0144025087356567 2.021598219871521,0.0003899298098986037 l1.5572743117809296,-1.0903574526309967 1.5843439102172852,-3.941459357738495 l0.0001002070803224342,-4.010390341281891 -1.33181631565094,-3.248799443244934 m-7.656096816062927,-9.95561420917511 l-0.2721470594406128,0.4830603674054146 0.4356466233730316,1.9491900503635406 l1.545390784740448,1.185055673122406 2.7031275629997253,-0.38875795900821686 l1.2639690935611725,-1.2983940541744232 -7.912281034805346e-05,-2.2059839963912964 l-1.2182354182004929,-1.456424742937088 -1.1586013436317444,-0.5106348544359207 m-27.519898414611816,1.4246785640716553 l-0.21648481488227844,-0.2078789286315441 -7.039275715214899e-05,-0.006832277285866439 l-0.5721153691411018,0.53695198148489 -0.0001738647188176401,0.4188293218612671 l0.9989755600690842,0.00036601290048565716 0.17927533015608788,-1.0628017783164978 l-0.5841260775923729,0.0002698762727959547 m-4.8355865478515625,6.463784575462341 l0.3371177613735199,0.0006199327617650852 2.258731722831726,-0.28630079701542854 l1.9941112399101257,-1.1790712922811508 0.767047330737114,-1.0832494497299194 m20.77845573425293,-6.811838150024414 l3.119257390499115,-1.0327863693237305 1.6875042021274567,-1.8101630985256634e-05 l2.379159927368164,1.8114268779754639 0.7501479983329773,1.4265885949134827 m0.6337933242321014,0.6093359738588333 l4.417760074138641,0.12282019481062889 1.021050438284874,0.6050590798258781 m76.03337359625556,-8.406885441908116 l-16.264824867248535,0.015511128585785627 -5.69214403629303,2.6082655787467957 l-3.951370120048523,4.2181286215782166 -2.614148259162903,5.146971344947815 l0.0007392293628072366,3.5842302441596985 1.2025389075279236,2.106541693210602 l1.9765892624855042,1.6287270188331604 9.997462034225464,3.1327667832374573 l6.34275496006012,0.00020453966499189846 6.372540593147278,-1.1867985874414444 l6.261838674545288,-2.143948972225189 2.6964610815048218,-1.4398477971553802 l3.3700114488601685,-5.754712224006653 0.0004611700933310203,-3.59010249376297 l-1.7686866223812103,-3.7188878655433655 -1.9294850528240204,-1.5665654838085175 l-2.1175357699394226,-1.240907683968544 -3.8362115621566772,-7.556890977866715e-05 m-27.25982427597046,12.83531665802002 l-2.570157051086426,0.0014097781968303025 -5.266252160072327,3.713407814502716 l-3.8014477491378784,6.838000416755676 -0.41933678090572357,2.33794704079628 l1.3986964523792267,1.3749213516712189 2.0290914177894592,1.1358800530433655 l5.2470314502716064,0.1971730962395668 5.178945064544678,-1.6501840949058533 l2.7223068475723267,-2.7381891012191772 1.952366828918457,-4.038878381252289 l0.260727871209383,-4.137879908084869 -0.6449480354785919,-1.0324335098266602 l-1.008828729391098,-0.41462842375040054 m19.271095991134644,2.554577887058258 l-2.3087619245052338,5.7574838399887085 -0.42229749262332916,3.254517614841461 l0.32778266817331314,2.989441156387329 1.3615934550762177,1.441269963979721 l1.2184969335794449,0.4085344448685646 2.0717042684555054,-0.6803465634584427 l2.4692274630069733,-2.0829156041145325 1.3839909434318542,-2.313726544380188 l0.00014299796021077782,-6.829118132591248 -0.5421486496925354,-1.1882251501083374 m-17.85838484764099,-6.709879040718079 l-1.1543010920286179,1.3312210142612457 0.13870437629520893,3.2511544227600098 l2.778497040271759,2.500357925891876 3.375212252140045,0.9166145324707031 l1.8866175413131714,-0.8137303590774536 0.7655086368322372,-1.0172955691814423 l0.72708860039711,-3.55133980512619 -0.42725667357444763,-1.113596335053444 m-10.185219049453735,-10.282763242721558 l-0.43559547513723373,0.05747132934629917 9.371426131110638e-05,1.513998806476593 l1.6220815479755402,2.063419371843338 1.1569853127002716,-1.4271672070026398 l-0.8703725785017014,-2.314973771572113 m-7.811485528945923,5.652136206626892 l0.6060420349240303,-0.57174202054739 1.2061373889446259,-0.5334263294935226 l1.4302301406860352,0.00024940489311120473 0.2737601287662983,0.9080652147531509 m-5.134732127189636,-0.6359358876943588 l0.0001025510391627904,0.9214118123054504 0.4000885412096977,0.2525017783045769 l0.7486740499734879,-0.7488509267568588 m26.978039741516113,3.6150026321411133 l-0.9245850145816803,1.2580807507038116 -1.085723415017128,1.414407193660736 l-2.8426674008369446,2.8654971718788147 m74.20550608199846,-20.40888611878472 l-16.00738763809204,-0.07488101255148649 -6.4087337255477905,2.193114757537842 l-4.951850473880768,5.4182857275009155 -1.166285201907158,3.858516812324524 l0.48632193356752396,2.7773168683052063 1.487623006105423,2.628367841243744 l2.0839230716228485,2.230769544839859 1.675693392753601,1.1605249345302582 l9.162387251853943,2.385948896408081 8.609954714775085,0.000340142214554362 l3.4983402490615845,-0.5046479403972626 10.001367330551147,-3.6488839983940125 l2.749795913696289,-1.739468276500702 1.7578436434268951,-2.060663104057312 l2.7427998185157776,-4.769949018955231 -0.0003672437378554605,-2.500954270362854 l-2.383148670196533,-4.141879677772522 -3.865351378917694,-2.7343037724494934 l-3.343634009361267,-1.2208043038845062 m-27.461605072021484,9.04980182647705 l-1.1131849139928818,0.48951704055070877 -2.9544883966445923,2.8402024507522583 l-3.3690598607063293,4.351179003715515 -0.5394601449370384,1.5727178752422333 l0.00034890661481767893,2.65600323677063 2.929406464099884,3.8877668976783752 l5.955604314804077,2.267143130302429 4.673071801662445,-0.7307025045156479 l2.643638253211975,-1.6536571085453033 1.6684812307357788,-2.668122947216034 l1.3729839026927948,-8.128569722175598 -0.9217412769794464,-1.7693468928337097 l-1.2468594312667847,-0.8069505542516708 -2.330477684736252,0.00030649393011117354 l-2.038026750087738,0.5688682571053505 -0.5919056385755539,0.8263169229030609 l-0.13689345680177212,1.7768120765686035 -0.4685854911804199,4.3848526729561854e-05 l0.06548681762069464,-3.4256306290626526 0.17758695408701897,0.0007444607763318345 m-1.763523519039154,-0.5466333031654358 l0.00031497427698923275,0.6703660637140274 1.3811859488487244,5.4402216846938245e-05 l-0.48545461148023605,-1.066632717847824 -0.860183909535408,0.092933913692832 l-6.31052262178855e-05,0.5711928755044937 0.3254055604338646,0.0004313595127314329 m-1.645171344280243,6.989210247993469 l0.5137776583433151,0.383911170065403 1.7526909708976746,0.00032403357181465253 l1.9011171162128448,-1.3566015660762787 1.3449671864509583,-1.6273654997348785 m5.5323028564453125,11.289727687835693 l-2.9815122485160828,10.245393514633179 -1.6259883344173431,0.26765763759613037 l-0.811832845211029,1.080283671617508 2.446439117193222,-0.00021034009478171356 l2.525053918361664,-2.8091666102409363 -8.420506674156059e-05,-5.994570255279541 m9.559824466705322,-1.4414237439632416 l-1.2499084323644638,7.558724880218506 -1.7051947116851807,0.24679351598024368 l0.0944049283862114,0.5189472809433937 3.255292773246765,0.006884001195430756 l0.2587284706532955,-2.260866016149521 m7.160130739212036,-5.031970739364624 l-0.27042703703045845,6.277952194213867 -2.0022499561309814,-0.10926887392997742 l-0.00017518590539111756,-3.2771536707878113 1.1376915872097015,-3.645685911178589 m74.74919183967359,-22.426478415080737 l-16.536062955856323,0.06176810711622238 -2.3312988877296448,0.7900767028331757 l-8.816581964492798,9.126502871513367 -0.5328521504998207,2.0472143590450287 l0.237248744815588,2.408839762210846 1.1449071019887924,2.1648627519607544 l2.190210670232773,2.0780296623706818 2.6793628931045532,1.3844886422157288 l7.943583726882935,1.7366693913936615 13.078112602233887,0.00020148414478171617 l7.500326037406921,-1.7192402482032776 2.5746509432792664,-1.1281269788742065 l1.8844984471797943,-1.7634886503219604 0.5959006398916245,-1.4695176482200623 l-0.06955378223210573,-5.857807993888855 -1.3337436318397522,-2.9860037565231323 l-1.4010728895664215,-1.258738487958908 -4.360302686691284,-1.984565109014511 l-4.7708576917648315,0.0005058220267528668 -1.0582131147384644,-1.4112712442874908 m-12.142008543014526,5.47685980796814 l-1.9569052755832672,-1.4381062984466553 -4.656010270118713,-0.10324551723897457 l-0.9666651487350464,2.522059977054596 -1.7275841534137726,4.966213405132294 l2.873978316783905,2.83142626285553 1.366007924079895,0.0002280544867971912 l6.191018223762512,-3.3874064683914185 1.055295616388321,-2.4483418464660645 l-0.00013386388673097827,-3.15826416015625 -1.628921627998352,-1.8709872663021088 l-1.130603849887848,-0.5608788132667542 -2.141769528388977,0.000383084625354968 l-0.5177522078156471,0.649019330739975 m8.815252780914307,12.777281999588013 l-0.5675122141838074,3.6535950584948296e-05 -0.3753894940018654,1.4506334066390991 l-1.1950233578681946,4.26213264465332 0.2619469538331032,1.8716244399547577 l1.1762913316488266,0.6689070165157318 3.303585946559906,0.0002822497845045291 l1.9703292846679688,-1.8977311253547668 0.2714878134429455,-5.482034087181091 m7.686805725097656,0.4702669754624367 l-0.26428092271089554,5.961927175521851 0.5126655474305153,0.9326808154582977 l1.67101189494133,0.17245184630155563 1.5756060183048248,-1.1508285254240036 l1.170751005411148,-2.098430097103119 0.00029147015084163286,-4.487114250659943 l-0.5636920034885406,-1.9063325226306915 m-18.540966510772705,-5.521848797798157 l0.0002613349715829827,-1.006985530257225 -0.000572634999116417,-0.5976289510726929 l-0.0005122308357385918,-1.8489325046539307 1.5535633265972137,-2.097758948802948 m-5.129843354225159,3.998119831085205 l1.0490073263645172,-1.8125014007091522 m-6.224998831748962,-1.7038480937480927 l1.264209896326065,0.0003593515793909319 -0.00033886135497596115,0.28962161391973495 l0.7889115810394287,0.24789031594991684 1.470598429441452,0.00027346410206519067 m96.352973054818,-7.6501469956394885 l-16.734936237335205,0.11424297466874123 -5.534248948097229,2.2256940603256226 l-4.709883630275726,3.6705973744392395 -1.774984896183014,3.392861485481262 l-1.1211488395929337,5.4836732149124146 1.7144596576690674,3.8325250148773193 l3.4191015362739563,1.8066112697124481 1.579221934080124,0.5413190647959709 l11.861624717712402,1.7923130095005035 9.457699656486511,0.00017032942196237855 l6.702718734741211,-1.9649070501327515 2.9827523231506348,-1.4713209867477417 l2.036815881729126,-3.9909303188323975 0.45621804893016815,-3.2038721442222595 l-0.00027205598598811775,-4.23356831073761 -0.6675644218921661,-1.8739008903503418 l-2.506207227706909,-3.7255656719207764 -1.646573692560196,-1.0066132247447968 l-2.436620444059372,0.0001481269828218501 m0.7043872028589249,8.207202553749084 l-0.17825473099946976,3.2545560598373413 -3.7912750244140625,0.2695591002702713 m-0.5223971232771873,-3.6842545866966248 l0.3748948872089386,0.39230000227689743 1.148771122097969,0.6107301637530327 l1.258029192686081,0.0002523287548683584 0.4774201288819313,-0.6472183763980865 l0.0004314832403906621,-1.5415583550930023 m-23.79690408706665,-0.9453727304935455 l-0.8210650086402893,7.458348870277405 -0.19800787791609764,0.00041139344830298796 l-2.2543680667877197,-2.0400552451610565 -0.1904517225921154,-1.5350975096225739 l1.3747219741344452,-5.709570646286011 1.190381571650505,-1.3625375926494598 m-3.6934861540794373,2.288975715637207 l0.8517184853553772,2.3547375202178955 0.15958737581968307,1.5176758170127869 l0.9127724170684814,-0.8741383254528046 0.0002276761551911477,-2.827291190624237 l-1.2334012240171432,-1.4406555891036987 m21.603760719299316,0.1336310151964426 l-0.20491646602749825,0.10546552017331123 -0.18294952809810638,-0.3390566259622574 l7.712640694990114e-06,-0.026112939231097698 0.3687160089612007,0.205468088388443 l0.5200796946883202,-0.6213899329304695 m4.179701209068298,4.481076598167419 l-0.009887159103527665,-0.8503857254981995 1.325342059135437,0.5537202954292297 l-0.00022816322598373517,0.22093752399086952 -0.07870057597756386,0.0003010611362697091 l-2.885611138481181e-05,0.8054972440004349 m-17.194600105285645,8.249386548995972 l-2.1896833181381226,3.8000741600990295 -1.9366124272346497,2.7435147762298584 l-1.7326901853084564,3.25823575258255 4.676048755645752,-1.0017336159944534 l2.0915327966213226,-6.9656020402908325 0.00024188497263821773,-3.104459047317505 m10.618572235107422,1.6654126346111298 l0.22972498089075089,6.525649428367615 2.2176460921764374,1.1371461302042007 l1.9695018231868744,0.00023614913516212255 m75.3553214899074,-24.8845075148256 l-16.529366970062256,-0.12508430518209934 -3.9625710248947144,1.5953624248504639 l-5.418407320976257,4.638324677944183 -2.9643958806991577,4.88780289888382 l-1.1410567909479141,4.276620447635651 0.9937002509832382,1.535612791776657 l1.010318547487259,0.7126690447330475 5.680393576622009,2.4271388351917267 l18.062227964401245,0.7566913962364197 6.1802589893341064,-0.006368886097334325 l6.518822908401489,-1.2088514864444733 1.153918206691742,-1.310654878616333 l2.289467602968216,-2.4308334290981293 3.1161201000213623,-3.5007694363594055 l4.328886568546295,-4.760740101337433 0.00023218803107738495,-3.3836761116981506 l-1.6171900928020477,-4.114563763141632 -2.0081013441085815,-1.8774572014808655 l-5.655189752578735,-1.7560259997844696 -7.816143035888672,0.0006262456008698791 l-1.3806720077991486,0.639435425400734 m-23.98353338241577,13.045008182525635 l-1.2955392897129059,0.8557488024234772 -5.5786871910095215,1.9279417395591736 l-1.7281049489974976,0.9725537151098251 -0.7739167660474777,1.4651323854923248 l0.33237628638744354,1.6298043727874756 6.739967465400696,-0.38051772862672806 l1.4299994707107544,-0.6436248123645782 1.058642789721489,-1.5960457921028137 l1.2657466530799866,0.11223902925848961 0.9396930783987045,-0.6745748966932297 l1.7264139652252197,0.8836010843515396 3.71466726064682,-0.28484033420681953 l2.2185277938842773,-1.1074824631214142 0.5723173916339874,0.0007208061288110912 l0.27572838589549065,1.577126383781433 m10.56315302848816,-2.185565084218979 l0.2660827338695526,0.424308218061924 -0.00037651236198144034,-1.3060550391674042 l0.25453245267271996,-0.10719947516918182 m8.404776453971863,1.7205727100372314 l-0.26200011372566223,1.908273994922638 -0.5510398000478745,0.24171223863959312 m10.034666061401367,-4.961871802806854 l2.5916236639022827,1.0411973297595978 1.377294659614563,0.24867169559001923 m-46.746206283569336,5.926087498664856 l2.420128285884857,2.646642327308655 3.615320324897766,3.322531580924988 l2.0957328379154205,3.4951353073120117 2.8051012754440308,1.4867766201496124 l1.4994429051876068,-0.25962239131331444 3.4170684218406677,-4.1879114508628845 l0.0002230664722446818,-0.6939219683408737 -0.5071239918470383,-0.5405538529157639 l-1.8303656578063965,0.0002774297354335431 -3.084366023540497,0.5163855478167534 l-3.0688253045082092,-1.225641444325447 m7.1628570556640625,-9.775692224502563 l-0.00012518305993580725,2.238931953907013 2.287479490041733,3.10240775346756 l2.740967571735382,1.4527779817581177 0.26259757578372955,1.5181569755077362 l1.023923009634018,1.6649046540260315 m1.8232296407222748,-4.249582886695862 l-1.7158079147338867,1.3301041722297668 -0.980987474322319,1.974496990442276 l-0.04492740612477064,3.481164872646332 m100.34578615055068,-18.740118399066432 l-17.732908725738525,0.21549293771386147 -6.546829342842102,3.257909119129181 l-1.9312110543251038,3.2195210456848145 -1.1280838400125504,3.981427252292633 l-5.580278635025024,5.0014728307724 -1.2734082341194153,2.0825937390327454 l0.2777155116200447,1.8100015819072723 4.47259396314621,1.8551824986934662 l20.291049480438232,5.410597920417786 13.760455846786499,0.44183675199747086 l3.132067322731018,-0.9968811273574829 8.701287508010864,-6.444987654685974 l3.116539418697357,-3.681069314479828 2.00641006231308,-12.34073519706726 l-1.1991766095161438,-2.685544490814209 -1.7497147619724274,-1.5051797032356262 l-10.286343097686768,-4.674665927886963 0.7920645177364349,0.0008658218575874344 l1.2421469390392303,-1.3872048258781433 -0.44255439192056656,-0.7240351289510727 l0.10189773514866829,0.07687086705118418 0.7576708495616913,0.00011582220395212062 l0.9315981715917587,1.0281382501125336 1.3351044058799744,-0.6625641882419586 l-1.1199556291103363,-0.6497669219970703 -6.811005473136902,0.0002774176755337976 l-2.1704676747322083,0.9828200936317444 m-0.6361277401447296,30.628700256347656 l0.7812885195016861,0.27167508378624916 -0.00048389720177510753,-0.5817949771881104 l-0.7320401817560196,0.05161080043762922 -0.23491030558943748,1.0084228962659836 l-1.5867237834754633e-06,0.5505936965346336 -0.8835270255804062,3.4057146310806274 l4.46366012096405,-6.459956694016e-06 0.527617521584034,-5.13666033744812 l-0.6275848299264908,-1.954379379749298 -0.00030712577427038923,-1.2384959310293198 m10.240478515625,-1.0745564103126526 l-0.24429269134998322,-1.5694096684455872 2.856934666633606,8.7233304977417 l0.6510733813047409,-1.0853759944438934 0.24107608944177628,-6.793721914291382 l-1.6801701486110687,-2.332845777273178 m-37.34851837158203,4.72541868686676 l0.253622829914093,7.9488325119018555 1.9573955237865448,1.3090002536773682 l-0.704842284321785,-4.23675149679184 3.993711743532913e-06,-6.403052806854248 l-0.3831840679049492,9.340119361877441 0.6488806009292603,-1.7080312967300415 m-8.203473687171936,0.0011206021736143157 l-2.4076826870441437,1.1689725518226624 -0.3719889000058174,1.2775669991970062 l1.9260959327220917,0.2545495890080929 2.3664332926273346,0.3410562500357628 m-21.77541494369507,-36.9576358795166 l-3.78915935754776,-3.8229793310165405 -0.08445805869996548,-4.012213051319122 l-1.4986549317836761,-3.0712082982063293 -3.3302608132362366,-0.00019002212866325863 l-0.9879083931446075,3.4415772557258606 -5.268914103507996,0.65205417573452 l-2.2858738899230957,1.81876540184021 -0.34896593540906906,4.548546075820923 l1.0110440105199814,1.8171362578868866 11.941711902618408,1.2987840175628662 l4.733685553073883,-3.7834007571291295e-06 m-6.7572712898254395,-0.00032794734579510987 l0.0004933849049848504,0.7641507685184479 0.3530776873230934,0.0005148983836988918 l2.179564982652664,-0.17756260931491852 m117.71391609984164,-8.75828148318817 l-15.297709703445435,0.21641911938786507 -6.875498294830322,2.2315680980682373 l-2.5515899062156677,2.340402901172638 -2.430148720741272,3.281564712524414 l-2.9088932275772095,5.059036612510681 0.03347186138853431,7.259733080863953 l2.3026371002197266,2.4313803017139435 4.213567078113556,2.7850860357284546 l9.040279984474182,4.444032609462738 7.658300399780273,2.5557273626327515 l14.440181255340576,0.2860088087618351 6.287636160850525,-4.57753449678421 l1.7247836291790009,-2.6509615778923035 2.1816386282444,-10.40046215057373 l0.29605697840452194,-3.8007572293281555 -1.6544170677661896,-2.305852025747299 l-2.8952068090438843,-2.76222825050354 -3.3078834414482117,-1.9793564081192017 m-17.68113613128662,-0.13262885622680187 l0.20027026534080505,0.2555418573319912 -1.2634190917015076,-1.8051008880138397 l-1.676652729511261,-2.00717031955719 -5.5555278062820435,3.7672186863346724e-05 l-2.2245313227176666,0.2869383804500103 -0.774979367852211,3.173425793647766 l3.4708911180496216,3.605313301086426 2.6306533813476562,0.825512558221817 l-1.5475839376449585,0.0004261512731318362 -0.00034475699067115784,1.299661099910736 l0.8434052765369415,-0.15971440821886063 1.6764673590660095,0.48591475933790207 l3.8374900817871094,0.26862699538469315 2.6095446944236755,-5.518701076507568 l-1.19795061647892,-1.7748209834098816 -2.147291600704193,-1.1700525134801865 l-1.7134562134742737,0.0003909519000444561 m-2.164994031190872,0.8498663455247879 l-1.544676125049591,6.286571533564711e-05 -1.0155517607927322,0.3874504938721657 l-0.6517138332128525,2.3161356151103973 2.9024234414100647,0.24065764620900154 l1.6042153537273407,-0.0001030912699206965 m-11.819262504577637,3.0432695150375366 l2.4666425585746765,0.39434071630239487 -2.0261065661907196,1.1316131055355072 l-0.9064996987581253,-5.493058324645972e-05 -0.00010657743587216828,0.0920869130641222 m1.7661607265472412,6.044435501098633 l0.0007453342550434172,4.695805013179779 1.2962119281291962,-1.3734176754951477 l3.3465686440467834,-1.3020163774490356 0.5588121712207794,0.27491848915815353 m7.7099162340164185,7.319808602333069 l-2.256363183259964,3.7258708477020264 -3.6454692482948303,3.396274149417877 l-2.103150188922882,2.9793915152549744 3.1804630160331726,0.11815531179308891 l3.582424223423004,-3.8452735543251038 0.7931695878505707,-2.937462329864502 l-0.24021003395318985,-1.90727099776268 m11.030592918395996,-3.3892405033111572 l-2.611547112464905,3.0442392826080322 -5.4964399337768555,9.492003321647644 l0.27969373390078545,-1.3760161399841309 2.3813001811504364,-1.4613156020641327 l2.9931557178497314,-4.451816976070404 2.6122644543647766,-5.526172518730164 m12.782385349273682,-2.7131590247154236 l1.3090847432613373,1.992829144001007 -1.1239155381917953,6.875258088111877 l-2.772218883037567,-6.393275260925293 0.7067587971687317,-3.928649425506592 \" fill=\"none\" stroke=\"black\" stroke-width=\"1\"/></svg>"
      ],
      "text/plain": [
       "<IPython.core.display.SVG object>"
      ]
     },
     "metadata": {},
     "output_type": "display_data"
    }
   ],
   "source": [
    "stroke_list = []\n",
    "for i in range(10):\n",
    "  stroke_list.append([decode(z, draw_mode=False, temperature=0.1*i+0.1), [0, i]])\n",
    "stroke_grid = make_grid_svg(stroke_list)\n",
    "draw_strokes(stroke_grid)"
   ]
  },
  {
   "cell_type": "markdown",
   "metadata": {
    "colab_type": "text",
    "id": "4xiwp3_DFQvB"
   },
   "source": [
    "Latent Space Interpolation Example between $z_0$ and $z_1$"
   ]
  },
  {
   "cell_type": "code",
   "execution_count": 26,
   "metadata": {
    "colab": {
     "base_uri": "https://localhost:8080/",
     "height": 123
    },
    "colab_type": "code",
    "id": "WSX0uvZTFQvD",
    "outputId": "cd67af4e-5ae6-4327-876e-e1385dadbafc"
   },
   "outputs": [
    {
     "data": {
      "image/svg+xml": [
       "<svg baseProfile=\"full\" height=\"81.11498483469404\" version=\"1.1\" width=\"100.53724469191366\" xmlns=\"http://www.w3.org/2000/svg\" xmlns:ev=\"http://www.w3.org/2001/xml-events\" xmlns:xlink=\"http://www.w3.org/1999/xlink\"><defs/><rect fill=\"white\" height=\"81.11498483469404\" width=\"100.53724469191366\" x=\"0\" y=\"0\"/><path d=\"M57.69589541054302,25.191684900237306 m-16.162610054016113,0.04041249863803387 l-6.05601966381073,2.6121747493743896 -4.1942331194877625,4.490339756011963 l-1.9444435834884644,4.228539168834686 -0.34701649099588394,2.8963470458984375 l0.8743467181921005,2.2105811536312103 1.7976808547973633,2.0134469866752625 l2.838411033153534,1.8080873787403107 4.078085422515869,1.6511854529380798 l8.72954547405243,1.6936179995536804 10.080500841140747,0.00024612581910332665 l6.980228424072266,-1.6745837032794952 5.6088221073150635,-2.8929439187049866 l3.7057429552078247,-3.876890242099762 1.8523083627223969,-4.619380831718445 l-0.00030913895898265764,-3.0913180112838745 -2.112007290124893,-4.21723335981369 l-2.670801877975464,-2.114439904689789 -3.248492479324341,-1.3498732447624207 l-5.419099926948547,0.00032822747016325593 m-25.565693378448486,10.376781225204468 l-0.728348046541214,-0.6517878174781799 -2.8964078426361084,-1.1057401448488235 l-3.885125517845154,0.14503859914839268 -2.954922616481781,2.019520550966263 l-1.056036576628685,1.8887484073638916 0.00765760603826493,2.0831426978111267 l1.399400681257248,1.611863523721695 2.517983615398407,1.005459502339363 l5.183510780334473,0.00010640976142894942 2.339305132627487,-1.1975796520709991 l0.7491730153560638,-1.1582638323307037 -0.00013431829756882507,-1.4583279192447662 l-0.6559178978204727,-0.8531839400529861 -1.8825526535511017,0.0003147825918858871 l-2.39766925573349,1.4547578990459442 -1.0401521623134613,1.62228524684906 l-0.00537556188646704,1.5546216070652008 3.5713711380958557,0.00012030292964482214 l1.6478122770786285,-1.2556198239326477 0.541597306728363,-1.1408953368663788 l-0.00021621648556902073,-1.7023293673992157 -1.0941119492053986,0.0005095842061564326 l-1.2389520555734634,0.9177590161561966 -0.8469052612781525,1.750355064868927 l0.2201562002301216,1.4594708383083344 1.7411935329437256,0.00019824185073957779 l1.5342321991920471,-1.1647360771894455 -7.18245701136766e-05,-1.8244265019893646 m8.18026602268219,7.198438048362732 l-0.5711845681071281,5.83538293838501 0.1883813552558422,3.20526659488678 l-0.6110864132642746,0.13390317559242249 -0.4195426031947136,0.36350276321172714 l-0.31376365572214127,-5.802428722381592 0.20551037043333054,-3.4210968017578125 m12.185618877410889,0.18770229071378708 l-0.000126601862575626,6.889616847038269 0.7722708582878113,-4.5600168050441425e-05 l-0.06422017700970173,-6.643533706665039 -0.09677152149379253,-0.9508606791496277 m8.57894480228424,-0.8205056935548782 l0.00015415418602060527,7.1611738204956055 1.4219067990779877,-3.2699538223823765e-05 l-0.00016831856555654667,-6.420225501060486 -0.8358927816152573,-1.9107221066951752 m-14.099369049072266,-14.186060428619385 l-0.7097795605659485,-0.00010264536285831127 0.00013771797057415824,0.507252924144268 l1.0629171878099442,0.00040624578105052933 -0.0002545224197092466,-0.4765079542994499 \" fill=\"none\" stroke=\"black\" stroke-width=\"1\"/></svg>"
      ],
      "text/plain": [
       "<IPython.core.display.SVG object>"
      ]
     },
     "metadata": {},
     "output_type": "display_data"
    }
   ],
   "source": [
    "# get a sample drawing from the test set, and render it to .svg\n",
    "z0 = z\n",
    "_ = decode(z0)"
   ]
  },
  {
   "cell_type": "code",
   "execution_count": 27,
   "metadata": {
    "colab": {
     "base_uri": "https://localhost:8080/",
     "height": 194
    },
    "colab_type": "code",
    "id": "jQf99TxOFQvH",
    "outputId": "4265bd5f-8c66-494e-b26e-d3ac874d69bb"
   },
   "outputs": [
    {
     "data": {
      "image/svg+xml": [
       "<svg baseProfile=\"full\" height=\"97.78663277626038\" version=\"1.1\" width=\"163.6619931459427\" xmlns=\"http://www.w3.org/2000/svg\" xmlns:ev=\"http://www.w3.org/2001/xml-events\" xmlns:xlink=\"http://www.w3.org/1999/xlink\"><defs/><rect fill=\"white\" height=\"97.78663277626038\" width=\"163.6619931459427\" x=\"0\" y=\"0\"/><path d=\"M33.90937216579914,29.589676931500435 m0.0,0.0 l-2.6998096704483032,0.2699809893965721 -1.3499048352241516,0.8099429309368134 l-3.5097527503967285,3.2397717237472534 -0.8099429309368134,1.3499048352241516 l0.0,1.8898668885231018 -0.5399619787931442,0.2699809893965721 l0.2699809893965721,5.3996193408966064 0.5399619787931442,2.159847915172577 l0.8099429309368134,1.0799239575862885 2.9697906970977783,1.6198858618736267 l7.289486527442932,0.5399619787931442 2.9697906970977783,-1.8898668885231018 l1.3499048352241516,-1.8898668885231018 0.5399619787931442,-2.42982879281044 l0.0,-4.85965758562088 -2.9697906970977783,-4.85965758562088 l-6.479543447494507,-4.049714803695679 m4.319695830345154,2.159847915172577 l0.2699809893965721,-0.5399619787931442 0.8099429309368134,0.0 l1.8898668885231018,-1.0799239575862885 1.3499048352241516,0.0 l3.7797337770462036,-1.6198858618736267 4.589676558971405,0.0 l3.5097527503967285,-0.5399619787931442 5.3996193408966064,-1.0799239575862885 l0.2699809893965721,-0.5399619787931442 29.427926540374756,0.0 l13.769030570983887,1.3499048352241516 11.069220304489136,1.8898668885231018 l2.9697906970977783,1.0799239575862885 8.369410634040833,4.319695830345154 l3.2397717237472534,1.0799239575862885 1.8898668885231018,1.3499048352241516 l7.289486527442932,2.6998096704483032 1.8898668885231018,3.2397717237472534 l0.2699809893965721,1.8898668885231018 0.0,5.3996193408966064 l-2.159847915172577,5.3996193408966064 -8.639391660690308,14.039011001586914 l-3.5097527503967285,2.6998096704483032 -11.069220304489136,1.3499048352241516 l-11.609182357788086,0.0 -9.71931517124176,-1.8898668885231018 l-3.7797337770462036,0.0 -8.909372091293335,-2.159847915172577 l-12.689106464385986,-6.479543447494507 -5.3996193408966064,-2.159847915172577 l-1.3499048352241516,-1.0799239575862885 -6.479543447494507,-2.6998096704483032 l-3.7797337770462036,-2.42982879281044 -12.149144411087036,-4.589676558971405 \" fill=\"none\" stroke=\"black\" stroke-width=\"1\"/></svg>"
      ],
      "text/plain": [
       "<IPython.core.display.SVG object>"
      ]
     },
     "metadata": {},
     "output_type": "display_data"
    },
    {
     "data": {
      "image/svg+xml": [
       "<svg baseProfile=\"full\" height=\"95.17224064096808\" version=\"1.1\" width=\"138.82635183347702\" xmlns=\"http://www.w3.org/2000/svg\" xmlns:ev=\"http://www.w3.org/2001/xml-events\" xmlns:xlink=\"http://www.w3.org/1999/xlink\"><defs/><rect fill=\"white\" height=\"95.17224064096808\" width=\"138.82635183347702\" x=\"0\" y=\"0\"/><path d=\"M35.20500719547272,33.06749091702841 m-2.767803966999054,0.24059785529971123 l-1.8454590439796448,0.8511015772819519 -2.0293408632278442,2.3312853276729584 l-1.7700646817684174,3.299189805984497 -1.792338639497757,2.9271018505096436 l7.830275535525288e-05,2.176312953233719 0.851418673992157,1.3211646676063538 l1.6055063903331757,1.0402466356754303 3.553837835788727,0.00013541120097215753 l3.9906147122383118,-1.8849651515483856 2.9241883754730225,0.00047671699576312676 l2.5568631291389465,1.19268998503685 1.063389778137207,1.1495598405599594 l0.2782610058784485,4.030809700489044 -0.8407179266214371,4.853927195072174 l-0.7505980879068375,5.4200440645217896 0.5416431277990341,4.806142449378967 l1.2292241305112839,2.1092239022254944 2.11063414812088,1.2397049367427826 l2.6651066541671753,-2.1797841787338257 1.5673604607582092,-6.87894880771637 l0.9010966122150421,-6.080175042152405 0.6727929413318634,-1.3780507445335388 l1.6088372468948364,1.0034998506307602 5.177245736122131,5.488099455833435 l6.050110459327698,6.4115458726882935 6.540720462799072,2.548169195652008 l10.018552541732788,-0.2957366406917572 4.230698347091675,-2.29748472571373 l3.4023118019104004,-3.720717430114746 2.4608075618743896,-4.4065529108047485 l3.240264654159546,-5.164575576782227 4.599257409572601,-2.7135616540908813 l2.517135441303253,6.366616487503052 2.342703193426132,9.565683603286743 l1.3424032926559448,2.130011022090912 1.8908150494098663,0.7575827091932297 l3.397969603538513,-1.228756457567215 3.207766115665436,-4.515558481216431 l1.8780526518821716,-6.592920422554016 -0.2537309192121029,-8.337695002555847 l-1.450365036725998,-4.866262078285217 -1.1950600147247314,-5.897003412246704 l-1.4247408509254456,-5.476856231689453 -1.3178499042987823,-1.9769784808158875 l-5.75055718421936,-3.261134922504425 -11.090805530548096,-1.9608443975448608 l-12.624509334564209,-0.21385123953223228 -14.201682806015015,1.2616980075836182 l-13.327080011367798,2.3520055413246155 -10.818320512771606,3.311127722263336 l-2.9637348651885986,1.8147483468055725 -2.0538926124572754,2.4166369438171387 \" fill=\"none\" stroke=\"black\" stroke-width=\"1\"/></svg>"
      ],
      "text/plain": [
       "<IPython.core.display.SVG object>"
      ]
     },
     "metadata": {},
     "output_type": "display_data"
    }
   ],
   "source": [
    "stroke = test_set.random_sample()\n",
    "z1 = encode(stroke)\n",
    "_ = decode(z1)"
   ]
  },
  {
   "cell_type": "markdown",
   "metadata": {
    "colab_type": "text",
    "id": "tDqJR8_eFQvK"
   },
   "source": [
    "Now we interpolate between sheep $z_0$ and sheep $z_1$"
   ]
  },
  {
   "cell_type": "code",
   "execution_count": 28,
   "metadata": {
    "colab": {},
    "colab_type": "code",
    "id": "_YkPNL5SFQvL"
   },
   "outputs": [],
   "source": [
    "z_list = [] # interpolate spherically between z0 and z1\n",
    "N = 10\n",
    "for t in np.linspace(0, 1, N):\n",
    "  z_list.append(slerp(z0, z1, t))"
   ]
  },
  {
   "cell_type": "code",
   "execution_count": 29,
   "metadata": {
    "colab": {},
    "colab_type": "code",
    "id": "UoM-W1tQFQvM"
   },
   "outputs": [],
   "source": [
    "# for every latent vector in z_list, sample a vector image\n",
    "reconstructions = []\n",
    "for i in range(N):\n",
    "  reconstructions.append([decode(z_list[i], draw_mode=False), [0, i]])"
   ]
  },
  {
   "cell_type": "code",
   "execution_count": 30,
   "metadata": {
    "colab": {
     "base_uri": "https://localhost:8080/",
     "height": 122
    },
    "colab_type": "code",
    "id": "mTqmlL6GFQvQ",
    "outputId": "062e015f-29c6-4e77-c6db-e403d5cabd59"
   },
   "outputs": [
    {
     "data": {
      "image/svg+xml": [
       "<svg baseProfile=\"full\" height=\"112.88434838876128\" version=\"1.1\" width=\"855.3525024976966\" xmlns=\"http://www.w3.org/2000/svg\" xmlns:ev=\"http://www.w3.org/2001/xml-events\" xmlns:xlink=\"http://www.w3.org/1999/xlink\"><defs/><rect fill=\"white\" height=\"112.88434838876128\" width=\"855.3525024976966\" x=\"0\" y=\"0\"/><path d=\"M27.479207024880452,31.200718646869063 m0.0,0.0 m32.739264753618045,10.34642859423002 l-16.231558322906494,0.039216047152876854 -6.147603988647461,2.556692063808441 l-4.00446742773056,4.237889051437378 -2.014734447002411,4.519549906253815 l-0.28928255662322044,2.9264748096466064 1.0053660720586777,2.355305552482605 l1.937442272901535,2.112691253423691 2.9320192337036133,1.8304318189620972 l7.308021783828735,2.1994872391223907 10.021594762802124,0.0002053752905339934 l4.071144461631775,-0.6853068619966507 9.496682286262512,-3.288746476173401 l4.639778435230255,-2.9880771040916443 3.179616630077362,-4.1109490394592285 l1.372806429862976,-4.851207435131073 -0.0002007055445574224,-2.087981104850769 l-1.1977976560592651,-1.9152377545833588 -2.353566288948059,-1.6149936616420746 l-3.202561140060425,-1.2068802118301392 -6.099200248718262,0.0002534837221901398 m-23.79154920578003,8.667809963226318 l-0.8156021684408188,-1.0394909232854843 -2.7670305967330933,-2.1714746952056885 l-4.1187164187431335,-1.4221450686454773 -3.8156887888908386,0.28815288096666336 l-3.143990635871887,2.3189201951026917 -1.189393550157547,3.6356770992279053 l0.5938201770186424,2.172079086303711 1.9280140101909637,1.6801907122135162 l2.960960865020752,1.1233390122652054 5.679783225059509,0.0002781260263873264 l2.2870075702667236,-1.2823854386806488 1.415947675704956,-1.9293458759784698 l-0.00013355627743294463,-1.5130767226219177 m-10.515902042388916,-4.083963930606842 l0.6677675247192383,0.16866110265254974 -0.0005152127778274007,-0.005352396401576698 l-0.3011297434568405,-0.5442717298865318 -0.6505022197961807,0.1341174729168415 l-0.0002645237691467628,0.09557660669088364 0.20305275917053223,-0.3103117272257805 l-0.1519128866493702,-0.1511207688599825 -0.0002784034040814731,0.24263478815555573 l0.02261469606310129,-0.20249361172318459 -0.08386029861867428,-0.17813215032219887 l0.07374361623078585,0.00026104804419446737 -0.00028496953746071085,0.0847762729972601 m-2.858138680458069,4.756209850311279 l1.9405734539031982,0.00013404274795902893 0.9372938424348831,-0.6677515059709549 m16.44368052482605,7.577499151229858 l-0.8467618376016617,1.5229462087154388 -3.9780473709106445,7.234646677970886 l0.00011928585990972351,2.122788280248642 1.0913307964801788,1.0024791210889816 l3.43639075756073,0.0003333327913424 2.133137583732605,-1.5188950300216675 l1.3905440270900726,-2.378094643354416 -6.166283583297627e-05,-4.908272922039032 m10.308057069778442,-0.4690689221024513 l-1.2693232297897339,5.919331312179565 -1.385807991027832,3.2476431131362915 l2.5015974044799805,0.06478295661509037 1.9596993923187256,-1.4135721325874329 l1.3767312467098236,-2.301049530506134 0.0002418509939161595,-4.662598073482513 m-5.258095860481262,-10.721104145050049 l0.29830455780029297,-4.299319698475301e-05 0.7750751078128815,0.9193646162748337 l4.566646566672716e-05,0.6642971187829971 m78.89844197685761,-9.403542345537517 l-15.770491361618042,0.20980631932616234 -6.11791729927063,2.548779547214508 l-4.11263108253479,4.0837207436561584 -2.3345400393009186,4.054857790470123 l-0.8156926929950714,3.0359894037246704 0.3856300190091133,2.384576201438904 l1.4378610253334045,2.0521312952041626 2.3751454055309296,1.7862819135189056 l3.3983325958251953,1.4181296527385712 6.793543696403503,1.0340309143066406 l8.854764699935913,3.996594841737533e-05 10.068020820617676,-1.7997992038726807 l5.572357773780823,-1.9754773378372192 4.5848724246025085,-2.7263247966766357 l3.358275592327118,-3.6287707090377808 0.8452598750591278,-1.8664322793483734 l-0.00022551075744559057,-3.104296326637268 -1.378737986087799,-2.5164029002189636 l-2.5019702315330505,-2.078969180583954 -3.3973684906959534,-1.467931866645813 l-6.231686472892761,0.0002499020774848759 m-21.717863082885742,10.040080547332764 l-2.6173844933509827,2.725543975830078 -1.1750391870737076,2.617528736591339 l-0.40402233600616455,2.3044297099113464 0.5376647785305977,1.8243370950222015 l1.5411734580993652,1.507464349269867 2.3476962745189667,0.8503507077693939 l4.175101220607758,-0.4947630316019058 2.280695140361786,-1.4580026268959045 l1.6009046137332916,-2.183520197868347 1.060803085565567,-4.08523827791214 l-0.43295811861753464,-1.231832206249237 -0.857740044593811,-0.5941873043775558 m15.239561796188354,1.4526468515396118 l0.3597135841846466,6.010618209838867 1.1272024363279343,2.6129570603370667 l1.7620529234409332,1.3816015422344208 2.471529245376587,0.0003653070598375052 l3.1613028049468994,-2.270689904689789 1.4751015603542328,-3.6328288912773132 l-8.302686183014885e-05,-3.3871111273765564 -0.6080882251262665,-1.1873586475849152 l-0.8357591927051544,-0.6068342551589012 m-13.946983814239502,-6.867877244949341 l-0.9881041944026947,0.9654245525598526 -0.36192573606967926,2.226862758398056 l0.7265572994947433,1.7822252213954926 1.5555478632450104,0.8100961148738861 l2.9636842012405396,7.485699370590737e-05 1.53320774435997,-1.2116780132055283 l3.2625887342874194e-05,-3.086680769920349 m-8.187945485115051,2.629166841506958 l0.1123456098139286,0.00041749222873477265 0.6137890368700027,0.9065085649490356 m75.43189475035433,-14.357343583924376 l-14.715768098831177,0.3652399405837059 -5.802056789398193,2.3508578538894653 l-4.12337064743042,3.7910431623458862 -2.5365501642227173,3.971618115901947 l-1.12395279109478,2.9104235768318176 -0.06492259446531534,2.498439997434616 l1.0301011800765991,2.1563810110092163 1.981719583272934,1.900014877319336 l2.7974599599838257,1.392846405506134 5.900171399116516,0.8697953075170517 l7.76242733001709,4.084758529643295e-05 3.312542140483856,-0.7380589842796326 l7.720998525619507,-2.03749880194664 7.394901514053345,-1.976238191127777 l6.863570213317871,-2.603878378868103 4.041953682899475,-2.533123791217804 l1.0437392443418503,-1.5618793666362762 7.460462711605942e-05,-3.630404472351074 l-1.6357067227363586,-2.5034749507904053 -2.74029403924942,-1.8581855297088623 l-5.3465330600738525,0.0002652895273058675 -6.798776388168335,-5.662101557390997e-05 m-13.80111575126648,9.652824997901917 l-2.0793402194976807,4.471789002418518 -1.339430958032608,8.904607892036438 l0.6365691870450974,2.248416990041733 1.6847966611385345,1.4458927512168884 l2.3069804906845093,0.5183709412813187 4.227850437164307,4.632261607184773e-05 l4.339262545108795,-2.2347769141197205 3.3056792616844177,-4.1648489236831665 l1.6554859280586243,-5.163150429725647 -0.00020098334061913192,-3.321111500263214 l-0.6313788145780563,-1.1636381596326828 -0.9053836017847061,-0.49395568668842316 m13.178560733795166,1.123863309621811 l0.11697965674102306,2.5272855162620544 0.604020319879055,9.391622543334961 l1.1904748529195786,2.210479974746704 2.12959423661232,1.1182669550180435 l2.874782681465149,0.00033125972549896687 2.242584079504013,-1.246051862835884 l2.5102391839027405,-4.358557760715485 0.7259128242731094,-5.6795936822891235 l-0.0003500178354443051,-4.593473672866821 -0.5603425204753876,-1.0206842422485352 m50.83698563542612,-6.54815863076692 l-13.305786848068237,0.5096928402781487 -5.430383086204529,2.199440598487854 l-3.9671358466148376,3.557158410549164 -2.8220850229263306,3.8296985626220703 l-1.3446047902107239,2.831401228904724 -0.3709563612937927,2.4886542558670044 l0.7361546158790588,2.0861095190048218 1.6370974481105804,1.7423975467681885 l2.544436752796173,1.3658176362514496 5.457444787025452,0.8299637585878372 l6.625381112098694,8.421955044468632e-06 5.013836026191711,-1.222096011042595 l6.541787385940552,-2.5254401564598083 5.54578959941864,-1.7528559267520905 l5.627148747444153,-1.7380806803703308 5.920810699462891,-2.1889233589172363 l5.5957770347595215,-2.3235976696014404 4.370165765285492,-3.1105029582977295 l2.3575839400291443,-3.505079448223114 0.474594384431839,-3.9613130688667297 l-1.8514911830425262,-2.022560238838196 -3.4659552574157715,-1.3603581488132477 l-8.053092360496521,0.0004401698970468715 -11.92328691482544,0.5489262938499451 l-11.215827465057373,1.1906960606575012 -3.0506250262260437,1.133154258131981 l-1.7918780446052551,1.927659511566162 -0.7210985571146011,1.4814318716526031 m14.712393283843994,9.581636786460876 l-1.453169584274292,2.6956838369369507 -0.6027121469378471,2.9604685306549072 l0.49112744629383087,2.2583913803100586 1.5547797083854675,1.6604942083358765 l2.5258204340934753,0.9822802245616913 2.8885304927825928,-0.1562093384563923 l4.841868281364441,-2.3969127237796783 2.3913300037384033,-2.2948744893074036 l0.8758815377950668,-1.765495091676712 -0.0001319746661465615,-4.101783931255341 l-0.6998466700315475,-1.2863919138908386 m48.50764706192422,-18.898664286161875 l-11.675524711608887,0.5931485071778297 -5.076857805252075,2.112513482570648 l-3.7795376777648926,3.242656886577606 -2.9201090335845947,3.5556548833847046 l-1.5097717940807343,2.6339635252952576 -0.7277113944292068,2.619433104991913 l-0.0001399219036102295,2.826029658317566 1.1541754007339478,1.9632886350154877 l2.0525655150413513,1.5238182246685028 2.869076132774353,0.9253836423158646 l7.063434720039368,-0.0001146039448940428 5.213860273361206,-1.8344700336456299 l3.9159488677978516,-2.8477907180786133 2.377721518278122,3.430755138397217 l1.8863265216350555,13.676756620407104 1.1492740362882614,6.421356797218323 l1.1314154416322708,2.198643386363983 1.800224781036377,1.2039803713560104 l2.4268989264965057,0.00028176458727102727 3.185912072658539,-3.443533182144165 l2.07250714302063,-6.186448931694031 0.04384772386401892,-7.841996550559998 l1.202162653207779,-4.240734577178955 2.4375855922698975,-2.309838980436325 l3.8033393025398254,-0.9953361749649048 18.571994304656982,0.662427619099617 l2.1468068659305573,2.691606283187866 2.5924888253211975,9.553723931312561 l1.7480896413326263,7.487180829048157 1.423765867948532,2.0864711701869965 l2.154630720615387,0.7087509334087372 3.7557506561279297,-1.2899309396743774 l3.5049504041671753,-4.792563021183014 1.5234282612800598,-6.3767969608306885 l0.053826840594410896,-8.489577174186707 0.8536936342716217,-4.874751269817352 l2.2110094130039215,-5.346586108207703 1.944582462310791,-5.887463688850403 l-0.5260714888572693,-4.484243392944336 -2.6269686222076416,-3.7311431765556335 l-4.843853414058685,-3.0689722299575806 -11.524676084518433,-2.3403775691986084 l-12.87473440170288,-0.4341336339712143 -12.85701036453247,1.6388097405433655 l-11.326850652694702,3.2013630867004395 -3.1158706545829773,1.905781477689743 m76.87846293403709,-3.4069558422652335 l-9.887489080429077,0.6236840412020683 -4.584894180297852,1.9904063642024994 l-3.6366266012191772,3.028257191181183 -2.8434792160987854,3.3268943428993225 l-1.5162040293216705,2.5434133410453796 -0.8278031647205353,2.606985569000244 l-0.00011381656804587692,2.9121243953704834 1.0657651722431183,1.9535869359970093 l2.0245657861232758,1.5540237724781036 2.8205829858779907,0.9475772082805634 l6.01377010345459,-7.298466698557604e-05 5.347098708152771,-2.0899954438209534 l3.871757984161377,-3.0003687739372253 2.0987454056739807,1.8850155174732208 l0.9717012196779251,1.810721606016159 1.7470918595790863,9.728848338127136 l1.757054179906845,7.5411200523376465 2.3202015459537506,5.994104743003845 l1.6454385221004486,1.9848710298538208 1.9560611248016357,-3.60771507024765 l0.9167779237031937,-9.545637965202332 0.8445776253938675,-5.256751775741577 l1.5320566296577454,-2.85335510969162 2.750156819820404,-1.6157948970794678 l7.709447741508484,0.00021129633751115762 4.17748898267746,1.7546840012073517 l3.441512882709503,3.3423560857772827 5.527701377868652,9.757407307624817 l5.306205153465271,6.2443625926971436 5.399227738380432,2.5277790427207947 l3.7884169816970825,0.0002019194289459847 3.1106922030448914,-3.1652578711509705 l1.3692469894886017,-5.6734514236450195 -0.25919198989868164,-9.284105896949768 l0.35322897136211395,-5.2285730838775635 2.3280929028987885,-5.9766024351119995 l3.174993097782135,-5.500277876853943 2.4226757884025574,-5.41363000869751 l-2.823760509490967,-2.3009082674980164 -4.866637289524078,-1.7173559963703156 l-10.639710426330566,-1.1578619480133057 -12.853255271911621,-0.43252360075712204 l-13.053181171417236,1.0721270740032196 -11.901777982711792,2.4432142078876495 l-10.235799551010132,3.0589458346366882 m78.158295996991,-4.626563055289807 l-8.037862181663513,0.6139622628688812 -3.9457300305366516,1.901959627866745 l-3.365313708782196,2.803182303905487 -2.8530463576316833,3.0965670943260193 l-1.6120944917201996,2.497209310531616 -0.9236225485801697,2.503248155117035 l-0.00012806108315999154,2.9125595092773438 1.0133229941129684,1.7643217742443085 l3.407405912876129,2.1918152272701263 2.8504329919815063,0.8288499712944031 l5.570699572563171,-5.521847015188541e-05 4.7917696833610535,-1.9565244019031525 l3.478342890739441,-2.964956760406494 2.135692536830902,1.1446626484394073 l1.1258257180452347,1.4052191376686096 1.7821487784385681,10.76094388961792 l-0.18369849771261215,7.091250419616699 0.4280364140868187,6.518638730049133 l0.8751039952039719,1.940724104642868 1.8242564797401428,0.9971208870410919 l2.9044589400291443,0.00036744793760590255 3.3288028836250305,-3.357289731502533 l1.0559937357902527,-11.457768678665161 1.0606645047664642,-5.005797743797302 l1.959972232580185,-2.946687936782837 3.4260013699531555,-1.5565821528434753 l21.2939453125,0.8660691231489182 4.501189589500427,2.047792077064514 l5.777826905250549,7.5585103034973145 3.6208191514015198,8.424361944198608 l2.058856189250946,5.236634612083435 1.5700091421604156,1.6228951513767242 l2.713010311126709,0.17727753147482872 3.0285587906837463,-3.069610297679901 l1.6695128381252289,-6.408388614654541 -1.1607761681079865,-9.823116064071655 l-1.752859652042389,-6.5958815813064575 1.902906447649002,-3.9414256811141968 l3.5657843947410583,-5.18190324306488 2.4493421614170074,-4.900097548961639 l-1.6676132380962372,-5.051748752593994 -3.3331725001335144,-3.7382549047470093 l-5.331956148147583,-3.0757060647010803 -12.266440391540527,-1.599171757698059 l-13.345752954483032,0.3934609517455101 -13.118783235549927,2.6448428630828857 l-11.947340965270996,3.2662683725357056 -10.153093338012695,3.305540084838867 m78.01717410520723,-0.8683478244404341 l-6.220357418060303,0.546979047358036 -3.4357964992523193,1.8018640577793121 l-2.7673986554145813,2.5379040837287903 -2.5952565670013428,2.868252992630005 l-1.5611141920089722,2.3865801095962524 -0.9663420915603638,2.4059398472309113 l-0.00016520922144991346,2.6463887095451355 0.9521926194429398,1.7379745841026306 l1.8216899037361145,1.4232416450977325 2.6178276538848877,0.8511935919523239 l5.482568144798279,-1.8103158936355612e-05 5.100924968719482,-2.0245182514190674 l3.2226860523223877,-2.734777331352234 2.2010570764541626,0.06231275852769613 l1.1863701790571213,0.8232586085796356 1.8553201854228973,9.041984677314758 l0.20604606717824936,7.827523946762085 0.6872408092021942,6.389824748039246 l1.8461547791957855,5.120973587036133 1.6964079439640045,1.8050141632556915 l2.14927539229393,0.5760300159454346 3.411879241466522,-1.8689891695976257 l3.17775160074234,-5.287823677062988 0.2984252758324146,-9.886255264282227 l0.5444738641381264,-4.778265953063965 1.944267600774765,-2.752259075641632 l3.782252073287964,-1.7017951607704163 21.315953731536865,0.9997347742319107 l2.790341079235077,2.2551843523979187 4.882687628269196,8.340683579444885 l3.962152600288391,8.838791251182556 2.8175726532936096,4.881029427051544 l2.001646012067795,1.4718027412891388 3.296223282814026,-0.172694344073534 l3.126656711101532,-3.7037160992622375 1.7241628468036652,-6.685401201248169 l-1.3814188539981842,-10.690091848373413 -1.3299757242202759,-6.591485142707825 l0.11097914539277554,-5.244600772857666 1.45255446434021,-6.261266469955444 l1.6194312274456024,-4.797084629535675 0.37469133734703064,-4.204585552215576 l-1.753183901309967,-3.9105162024497986 -4.26885187625885,-3.5180461406707764 l-3.872319757938385,-1.4126355946063995 -12.842535972595215,-0.25159744545817375 l-13.786615133285522,2.0280086994171143 -13.057217597961426,3.8262000679969788 l-10.59239387512207,4.317848384380341 -2.7451539039611816,2.087908536195755 m60.11370418034858,-2.643384353914371 l-4.45254921913147,0.4176681488752365 -2.8172245621681213,1.6203147172927856 l-2.192344218492508,2.2609516978263855 -2.235667407512665,2.8920966386795044 l-1.3256573677062988,2.312950938940048 -0.7709642499685287,2.179071456193924 l-0.00020246860003680922,2.671736478805542 0.9123022109270096,1.6026198863983154 l1.8103992938995361,1.2445173412561417 4.556936621665955,7.693031875533052e-05 l4.490644633769989,-2.0283061265945435 3.361978828907013,-2.8515008091926575 l3.2779350876808167,-0.5672774836421013 3.3441439270973206,-1.043647676706314 l1.7186610400676727,3.6302435398101807 0.9219695627689362,11.77504301071167 l-0.5937534943223,7.203036546707153 0.6222022324800491,5.547759532928467 l1.0773327946662903,1.931917518377304 2.04430028796196,0.9026531130075455 l2.1727128326892853,-0.5244887247681618 2.9568997025489807,-4.2134690284729 l1.00302092730999,-10.89659571647644 0.976543053984642,-5.105886459350586 l1.464363932609558,-2.860777974128723 2.577197253704071,-1.7393621802330017 l16.92142605781555,0.8568025380373001 2.334350049495697,2.4089817702770233 l1.7166762053966522,5.008738040924072 1.2394993752241135,10.873786211013794 l1.117233857512474,2.6058098673820496 1.7964735627174377,1.14552803337574 l2.3388665914535522,-0.09222753345966339 3.667273223400116,-3.364177942276001 l2.5347086787223816,-6.132684946060181 1.862432211637497,-8.917791843414307 l7.757813930511475,0.3783673793077469 7.263830900192261,3.101210296154022 l5.193051099777222,5.127397179603577 3.2807257771492004,5.264995098114014 l2.0256276428699493,4.199419617652893 0.8502835780382156,1.1935541778802872 l1.7215631902217865,-0.00020072906409041025 2.163834869861603,-3.273729979991913 l1.3040399551391602,-6.379558444023132 -2.62658029794693,-10.08495807647705 l-2.4776481091976166,-4.828239381313324 -3.2823526859283447,-5.086670517921448 l-5.185132622718811,-5.638410449028015 -9.461616277694702,-4.616711437702179 l-13.535418510437012,-2.9032742977142334 -14.512693881988525,-0.9572883695363998 l-14.292442798614502,0.6221848353743553 -13.837482929229736,2.7790912985801697 l-11.669795513153076,3.2284915447235107 m84.20794559468277,-4.2682129442346195 l-2.7738451957702637,0.2414555475115776 -1.7980501055717468,0.7966253906488419 l-2.140483856201172,2.408163547515869 -1.6460947692394257,3.157753646373749 l-1.8294954299926758,2.8667116165161133 7.26059033695492e-05,2.3104840517044067 l0.8154354244470596,1.3909649848937988 1.5097671747207642,1.064251884818077 l4.173973500728607,0.00016944164599408396 3.8322654366493225,-1.8928854167461395 l3.043360412120819,0.00046129429392749444 1.1341293156147003,0.5741541460156441 l0.8295740932226181,0.9855592250823975 0.7202038168907166,2.955806851387024 l1.168661192059517,4.3760740756988525 1.0938632488250732,5.600348114967346 l1.1777754873037338,2.264809012413025 1.5384027361869812,5.420979261398315 l0.9705007821321487,4.021134376525879 1.4990328252315521,2.288423180580139 l1.486106812953949,3.4036752581596375 1.4487722516059875,2.844802141189575 l0.28209490701556206,3.1656742095947266 0.7342768460512161,1.1199554800987244 l0.9613568335771561,0.2648124471306801 2.7129635214805603,-1.4416420459747314 l2.3416411876678467,-4.670073390007019 -0.013765959301963449,-9.428218603134155 l0.514056570827961,-5.6537652015686035 0.6789842993021011,-1.298147439956665 l15.024707317352295,0.6256432831287384 2.6044467091560364,1.9403891265392303 l6.011550426483154,6.125243306159973 5.051364898681641,6.176621913909912 l2.6326903700828552,1.740199476480484 2.258291393518448,0.23948462679982185 l1.9055502116680145,-1.3241800665855408 1.55198335647583,-5.022478699684143 l-0.13300142250955105,-6.043497323989868 -0.27464838698506355,-7.2133952379226685 l1.5072974562644958,-3.2237014174461365 3.461761772632599,-2.379782795906067 l5.936746001243591,-2.8610828518867493 3.30449640750885,-3.063654899597168 l3.9942744374275208,-6.37266218662262 1.8032650649547577,-5.726674199104309 l-0.6483535468578339,-4.6683743596076965 -2.3148585855960846,-3.857553005218506 l-4.0849098563194275,-3.1793364882469177 -3.7230098247528076,-1.3967707753181458 l-10.9902024269104,-0.9069391340017319 -12.871308326721191,0.6276073306798935 l-12.661800384521484,2.0892173051834106 -6.1419373750686646,1.9996610283851624 l-11.042029857635498,3.4697049856185913 -10.131908655166626,2.9732391238212585 l-9.262111783027649,2.161804735660553 -2.6614105701446533,1.6004709899425507 \" fill=\"none\" stroke=\"black\" stroke-width=\"1\"/></svg>"
      ],
      "text/plain": [
       "<IPython.core.display.SVG object>"
      ]
     },
     "metadata": {},
     "output_type": "display_data"
    }
   ],
   "source": [
    "stroke_grid = make_grid_svg(reconstructions)\n",
    "draw_strokes(stroke_grid)"
   ]
  },
  {
   "cell_type": "markdown",
   "metadata": {
    "colab_type": "text",
    "id": "vFwPna6uFQvS"
   },
   "source": [
    "Let's load the Flamingo Model, and try Unconditional (Decoder-Only) Generation"
   ]
  },
  {
   "cell_type": "code",
   "execution_count": 31,
   "metadata": {
    "colab": {},
    "colab_type": "code",
    "id": "HH-YclgNFQvT"
   },
   "outputs": [],
   "source": [
    "model_dir = '/tmp/sketch_rnn/models/flamingo/lstm_uncond'"
   ]
  },
  {
   "cell_type": "code",
   "execution_count": 32,
   "metadata": {
    "colab": {},
    "colab_type": "code",
    "id": "-Znvy3KxFQvU"
   },
   "outputs": [],
   "source": [
    "[hps_model, eval_hps_model, sample_hps_model] = load_model_compatible(model_dir)"
   ]
  },
  {
   "cell_type": "code",
   "execution_count": 33,
   "metadata": {
    "colab": {
     "base_uri": "https://localhost:8080/",
     "height": 221
    },
    "colab_type": "code",
    "id": "cqDNK1cYFQvZ",
    "outputId": "d346d57c-f51a-4286-ba55-705bc27d4d0d"
   },
   "outputs": [
    {
     "name": "stdout",
     "output_type": "stream",
     "text": [
      "INFO:tensorflow:Model using gpu.\n",
      "INFO:tensorflow:Input dropout mode = False.\n",
      "INFO:tensorflow:Output dropout mode = False.\n",
      "INFO:tensorflow:Recurrent dropout mode = False.\n",
      "INFO:tensorflow:Model using gpu.\n",
      "INFO:tensorflow:Input dropout mode = 0.\n",
      "INFO:tensorflow:Output dropout mode = 0.\n",
      "INFO:tensorflow:Recurrent dropout mode = 0.\n",
      "INFO:tensorflow:Model using gpu.\n",
      "INFO:tensorflow:Input dropout mode = 0.\n",
      "INFO:tensorflow:Output dropout mode = 0.\n",
      "INFO:tensorflow:Recurrent dropout mode = 0.\n"
     ]
    }
   ],
   "source": [
    "# construct the sketch-rnn model here:\n",
    "reset_graph()\n",
    "model = Model(hps_model)\n",
    "eval_model = Model(eval_hps_model, reuse=True)\n",
    "sample_model = Model(sample_hps_model, reuse=True)"
   ]
  },
  {
   "cell_type": "code",
   "execution_count": 34,
   "metadata": {
    "colab": {},
    "colab_type": "code",
    "id": "7wzerSI6FQvd"
   },
   "outputs": [],
   "source": [
    "sess = tf.InteractiveSession()\n",
    "sess.run(tf.global_variables_initializer())"
   ]
  },
  {
   "cell_type": "code",
   "execution_count": 35,
   "metadata": {
    "colab": {
     "base_uri": "https://localhost:8080/",
     "height": 51
    },
    "colab_type": "code",
    "id": "6mzk8KjOFQvf",
    "outputId": "c450a6c6-22ee-4a58-8451-443462b42d58"
   },
   "outputs": [
    {
     "name": "stdout",
     "output_type": "stream",
     "text": [
      "INFO:tensorflow:Loading model /tmp/sketch_rnn/models/flamingo/lstm_uncond/vector.\n",
      "INFO:tensorflow:Restoring parameters from /tmp/sketch_rnn/models/flamingo/lstm_uncond/vector\n"
     ]
    }
   ],
   "source": [
    "# loads the weights from checkpoint into our model\n",
    "load_checkpoint(sess, model_dir)"
   ]
  },
  {
   "cell_type": "code",
   "execution_count": 36,
   "metadata": {
    "colab": {},
    "colab_type": "code",
    "id": "X88CgcyuFQvh"
   },
   "outputs": [],
   "source": [
    "# randomly unconditionally generate 10 examples\n",
    "N = 10\n",
    "reconstructions = []\n",
    "for i in range(N):\n",
    "  reconstructions.append([decode(temperature=0.5, draw_mode=False), [0, i]])"
   ]
  },
  {
   "cell_type": "code",
   "execution_count": 37,
   "metadata": {
    "colab": {
     "base_uri": "https://localhost:8080/",
     "height": 149
    },
    "colab_type": "code",
    "id": "k57REtd_FQvj",
    "outputId": "8bd69652-9d1d-475e-fc64-f205cf6b9ed1"
   },
   "outputs": [
    {
     "data": {
      "image/svg+xml": [
       "<svg baseProfile=\"full\" height=\"127.26169203400332\" version=\"1.1\" width=\"829.444244566389\" xmlns=\"http://www.w3.org/2000/svg\" xmlns:ev=\"http://www.w3.org/2001/xml-events\" xmlns:xlink=\"http://www.w3.org/1999/xlink\"><defs/><rect fill=\"white\" height=\"127.26169203400332\" width=\"829.444244566389\" x=\"0\" y=\"0\"/><path d=\"M25,37.29770646372344 m0.0,0.0 m49.356608639700426,6.358174792854925 l-0.3282219171524048,0.018744695698842406 -0.7177749276161194,1.0740508884191513 l-0.7624492049217224,1.771196722984314 -0.9925537556409836,3.1826984882354736 l-0.19598668441176414,1.9236582517623901 -8.553605766792316e-05,2.9486888647079468 l0.42131751775741577,4.057590365409851 0.4458839073777199,1.6737748682498932 l8.446178071608301e-05,1.1273856461048126 -0.44745899736881256,0.09989316575229168 l-1.525627076625824,-0.09177991189062595 -4.212522804737091,-0.7950367778539658 l-1.7075639963150024,0.6442559510469437 -1.4335033297538757,1.1050111800432205 l-0.937785878777504,1.3816460967063904 -0.897286906838417,2.547960877418518 l-0.2595113404095173,2.0712172985076904 0.2131979539990425,1.7818023264408112 l1.2496598064899445,2.497316896915436 2.5448057055473328,2.3619860410690308 l2.8383970260620117,1.482098400592804 2.7735701203346252,0.8888270705938339 l2.728782296180725,0.3712441027164459 3.970913290977478,-1.2522810948212282e-05 l1.692100614309311,-0.43394584208726883 3.479776382446289,-1.4639289677143097 l1.307915449142456,-0.8729841560125351 1.3528187572956085,-1.34247288107872 l0.5356519669294357,-1.1194127798080444 0.24727879092097282,-2.864508628845215 l-0.2987726591527462,-1.1430055648088455 -1.1318258196115494,-1.599404662847519 l-1.269221007823944,-1.1691201478242874 -2.155693471431732,-1.1656386405229568 l-3.7410542368888855,-1.5337556600570679 -5.909131169319153,-1.1034955829381943 l-0.4599633812904358,-0.47894224524497986 m-0.7208605110645294,15.71892261505127 l0.5455822497606277,5.884039402008057 0.13472463935613632,16.54045581817627 l-1.1673147231340408,-0.13798005878925323 -1.0824065655469894,-0.5913525074720383 l-0.9826038777828217,-0.5574950203299522 -0.9377837181091309,-0.2911061979830265 m9.091586470603943,-19.665340185165405 l0.03581130178645253,5.418486595153809 0.4556547477841377,3.8663655519485474 l0.41552919894456863,8.63565981388092 -0.5683334171772003,-0.232301764190197 l-1.3296714425086975,-1.7398419976234436 -2.7355152368545532,-3.0013307929039 l-1.589958518743515,-1.4065630733966827 -1.4337532222270966,-0.6561990082263947 l-1.0707353055477142,0.02503382507711649 m1.2625601887702942,-16.187793016433716 l-0.6919857859611511,-0.3651975095272064 -1.8342961370944977,-0.9882758557796478 l-9.215708374977112,-2.9163354635238647 -2.8536850214004517,-1.0661891847848892 l-3.005574941635132,-1.4412958920001984 -1.7796091735363007,-1.4876924455165863 l-0.7434270530939102,-0.9999572485685349 -0.3803671896457672,-0.8059900254011154 l0.18035326153039932,-1.0204707831144333 2.208830565214157,-1.2290429323911667 l2.1197092533111572,-0.4928151145577431 1.5336763858795166,-0.2860439009964466 l2.749386727809906,0.03618644783273339 2.662253677845001,0.6771595031023026 l1.4898033440113068,0.5529430136084557 1.7318260669708252,0.8764420449733734 l3.505602180957794,1.9948044419288635 1.1082201451063156,1.1535792797803879 l0.9207633882761002,-0.00015823183275642805 m-1.5629671514034271,-10.768612623214722 l-1.0136406868696213,-3.449859619140625 -0.7313832640647888,-1.4298783242702484 l-1.7738500237464905,-3.484862446784973 -1.1648761481046677,-3.529394567012787 l-0.4710846021771431,-1.6815300285816193 -0.26454972103238106,-2.7433526515960693 l-0.39869755506515503,-3.2239654660224915 -0.8796302229166031,-4.15519118309021 l-1.390196830034256,-2.9560285806655884 -1.1310508847236633,-1.4238065481185913 l-0.7586698979139328,-0.37461690604686737 -2.887902557849884,-0.42457450181245804 l-6.415834426879883,2.0094607770442963 -2.8032177686691284,1.8231101334095001 l-1.031196489930153,0.993165597319603 -0.5211780965328217,0.9028357267379761 l1.0095833986997604,1.672266274690628 1.4681938290596008,0.6596121937036514 l1.9776389002799988,0.31974032521247864 1.8998920917510986,-8.93078868102748e-05 l4.193221926689148,-0.36724861711263657 1.8729566037654877,-1.2150296568870544 l0.9395227581262589,-1.4273948967456818 0.14778957702219486,-1.9747284054756165 l-0.3682512044906616,-1.9382020831108093 -1.152426227927208,-1.1305445432662964 l-1.2707014381885529,-0.7795675098896027 -1.3080759346485138,-0.20450718700885773 m87.98693191219172,25.105635233339854 l2.303731292486191,-2.09566667675972 2.8477251529693604,-1.910734623670578 l4.384138882160187,-2.361099421977997 3.1749024987220764,-0.9610315412282944 l5.881894826889038,-0.4516894742846489 3.9288365840911865,0.8554850518703461 l1.4403246343135834,0.9705594182014465 3.020419180393219,2.7352023124694824 l1.3757911324501038,1.8934433162212372 0.8073853701353073,2.152329236268997 l0.374717153608799,2.014258950948715 8.189043910533655e-05,3.936009109020233 l-1.2119382619857788,3.42168927192688 -2.252171039581299,2.780236303806305 l-2.0477332174777985,1.4814786612987518 -2.093156576156616,0.961645096540451 l-2.929539680480957,0.7509105652570724 -3.1276431679725647,0.20738326013088226 l-2.0574112236499786,-0.2066468447446823 -2.8819316625595093,-0.8201474696397781 l-5.2426475286483765,-2.8311902284622192 -2.085375636816025,-1.8978959321975708 l-1.3475437462329865,-1.8062114715576172 -0.6361071765422821,-1.5119874477386475 l-2.2006265819072723,-6.174754500389099 -0.5821466818451881,-3.7635719776153564 l0.09709326550364494,-9.701688885688782 -0.4644930362701416,-2.1877652406692505 l-1.1868442595005035,-4.109137952327728 -1.1305098235607147,-1.4163978397846222 l-2.0714184641838074,-0.8355969190597534 -5.573208332061768,0.8362492173910141 l-2.4865442514419556,1.788543164730072 -1.994415670633316,2.609398066997528 l-0.8434513211250305,2.0031245052814484 -0.12147459201514721,3.7206363677978516 l0.6291861087083817,2.7197450399398804 0.9434326738119125,2.2084586322307587 l2.0627404749393463,3.0551841855049133 1.8640606105327606,1.4718514680862427 l2.199903428554535,0.7057133316993713 2.5049346685409546,0.04897181410342455 l1.9005146622657776,-0.540395975112915 2.2343023121356964,-1.2866313755512238 l1.9324429333209991,-2.213582992553711 1.0883807390928268,-1.9242741167545319 l0.43672747910022736,-1.6291584074497223 -0.11511060409247875,-2.1065212786197662 m14.49480652809143,25.39484977722168 l0.0016051520651672035,3.0698010325431824 -0.3548870235681534,5.216150879859924 l0.03976148087531328,12.815983295440674 -0.5686105787754059,1.4206969738006592 l-0.9561266750097275,1.2509065866470337 -1.2193852663040161,-0.030751426238566637 l-0.6324005126953125,0.40217142552137375 0.9514092653989792,0.8003225177526474 l4.098342061042786,0.15053418464958668 2.068958580493927,-0.9027953445911407 l-0.6119870394468307,-0.6443553417921066 -2.5232282280921936,-1.4409942924976349 l-0.9950926154851913,0.11462658643722534 m3.4728890657424927,-21.648578643798828 l-0.5392057448625565,1.0402917861938477 0.00020298084564274177,5.429213643074036 l1.4678843319416046,9.639001488685608 -2.845253050327301,1.2674595415592194 l-3.3203625679016113,1.0038089007139206 3.6015254259109497,-0.431574322283268 m72.34680648512949,-16.92740162019618 l-0.0336457253433764,1.4783614873886108 0.973270982503891,5.897862911224365 l0.8261729776859283,9.413883090019226 0.0003478346479823813,8.155094981193542 l0.16738967970013618,3.0075687170028687 m4.747273623943329,-29.188153743743896 l0.045914421789348125,2.3509614169597626 1.0229665040969849,12.241463661193848 l1.077280417084694,9.040183424949646 0.49667611718177795,1.964869648218155 m-7.5982314348220825,-25.872950553894043 l-0.1514523383229971,-0.46559594571590424 0.16845444217324257,-0.45588549226522446 l1.5005038678646088,-2.7589476108551025 2.691076695919037,-5.074882507324219 l0.37458792328834534,-1.2751248478889465 0.8301153033971786,-2.7192875742912292 l0.873781219124794,-1.5960022807121277 2.109040319919586,-3.7997692823410034 l0.6993484497070312,-2.0845891535282135 0.3946109488606453,-3.3002638816833496 l0.0001430161591997603,-4.126737713813782 -0.5838891863822937,-2.6662543416023254 l-1.0928883403539658,-1.5134994685649872 -2.0141692459583282,-1.5459147095680237 l-1.7097024619579315,-0.6615372002124786 -2.133382111787796,-0.2049495466053486 l-1.750994473695755,0.32870296388864517 -2.923821210861206,1.281391680240631 l-1.9756144285202026,1.2932342290878296 -2.4953460693359375,2.472052276134491 l-1.9234153628349304,2.897745668888092 -1.5541623532772064,3.5258758068084717 l-0.7831422984600067,2.878744900226593 0.0002150127875211183,1.9227996468544006 l0.6982270628213882,3.5968080163002014 2.0375578105449677,6.093359589576721 l0.6707508862018585,1.3674573600292206 1.2390375137329102,1.6314202547073364 l1.561458557844162,1.139865294098854 2.5159257650375366,0.9030571579933167 l0.8982867002487183,0.5716972798109055 0.7283888757228851,0.9353230148553848 l1.3473111391067505,1.0250446200370789 m-10.367844104766846,-31.929831504821777 l-1.36209174990654,-0.014353864826261997 -4.1566163301467896,0.3698034957051277 l-2.3608292639255524,0.8281741291284561 -0.9598735719919205,0.5831107124686241 l-1.9227851927280426,2.0794768631458282 -1.1160538345575333,2.0343850553035736 l-0.46363867819309235,2.3784376680850983 0.00016689435142325237,2.248375564813614 l0.29415493831038475,1.336481124162674 0.8280601352453232,1.9646956026554108 l1.3610076904296875,1.9991780817508698 1.883350908756256,1.6047292947769165 l1.9649165868759155,0.7478038966655731 2.851446568965912,0.5337393656373024 l4.471941888332367,-0.2354065515100956 2.746008336544037,-0.8195975422859192 l3.318248987197876,-1.6471810638904572 1.604527235031128,-1.2080664187669754 l0.9676838666200638,-1.569039672613144 0.6101357564330101,-1.4481551945209503 l0.20832644775509834,-1.6243427991867065 -0.44362984597682953,-2.052835077047348 l-0.8982200175523758,-1.7480359971523285 -1.340915709733963,-1.6820722818374634 l-1.5923956036567688,-1.2196748703718185 -1.6427001357078552,-0.8254677057266235 l-2.090681791305542,-0.5785387381911278 -2.336888611316681,0.03467364935204387 l-2.4861887097358704,0.3801869973540306 m-3.8098546862602234,34.23264265060425 l0.1028332207351923,2.159426510334015 0.8238856494426727,4.796524941921234 l0.5246450379490852,1.9449642300605774 m-1.4116016030311584,-3.8621312379837036 l-0.03401832655072212,2.495346963405609 0.7583092153072357,3.8200560212135315 l0.4518785700201988,1.187676265835762 m-0.4148370027542114,-5.977311134338379 l1.95366770029068,0.18238894641399384 2.7369531989097595,0.8581768721342087 l6.468938589096069,2.3494094610214233 1.026323065161705,0.24166785180568695 m91.96595602865045,-52.04196899935084 l-2.2423936426639557,-0.011228794464841485 -1.2430547922849655,0.5154458805918694 l-2.6104676723480225,2.9830902814865112 -1.2206386774778366,3.136553466320038 l-0.33338211476802826,2.2034963965415955 1.3126137852668762,2.282167822122574 l1.030617281794548,0.7660979777574539 2.4124976992607117,5.938404228800209e-05 l1.7831403017044067,-1.4576025307178497 1.3080540299415588,-2.323349267244339 l0.7205422222614288,-3.4170129895210266 -2.3581981167808408e-05,-2.590353786945343 l-1.1856605112552643,-2.5112172961235046 -1.2107213586568832,-0.45434921979904175 m1.1240237951278687,2.0600704848766327 l1.4581163227558136,-9.954531378753018e-05 3.0370965600013733,2.22900852560997 l2.1099835634231567,2.960868775844574 0.512450598180294,1.0618133842945099 l0.18759919330477715,1.2908606231212616 -0.3472159802913666,0.9750957041978836 l-0.9367237985134125,0.9918415546417236 -1.6257353127002716,0.8058302104473114 l-4.826091229915619,0.7109203934669495 -2.794444262981415,-9.527331712888554e-05 m-0.04839829634875059,-7.177945971488953 l6.497520189441275e-05,1.9981640577316284 -0.386216938495636,1.2430883944034576 l-0.13843514025211334,2.152925729751587 -0.8343137055635452,1.763080209493637 l-1.8104054033756256,2.2947533428668976 -1.177029237151146,0.6055467575788498 l-3.9243370294570923,1.5851157903671265 -7.049998641014099,0.9842893481254578 l-1.7666798830032349,0.5697857961058617 -3.6154162883758545,9.96952508103277e-06 l-2.6557090878486633,-1.0044067353010178 -1.5655307471752167,-0.9489487856626511 l-3.8369357585906982,-4.658361831388902e-05 -6.739174723625183,6.016713380813599 l-2.1213582158088684,3.7718409299850464 -1.0079651325941086,2.8922268748283386 l0.00019214967323932797,3.6024078726768494 0.6958919763565063,2.0656444132328033 l1.9747428596019745,2.5258055329322815 2.859930098056793,1.8861939013004303 l2.6716354489326477,0.8397378027439117 2.303960621356964,0.199966449290514 l8.840489387512207,-0.00010374601515650284 3.565060794353485,-0.834081768989563 l2.946646213531494,-1.6417522728443146 2.1181216835975647,-1.9196510314941406 l2.355293482542038,-3.1130892038345337 2.512448728084564,-5.810314416885376 l0.0001804384373826906,-5.3529322147369385 -0.7715492695569992,-2.565401792526245 l-0.645214393734932,-2.6693329215049744 -6.00814064455335e-05,-0.7832092046737671 m-20.180644989013672,24.105205535888672 l0.15848705545067787,5.392966866493225 0.7583948969841003,4.7658199071884155 l0.00017744445358403027,11.93414568901062 -0.9537738561630249,4.465412497520447 l9.91044635156868e-05,1.764349490404129 -0.6240800023078918,0.25579512119293213 m8.792243003845215,-29.587838649749756 l0.906243696808815,3.380778133869171 0.5250922963023186,6.33895218372345 l-4.558798082143767e-05,10.012766122817993 -0.291160698980093,3.1446993350982666 l0.00014263443517847918,4.4229841232299805 m87.7017395473564,-54.22080937181079 l-0.9022004902362823,0.03705813083797693 -0.798681229352951,0.5341310054063797 l-6.869261264801025,7.09471583366394 -1.5030558407306671,2.4220138788223267 l-1.4292368292808533,4.172031581401825 -0.0886797159910202,1.8763862550258636 l-0.39992474019527435,1.5516790747642517 -0.3140898048877716,2.410348653793335 l0.00013073444279143587,1.9606658816337585 0.47674860805273056,1.153666153550148 l0.920291543006897,0.9515450149774551 2.5452202558517456,1.4369764924049377 l4.4118523597717285,0.7706554234027863 4.010785222053528,-3.4490351481508696e-05 l5.5611878633499146,-0.7323034852743149 1.7083285748958588,-0.520988404750824 l3.33970844745636,-1.5807178616523743 2.6687273383140564,-2.08175927400589 l1.214783415198326,-1.339295506477356 1.0519051551818848,-1.5568044781684875 l1.0361868143081665,-2.426064610481262 0.6053967401385307,-2.8894776105880737 l-0.10163442231714725,-3.3479630947113037 -0.35542163997888565,-0.9538409858942032 l-0.7870669662952423,-1.0228878259658813 -2.0707333087921143,-1.491936445236206 l-6.459089517593384,-2.0801281929016113 -3.1383371353149414,-0.7443480938673019 l-3.000471591949463,-0.04434396978467703 -1.6211143136024475,0.609956830739975 l-1.1262953281402588,0.8865045756101608 m4.499626457691193,20.959649085998535 l0.0002575191501819063,13.849616050720215 0.2770178020000458,2.5255560874938965 l0.00017766204109648243,4.751608073711395 0.29717667028307915,1.772036850452423 l-1.7869587242603302,1.2573166191577911 -1.5245400369167328,0.49171458929777145 l0.7129868119955063,-0.28646642342209816 1.3655507564544678,-0.7386894524097443 l1.2862952053546906,0.5449367687106133 0.7950177043676376,0.7456384599208832 l0.9716339409351349,1.3946455717086792 0.28501853346824646,-0.7068688422441483 l0.098319286480546,-1.826547235250473 -0.15025665052235126,-0.9106606990098953 l-0.7341999560594559,-3.2202351093292236 -0.401763878762722,-3.336426317691803 l-5.50550396383187e-06,-0.39798885583877563 0.8066799491643906,-1.152365580201149 m-0.005252328119240701,-15.799645185470581 l0.08513081818819046,5.073407292366028 0.8986542373895645,8.118922710418701 l2.4119235604302958e-05,2.039276212453842 0.32181568443775177,-0.3483802080154419 l2.754882276058197,-1.5382981300354004 2.1142713725566864,-0.7651332765817642 l2.2028174996376038,-0.28943201526999474 4.23390120267868,0.5823628604412079 l-1.0162489861249924,0.2959158830344677 -1.062837392091751,0.132091473788023 l0.7363542914390564,8.382153282582294e-05 1.16311676800251,1.0189056396484375 l-0.5858992785215378,0.994267612695694 -1.3525547087192535,0.08722520433366299 l-1.518142819404602,-0.24096544831991196 m-15.735409259796143,-31.017320156097412 l0.6207581236958504,-2.609577775001526 -0.0006322769331745803,-1.7823024094104767 l-0.5735722929239273,-2.8739768266677856 -2.7996796369552612,-4.738906025886536 l-3.1601598858833313,-3.366272449493408 -1.8741820752620697,-1.1913160234689713 l-2.285110503435135,-0.7082253694534302 -3.8117098808288574,0.028050951659679413 l-3.6142995953559875,0.8944406360387802 -1.1948446929454803,0.8432886004447937 l-0.8947817981243134,1.2356136739253998 -1.0258878767490387,2.721686065196991 l-0.5476841703057289,2.923324406147003 0.07589788176119328,3.9525482058525085 l0.496443510055542,2.0485958456993103 1.3611216843128204,2.490529417991638 l2.588517665863037,2.6736071705818176 3.5979649424552917,1.937783807516098 l2.3532652854919434,0.5716590210795403 2.2240781784057617,-0.00018320552044315264 l0.8758358657360077,-0.26594502851366997 0.9231004863977432,-0.7473450154066086 l1.2974733114242554,-1.9391606748104095 0.6230023130774498,-2.5577622652053833 l-0.008902659174054861,-3.313629627227783 -0.7836934924125671,-1.6813518106937408 l-3.1886956095695496,-3.7198132276535034 -1.6503547132015228,-1.203317791223526 l-2.049553096294403,-0.8035683631896973 m11.254907846450806,21.228864192962646 l-0.046976651065051556,2.247048020362854 1.058276742696762,4.118247926235199 l1.5331266820430756,3.786284923553467 1.6992305219173431,2.7444684505462646 l2.0491352677345276,2.4977396428585052 1.1346222460269928,0.9781438112258911 l1.0298315435647964,0.5245643481612206 4.180945456027985,2.428518533706665 m62.89203886369478,-39.8735936229707 l-0.8629286289215088,0.23921698331832886 -1.4222386479377747,1.4541810750961304 l-0.9356502443552017,1.2572400271892548 -0.5307677015662193,1.1754854023456573 l-0.000387890831916593,1.4596931636333466 0.669557973742485,0.466107502579689 l1.9601227343082428,0.07914788089692593 0.5783780664205551,-0.4175960645079613 l1.4409568905830383,-2.326953560113907 -0.1715482957661152,-1.519022285938263 l-0.6272550672292709,-0.5849150568246841 -1.1996635794639587,-0.5562920495867729 l-0.8139745146036148,-0.21014992147684097 -0.4902595281600952,0.04861109424382448 m-1.2720435857772827,3.348240554332733 l-2.232837527990341,0.6781589239835739 -1.1034049093723297,0.6493119895458221 l3.3690962195396423,-0.8090013265609741 0.7856275141239166,-0.17838193103671074 l0.7202178984880447,0.06878961808979511 0.920337587594986,-3.0914573017071234e-05 l0.8713029325008392,-3.821703558060108e-05 0.11679866351187229,0.11981641873717308 l5.2570590014511254e-05,0.8236000686883926 -0.43751828372478485,1.4533048868179321 l-0.9482149034738541,1.305156797170639 -2.4808579683303833,4.653189778327942 l-0.6229967251420021,2.3735709488391876 -0.1442218292504549,1.2597602605819702 l0.2352549135684967,1.6967299580574036 1.0655244439840317,3.103928864002228 l0.8881255984306335,1.482972502708435 1.4223849773406982,1.4189828932285309 l1.2003152072429657,0.789567306637764 1.7584417760372162,0.7435769587755203 l2.5080353021621704,0.538368821144104 3.1353041529655457,-0.011046710424125195 l2.277393490076065,-0.5039981752634048 4.819421172142029,-2.26196750998497 l0.9378688782453537,-0.8970487862825394 0.8361811190843582,-1.4676138758659363 l0.3646857291460037,-1.293901652097702 -0.5069978162646294,-3.35807204246521 l-0.9173835068941116,-2.1355997025966644 -1.5026625990867615,-1.9464471936225891 l-1.2662850320339203,-1.0438168793916702 -1.6548797488212585,-0.8444274216890335 l-3.8373523950576782,-0.5420256778597832 -5.479280948638916,0.6557407975196838 l-3.464900255203247,1.696508526802063 -1.0422524064779282,0.798591747879982 l-1.0058902949094772,1.4885513484477997 -0.5284994840621948,1.4441977441310883 m8.809766173362732,9.0553617477417 l-0.18386270850896835,1.9870001077651978 0.04531795624643564,1.9796721637248993 l-0.11560977436602116,11.150773763656616 -0.5497211590409279,4.830317199230194 l-0.4382186010479927,2.239733040332794 m2.857900559902191,-21.098408699035645 l-0.45694146305322647,0.6842097640037537 -2.8161272406578064,7.126989960670471 l-1.4624609053134918,4.309830367565155 0.227948147803545,0.39891868829727173 l1.4089533686637878,0.1385764591395855 4.423842430114746,-0.00016862562915775925 l3.161913752555847,-0.39968520402908325 3.6583223938941956,-0.86333267390728 m48.98531387493904,-43.579508196872894 l-1.8805575370788574,1.3966481387615204 -2.3021502792835236,2.5381478667259216 l-2.5449594855308533,1.854797601699829 -1.4165736734867096,1.6545191407203674 l1.4877031743526459,0.42675673961639404 5.7006072998046875,-0.40191955864429474 l2.2184856235980988,-1.5227587521076202 m-1.091410294175148,-6.047103404998779 l0.14833240769803524,-1.9556157290935516 1.441016048192978,-2.363898605108261 l1.6042834520339966,-1.6849814355373383 1.7258182168006897,-1.1374299973249435 l1.1522170901298523,-0.3171984851360321 2.9967424273490906,-8.909969437809195e-05 l2.331947386264801,0.8357696980237961 1.3063782453536987,1.037796288728714 l2.059966027736664,3.0121412873268127 0.9095574915409088,2.1603842079639435 l0.5175582319498062,2.996888756752014 0.00013659166143042967,4.039611220359802 l-0.5400101095438004,2.453145682811737 -1.495606154203415,2.581283748149872 l-2.035321444272995,2.3218049108982086 -1.4073419570922852,2.497120052576065 l-1.1748791486024857,4.3159374594688416 -0.30256524682044983,2.870468497276306 l0.15426949597895145,2.6448628306388855 0.6472450494766235,1.0946163535118103 l1.3198332488536835,0.7731300592422485 2.2947336733341217,0.46316415071487427 l5.283715724945068,-0.027836866211146116 1.617823839187622,-0.29463184997439384 l4.839111566543579,-1.1634142696857452 6.326117515563965,-1.1759942024946213 l4.491604566574097,-0.9570430964231491 4.780736863613129,-1.5047425031661987 l4.90340918302536,-2.410782426595688 1.7125451564788818,-0.46664901077747345 l1.7003057897090912,0.6991821527481079 0.3296920284628868,3.2972553372383118 l-0.5826424807310104,2.969968020915985 -0.7525668293237686,1.9573231041431427 l-2.5123554468154907,5.605908632278442 -1.1631578207015991,1.6077044606208801 l-1.1465851217508316,1.1844227463006973 -1.2956199049949646,0.9067516028881073 l-1.1846105754375458,0.6014284864068031 -3.0973786115646362,0.7845008373260498 l-5.197829008102417,0.6669393181800842 -7.326022982597351,-0.13490529730916023 l-2.3939605057239532,-0.7888097316026688 -1.7023113369941711,-0.7780486345291138 l-4.888792335987091,-4.0073853731155396 -4.785902202129364,-5.589250326156616 l-0.5726689100265503,-1.4096204936504364 -1.133701354265213,-1.6902361810207367 l-2.3728039860725403,-5.506920218467712 -0.20875860005617142,-10.910806655883789 l-0.3713630139827728,-2.765420973300934 -0.7793951034545898,-2.6617878675460815 m22.274012565612793,35.437562465667725 l-0.006039669387973845,1.9190096855163574 0.9317159652709961,4.798886179924011 l0.6247087568044662,5.991155505180359 0.6213884428143501,9.240451455116272 l-2.956658899784088,2.461974173784256 -1.8949057161808014,1.778804212808609 l-3.073931634426117,1.8950524926185608 -1.6253483295440674,1.4764446020126343 l0.36878105252981186,0.00011016482858394738 m9.773769974708557,-7.4383544921875 l1.4730201661586761,6.1475735902786255 0.5170103162527084,1.1699651926755905 m-0.5887651816010475,-7.2152286767959595 l3.7968596816062927,1.9408492743968964 2.985071539878845,1.416865885257721 l1.5506590902805328,1.0485666245222092 m-10.234462022781372,-29.836912155151367 l1.1372827738523483,0.40164604783058167 9.594021439552307,7.385547757148743 l1.9256098568439484,1.1475516855716705 -0.1128592062741518,0.8534534275531769 l-0.9306883066892624,0.7484811544418335 -4.744507372379303,2.3041217029094696 l-4.193288683891296,1.1959020793437958 -3.1377893686294556,0.46516425907611847 l-4.066488444805145,0.933593139052391 -2.6379182934761047,1.2392830848693848 m80.09490388774793,-36.370109856189856 l1.0815577954053879,-0.9259448945522308 2.3048171401023865,-1.2475480884313583 l2.1013908088207245,-0.7313819974660873 4.325475096702576,-0.3952380642294884 l3.074112832546234,-0.00021744803234469146 4.699416160583496,0.9237053245306015 l2.4512219429016113,1.3248009979724884 2.429100424051285,2.463947981595993 l1.944144368171692,3.6241313815116882 0.5529578775167465,1.8161234259605408 l-1.4839139580726624,3.7467509508132935 -1.367257684469223,1.4395694434642792 l-4.693400263786316,1.9089849293231964 -2.3019158840179443,0.4131294786930084 l-5.765693187713623,0.3741159662604332 -3.233770728111267,-0.340939499437809 l-3.344709873199463,-1.6319313645362854 -2.2834597527980804,-1.8263763189315796 l-1.9776183366775513,-2.790055572986603 -1.0108598321676254,-2.4608516693115234 l-0.24709627032279968,-1.9966347515583038 0.4615466669201851,-0.7190912216901779 l0.9187905490398407,-0.5973106622695923 0.6385738402605057,-0.7768286764621735 m-0.31919755041599274,0.6649234890937805 l-0.6894082576036453,-0.7603740692138672 -1.8363574147224426,-4.16944682598114 l-1.4456047117710114,-5.160025954246521 -1.8207335472106934,-5.923327207565308 l-0.9643803536891937,-2.173886001110077 -1.0588398575782776,-1.4787720143795013 l-2.8806981444358826,-2.3371614515781403 -2.9633837938308716,-1.1846744269132614 l-1.8665225803852081,3.73496573047305e-05 -3.231693208217621,0.7666552066802979 l-2.1879495680332184,1.1869684606790543 -1.3682962954044342,1.1562186479568481 l-0.6793756783008575,0.9508327394723892 -0.7251901924610138,1.899210661649704 l-0.2239779196679592,1.8838967382907867 0.22302433848381042,1.6369952261447906 l0.7364639639854431,1.4541330933570862 0.9588778764009476,0.9491652995347977 l1.49673193693161,0.7641912251710892 1.9274269044399261,0.44395048171281815 l2.7211302518844604,-6.809527803852689e-05 1.11379474401474,-0.30442746356129646 l1.1122582852840424,-0.6471824645996094 2.089027464389801,-2.1696336567401886 l1.5555422008037567,-2.456953525543213 0.874720960855484,-2.6778414845466614 l-0.27182944118976593,-2.149384617805481 -0.7077950984239578,-1.0650860518217087 l-1.1798468977212906,-0.7928584516048431 -1.2105237692594528,-0.42284250259399414 l-1.3576099276542664,-0.05395681597292423 -2.360130697488785,0.7864171266555786 m26.991779804229736,35.51383018493652 l-0.20715957507491112,0.96343033015728 0.04189085680991411,2.325364500284195 l-0.9273020923137665,8.141072392463684 -1.2273567169904709,7.90527880191803 l-0.3259071335196495,5.741426348686218 -0.5021026730537415,3.2710495591163635 m3.195182681083679,-28.90876531600952 l-0.8244241029024124,0.7799032330513 -1.0240710526704788,1.6554763913154602 l-3.6279138922691345,8.884475827217102 -1.4794854819774628,4.578499495983124 l-0.817505270242691,4.814949929714203 0.00011424378499214072,2.4861039221286774 l0.2756881155073643,1.1735967546701431 0.8368274569511414,1.2740980088710785 l1.4273981750011444,1.1095982044935226 1.302006095647812,0.5791553109884262 m59.380652493955495,-36.56100427365914 l-0.2092132717370987,0.07333928719162941 -0.3006269969046116,1.371401697397232 l-0.10678047314286232,1.1511430889368057 0.3339894860982895,1.6485798358917236 l2.66137033700943,6.793496608734131 1.3959203660488129,1.6813817620277405 l1.0195903480052948,0.7716774940490723 1.5774106979370117,0.6168234720826149 l2.179293781518936,0.4626300185918808 2.1593452990055084,0.03592293011024594 l2.6506102085113525,-0.4730270802974701 1.8274877965450287,-0.5892195180058479 l1.45612433552742,-0.8699505776166916 2.8046730160713196,-2.0120517909526825 l1.9188334047794342,-2.325655370950699 0.6152809783816338,-1.239144504070282 l0.247900802642107,-1.7909610271453857 -0.2785629406571388,-2.288936972618103 l-2.0687876641750336,-3.22255939245224 -1.2061414867639542,-1.199491173028946 l-1.1722149699926376,-0.7710866630077362 -3.520677387714386,-1.4732643961906433 l-2.6116451621055603,-0.43125733733177185 -4.04546320438385,0.18697772175073624 l-3.395676612854004,1.237967386841774 -2.0425374805927277,1.1879393458366394 l-0.8405325561761856,0.9785912185907364 -0.7710672914981842,3.0163925886154175 l0.34673579037189484,2.4846380949020386 m10.454568862915039,-5.456362366676331 l0.22699834778904915,-1.0089945048093796 1.1442693322896957,-4.808199405670166 l0.4220174625515938,-9.467594027519226 -0.05040768068283796,-1.1588561534881592 l0.22150902077555656,-3.000888228416443 0.12987789697945118,-1.9620691239833832 l0.33888906240463257,-1.4996744692325592 0.7137296348810196,-1.347287893295288 l1.2202338874340057,-0.9660114347934723 1.7463482916355133,-0.5427283048629761 l2.153984159231186,-0.009184617083519697 1.74836665391922,0.409952774643898 l0.8051198720932007,0.4664572700858116 0.7895088940858841,1.307152509689331 l1.181534081697464,2.997671961784363 0.1336539350450039,1.1744529753923416 l-0.7177779823541641,1.76963672041893 -1.1070383340120316,1.336618810892105 l-1.7912136018276215,0.891982764005661 -1.343870759010315,0.22504577413201332 l-3.0005964636802673,-0.1796962507069111 -0.7376329600811005,-0.47365356236696243 l-0.4040519520640373,-0.9387185424566269 0.22704122588038445,-1.6018778085708618 m6.828596591949463,-2.1032123267650604 l2.0406703650951385,-0.5700948461890221 2.6025906205177307,-0.5752142891287804 l0.7776045054197311,0.047553242184221745 0.18916022032499313,1.2740947306156158 l-0.301665011793375,0.7701657712459564 -1.0665103048086166,0.8463893085718155 l-1.108541190624237,0.3645724803209305 m-17.240747213363647,32.92994260787964 l-0.5754588544368744,4.649050235748291 -0.9813188761472702,8.493612408638 l-0.06323344074189663,5.882735252380371 -0.3318082168698311,2.2440923750400543 l0.04175018984824419,0.84287129342556 m5.356564521789551,-22.259061336517334 l0.001760074810590595,1.4035393297672272 0.9466436505317688,3.8844549655914307 l1.000901386141777,2.7827954292297363 0.5644068866968155,2.9005593061447144 l0.35014618188142776,5.244223475456238 -0.16693158075213432,6.518494486808777 l0.4451587051153183,2.7410224080085754 m60.48996008424638,-38.56459082427136 l0.6885798275470734,0.753386989235878 1.961435228586197,1.560261994600296 l2.6540815830230713,1.3988356292247772 1.7318567633628845,0.4593361169099808 l4.32586669921875,6.012708581693005e-05 1.8550117313861847,-0.5792803317308426 l2.011038661003113,-1.2031400948762894 2.156718224287033,-2.2674885392189026 l0.9491058439016342,-1.7640180885791779 0.7251318544149399,-2.9711025953292847 l0.20624535158276558,-3.4146562218666077 0.492260605096817,-3.4930455684661865 l0.00014826099686615635,-3.7731757760047913 0.49999479204416275,-3.729981482028961 l0.8173521608114243,-2.1272601187229156 0.9162332862615585,-1.1909617483615875 l1.436583697795868,-0.901857390999794 0.7995316386222839,-0.23972488939762115 l2.2262145578861237,-0.07168798241764307 5.378012657165527,1.210855171084404 l2.8289371728897095,1.7723080515861511 1.8721957504749298,1.9795075058937073 l0.8715463429689407,1.3065533339977264 0.7958266139030457,2.292524129152298 l-0.03212284995242953,2.988462746143341 -0.5104345828294754,1.7618323862552643 l-1.2015697360038757,1.6909405589103699 -1.5570202469825745,0.8510064333677292 l-1.439964473247528,-0.13708995655179024 -1.9077138602733612,-0.9962897002696991 l-1.6747073829174042,-1.829725205898285 -0.8511392027139664,-2.3622141778469086 l-0.602329932153225,-4.604419767856598 -0.5039672926068306,-1.0897734761238098 l-1.2024452537298203,-0.8375167846679688 -0.9120859950780869,-0.054989904165267944 l-1.3252122700214386,0.501982569694519 -1.1568306386470795,0.995069220662117 l-1.0118860751390457,1.2995640933513641 -0.43588221073150635,1.081538200378418 l-0.6640440970659256,2.8934571146965027 -0.22487038746476173,2.990460693836212 l0.8301989734172821,7.471410036087036 -0.030067379120737314,4.991486966609955 l-0.3739921748638153,1.1689752340316772 -0.6091273948550224,0.8591562509536743 l-1.8590588867664337,1.3450565934181213 -2.5714480876922607,1.1108708381652832 l-3.0077648162841797,0.5559298023581505 -3.8199326395988464,0.03582262434065342 l-1.7956380546092987,-0.325901061296463 -2.001377195119858,-0.9092370420694351 l-1.17782324552536,-1.2963461875915527 -0.5973513796925545,-1.5517047047615051 l0.29223186895251274,-2.032732516527176 m6.054233908653259,6.247937083244324 l0.2321934700012207,6.9358426332473755 -0.2563895285129547,12.123773097991943 l-1.0327734053134918,9.168756008148193 0.25617634877562523,0.299526397138834 m6.18069052696228,-29.243180751800537 l-0.08280027657747269,11.724570989608765 -0.6677231192588806,8.847666382789612 l-0.5669362097978592,3.506132960319519 m9.872546195983887,-43.7793493270874 l-0.9000731259584427,0.7280316948890686 -2.5469547510147095,0.7516680657863617 l-2.4892619252204895,1.4026051759719849 -3.3029863238334656,1.3053593039512634 l-4.015223979949951,1.0961318761110306 -1.5236568450927734,0.6093014776706696 l-4.1933682560920715,3.680141866207123 -0.6655110418796539,1.3011434674263 l-0.5928224697709084,2.131092995405197 0.23231599479913712,2.431327700614929 l0.7589845359325409,1.2563635408878326 1.4383366703987122,1.2125737965106964 l3.4139803051948547,1.2310928851366043 1.8232129514217377,0.2799815498292446 l3.4562885761260986,-1.9924668967723846 1.6144873201847076,-1.8751737475395203 l1.0690361261367798,-2.12826669216156 0.9527160227298737,-3.406308889389038 l0.5174385383725166,-3.1477314233779907 0.11491318233311176,-1.9884423911571503 m-6.248005032539368,21.677584648132324 l1.220838576555252,1.3508769869804382 0.9850878268480301,0.5266314372420311 l2.9246345162391663,1.3833342492580414 1.591930091381073,0.43066050857305527 l5.7889628410339355,0.8316535502672195 3.998757004737854,0.16432400792837143 l2.412191480398178,0.00013196033251006156 1.6925990581512451,-0.2608158625662327 \" fill=\"none\" stroke=\"black\" stroke-width=\"1\"/></svg>"
      ],
      "text/plain": [
       "<IPython.core.display.SVG object>"
      ]
     },
     "metadata": {},
     "output_type": "display_data"
    }
   ],
   "source": [
    "stroke_grid = make_grid_svg(reconstructions)\n",
    "draw_strokes(stroke_grid)"
   ]
  },
  {
   "cell_type": "markdown",
   "metadata": {
    "colab_type": "text",
    "id": "L-rJ0iUQFQvl"
   },
   "source": [
    "Let's load the owl model, and generate two sketches using two random IID gaussian latent vectors"
   ]
  },
  {
   "cell_type": "code",
   "execution_count": 38,
   "metadata": {
    "colab": {},
    "colab_type": "code",
    "id": "of4SWwGdFQvm"
   },
   "outputs": [],
   "source": [
    "model_dir = '/tmp/sketch_rnn/models/owl/lstm'"
   ]
  },
  {
   "cell_type": "code",
   "execution_count": 39,
   "metadata": {
    "colab": {
     "base_uri": "https://localhost:8080/",
     "height": 255
    },
    "colab_type": "code",
    "id": "jJiSZFQeFQvp",
    "outputId": "f84360ca-c2be-482f-db57-41b5ecc05768"
   },
   "outputs": [
    {
     "name": "stdout",
     "output_type": "stream",
     "text": [
      "INFO:tensorflow:Model using gpu.\n",
      "INFO:tensorflow:Input dropout mode = False.\n",
      "INFO:tensorflow:Output dropout mode = False.\n",
      "INFO:tensorflow:Recurrent dropout mode = False.\n",
      "INFO:tensorflow:Model using gpu.\n",
      "INFO:tensorflow:Input dropout mode = 0.\n",
      "INFO:tensorflow:Output dropout mode = 0.\n",
      "INFO:tensorflow:Recurrent dropout mode = 0.\n",
      "INFO:tensorflow:Model using gpu.\n",
      "INFO:tensorflow:Input dropout mode = 0.\n",
      "INFO:tensorflow:Output dropout mode = 0.\n",
      "INFO:tensorflow:Recurrent dropout mode = 0.\n",
      "INFO:tensorflow:Loading model /tmp/sketch_rnn/models/owl/lstm/vector.\n",
      "INFO:tensorflow:Restoring parameters from /tmp/sketch_rnn/models/owl/lstm/vector\n"
     ]
    }
   ],
   "source": [
    "[hps_model, eval_hps_model, sample_hps_model] = load_model_compatible(model_dir)\n",
    "# construct the sketch-rnn model here:\n",
    "reset_graph()\n",
    "model = Model(hps_model)\n",
    "eval_model = Model(eval_hps_model, reuse=True)\n",
    "sample_model = Model(sample_hps_model, reuse=True)\n",
    "sess = tf.InteractiveSession()\n",
    "sess.run(tf.global_variables_initializer())\n",
    "# loads the weights from checkpoint into our model\n",
    "load_checkpoint(sess, model_dir)"
   ]
  },
  {
   "cell_type": "code",
   "execution_count": 40,
   "metadata": {
    "colab": {
     "base_uri": "https://localhost:8080/",
     "height": 141
    },
    "colab_type": "code",
    "id": "vR4TDoi5FQvr",
    "outputId": "db08cb2c-952c-4949-d2b0-94c11351264b"
   },
   "outputs": [
    {
     "data": {
      "image/svg+xml": [
       "<svg baseProfile=\"full\" height=\"98.87714635697193\" version=\"1.1\" width=\"74.75454556755722\" xmlns=\"http://www.w3.org/2000/svg\" xmlns:ev=\"http://www.w3.org/2001/xml-events\" xmlns:xlink=\"http://www.w3.org/1999/xlink\"><defs/><rect fill=\"white\" height=\"98.87714635697193\" width=\"74.75454556755722\" x=\"0\" y=\"0\"/><path d=\"M42.49056268366985,37.69337147474289 m-1.679164171218872,-9.601778984069824 l-2.4388013780117035,-2.1928803622722626 -2.7112871408462524,-0.8987121284008026 l-1.9203753769397736,0.010780938901007175 -1.6408556699752808,0.33769432455301285 l-1.601867526769638,0.7727807760238647 -1.4252817630767822,1.1983881890773773 l-1.138085126876831,1.5272508561611176 -0.7940717041492462,1.7974239587783813 l-0.431467741727829,2.002837210893631 0.008296273881569505,2.0581308007240295 l0.4359160363674164,1.9844572246074677 0.8359823375940323,1.815188080072403 l1.1862972378730774,1.533239334821701 1.4823031425476074,1.1705332249403 l1.6597989201545715,0.7827624678611755 1.7748573422431946,0.3960004076361656 l1.7226241528987885,-0.009003657614812255 1.6556592285633087,-0.40464870631694794 l1.505202054977417,-0.779242217540741 1.266922801733017,-1.1193200200796127 l0.958130955696106,-1.3919822871685028 0.6038056313991547,-1.5773503482341766 l0.25530874729156494,-1.656411737203598 -0.1638166792690754,-2.19098761677742 l-0.48434123396873474,-1.8157976865768433 -0.8299442380666733,-1.6391584277153015 l-0.8808548748493195,-1.1599622666835785 -1.0478198528289795,-0.8288336545228958 l-1.29177987575531,-0.5252520367503166 -1.601451188325882,-0.08897040039300919 l-1.6970141232013702,0.5482522770762444 -1.5108239650726318,1.3025547564029694 l-1.1456364393234253,2.008366733789444 -0.5630077794194221,2.3917318880558014 l0.08057078346610069,2.303089201450348 0.5521776899695396,2.1436062455177307 l1.1078522354364395,1.9491778314113617 1.4690063893795013,1.5399593114852905 l1.733543574810028,1.0594841092824936 1.846775859594345,0.5607547983527184 l1.7737303674221039,0.07152996491640806 1.5982800722122192,-0.3666336089372635 l1.3969624042510986,-0.7895847409963608 1.494394987821579,-1.7055976390838623 l0.9526711702346802,-1.9648818671703339 0.4774845018982887,-2.079245001077652 l0.044224103912711143,-2.0312340557575226 -0.3435863181948662,-1.8679086863994598 l-0.673779621720314,-1.6580937802791595 -0.9194034337997437,-1.3819408416748047 l-1.091809868812561,-1.0331988334655762 -1.2539970874786377,-0.6961258500814438 l-1.3424652814865112,-0.32551102340221405 -1.3603559136390686,0.04722710698843002 l-1.3348400592803955,0.4374086856842041 -1.2032490968704224,0.8177337795495987 l-0.9990743547677994,1.1971177905797958 -0.7000350207090378,1.5064136683940887 l-0.3456728905439377,1.688041239976883 0.052543701604008675,2.146487236022949 l0.5846769362688065,1.9861838221549988 0.7240596413612366,1.4289137721061707 l1.247251257300377,1.5018849074840546 1.4671191573143005,1.0704710334539413 l1.5931206941604614,0.6044726073741913 1.569679081439972,0.12255506590008736 l1.4368855953216553,-0.34403465688228607 1.2583671510219574,-0.796392410993576 l0.9873495995998383,-1.171441599726677 0.6218938156962395,-1.4260664582252502 l0.24807162582874298,-1.5866345167160034 -0.346832238137722,-2.077033221721649 l-0.7711413502693176,-1.7642974853515625 -1.0638624429702759,-1.3974788784980774 l-1.2604327499866486,-1.0006123036146164 -1.8113048374652863,-0.7680853456258774 l-1.7846259474754333,-0.295424647629261 -1.6875775158405304,0.13875753618776798 l-1.7451854050159454,0.6448520720005035 -1.5826083719730377,1.1909779161214828 l-1.2363599240779877,1.7224398255348206 -0.722348615527153,2.0531539618968964 l-0.16805708408355713,1.5123580396175385 0.24402780458331108,1.9103199243545532 l0.7814677804708481,1.9168293476104736 1.4199639856815338,1.954033225774765 l1.6874584555625916,1.358909159898758 1.8065452575683594,0.8296120166778564 l1.8407414853572845,0.34455999732017517 1.753685176372528,-0.12633626349270344 l1.826658844947815,-0.7809840887784958 1.4464053511619568,-1.23551644384861 l1.1186309903860092,-1.9352899491786957 0.5193784460425377,-2.0288023352622986 l0.0547276483848691,-1.9342227280139923 -0.36156315356492996,-1.7719072103500366 l-0.7317741960287094,-1.5441769361495972 -1.053500473499298,-1.27481147646904 l-1.8221642076969147,-1.3031496107578278 -1.9366700947284698,-0.8227328211069107 l-2.5154346227645874,-0.5083258077502251 -2.5394535064697266,0.01231249887496233 l-2.241874933242798,0.5545151606202126 -1.9465725123882294,0.9716930985450745 l-1.55541330575943,1.3068598508834839 -0.7528702169656754,1.0760997235774994 l-0.528702437877655,1.5082094073295593 m1.5993069112300873,12.15261459350586 l-1.0669668018817902,0.38738131523132324 -1.342136263847351,2.416711151599884 l-0.7813708484172821,2.204052060842514 -1.0698270797729492,5.4595500230789185 l-0.26671014726161957,7.460155487060547 0.5362650007009506,4.681161344051361 l1.0765384137630463,4.0369221568107605 m19.51694369316101,-27.323944568634033 l1.692352145910263,3.318774998188019 0.9238811582326889,3.0127322673797607 l0.9409122914075851,6.943911910057068 0.06765286438167095,8.231688737869263 l-0.5970316752791405,6.048690676689148 \" fill=\"none\" stroke=\"black\" stroke-width=\"1\"/></svg>"
      ],
      "text/plain": [
       "<IPython.core.display.SVG object>"
      ]
     },
     "metadata": {},
     "output_type": "display_data"
    }
   ],
   "source": [
    "z_0 = np.random.randn(eval_model.hps.z_size)\n",
    "_ = decode(z_0)"
   ]
  },
  {
   "cell_type": "code",
   "execution_count": 41,
   "metadata": {
    "colab": {
     "base_uri": "https://localhost:8080/",
     "height": 124
    },
    "colab_type": "code",
    "id": "ZX23lTnpFQvt",
    "outputId": "247052f2-a0f3-4046-83d6-d08e0429fafb"
   },
   "outputs": [
    {
     "data": {
      "image/svg+xml": [
       "<svg baseProfile=\"full\" height=\"107.24560845643282\" version=\"1.1\" width=\"91.86486559920013\" xmlns=\"http://www.w3.org/2000/svg\" xmlns:ev=\"http://www.w3.org/2001/xml-events\" xmlns:xlink=\"http://www.w3.org/1999/xlink\"><defs/><rect fill=\"white\" height=\"107.24560845643282\" width=\"91.86486559920013\" x=\"0\" y=\"0\"/><path d=\"M39.932052638032474,26.48788107559085 m-2.1662335097789764,-0.3058856911957264 l-1.3768930733203888,0.09112210012972355 -1.2110181152820587,0.27475466951727867 l-2.2849155962467194,1.3663586974143982 -1.7466148734092712,2.081473022699356 l-0.862874910235405,2.3232631385326385 -0.08124720305204391,2.6081106066703796 l0.7295200228691101,2.7031975984573364 1.40981987118721,2.448568046092987 l1.9660094380378723,2.039380967617035 2.3545101284980774,1.299532949924469 l2.730376124382019,0.5275325104594231 2.8982198238372803,0.4531808942556381 l2.964792847633362,-0.025580311194062233 2.967926263809204,-0.6633742898702621 l2.9989272356033325,-1.419261246919632 1.3095833361148834,-0.9644854068756104 l1.7305544018745422,-1.9800786674022675 1.1024776101112366,-2.1833105385303497 l0.518072210252285,-2.1920277178287506 -0.022524073719978333,-2.073066532611847 l-0.5465370789170265,-1.9518741965293884 -1.030455008149147,-1.7588359117507935 l-1.4524438977241516,-1.5085837244987488 -2.761116921901703,-1.581890732049942 l-2.712855339050293,-0.8174294978380203 -3.442205488681793,-0.2786718122661114 l-3.275921642780304,0.5249305069446564 -2.7081212401390076,1.1058498919010162 l-2.077563852071762,1.3733969628810883 m-2.269759178161621,13.255302906036377 l-2.0128166675567627,2.7545002102851868 -1.0567649453878403,2.1334557235240936 l-1.1969761550426483,3.65500807762146 -0.6929028034210205,4.248642027378082 l-0.11460703797638416,4.523027837276459 0.5177035927772522,4.734408259391785 l1.1474785208702087,4.407220780849457 1.7890821397304535,4.110347330570221 l2.3168671131134033,3.4331828355789185 1.7620335519313812,1.8738643825054169 l2.8279444575309753,2.037642151117325 3.0214396119117737,1.4219732582569122 l3.0192965269088745,0.767393484711647 3.019270896911621,0.19387835636734962 l2.9125583171844482,-0.40216468274593353 2.710934281349182,-0.9492741525173187 l2.4683207273483276,-1.3915455341339111 2.251783162355423,-1.8217374384403229 l1.940523386001587,-2.2379085421562195 1.5458200871944427,-2.569708824157715 l1.1506059020757675,-2.889329493045807 0.7421143352985382,-3.132125735282898 l0.3414744511246681,-3.3106884360313416 -0.08648669347167015,-3.3555641770362854 l-0.5131829902529716,-3.169713616371155 -0.8821659535169601,-3.0431780219078064 l-1.1838456243276596,-2.804182767868042 -2.2218331694602966,-3.624594211578369 l-2.0558442175388336,-2.5252318382263184 -2.0136158168315887,-1.8634384870529175 l-1.9332554936408997,-1.3025741279125214 -1.8778997659683228,-0.8375999331474304 m-16.776520013809204,4.247124791145325 l0.007569039589725435,2.546268403530121 -0.660863071680069,5.939891338348389 l-2.401665151119232,13.51905345916748 -1.3304340839385986,7.103077173233032 l-0.8930478245019913,3.5550254583358765 -0.9269812703132629,2.348248064517975 l-1.1315343528985977,1.68352872133255 -0.9493789821863174,0.8337956666946411 l-1.1637389659881592,0.14613041654229164 m26.952152252197266,-37.54536151885986 l-0.0670806784182787,4.14031445980072 0.41755013167858124,3.437768518924713 l0.9375350922346115,3.8432899117469788 1.3892236351966858,3.949122428894043 l1.7271919548511505,3.5731852054595947 2.044997811317444,3.102891743183136 l2.21904918551445,2.5277620553970337 2.22634956240654,1.8977156281471252 l2.100311517715454,1.3121972978115082 1.9175851345062256,0.7887743413448334 m-26.922779083251953,-44.05651569366455 l-0.9779246896505356,0.5427631363272667 -1.1472593992948532,1.8696072697639465 l-0.5245927721261978,1.620398461818695 -0.08675877936184406,1.8887947499752045 l0.5378374084830284,1.630777269601822 1.231495812535286,1.193479299545288 l1.5428000688552856,0.6186394765973091 1.6270712018013,0.03896321868523955 l1.5176324546337128,-0.5346804484724998 1.2507909536361694,-1.0429682582616806 l0.7921525090932846,-1.3711699843406677 0.2977174147963524,-1.5221145749092102 l-0.1611846126616001,-1.5343648195266724 -0.6410472095012665,-1.4144082367420197 l-1.0447939485311508,-1.1484266817569733 -1.7629219591617584,-0.9300465136766434 l-2.0772206783294678,-0.29348447918891907 \" fill=\"none\" stroke=\"black\" stroke-width=\"1\"/></svg>"
      ],
      "text/plain": [
       "<IPython.core.display.SVG object>"
      ]
     },
     "metadata": {},
     "output_type": "display_data"
    }
   ],
   "source": [
    "z_1 = np.random.randn(eval_model.hps.z_size)\n",
    "_ = decode(z_1)"
   ]
  },
  {
   "cell_type": "markdown",
   "metadata": {
    "colab_type": "text",
    "id": "7FjQsF_2FQvv"
   },
   "source": [
    "Let's interpolate between the two owls $z_0$ and $z_1$"
   ]
  },
  {
   "cell_type": "code",
   "execution_count": 42,
   "metadata": {
    "colab": {},
    "colab_type": "code",
    "id": "u6G37E8_FQvw"
   },
   "outputs": [],
   "source": [
    "z_list = [] # interpolate spherically between z_0 and z_1\n",
    "N = 10\n",
    "for t in np.linspace(0, 1, N):\n",
    "  z_list.append(slerp(z_0, z_1, t))\n",
    "# for every latent vector in z_list, sample a vector image\n",
    "reconstructions = []\n",
    "for i in range(N):\n",
    "  reconstructions.append([decode(z_list[i], draw_mode=False, temperature=0.1), [0, i]])"
   ]
  },
  {
   "cell_type": "code",
   "execution_count": 43,
   "metadata": {
    "colab": {
     "base_uri": "https://localhost:8080/",
     "height": 149
    },
    "colab_type": "code",
    "id": "OULjMktmFQvx",
    "outputId": "94b7b68e-9c57-4a1b-b216-83770fa4be81"
   },
   "outputs": [
    {
     "data": {
      "image/svg+xml": [
       "<svg baseProfile=\"full\" height=\"117.21181313332636\" version=\"1.1\" width=\"824.6729810908437\" xmlns=\"http://www.w3.org/2000/svg\" xmlns:ev=\"http://www.w3.org/2001/xml-events\" xmlns:xlink=\"http://www.w3.org/1999/xlink\"><defs/><rect fill=\"white\" height=\"117.21181313332636\" width=\"824.6729810908437\" x=\"0\" y=\"0\"/><path d=\"M25,36.02780316316057 m0.0,0.0 m43.37772290688008,3.148298228625208 l-1.6837319731712341,-9.56459641456604 -2.489236444234848,-2.29069784283638 l-2.6945197582244873,-0.9366118907928467 -1.408545821905136,0.03422376001253724 l-1.620948165655136,0.5332188308238983 -1.3644792139530182,0.8076954632997513 l-1.2329424917697906,1.2028896808624268 -1.0202326625585556,1.5500946342945099 l-0.7009105384349823,1.8167336285114288 -0.3408265486359596,1.98496475815773 l0.0851351860910654,2.0128245651721954 0.5045764520764351,1.9370916485786438 l0.9053713083267212,1.7661981284618378 1.2375155836343765,1.4526000618934631 l1.4781826734542847,1.0659146308898926 1.6662217676639557,0.6768648326396942 l1.7087741196155548,0.25294290855526924 1.6539038717746735,-0.17548056319355965 l1.5003183484077454,-0.6024670228362083 1.3005805015563965,-0.9926503151655197 l1.0223805159330368,-1.3078251481056213 0.8490675687789917,-2.1870623528957367 l0.3052176907658577,-2.0411330461502075 -0.05973882973194122,-1.826094537973404 l-0.45706983655691147,-1.8737559020519257 -0.6264616549015045,-1.454119235277176 l-0.8617496490478516,-1.2340620905160904 -0.8679850399494171,-0.8333664387464523 l-0.87062768638134,-0.5331971496343613 -1.0974641144275665,-0.2054276131093502 l-1.0972780734300613,0.1488074939697981 -1.2591323256492615,0.8159683644771576 l-1.2219630926847458,1.727919727563858 -0.7984462380409241,2.3631897568702698 l-0.2615444175899029,2.431548237800598 0.2737049013376236,2.446138858795166 l0.4694768786430359,1.5903206169605255 0.8083445578813553,1.4058461785316467 l1.1197937279939651,1.1536666750907898 1.3838577270507812,0.8147887885570526 l1.5462017059326172,0.44224344193935394 1.5638518333435059,0.024988336954265833 l1.484534591436386,-0.3909042105078697 1.6465194523334503,-1.1745522171258926 l1.2523993849754333,-1.5604488551616669 0.8476589620113373,-1.8095719814300537 l0.4586179554462433,-1.9279572367668152 0.09287756867706776,-1.9319036602973938 l-0.22304872050881386,-1.8473000824451447 -0.5218521878123283,-1.6632470488548279 l-0.7536587864160538,-1.4382374286651611 -0.9069372713565826,-1.1319230496883392 l-1.0521211475133896,-0.828736424446106 -1.1398576200008392,-0.5016205459833145 l-1.2106187641620636,-0.18150905147194862 -1.2227646261453629,0.1868494227528572 l-1.4926259219646454,0.8880239725112915 -1.344074010848999,1.398194432258606 l-0.7936634868383408,1.3916188478469849 -0.4443417116999626,1.5857015550136566 l-0.045230938121676445,1.6886112093925476 0.37140313535928726,1.7451293766498566 l0.7678554207086563,1.6569596529006958 1.107477992773056,1.5007829666137695 l1.3538563251495361,1.1785730719566345 1.4892305433750153,0.7320785522460938 l1.5323741734027863,0.28966937214136124 1.4683976769447327,-0.17841733992099762 l1.3171225786209106,-0.6228012219071388 1.0369817912578583,-1.0034028440713882 l0.7220190763473511,-1.2828493118286133 0.3579173609614372,-1.4965185523033142 l-0.018060174770653248,-1.5826702117919922 -0.39896663278341293,-1.5203939378261566 l-0.698377937078476,-1.3178461790084839 -1.3172999024391174,-1.3322319090366364 l-1.449638307094574,-0.8731487393379211 -1.5633240342140198,-0.4779620096087456 l-1.5514202415943146,-0.06581297144293785 -1.6626083850860596,0.4255260154604912 l-1.6131685674190521,1.0089828073978424 -1.362144649028778,1.5423275530338287 l-0.9010663628578186,1.9315619766712189 -0.3521006181836128,2.0652952790260315 l0.19432203844189644,2.0393480360507965 0.8259139955043793,2.106006294488907 l1.363319605588913,1.8116337060928345 1.6377545893192291,1.381758451461792 l1.807037889957428,0.9070135653018951 2.067030221223831,0.38723014295101166 l1.9103983044624329,-0.14597540721297264 1.6363634169101715,-0.6507221609354019 l1.3499394059181213,-1.0858553647994995 0.9608722478151321,-1.3936549425125122 l0.5232306569814682,-1.5696044266223907 0.10266968980431557,-1.67452871799469 l-0.30648063868284225,-1.6881278157234192 -0.701611265540123,-1.5546081960201263 l-1.416802853345871,-1.738317459821701 -1.6398578882217407,-1.306035965681076 l-2.2203710675239563,-1.0840161889791489 -2.0873403549194336,-0.5849890783429146 l-2.478887140750885,-0.213785320520401 -2.1887707710266113,0.3065897338092327 l-1.2884685397148132,0.4985642805695534 -1.9411827623844147,1.46922767162323 m-1.695421040058136,14.350823163986206 l-1.0715685039758682,0.33408481627702713 -1.0878843069076538,0.8384287357330322 l-1.7183032631874084,2.173723727464676 -1.6819795966148376,3.280290365219116 l-1.6474343836307526,6.041538119316101 -0.4655356705188751,4.746384024620056 l0.3003823757171631,7.312642931938171 0.8297945559024811,4.595994651317596 m24.291858673095703,-29.800865650177002 l2.082231342792511,2.8008943796157837 1.9750377535820007,4.158790409564972 l1.1954598873853683,4.623851180076599 0.49059096723794937,5.104962587356567 l-0.12340469285845757,5.462968349456787 -1.0613519698381424,7.239132523536682 m73.63243285100907,-38.63272778340615 l-1.9987565279006958,-9.447154998779297 -2.584768831729889,-2.196947932243347 l-2.718157470226288,-0.8389705419540405 -1.9794459640979767,0.03134612226858735 l-2.0584039390087128,0.5884063988924026 -1.4659914374351501,0.8194936811923981 l-1.318221390247345,1.1936677247285843 -1.063627079129219,1.5426269173622131 l-0.7417033612728119,1.8554326891899109 -0.34682024270296097,2.0502659678459167 l0.08061152882874012,2.114233523607254 0.5017891526222229,2.0145706832408905 l0.8848769962787628,1.843261569738388 1.2170341610908508,1.5732082724571228 l1.4872072637081146,1.2315848469734192 1.686210185289383,0.8782652020454407 l1.843932867050171,0.5029862374067307 1.8591363728046417,0.09512168355286121 l1.796373575925827,-0.31229184940457344 1.7049777507781982,-0.6981638818979263 l1.531812697649002,-1.0509490221738815 1.2489575892686844,-1.3314062356948853 l0.9210440516471863,-1.5479695796966553 0.517767108976841,-1.6400663554668427 l0.1355274859815836,-1.6408081352710724 -0.23450307548046112,-1.5537302196025848 l-0.5308352410793304,-1.3996891677379608 -1.0986046493053436,-1.469409316778183 l-1.2369344383478165,-1.0538709163665771 -1.6625797748565674,-0.7230513542890549 l-1.6210708022117615,-0.3049078397452831 -1.5408095717430115,0.08000117726624012 l-1.5573754906654358,0.6761319935321808 -1.312447339296341,1.3192065060138702 l-0.6989163160324097,1.2484776973724365 -0.3346097469329834,1.3999387621879578 l0.0621390575543046,1.7244744300842285 0.3618050739169121,1.397201269865036 l0.7288403064012527,1.3248275220394135 1.0685844719409943,1.123126596212387 l1.3072006404399872,0.8009299635887146 1.4534397423267365,0.3977532312273979 l1.458846926689148,-0.052243354730308056 1.3050101697444916,-0.5221062153577805 l1.0243324935436249,-0.9088344126939774 0.6707657873630524,-1.2125876545906067 l0.27310263365507126,-1.394074261188507 -0.32540738582611084,-1.9053412973880768 l-0.788973867893219,-1.6809850931167603 -1.0492654889822006,-1.278761625289917 l-1.1954809725284576,-0.8412190526723862 -1.2957899272441864,-0.4223065450787544 l-1.5539106726646423,0.05051201209425926 -1.544339805841446,0.6505441665649414 l-0.9282270073890686,0.8349341154098511 -0.744432732462883,1.362701654434204 l-0.3135603666305542,1.7787203192710876 0.25783196091651917,1.7958168685436249 l0.8184254914522171,1.6858687996864319 1.36272132396698,1.3766282796859741 l1.6492106020450592,0.8737794309854507 1.7413926124572754,0.2931959740817547 l1.8269261717796326,-0.457051657140255 1.5117539465427399,-1.0005445033311844 l1.1150217801332474,-1.3439376652240753 0.6403886526823044,-1.5345065295696259 l0.15600208193063736,-1.5754550695419312 -0.3184149041771889,-1.521732658147812 l-0.7503998279571533,-1.3425780832767487 -1.1372751742601395,-1.0600098967552185 l-1.3882942497730255,-0.6773316115140915 -1.5530027449131012,-0.2588731423020363 l-2.0181509852409363,0.23083698004484177 -1.8957000970840454,0.6927403062582016 l-1.6415171325206757,1.059824526309967 -1.2854424118995667,1.326928436756134 l-0.8813005685806274,1.5235821902751923 -0.4349968582391739,1.644735336303711 l0.033966400660574436,1.6721302270889282 0.6040750071406364,1.8113888800144196 l1.23020701110363,1.6564373672008514 1.6301509737968445,1.2810300290584564 l1.8315252661705017,0.7974710315465927 1.9289278984069824,0.32329011708498 l1.8614622950553894,-0.14359924010932446 1.703430861234665,-0.6045316904783249 l1.434825360774994,-0.9892362356185913 1.0461390763521194,-1.2860526144504547 l0.6110108643770218,-1.465819627046585 0.18322288990020752,-1.5424640476703644 l-0.24364663287997246,-1.5059810876846313 -0.6385218352079391,-1.3884904980659485 l-0.9848296642303467,-1.1845100671052933 -1.2799283862113953,-0.926370769739151 l-1.9248847663402557,-0.7362397760152817 -2.3275862634181976,-0.316164530813694 l-2.305273413658142,0.219755619764328 m-6.8559640645980835,12.592644691467285 l-1.1170317232608795,0.17806380987167358 -1.1971095204353333,0.6493645906448364 l-1.9352975487709045,1.837024986743927 -1.2418749183416367,1.7053234577178955 l-1.1087629944086075,2.119220197200775 -1.522386223077774,4.827791452407837 l-0.6468493491411209,4.662763476371765 0.08669883944094181,6.928868889808655 l0.6847284734249115,4.97801810503006 1.0640223324298859,3.972424864768982 m24.44416046142578,-31.54184103012085 l1.92067950963974,2.5640609860420227 1.3145510852336884,2.503429353237152 l1.3229191303253174,4.055010974407196 0.7351890206336975,5.030114650726318 l0.07323121652007103,5.412459969520569 -0.8904998749494553,8.24859082698822 l-0.30199507251381874,5.442521572113037 m67.76580850128084,-41.520813218085095 l-2.2520925104618073,-8.500799536705017 -2.5573790073394775,-2.0899760723114014 l-2.819342017173767,-0.8266569674015045 -1.9150526821613312,0.07662388496100903 l-2.029147297143936,0.6189955025911331 -1.478416919708252,0.8550793677568436 l-1.3051077723503113,1.2451324611902237 -1.0480546951293945,1.6066569089889526 l-0.7239235192537308,1.915285736322403 -0.3285267949104309,2.0780089497566223 l0.10198508389294147,2.13873028755188 0.5024641379714012,2.030293643474579 l0.8851683139801025,1.8878364562988281 1.2014779448509216,1.5778574347496033 l1.4772333204746246,1.2416742742061615 1.731998324394226,0.8817480504512787 l1.8654327094554901,0.5114341899752617 1.9293791055679321,0.13817294500768185 l1.8827775120735168,-0.25090644136071205 1.786893606185913,-0.6306357681751251 l1.6275447607040405,-0.9712699800729752 1.422237902879715,-1.2844948470592499 l1.0921424627304077,-1.5256404876708984 0.7036339491605759,-1.659126877784729 l0.305061973631382,-1.6841000318527222 -0.09765279479324818,-1.5987370908260345 l-0.4590960592031479,-1.480400711297989 -0.7519505172967911,-1.3414713740348816 l-0.9661033004522324,-1.0927611589431763 -1.1088943481445312,-0.801396369934082 l-1.1854063719511032,-0.5128572136163712 -1.2544922530651093,-0.21801086142659187 l-1.6081452369689941,0.2082272432744503 -1.6341561079025269,0.8189379423856735 l-1.4802612364292145,1.3942743837833405 m-3.256481885910034,3.13903272151947 l-0.3808005154132843,0.398055799305439 0.08139797486364841,1.2354201078414917 l1.1369432508945465,0.606171041727066 0.7377976924180984,-1.1061300337314606 l-0.11740860529243946,-1.1875905096530914 -1.087004765868187,-0.6799004971981049 l-0.7684819400310516,0.4991719499230385 m9.84919011592865,0.186129380017519 l-0.8918111771345139,0.8250167220830917 -0.09893551468849182,1.1847170442342758 l1.1638981848955154,0.5623915046453476 0.7243538647890091,-1.1755800247192383 l-0.23533165454864502,-1.2091343849897385 -0.9090889990329742,-0.3422836586833 m-5.493091940879822,7.7455466985702515 l0.824759379029274,2.578158676624298 1.0513684153556824,0.6875955313444138 l0.9683877229690552,-1.146262064576149 0.990276038646698,-2.216903865337372 m-9.665184020996094,-5.88934600353241 l-0.6474664062261581,0.6661369651556015 -0.4243301600217819,1.053660660982132 l-0.4180658608675003,2.0242470502853394 -0.09738912805914879,2.6984551548957825 l0.3556577116250992,3.0465134978294373 0.9479593485593796,3.358631730079651 l1.5185627341270447,3.536229133605957 1.9690893590450287,3.1416553258895874 l2.149193584918976,2.548087239265442 2.5946030020713806,2.1878553926944733 l1.9920852780342102,1.1050505191087723 2.0166662335395813,0.661296546459198 l1.9552919268608093,0.20197691395878792 1.8454696238040924,-0.22345025092363358 l1.6285578906536102,-0.6599730998277664 1.3851049542427063,-1.0964285582304 l1.0799188911914825,-1.4991909265518188 0.7944901287555695,-1.9697083532810211 l0.4907798022031784,-2.3774929344654083 0.17447136342525482,-2.67364501953125 l-0.14395345002412796,-2.811840772628784 -0.4459334909915924,-2.778603434562683 l-0.71750707924366,-2.6261934638023376 -2.0531006157398224,-4.811022579669952 l-0.9878522157669067,-1.5594121813774109 -1.5469498932361603,-1.6932734847068787 m-9.941149353981018,20.874757766723633 l-1.2495700269937515,1.5168069303035736 -0.8793718367815018,1.7312686145305634 l-1.0140929371118546,3.0167874693870544 -0.5049307644367218,3.2984283566474915 l0.13243605382740498,4.76117342710495 0.7519947737455368,3.1960350275039673 l1.2787231802940369,2.7479130029678345 0.787249356508255,0.9934260696172714 l0.930737778544426,0.5721444264054298 m15.359781980514526,-22.698471546173096 l1.9584077596664429,3.0948975682258606 1.06507308781147,2.5988417863845825 l0.7932902127504349,3.6010348796844482 0.13664999045431614,3.9105162024497986 l-0.5831558257341385,3.842054009437561 -1.7355754971504211,4.778468608856201 l-1.6038262844085693,2.4871274828910828 m72.88106516934931,-44.75369487248827 l-2.414228767156601,-7.31698215007782 -2.512587606906891,-1.9725754857063293 l-2.7532589435577393,-0.8038549870252609 -2.065703570842743,0.015197930624708533 l-2.1460193395614624,0.580206960439682 -1.9637668132781982,1.0903139412403107 l-1.6651976108551025,1.531682312488556 -1.28280371427536,1.8615011870861053 l-0.8636573702096939,2.126035839319229 -0.38266226649284363,2.269422709941864 l0.09893856942653656,2.2880135476589203 0.5370771884918213,2.1882759034633636 l0.9375032037496567,2.0264221727848053 1.2858816981315613,1.7797349393367767 l1.5787065029144287,1.4768832921981812 1.8437089025974274,1.1283311247825623 l2.0623306930065155,0.7437583059072495 2.2324489057064056,0.343841090798378 l2.2561247646808624,-0.031033889390528202 2.2252127528190613,-0.40309567004442215 l2.0954038202762604,-0.7772327959537506 1.8691444396972656,-1.1308280378580093 l1.5582607686519623,-1.4065857231616974 1.169472485780716,-1.628388911485672 l0.735870748758316,-1.7750361561775208 0.28863899409770966,-1.8491339683532715 l-0.1511077582836151,-1.901744306087494 -0.5458704754710197,-1.8188200891017914 l-0.8625560998916626,-1.6423752903938293 -1.1249973624944687,-1.3908687233924866 l-1.3003943860530853,-1.0953669250011444 -1.4274902641773224,-0.789065957069397 l-1.5259246528148651,-0.4759083688259125 -1.5800674259662628,-0.14872525818645954 l-2.024070918560028,0.3168444335460663 m-6.072009205818176,4.712037146091461 l-1.0363376140594482,0.16453688964247704 -0.9548276662826538,1.675240844488144 l-0.1934455893933773,1.9999279081821442 0.5276061221957207,1.6143855452537537 l1.1137428879737854,1.1033778637647629 1.3950689136981964,0.4873702675104141 l1.4586648344993591,-0.11997907422482967 1.260097622871399,-0.6535215675830841 l0.8959246426820755,-1.015932708978653 0.46550244092941284,-1.2362297624349594 l-0.01509134192019701,-1.328749805688858 -0.4577881842851639,-1.2889902293682098 l-0.8336254954338074,-1.118144765496254 -1.0884267091751099,-0.7538546621799469 l-1.4612112939357758,-0.32578475773334503 m10.155850648880005,0.14585211873054504 l-1.5631450712680817,0.8453764021396637 -0.915391817688942,1.0470986366271973 l-0.6786519289016724,1.5872663259506226 -0.25229260325431824,1.6950489580631256 l0.31331662088632584,1.4864183962345123 0.8790060132741928,1.1388131976127625 l1.2368269264698029,0.6228157132863998 1.3881400227546692,0.02516617765650153 l1.2964503467082977,-0.5399016663432121 1.0138171911239624,-0.9991250187158585 l0.5970288813114166,-1.3167430460453033 0.12849079445004463,-1.4756962656974792 l-0.3448012098670006,-1.4630624651908875 -0.7413394749164581,-1.2935353815555573 l-1.001717671751976,-0.9824838489294052 -1.1851660162210464,-0.617605447769165 m-13.121192455291748,12.086071968078613 l-1.1792945116758347,0.2834068797528744 -1.1170723289251328,0.7246197015047073 l-1.1434195935726166,1.2192771583795547 -1.5781891345977783,2.590760588645935 l-0.8494553714990616,2.114807963371277 -0.6612422317266464,2.428019195795059 l-0.6467726826667786,5.317257046699524 0.13020900078117847,4.554141163825989 l0.7494451105594635,4.564681649208069 1.312696486711502,4.370633661746979 l2.728298604488373,5.507673621177673 1.5713733434677124,2.0131616294384003 l1.7208322882652283,1.4770856499671936 1.16676427423954,0.6392909586429596 l1.235802173614502,0.20710565149784088 1.305907517671585,-0.32682962715625763 l1.3475729525089264,-0.8849278092384338 1.3552673161029816,-1.4573994278907776 l1.2416872382164001,-2.0262444019317627 1.0600384324789047,-2.600927948951721 l0.7572650164365768,-3.0088219046592712 0.4329332336783409,-3.2701534032821655 l0.20776987075805664,-6.921708583831787 -0.17597921192646027,-2.600220739841461 l-0.7258996367454529,-5.453693270683289 -0.23650864139199257,-3.8178709149360657 l0.2850683592259884,-1.9224774837493896 m2.8687387704849243,8.073937892913818 l1.9285328686237335,-0.3430762514472008 5.721643567085266,-0.05356098525226116 l1.9416220486164093,0.2892601862549782 1.7340035736560822,0.7062394917011261 l1.4336933195590973,1.1469915509223938 1.1210761219263077,1.599864810705185 l1.2565359473228455,3.8085800409317017 0.2357415296137333,3.785674273967743 l-0.49065060913562775,3.531707525253296 -1.0603908449411392,3.1400200724601746 l-1.4404340088367462,2.4715963006019592 -1.8580494821071625,1.9212229549884796 l-1.449982225894928,0.9461705386638641 -1.7171740531921387,0.5623627454042435 m72.19599138014019,-42.80997037363704 l-2.5112611055374146,-5.74848473072052 -2.5030773878097534,-1.712782233953476 l-2.418510615825653,-0.8250036090612411 -2.9970043897628784,-0.09344503283500671 l-1.8551267683506012,0.3607649728655815 -1.7060467600822449,0.7727839797735214 l-1.4523603022098541,1.197105273604393 -1.1504055559635162,1.5683510899543762 l-0.801524892449379,1.9033661484718323 -0.37438951432704926,2.1268893778324127 l0.1313992775976658,2.534996271133423 0.6222376599907875,2.459605783224106 l1.008373349905014,2.279536724090576 1.3627347350120544,1.9676174223423004 l1.6600348055362701,1.6027462482452393 1.8889398872852325,1.1943050473928452 l2.0518551766872406,0.7844790071249008 2.176138013601303,0.3867863118648529 l2.2284072637557983,-0.01576652517542243 2.1804025769233704,-0.427858866751194 l2.018420845270157,-0.7984229177236557 1.8151354789733887,-1.1379484087228775 l1.5259800851345062,-1.4393049478530884 1.1865030974149704,-1.6960564255714417 l0.7587305456399918,-1.8144549429416656 0.3405391052365303,-1.88076451420784 l-0.07310152985155582,-1.8640594184398651 -0.48933234065771103,-1.7526285350322723 l-0.815158486366272,-1.5779338777065277 -1.115841343998909,-1.378183662891388 l-1.3479001820087433,-1.134508177638054 -1.4994017779827118,-0.8317027986049652 l-1.5583492815494537,-0.5048105493187904 -1.5993794798851013,-0.1839345134794712 l-1.941433995962143,0.26385266333818436 -2.127198427915573,0.8509845286607742 l-1.1684532463550568,0.8103316277265549 m-2.1967965364456177,4.516070783138275 l-0.8667429536581039,0.3653808683156967 -0.24301594123244286,1.306500881910324 l1.1416180431842804,0.754256546497345 0.9022429585456848,-0.9846962988376617 l0.0801913533359766,-1.2051886320114136 -1.0628103464841843,-0.7729271054267883 l-0.8545252680778503,0.4180998355150223 m10.726032257080078,0.17517803236842155 l-1.106831207871437,0.14360152184963226 -0.507592037320137,1.2505725026130676 l0.2800365909934044,1.1921720206737518 1.2788431346416473,0.3048819489777088 l0.68325474858284,-1.1496178060770035 -0.262503195554018,-1.2233947217464447 l-0.9229115396738052,-0.48408590257167816 m-12.919930219650269,5.120828747749329 l-1.4101794362068176,1.9728361070156097 -0.8899796009063721,1.8421055376529694 l-1.4230668544769287,4.585088491439819 -0.3916234150528908,2.6066365838050842 l-0.07755630183964968,3.8327640295028687 0.2983068488538265,3.8138628005981445 l0.8690746128559113,4.4877249002456665 1.4096596837043762,4.196944832801819 l1.8558385968208313,3.626621961593628 2.052701711654663,2.909371256828308 l2.206752449274063,2.2991347312927246 2.3831473290920258,1.6896790266036987 l2.540116012096405,0.9963391721248627 2.5863611698150635,0.29038745909929276 l2.477640062570572,-0.37055667489767075 2.314707338809967,-0.9305386990308762 l2.1036455035209656,-1.4334817230701447 1.8634030222892761,-1.9311299920082092 l1.5354850888252258,-2.4297577142715454 1.1424002796411514,-2.8930169343948364 l0.706668347120285,-3.2533055543899536 0.28976280242204666,-3.525162637233734 l-0.1008681207895279,-3.4440234303474426 -0.4674563556909561,-3.338504433631897 l-0.7507633417844772,-3.149033486843109 -0.9721890091896057,-2.815963625907898 l-1.835605800151825,-3.556172549724579 -2.2133511304855347,-2.888150215148926 m-18.498669862747192,1.3373880088329315 l-1.9512256979942322,2.102242261171341 -1.2902623414993286,2.05253005027771 l-1.2082203477621078,2.898896038532257 -0.9127774834632874,3.487512469291687 l-0.5298600345849991,3.706393539905548 -0.15364873223006725,6.2612515687942505 l0.48935171216726303,4.176760911941528 1.0117319226264954,3.7198609113693237 l1.357656717300415,2.912994921207428 0.8906857669353485,1.1582164466381073 l0.9865084290504456,0.6364575028419495 1.077500358223915,0.022343106102198362 l1.10767662525177,-0.7103471457958221 1.1011585593223572,-1.4752592146396637 l0.9879355877637863,-2.20402792096138 0.712168887257576,-2.7449920773506165 l0.5286920443177223,-4.432906806468964 0.1157178170979023,-8.061788082122803 l-0.20774751901626587,-2.3560327291488647 -0.778515562415123,-4.308421015739441 m14.951272010803223,-1.1725714802742004 l0.9129508584737778,3.01859587430954 1.6985656321048737,5.108447074890137 l2.8634044528007507,8.07386577129364 1.7292505502700806,4.191251993179321 l1.4201584458351135,2.495090365409851 1.288222223520279,1.4609940350055695 l1.1682570725679398,0.5887848511338234 0.9799841046333313,-0.26040002703666687 l0.709422379732132,-1.1905400454998016 0.31817175447940826,-2.15038999915123 l-0.18720049411058426,-2.9235872626304626 -0.689815953373909,-3.1909501552581787 l-1.0757772624492645,-3.1989923119544983 -3.001384437084198,-6.33027195930481 l-4.153210520744324,-6.419004797935486 -4.0485480427742,-4.090704321861267 m77.61548328446224,-15.088588865764905 l-2.527102530002594,-4.181544482707977 -2.3057518899440765,-1.3796457648277283 l-2.5530651211738586,-0.7691214978694916 -2.4679017066955566,-0.12240486219525337 l-1.7070600390434265,0.2520480938255787 -1.571110337972641,0.6312917172908783 l-1.367093175649643,1.0561930388212204 -1.0950537025928497,1.496318131685257 l-0.7522659748792648,1.8607281148433685 -0.32492902129888535,2.097897380590439 l0.1605345495045185,2.648974061012268 0.7867079973220825,2.8671520948410034 l1.4017769694328308,2.7344220876693726 1.681963950395584,2.1958862245082855 l1.8786908686161041,1.7250791192054749 2.0635531842708588,1.2842141091823578 l2.169218212366104,0.8362652361392975 2.231581211090088,0.4124583676457405 l2.2078263759613037,-0.005561948637478054 2.1257102489471436,-0.42966388165950775 l1.9746743142604828,-0.7986083626747131 1.7545761168003082,-1.1317672580480576 l1.5178628265857697,-1.4572104811668396 1.2071625888347626,-1.7480716109275818 l0.7624458521604538,-1.9153985381126404 0.32425902783870697,-2.043592184782028 l-0.11923393234610558,-2.008063495159149 -0.5074264854192734,-1.9188420474529266 l-0.8696866780519485,-1.7886127531528473 -1.1565141379833221,-1.5379242599010468 l-1.3794353604316711,-1.2585841119289398 -1.5868273377418518,-0.9549479186534882 l-1.6739827394485474,-0.6124464422464371 -1.7778055369853973,-0.26496732607483864 l-1.78895503282547,0.10334878228604794 -1.702222228050232,0.4575107619166374 m-4.818025827407837,5.2118343114852905 l-1.0543780773878098,0.1826622150838375 -0.934469923377037,0.661589503288269 l-0.7378321141004562,1.2629134953022003 -0.22662153467535973,1.5997883677482605 l0.41528716683387756,1.5646030008792877 0.7152371853590012,1.13263338804245 l1.0303562879562378,0.8058412373065948 1.2160912156105042,0.32431796193122864 l1.2197627872228622,-0.2147042565047741 1.0708846151828766,-0.7212109863758087 l0.7394074648618698,-1.111379861831665 0.33221039921045303,-1.330098807811737 l-0.12910963967442513,-1.4109782874584198 -0.558350533246994,-1.2931157648563385 l-0.8484137803316116,-0.9999873489141464 -1.3858434557914734,-0.739397257566452 l-1.4394612610340118,-0.2282746322453022 m11.708487272262573,0.39469607174396515 l-1.67522132396698,0.6268036365509033 -1.0459767282009125,0.8667168021202087 l-0.8979489654302597,1.4803743362426758 -0.22370094433426857,1.5974028408527374 l0.39207495748996735,1.5387405455112457 0.9953689575195312,1.2101652473211288 l1.3717785477638245,0.696796327829361 1.5173566341400146,0.08110593073070049 l1.4471329748630524,-0.5077789723873138 1.1398274451494217,-1.0078611969947815 l0.6577160209417343,-1.3710694015026093 0.12380828149616718,-1.5430600941181183 l-0.3560296446084976,-1.5495917201042175 -0.7722267508506775,-1.399756669998169 l-1.019328460097313,-1.0555940866470337 -1.2110497057437897,-0.6732631474733353 l-1.5126635134220123,-0.25556232780218124 m-10.792100429534912,13.514167070388794 l-1.2036507576704025,0.3124554455280304 -1.2145551294088364,0.8103901147842407 l-1.9494353234767914,2.1964479982852936 -1.8758213520050049,3.3784425258636475 l-1.1925836652517319,3.843998610973358 -0.5862447991967201,4.359313249588013 l0.04782026167958975,4.63739812374115 0.6621529906988144,4.571645557880402 l1.3227955996990204,4.588169157505035 1.756281554698944,3.6227527260780334 l2.0196565985679626,2.8424760699272156 2.3245465755462646,2.293759137392044 l2.5712957978248596,1.6165274381637573 2.7385997772216797,0.8814810961484909 l2.8121188282966614,0.17216315492987633 2.8004297614097595,-0.5172006413340569 l2.645009756088257,-1.0887328535318375 2.445209324359894,-1.6115456819534302 l2.134934961795807,-2.1082554757595062 1.7789436876773834,-2.6039662957191467 l1.3578233122825623,-3.0826807022094727 0.8928206562995911,-3.4731048345565796 l0.42487192898988724,-3.665913939476013 -0.015359977260231972,-3.6505040526390076 l-0.4364257678389549,-3.497958183288574 -1.9091926515102386,-6.819152235984802 l-1.4982230961322784,-3.439241647720337 -2.1456022560596466,-3.148645758628845 m76.36897150601726,1.8084956970415078 l-2.494884878396988,-2.786906659603119 -2.1399572491645813,-0.9306054562330246 l-2.5342607498168945,-0.5365689471364021 -2.8521940112113953,0.06717234384268522 l-1.6959969699382782,0.4201715439558029 -1.462157517671585,0.8146992325782776 l-1.5290138125419617,1.647971123456955 -0.7197673618793488,1.5413814783096313 l-0.5217094719409943,3.432815968990326 0.3916221112012863,2.8489097952842712 l0.6368064880371094,1.8612898886203766 0.9329874068498611,1.6957958042621613 l1.2250599265098572,1.4359739422798157 1.4657926559448242,1.1702317744493484 l1.6796815395355225,0.8836328238248825 1.8358631432056427,0.5810119956731796 l1.9533008337020874,0.2517949976027012 2.004864066839218,-0.0873303972184658 l3.8092797994613647,-0.9481393545866013 1.6558268666267395,-0.6860174238681793 l1.4924600720405579,-0.9236466139554977 2.6158124208450317,-2.6365944743156433 l0.8461472392082214,-1.3846631348133087 0.5373359844088554,-1.4731505513191223 l0.18370328471064568,-1.482737958431244 -0.17665943130850792,-1.509210467338562 l-0.547604002058506,-1.4688697457313538 -0.9015384316444397,-1.367882490158081 l-1.212269440293312,-1.191452145576477 -1.4623914659023285,-0.9291155636310577 l-2.305964380502701,-0.7608074694871902 -2.2294169664382935,-0.28337037190794945 l-2.3695941269397736,0.2598755247890949 -2.279495894908905,0.8059068769216537 m-5.441761612892151,5.606142282485962 l-0.80160953104496,-0.6820790469646454 -0.5406911671161652,-1.1760982125997543 l-0.39954736828804016,-3.016234040260315 0.20638629794120789,-2.4579674005508423 l0.5765609070658684,-1.912442296743393 0.843581035733223,-1.5736883878707886 l1.0472775250673294,-1.1570428311824799 1.2666043639183044,-0.8112122118473053 l1.4060573279857635,-0.4436004161834717 1.492307335138321,-0.08076632395386696 l1.5020492672920227,0.30173828825354576 1.4384827017784119,0.6711070984601974 l1.3083413243293762,0.9776899218559265 1.984037607908249,2.2522522509098053 l0.9175941348075867,1.6217279434204102 0.659901350736618,1.8957342207431793 l0.3147853910923004,2.1502724289894104 -0.14427722431719303,2.1137695014476776 l-0.4426892101764679,1.563711017370224 -0.8002196252346039,1.361096352338791 l-1.2898167967796326,1.0816625505685806 -1.85201957821846,0.6124802306294441 l-2.368006557226181,-0.04968232475221157 -2.364795506000519,-0.8693425357341766 l-1.8233540654182434,-1.1901146918535233 -1.3649949431419373,-1.333061307668686 l-0.9046094119548798,-1.3738034665584564 -0.5132294818758965,-1.4137201011180878 l-0.13815093785524368,-1.9954830408096313 0.4709484428167343,-2.5074371695518494 l0.9498031437397003,-2.088654190301895 1.607603132724762,-2.1102608740329742 l1.7897024750709534,-1.5099036693572998 1.9743940234184265,-0.9985562413930893 l2.0847032964229584,-0.5044713243842125 2.0765726268291473,-0.02708429004997015 l2.014761120080948,0.4104267433285713 1.888323426246643,0.784570500254631 l1.7326240241527557,1.125672310590744 1.5405388176441193,1.4251938462257385 l1.2978513538837433,1.6770350933074951 1.1410903930664062,2.502296268939972 l0.6394526362419128,3.0123239755630493 0.13007929548621178,3.2812249660491943 l-0.4299594461917877,3.569038510322571 -0.9393753111362457,3.3541610836982727 l-1.3953784108161926,3.252231180667877 -1.7739096283912659,2.8742024302482605 l-2.2265829145908356,2.486259937286377 -1.7918261885643005,1.3805845379829407 l-2.7085062861442566,1.1216457933187485 -3.3774998784065247,0.539698526263237 l-3.3260735869407654,-0.2927640825510025 -3.075454831123352,-1.1583853513002396 l-2.329159379005432,-1.3707605004310608 -1.8588171899318695,-1.5027981996536255 l-1.437828689813614,-1.5495909750461578 -1.1744969338178635,-1.627075970172882 l-0.9348054230213165,-1.7073847353458405 -0.6963388621807098,-1.7667998373508453 l-0.4888419061899185,-1.8780149519443512 -0.24986322969198227,-1.9211427867412567 l0.015959200682118535,-1.9828791916370392 0.6656988710165024,-4.059538245201111 l0.590522512793541,-1.7131344974040985 1.2195545434951782,-2.199569195508957 l1.4929217100143433,-1.8419274687767029 1.7948949337005615,-1.5877185761928558 l2.7179214358329773,-1.64617121219635 2.7872127294540405,-1.1202733218669891 l2.7349334955215454,-0.6599266827106476 2.633105218410492,-0.2247854322195053 l2.5248983502388,0.20932644605636597 2.339426726102829,0.6106676161289215 l2.1112391352653503,0.9526079893112183 1.920057088136673,1.30157008767128 l1.6693077981472015,1.601673662662506 1.4203880727291107,1.8683606386184692 l1.337200105190277,2.8217345476150513 0.8246117830276489,3.4382423758506775 l0.3417520225048065,4.131852686405182 -0.2802610397338867,6.835578083992004 l-0.35419028252363205,6.662874221801758 -0.19006308168172836,6.395776271820068 m64.62368608743418,-48.12892832327634 l-2.425616979598999,-1.7365936934947968 -1.937410682439804,-0.5647661536931992 l-2.403586357831955,-0.3480970859527588 -2.7285993099212646,0.15616769902408123 l-1.6387206315994263,0.4772341623902321 -1.8079321086406708,1.1637521535158157 l-1.4214350283145905,1.9024406373500824 -0.7134297490119934,2.4502700567245483 l0.0422979611903429,2.81404972076416 0.7635408639907837,2.8475183248519897 l1.3825350999832153,2.756677269935608 1.7889593541622162,2.239244133234024 l1.5866601467132568,1.3039463758468628 1.7887848615646362,0.9564425051212311 l1.945783644914627,0.6253109127283096 4.078573286533356,0.3992553800344467 l1.7044757306575775,-0.1543873082846403 1.700650155544281,-0.4368722066283226 l1.6448917984962463,-0.7144255936145782 2.336297780275345,-1.618461012840271 l1.852751225233078,-1.8933586776256561 1.3726875185966492,-2.0634111762046814 l0.8359303325414658,-2.0694632828235626 0.34874070435762405,-2.04437792301178 l-0.1154249720275402,-1.946631371974945 -0.5693160742521286,-1.791696548461914 l-0.9721763432025909,-1.613023579120636 -1.344991773366928,-1.3925012946128845 l-1.649789959192276,-1.0688693821430206 -1.829819679260254,-0.6900641322135925 l-2.562987208366394,-0.33541150391101837 -2.721535563468933,0.3136282414197922 l-2.616649866104126,0.911247506737709 -2.104077935218811,1.2282294780015945 m-3.291980028152466,7.971470952033997 l-0.8802282810211182,0.5266593024134636 -1.0422243922948837,1.4360222220420837 l-0.6621755659580231,1.4863324165344238 -0.43027691543102264,2.080361992120743 l-0.0031245662830770016,2.4978716671466827 0.5649067088961601,2.824713885784149 l1.2771184742450714,2.9830315709114075 1.9319325685501099,2.8195133805274963 l2.259368747472763,2.3230594396591187 2.5010576844215393,1.8726593255996704 l2.658372223377228,1.3834413886070251 2.6382696628570557,0.8269432932138443 l2.6094603538513184,0.3661990910768509 2.484281063079834,-0.08637688122689724 l2.251201421022415,-0.5460735782980919 2.005734443664551,-0.9529832750558853 l1.7618241906166077,-1.360606700181961 1.429452896118164,-1.7377319931983948 l1.075611263513565,-2.1136656403541565 0.6573908030986786,-2.4206775426864624 l0.2245861105620861,-2.6383960247039795 -0.2153729647397995,-2.6602303981781006 l-0.648074671626091,-2.569401264190674 -1.0024403780698776,-2.353898584842682 l-1.3410072028636932,-2.122078239917755 -1.5759776532649994,-1.7593300342559814 l-1.7718513309955597,-1.3850381970405579 -1.9093093276023865,-1.012796089053154 l-2.7297216653823853,-0.8385426551103592 -3.2971179485321045,-0.3656589612364769 l-3.474772870540619,0.19210077822208405 -3.301333487033844,0.7739734649658203 l-1.765773594379425,0.7212614268064499 m1.9737906754016876,22.57286310195923 l-1.3135744631290436,0.5179718509316444 -1.3067154586315155,1.0665739327669144 l-1.295783817768097,1.5772993862628937 -1.7631708085536957,3.136758506298065 l-1.41034796833992,3.6527106165885925 -0.8748935908079147,4.208590388298035 l-0.18359065055847168,6.099992990493774 0.685439258813858,4.062060117721558 l1.3271591067314148,3.672454059123993 1.2625670433044434,2.1808280050754547 l1.6109161078929901,1.7756643891334534 1.9478152692317963,1.2952615320682526 l2.3357796669006348,0.8166158944368362 2.6547345519065857,0.33097345381975174 l2.8893980383872986,-0.17588645219802856 2.981901466846466,-0.6670113652944565 l2.9177001118659973,-1.1078479140996933 2.6427575945854187,-1.523885726928711 l2.285369485616684,-1.8929603695869446 1.8923306465148926,-2.3037317395210266 l1.4155907928943634,-2.6988258957862854 0.8648311346769333,-2.947271466255188 l0.3374473378062248,-3.1306421756744385 -0.12985157780349255,-3.1868866086006165 l-0.5818647518754005,-3.109026551246643 -0.9629563987255096,-2.8898772597312927 l-1.9657671451568604,-3.73357892036438 -2.518656551837921,-3.2557040452957153 m-18.548290729522705,-0.18814634531736374 l-1.7352360486984253,2.6106736063957214 -1.1488329619169235,2.533857822418213 l-1.677633374929428,5.952950119972229 -0.7220173627138138,6.841955780982971 l0.3806298226118088,3.9202913641929626 1.029878854751587,3.0103138089179993 l1.5115928649902344,2.174534499645233 1.0374002158641815,0.8110782504081726 m87.20136704738252,-52.877201391384006 l-2.3144076764583588,-0.9608133882284164 -1.6758307814598083,-0.2506818622350693 l-1.5463769435882568,-0.004254402592778206 -2.288692146539688,0.5247759073972702 l-2.167493999004364,1.3254055380821228 -1.038273572921753,1.192333772778511 l-1.034524217247963,2.7805134654045105 -0.032074982300400734,2.726142704486847 l0.7430292665958405,2.767346501350403 1.4117640256881714,2.697727084159851 l1.869647204875946,2.1869973838329315 2.3424245417118073,1.6759951412677765 l1.3581214845180511,0.5442304164171219 2.3273584246635437,0.3733653947710991 l4.282961487770081,-0.36296170204877853 1.6695058345794678,-0.46538833528757095 l2.3880068957805634,-1.2279672920703888 3.4535032510757446,-2.963714599609375 l1.0491018742322922,-1.435575932264328 1.0572494566440582,-2.400461882352829 l0.3645915910601616,-2.187265455722809 -0.17455792054533958,-1.9644303619861603 l-0.626717284321785,-1.7506228387355804 -1.0437285900115967,-1.5413857996463776 l-1.4526142179965973,-1.2673386931419373 -1.7742635309696198,-0.9242726117372513 l-2.0245158672332764,-0.5005321279168129 -2.7736037969589233,-0.020197746343910694 l-2.7145320177078247,0.641067773103714 -2.427372634410858,1.1035208404064178 m-5.847131609916687,9.686967134475708 l-1.1901535093784332,1.034768894314766 -0.8785180747509003,1.2952272593975067 l-1.2124793231487274,2.635642886161804 -0.8794636279344559,3.3588334918022156 l-0.379813052713871,3.879612386226654 0.15163357369601727,4.338147938251495 l0.7895092666149139,4.662982523441315 1.403694897890091,4.573994874954224 l2.0404930412769318,4.483595192432404 2.4914520978927612,3.824048638343811 l1.8129104375839233,2.017076760530472 2.0717254281044006,1.6606548428535461 l2.240506559610367,1.2102189660072327 2.419431507587433,0.7224161922931671 l2.483035773038864,0.20100828260183334 2.439236640930176,-0.2995132654905319 l2.3616108298301697,-0.7810261100530624 2.2355619072914124,-1.2151067703962326 l2.0968255400657654,-1.683344691991806 1.8221141397953033,-2.0738691091537476 l1.5343956649303436,-2.491612583398819 1.1770917475223541,-2.8189584612846375 l0.7578568905591965,-3.056642711162567 0.3615085408091545,-3.2177823781967163 l-0.02628105692565441,-3.234771192073822 -0.4302314296364784,-3.1703323125839233 l-0.799172967672348,-3.010528087615967 -1.770147979259491,-4.15793389081955 l-2.387726753950119,-3.8402941823005676 -2.099895477294922,-2.5457459688186646 l-1.9360950589179993,-1.776898056268692 -1.8474043905735016,-1.234225183725357 m-15.64646601676941,4.845819175243378 l-1.251104325056076,2.034732848405838 -0.7976074516773224,2.2357553243637085 l-1.290535181760788,6.173476576805115 -0.42873695492744446,5.540683269500732 l0.3712964430451393,7.445663213729858 0.883520320057869,4.394071996212006 l1.3169164955615997,3.5365664958953857 1.6339778900146484,2.8700312972068787 l1.9736875593662262,2.246894985437393 2.3178738355636597,1.5838928520679474 l1.321285218000412,0.49179498106241226 1.3742445409297943,0.12149173766374588 l1.3953077793121338,-0.352645143866539 1.410650908946991,-0.8867278695106506 l1.3721171021461487,-1.425035148859024 1.2866638600826263,-2.0034410059452057 l1.1147304624319077,-2.5440630316734314 0.8263146132230759,-2.944072186946869 l0.5027594044804573,-3.219209909439087 0.14722071588039398,-3.3908361196517944 l-0.35225775092840195,-4.668126404285431 -0.9898488223552704,-4.992668926715851 l-1.3597625494003296,-4.324563443660736 -1.5231770277023315,-3.1801092624664307 m-9.52706515789032,-10.211468935012817 l-0.2897450514137745,0.9683344513177872 0.6078989058732986,2.0212149620056152 l1.1665861308574677,0.5677170678973198 0.8610255271196365,-1.0546061396598816 l0.43059807270765305,-1.1549019068479538 m6.375944018363953,-1.8206998705863953 l-0.1353901531547308,0.8146779984235764 m75.80762841273099,-9.77475615189178 l-2.165834605693817,-0.30268315225839615 -1.3854658603668213,0.1078004390001297 l-1.6503369808197021,0.3048073314130306 -2.1127688884735107,1.0033314675092697 l-1.783505380153656,1.730675995349884 -1.09573632478714,2.324204742908478 l-0.25721535086631775,2.5687751173973083 0.8585277199745178,3.8603475689888 l1.5008021891117096,2.8406140208244324 1.9032137095928192,2.16688334941864 l2.313462048768997,1.447712928056717 2.804228961467743,0.7095377892255783 l1.4751854538917542,0.034191510640084743 2.4161411821842194,-0.5567730963230133 l2.726958990097046,-1.3464471697807312 2.6645347476005554,-2.052406072616577 l1.1107084900140762,-1.286463737487793 1.7551542818546295,-3.3578282594680786 l0.461554117500782,-1.720455139875412 0.11743903160095215,-2.616453766822815 l-0.4411168396472931,-2.1853071451187134 -0.8264966309070587,-1.7966392636299133 l-1.1883215606212616,-1.4738954603672028 -1.4758676290512085,-1.053462103009224 l-2.5626498460769653,-0.7898043841123581 -2.888164520263672,-0.0032608865876682103 l-2.727488875389099,0.7773096114397049 -2.31016144156456,1.233035996556282 m-4.528246521949768,9.675042629241943 l-1.3526032865047455,1.2248636037111282 -0.9250704944133759,1.392860859632492 l-1.7397022247314453,4.00255411863327 -0.8986056596040726,3.8661888241767883 l-0.43768852949142456,6.350380182266235 0.3297998756170273,4.899652600288391 l0.9613930433988571,4.814275503158569 1.545732468366623,4.5364463329315186 l2.067244201898575,3.9111408591270447 2.4833646416664124,3.160884976387024 l1.8222104012966156,1.6656233370304108 2.0982666313648224,1.3097451627254486 l2.3637907207012177,0.8778438717126846 2.5196650624275208,0.3937089815735817 l2.5700676441192627,-0.11166278272867203 2.5589019060134888,-0.6143997609615326 l2.4980750679969788,-1.0929100215435028 2.3610107600688934,-1.5509963035583496 l2.1084490418434143,-1.9487354159355164 1.798134595155716,-2.3022371530532837 l1.4618636667728424,-2.6676902174949646 1.0976066440343857,-2.9432371258735657 l0.718299150466919,-3.1741559505462646 0.3137558698654175,-3.2107123732566833 l-0.05894625559449196,-3.187166452407837 -0.44883791357278824,-3.1190213561058044 l-1.344006508588791,-4.53410267829895 -2.0875009894371033,-4.570722281932831 l-2.555796802043915,-3.6698725819587708 -2.1748654544353485,-2.302175760269165 l-2.0538829267024994,-1.6153907775878906 -2.4851401150226593,-1.1527924984693527 l-2.9004016518592834,-0.5515769124031067 -3.0634871125221252,0.10301164351403713 l-3.0540242791175842,0.7618977874517441 -2.7789050340652466,1.3029725849628448 l-2.6070287823677063,1.8770067393779755 m-1.053595244884491,13.089659214019775 l-1.0059183835983276,3.592560589313507 -0.466461181640625,3.009674847126007 l-0.2620445378124714,6.856873035430908 0.5050016939640045,4.582363665103912 l1.0662410408258438,4.007937014102936 1.4630776643753052,3.149113953113556 l1.7165292799472809,2.216387838125229 2.1010561287403107,1.5708616375923157 l2.177913337945938,0.8844013512134552 2.2244231402873993,0.33543355762958527 l2.8647154569625854,-0.21795878186821938 1.4477214217185974,-0.4394804686307907 l1.3958357274532318,-0.7608617097139359 2.0570023357868195,-1.8433061242103577 l1.7314273118972778,-2.4101249873638153 1.3478772342205048,-2.857072651386261 l0.8652244508266449,-3.0349385738372803 0.44883139431476593,-3.1570467352867126 l0.038100623060017824,-3.0728906393051147 -0.5391543731093407,-4.012122452259064 l-1.2061838060617447,-4.090225696563721 -0.7149213552474976,-1.356772929430008 m-15.472579002380371,-13.269187211990356 l-0.05746608134359121,0.9686118364334106 m10.606389045715332,-1.5662015974521637 l-7.664712029509246e-05,0.3413800522685051 \" fill=\"none\" stroke=\"black\" stroke-width=\"1\"/></svg>"
      ],
      "text/plain": [
       "<IPython.core.display.SVG object>"
      ]
     },
     "metadata": {},
     "output_type": "display_data"
    }
   ],
   "source": [
    "stroke_grid = make_grid_svg(reconstructions)\n",
    "draw_strokes(stroke_grid)"
   ]
  },
  {
   "cell_type": "markdown",
   "metadata": {
    "colab_type": "text",
    "id": "OiXNC-YsFQv0"
   },
   "source": [
    "Let's load the model trained on both cats and buses!  catbus!"
   ]
  },
  {
   "cell_type": "code",
   "execution_count": 44,
   "metadata": {
    "colab": {},
    "colab_type": "code",
    "id": "SL7WpDDQFQv0"
   },
   "outputs": [],
   "source": [
    "model_dir = '/tmp/sketch_rnn/models/catbus/lstm'"
   ]
  },
  {
   "cell_type": "code",
   "execution_count": 45,
   "metadata": {
    "colab": {
     "base_uri": "https://localhost:8080/",
     "height": 255
    },
    "colab_type": "code",
    "id": "Cvk5WOqHFQv2",
    "outputId": "8081d53d-52d6-4d18-f973-a9dd44c897f2"
   },
   "outputs": [
    {
     "name": "stdout",
     "output_type": "stream",
     "text": [
      "INFO:tensorflow:Model using gpu.\n",
      "INFO:tensorflow:Input dropout mode = False.\n",
      "INFO:tensorflow:Output dropout mode = False.\n",
      "INFO:tensorflow:Recurrent dropout mode = False.\n",
      "INFO:tensorflow:Model using gpu.\n",
      "INFO:tensorflow:Input dropout mode = 0.\n",
      "INFO:tensorflow:Output dropout mode = 0.\n",
      "INFO:tensorflow:Recurrent dropout mode = 0.\n",
      "INFO:tensorflow:Model using gpu.\n",
      "INFO:tensorflow:Input dropout mode = 0.\n",
      "INFO:tensorflow:Output dropout mode = 0.\n",
      "INFO:tensorflow:Recurrent dropout mode = 0.\n",
      "INFO:tensorflow:Loading model /tmp/sketch_rnn/models/catbus/lstm/vector.\n",
      "INFO:tensorflow:Restoring parameters from /tmp/sketch_rnn/models/catbus/lstm/vector\n"
     ]
    }
   ],
   "source": [
    "[hps_model, eval_hps_model, sample_hps_model] = load_model_compatible(model_dir)\n",
    "# construct the sketch-rnn model here:\n",
    "reset_graph()\n",
    "model = Model(hps_model)\n",
    "eval_model = Model(eval_hps_model, reuse=True)\n",
    "sample_model = Model(sample_hps_model, reuse=True)\n",
    "sess = tf.InteractiveSession()\n",
    "sess.run(tf.global_variables_initializer())\n",
    "# loads the weights from checkpoint into our model\n",
    "load_checkpoint(sess, model_dir)"
   ]
  },
  {
   "cell_type": "code",
   "execution_count": 46,
   "metadata": {
    "colab": {
     "base_uri": "https://localhost:8080/",
     "height": 106
    },
    "colab_type": "code",
    "id": "icvlBPVkFQv5",
    "outputId": "f7b415fe-4d65-4b00-c0eb-fb592597dba2"
   },
   "outputs": [
    {
     "data": {
      "image/svg+xml": [
       "<svg baseProfile=\"full\" height=\"100.45459821732948\" version=\"1.1\" width=\"110.54667997710567\" xmlns=\"http://www.w3.org/2000/svg\" xmlns:ev=\"http://www.w3.org/2001/xml-events\" xmlns:xlink=\"http://www.w3.org/1999/xlink\"><defs/><rect fill=\"white\" height=\"100.45459821732948\" width=\"110.54667997710567\" x=\"0\" y=\"0\"/><path d=\"M25.65412129391916,32.18797425970138 m-0.012132846750319004,9.861735105514526 l-0.3016432747244835,11.084318161010742 -0.3398839011788368,3.982292413711548 l-0.00046127126552164555,5.618918538093567 1.7827962338924408,2.0079074800014496 l2.8314077854156494,1.4518854022026062 3.865264058113098,1.0005442053079605 l7.987300753593445,0.912712961435318 18.68212103843689,1.3838701988788671e-05 l6.003395318984985,-0.6662125140428543 9.72767949104309,-2.4219121038913727 l3.7630388140678406,-1.5771487355232239 2.6176363229751587,-1.8343515694141388 l1.7145438492298126,-2.2922390699386597 1.571425199508667,-4.947085678577423 l7.111184459063224e-05,-10.786333084106445 -1.734301745891571,-8.844783306121826 l-2.94816255569458,-6.302640438079834 -1.8397563695907593,-1.8126590549945831 l-2.422597110271454,-1.0070669651031494 -4.867303967475891,-0.6157958880066872 l-10.8539879322052,-7.395788088615518e-05 -15.121915340423584,1.973707526922226 l-6.485399603843689,1.3084730505943298 -8.871956467628479,2.916145920753479 l-2.3772023618221283,1.3861650228500366 m8.686800003051758,31.626477241516113 l-2.2229374945163727,0.0016178927035070956 -1.5826177597045898,1.7449866235256195 l-1.0368231683969498,2.3015667498111725 -0.0001485933444200782,4.753543436527252 l1.8796372413635254,1.6207732260227203 2.9506024718284607,0.8211415261030197 l4.103012979030609,-4.598508894559927e-05 2.510599195957184,-1.832043081521988 l1.7623242735862732,-2.6411837339401245 0.8758487552404404,-2.9147255420684814 l-0.00020325149307609536,-3.4519079327583313 -2.283972054719925,-1.4608588814735413 l-4.11657840013504,-2.644284677444375e-05 m33.87229681015015,-1.9205203652381897 l-3.56179416179657,1.432832032442093 -1.6360068321228027,1.7723456025123596 l-1.2627694010734558,2.2977279126644135 -0.7544563710689545,2.4871250987052917 l-0.00010373123586759903,3.911694586277008 2.0800262689590454,1.3930994272232056 l4.0722620487213135,-0.00013272898286231793 2.9164591431617737,-1.7965331673622131 l1.8801328539848328,-3.0242332816123962 1.0199571400880814,-3.31911563873291 l1.1739895171558601e-05,-3.712281584739685 -2.1047528088092804,-1.612362116575241 l-3.1066301465034485,-0.5613818392157555 m-40.61936855316162,-22.229721546173096 l-0.33439889550209045,1.983853280544281 -0.000254238948400598,6.095948219299316 l1.834869384765625,1.23038150370121 7.126011848449707,0.00011668593288050033 l2.0282796025276184,-0.8026976883411407 0.8183979243040085,-2.0376791059970856 l-7.18737646820955e-05,-5.126952528953552 -1.0596244782209396,-1.8737809360027313 l-1.9270165264606476,-1.1446405202150345 -4.119290411472321,-0.000101711066236021 l-1.4461009204387665,0.6823819875717163 m17.263658046722412,-1.1795881390571594 l-0.5821452662348747,2.6588723063468933 -0.00019121793229714967,6.733354926109314 l1.7311108112335205,1.1485346406698227 6.200736165046692,6.354202014335897e-05 l1.823783814907074,-0.9346021711826324 0.6039523333311081,-2.149229347705841 l1.4380721040652134e-05,-4.910672307014465 -1.1720967292785645,-1.7273417115211487 l-4.936386048793793,5.202535248827189e-05 -2.5812357664108276,0.3297344595193863 m16.968504190444946,-1.616574376821518 l-0.3292741999030113,2.0150573551654816 -0.00021470385036082007,6.698251962661743 l1.8264597654342651,1.0433312505483627 5.36696195602417,0.00012920255358039867 l1.7025960981845856,-1.1413216590881348 -0.07061093114316463,-6.684604287147522 l-1.4911210536956787,-1.5913012623786926 -4.8431554436683655,0.00018977241779793985 \" fill=\"none\" stroke=\"black\" stroke-width=\"1\"/></svg>"
      ],
      "text/plain": [
       "<IPython.core.display.SVG object>"
      ]
     },
     "metadata": {},
     "output_type": "display_data"
    }
   ],
   "source": [
    "z_1 = np.random.randn(eval_model.hps.z_size)\n",
    "_ = decode(z_1)"
   ]
  },
  {
   "cell_type": "code",
   "execution_count": 47,
   "metadata": {
    "colab": {
     "base_uri": "https://localhost:8080/",
     "height": 88
    },
    "colab_type": "code",
    "id": "uaNxd0LuFQv-",
    "outputId": "4de5ee9a-cf14-49f4-e5f5-399a0d0b8215"
   },
   "outputs": [
    {
     "data": {
      "image/svg+xml": [
       "<svg baseProfile=\"full\" height=\"87.52861531716917\" version=\"1.1\" width=\"95.4762076959014\" xmlns=\"http://www.w3.org/2000/svg\" xmlns:ev=\"http://www.w3.org/2001/xml-events\" xmlns:xlink=\"http://www.w3.org/1999/xlink\"><defs/><rect fill=\"white\" height=\"87.52861531716917\" width=\"95.4762076959014\" x=\"0\" y=\"0\"/><path d=\"M29.000142253935337,27.566281519830227 m20.420308113098145,-1.1861664056777954 l9.286913871765137,-1.1395799368619919 8.250118494033813,-0.2405351772904396 l0.5542688444256783,0.5534588545560837 0.47520969063043594,7.377190589904785 l0.5746499449014664,5.00117301940918 0.5433150008320808,4.0957847237586975 l0.5397697165608406,4.114801287651062 0.48660892993211746,4.166670441627502 l0.3449028357863426,3.186486065387726 -0.3722817078232765,0.5632342398166656 l-0.7502935826778412,0.3776559606194496 -2.0585140585899353,0.2241593785583973 l-3.813605010509491,-0.0001703394991636742 -2.1005402505397797,0.18811015412211418 l-3.9312878251075745,-0.0001780243474058807 -2.315042018890381,0.21998489275574684 l-3.373112976551056,0.044191847555339336 -5.930187106132507,-0.08247544057667255 l-2.6498571038246155,0.213484987616539 -4.958866834640503,-8.246472134487703e-05 l-5.7052189111709595,-0.11714124120771885 -2.9941394925117493,-0.25646477937698364 l-1.659148782491684,-0.36720041185617447 -1.269986778497696,-0.7293057441711426 l-0.9631845355033875,-1.431744545698166 -0.6309407204389572,-2.394569367170334 l3.571819888747996e-05,-6.465667486190796 0.1220113318413496,-7.613875865936279 l0.273637343198061,-5.130833983421326 0.26198480278253555,-3.6821019649505615 l0.6852731853723526,-1.382429301738739 0.9030988812446594,-0.384693406522274 l1.767323911190033,0.026879787910729647 1.875835359096527,-0.0001730453186610248 m1.8015111982822418,29.23969268798828 l-0.8373910188674927,0.9885725378990173 -0.5332518741488457,1.926741749048233 l-1.9052627067139838e-05,2.125292271375656 0.24490265175700188,0.9758374094963074 l1.0455602407455444,1.2557367980480194 1.3123825192451477,0.7025830447673798 l1.4538662135601044,-0.00021730716980528086 1.1549531668424606,-0.9302608668804169 l0.837118923664093,-1.2534184753894806 0.730578824877739,-2.0823201537132263 l-0.00010892995305766817,-1.8890778720378876 -0.7572084665298462,-0.9676870703697205 l-1.2912477552890778,-0.5002732202410698 -1.6165393590927124,-0.00021538600776693784 m25.88463544845581,-0.31325988471508026 l-0.9906646609306335,0.6441551446914673 -0.7660989463329315,0.9874185919761658 l-0.5022341012954712,1.1366113275289536 8.442264515906572e-05,1.9018550217151642 l0.2994826063513756,0.91063492000103 0.6712043285369873,0.8656013756990433 l0.9834864735603333,0.6360405683517456 1.1938311904668808,0.3143588826060295 l1.5879784524440765,-0.0002099353696394246 0.8626691251993179,-0.5131000652909279 l1.160261332988739,-1.3925504684448242 0.38708746433258057,-1.5609481930732727 l6.19759293840616e-05,-1.8862001597881317 -0.37472885102033615,-0.8857055753469467 l-1.1064639687538147,-1.2604355812072754 -1.239679530262947,-0.4480171576142311 m-31.10135316848755,-21.254029273986816 l-0.1102036889642477,3.8266366720199585 0.2299957536160946,2.883957028388977 l0.8138469606637955,0.43702203780412674 3.63030344247818,-0.3286147490143776 l0.6614014506340027,-0.6571683287620544 0.06392700597643852,-4.433814585208893 l-0.3698708862066269,-0.769042894244194 -0.761924535036087,-0.44280678033828735 l-2.065763473510742,-0.00023020988010102883 -1.266910880804062,0.004997548530809581 m8.892546892166138,-0.38660231977701187 l0.03891173284500837,4.533141553401947 0.6884508579969406,1.1246339231729507 l0.8615690469741821,0.22496111690998077 2.73833692073822,-0.00010614247003104538 l0.652347132563591,-0.5931825935840607 0.23349624127149582,-3.585198223590851 l-0.3558366373181343,-0.7047984749078751 -0.7672050595283508,-0.4457956925034523 l-2.2770342230796814,-0.0002026162837864831 -1.3321149349212646,-0.12156885117292404 m8.519607782363892,-0.30386732891201973 l-0.05562695674598217,1.4933289587497711 0.08515096269547939,3.9037910103797913 l0.80632284283638,0.3159484639763832 3.0909955501556396,-0.3655415028333664 l0.5983098968863487,-0.6707091629505157 -0.21902000531554222,-3.880964517593384 l-0.5848898366093636,-0.5920971557497978 -2.5409746170043945,-0.00013935439710621722 \" fill=\"none\" stroke=\"black\" stroke-width=\"1\"/></svg>"
      ],
      "text/plain": [
       "<IPython.core.display.SVG object>"
      ]
     },
     "metadata": {},
     "output_type": "display_data"
    }
   ],
   "source": [
    "z_0 = np.random.randn(eval_model.hps.z_size)\n",
    "_ = decode(z_0)"
   ]
  },
  {
   "cell_type": "markdown",
   "metadata": {
    "colab_type": "text",
    "id": "VtSYkS6mFQwC"
   },
   "source": [
    "Let's interpolate between a cat and a bus!!!"
   ]
  },
  {
   "cell_type": "code",
   "execution_count": 48,
   "metadata": {
    "colab": {},
    "colab_type": "code",
    "id": "qIDYUxBEFQwD"
   },
   "outputs": [],
   "source": [
    "z_list = [] # interpolate spherically between z_1 and z_0\n",
    "N = 10\n",
    "for t in np.linspace(0, 1, N):\n",
    "  z_list.append(slerp(z_1, z_0, t))\n",
    "# for every latent vector in z_list, sample a vector image\n",
    "reconstructions = []\n",
    "for i in range(N):\n",
    "  reconstructions.append([decode(z_list[i], draw_mode=False, temperature=0.15), [0, i]])"
   ]
  },
  {
   "cell_type": "code",
   "execution_count": 49,
   "metadata": {
    "colab": {
     "base_uri": "https://localhost:8080/",
     "height": 112
    },
    "colab_type": "code",
    "id": "ZHmnSjSaFQwH",
    "outputId": "38fe3c7e-698b-4b19-8851-e7f3ff037744"
   },
   "outputs": [
    {
     "data": {
      "image/svg+xml": [
       "<svg baseProfile=\"full\" height=\"118.53908705563299\" version=\"1.1\" width=\"852.8384831175208\" xmlns=\"http://www.w3.org/2000/svg\" xmlns:ev=\"http://www.w3.org/2001/xml-events\" xmlns:xlink=\"http://www.w3.org/1999/xlink\"><defs/><rect fill=\"white\" height=\"118.53908705563299\" width=\"852.8384831175208\" x=\"0\" y=\"0\"/><path d=\"M25,28.92482662126895 m0.0,0.0 m10.74901207437506,15.712385517249459 l-0.02203748794272542,9.994550943374634 -0.33670682460069656,10.634701251983643 l-0.2879404090344906,3.96269828081131 -0.0004734573303721845,5.442338585853577 l1.8083778023719788,2.002062499523163 2.913159430027008,1.451398879289627 l3.951493203639984,0.9574105590581894 8.475034832954407,1.0432225465774536 l13.557984828948975,2.6593647817207966e-05 11.553069353103638,-1.5327274799346924 l5.0927358865737915,-1.1664848774671555 7.328605055809021,-2.4437110126018524 l2.9313668608665466,-1.778753399848938 1.112385168671608,-2.339732199907303 l1.0280048102140427,-9.209066033363342 -5.324518951965729e-05,-10.587718486785889 l-1.414099931716919,-7.265543341636658 -1.360417753458023,-2.04153835773468 l-2.1634386479854584,-1.4033381640911102 -4.285832941532135,-1.040838211774826 l-12.363032102584839,-8.150305802701041e-05 -7.770763635635376,0.023665290791541338 l-14.57163691520691,1.4163123071193695 -8.437564373016357,-0.00022370815713657066 l-2.891591787338257,0.5472053587436676 m5.553163290023804,36.76104545593262 l-2.010524868965149,0.10883757844567299 -1.423814296722412,1.739376038312912 l-0.9308846294879913,2.303384095430374 -0.0001193614662042819,4.736432731151581 l2.0696204900741577,1.5705415606498718 3.941453695297241,-0.00015939545846777037 l2.6349908113479614,-1.9778712093830109 1.443212628364563,-3.2299086451530457 l-0.00011896663636434823,-4.3088698387146 -2.1110527217388153,-1.6559721529483795 l-3.287663161754608,-8.626655471744016e-05 m40.004234313964844,-1.8665051460266113 l-2.3241212964057922,0.9422598034143448 -1.6577650606632233,1.6681192815303802 l-1.427341103553772,2.3005354404449463 -0.9989260137081146,2.5944754481315613 l-9.880316611088347e-05,3.270602226257324 1.974875032901764,1.3025160133838654 l3.682045042514801,-0.00012497710486059077 2.5632312893867493,-2.0745031535625458 l1.3578109443187714,-3.2680651545524597 6.790957286284538e-05,-4.503155946731567 l-2.0257288217544556,-2.0543065667152405 -2.4908918142318726,-1.266704499721527 l-3.2180124521255493,-0.00012953714758623391 m-37.55486011505127,-22.50527858734131 l-0.14472818933427334,2.0681744813919067 -0.00021700567231164314,4.702937006950378 l0.8336705714464188,2.1695128083229065 2.112474739551544,0.9083376079797745 l6.107763051986694,5.18105309765815e-06 3.501427471637726,-0.7701659947633743 l2.808775305747986,-1.1593014001846313 0.7540583610534668,-1.9316093623638153 l-5.31738896825118e-05,-4.744403660297394 -1.0035298019647598,-1.8094463646411896 l-2.352728396654129,-1.105123609304428 -5.588269233703613,-4.481334144657012e-05 l-2.934887409210205,0.9105351567268372 m20.561974048614502,-0.7183318585157394 l-0.7264335453510284,2.3747165501117706 -8.328808689839207e-05,6.049960255622864 l1.696586161851883,1.314287930727005 5.342608094215393,5.004664217267418e-05 l1.9110368192195892,-0.9350796043872833 0.7968068867921829,-2.111499160528183 l-2.9453997285600053e-05,-4.272272288799286 -1.4784462749958038,-1.639186441898346 l-5.024427771568298,2.405210466349672e-06 m15.843945741653442,-1.410483717918396 l-0.00022631102183368057,5.463406443595886 -0.0002561301880632527,4.226986467838287 l1.8820896744728088,0.8417992293834686 4.4743651151657104,6.83148482494289e-05 l1.7006915807724,-1.1056427657604218 -0.08681986480951309,-6.810920834541321 l-1.7432701587677002,-1.8660607933998108 -4.570750892162323,0.00019228791643399745 m28.419775894733448,-4.04438084913636 l0.42632173746824265,10.494827032089233 4.134025402890984e-05,12.26639986038208 l0.1870577223598957,2.4430009722709656 -0.0005498273094417527,4.714658856391907 l1.584719717502594,1.7587819695472717 4.377434551715851,1.8053172528743744 l4.765035510063171,0.886654257774353 12.94165849685669,-0.00011678903319989331 l12.486945390701294,-1.2049666792154312 13.834201097488403,7.427453056152444e-05 l2.6832392811775208,-0.3912012279033661 1.5679724514484406,-1.4421446621418 l1.6017819941043854,-3.3515268564224243 1.0678335279226303,-5.316802263259888 l-1.7420730955564068e-05,-11.100307703018188 -0.12803014367818832,-9.036960005760193 l-0.6096851825714111,-6.342480182647705 -0.9806264936923981,-1.9361266493797302 l-1.672241985797882,-1.275467723608017 -2.3000259697437286,-0.733187198638916 l-12.018370628356934,-9.447257980355062e-05 -7.79822051525116,0.5706905946135521 l-13.168325424194336,2.095032036304474 -6.377800107002258,1.1398233473300934 l-7.981894612312317,2.576090693473816 m7.694762349128723,33.31443548202515 l-2.06307053565979,-0.4670673981308937 -1.5800531208515167,1.3222385942935944 l-1.1989744752645493,2.1427948772907257 -0.7651736587285995,2.626681327819824 l-0.00010665722584235482,4.013635218143463 2.7989378571510315,2.055184990167618 l4.090147018432617,-0.6232914701104164 2.4986232817173004,-2.231922149658203 l1.7881758511066437,-2.84885972738266 0.9475541859865189,-3.0162373185157776 l-0.0002467431841068901,-2.9816934466362 -1.8965137004852295,-1.2001370638608932 l-3.082708716392517,-8.94605545909144e-05 m34.551873207092285,-0.9762069582939148 l-2.359807938337326,0.5976202338933945 -1.6449689865112305,1.7042942345142365 l-1.3195021450519562,2.262534350156784 -0.8852481096982956,2.514663338661194 l-0.00010096267942572013,3.780193328857422 1.910983920097351,1.2891742587089539 l3.6075958609580994,-0.00014243418263504282 2.5451356172561646,-1.9424118101596832 l1.9667096436023712,-2.7294108271598816 1.119740977883339,-2.9226943850517273 l4.967413360645878e-06,-3.2944470643997192 -2.1570295095443726,-1.5777218341827393 l-3.6226993799209595,-3.5198934256186476e-05 m-39.65038537979126,-24.66554880142212 l-0.20425641909241676,1.9845853745937347 -0.00017382637452101335,6.197783946990967 l0.4487293213605881,4.534570276737213 1.8102772533893585,0.8854667842388153 l6.093391180038452,8.145409992721397e-05 1.8243947625160217,-1.0594725608825684 l1.3437314331531525,-7.394921183586121 -0.00029072512916172855,-5.189267992973328 l-1.2490463256835938,-1.5125595033168793 -4.403247237205505,-4.4174239519634284e-05 l-2.977032959461212,0.8750101923942566 m17.37563133239746,-1.905938982963562 l-0.1758757047355175,1.9694803655147552 -0.00022163114408613183,8.446020483970642 l1.478101909160614,1.2765978276729584 5.395417213439941,-3.932713639187568e-06 l1.803509145975113,-0.8428917080163956 1.4469130337238312,-1.771588772535324 l5.643254098686157e-05,-6.101469993591309 -1.0892101377248764,-1.7583176493644714 l-1.8651628494262695,-1.1255668848752975 -3.6803922057151794,-0.0001284679728996707 m15.436786413192749,-0.9877225756645203 l-0.8960703760385513,2.2552424669265747 -0.0002507966746634338,7.686225771903992 l1.6433192789554596,1.2078028172254562 4.664280116558075,8.221792086260393e-05 l1.7054671049118042,-0.9853882342576981 0.4930286854505539,-2.147219330072403 l-5.722306013922207e-05,-5.229130983352661 -0.9886137396097183,-1.6396735608577728 l-1.88533216714859,-0.9443643689155579 m29.267400713216603,-1.7939640572086546 l1.263120174407959,9.955918788909912 1.111079826951027,10.938446521759033 l-0.0007033766451058909,7.380184531211853 0.10912842117249966,5.1358842849731445 l1.6706231236457825,1.17131769657135 7.971526384353638,-0.00023753891582600772 l11.690407991409302,-0.7954481989145279 12.002204656600952,-1.692343630566029e-05 l9.662198424339294,-0.8215425908565521 8.201728463172913,-0.00011443077710282523 l1.6155610978603363,-0.9026434272527695 1.0198202729225159,-1.3989868760108948 l4.9749160098144785e-05,-4.98785138130188 2.5290894427598687e-05,-9.766499996185303 l0.3453778102993965,-10.53229808807373 0.5037226527929306,-7.180866599082947 l-0.07778259459882975,-5.014728903770447 -1.0141435265541077,-1.3911928236484528 l-1.9679099321365356,-0.8453191071748734 -8.479057550430298,-0.00012205255188746378 l-10.933912992477417,-6.375655175361317e-05 -13.418184518814087,1.1437157541513443 l-6.341308951377869,0.9855785965919495 -8.295241594314575,2.367180585861206 l-2.48514860868454,1.4413170516490936 m8.989779949188232,35.49762010574341 l-1.907806247472763,-0.2813531272113323 -1.4884592592716217,1.4334736764431 l-1.0547974705696106,2.0874102413654327 -0.6967256218194962,2.5462183356285095 l-0.00010292891602148302,4.178898930549622 1.725943237543106,1.4063340425491333 l2.682206630706787,0.7047215849161148 3.47485214471817,-8.84177006810205e-05 l2.40299329161644,-1.7129959166049957 1.8378236889839172,-2.4831461906433105 l1.0893125087022781,-2.7454128861427307 -0.0001436848469893448,-3.3275067806243896 l-1.2634952366352081,-1.7967984080314636 -2.7427002787590027,-0.9450095891952515 l-3.4608852863311768,-0.00013787644093099516 m35.42882442474365,-1.73981174826622 l-2.1605542302131653,0.7667533308267593 -1.5314386785030365,1.485578566789627 l-1.3373008370399475,2.1471694111824036 -1.2579728662967682,3.8505834341049194 l-7.410136731778039e-05,3.5231980681419373 1.5869130194187164,1.7611512541770935 l2.419654279947281,1.0678186267614365 3.5633260011672974,-0.0001381773836328648 l2.3460668325424194,-1.8763436377048492 1.742953211069107,-2.6677167415618896 l1.0124711692333221,-3.0350449681282043 7.984379408298992e-05,-4.258024096488953 l-2.1157482266426086,-1.8790362775325775 -3.0447563529014587,-0.8448085933923721 l-3.5329270362854004,-0.0001418429019395262 m-38.116657733917236,-24.936065673828125 l-0.008831355371512473,1.8063730001449585 -0.0002858751940948423,6.698614954948425 l1.6559654474258423,1.0581353306770325 5.576825737953186,0.00010449287401570473 l1.7534355819225311,-0.7450482994318008 0.853511393070221,-1.8121948838233948 l-9.216784746968187e-05,-5.353825092315674 -0.9752360731363297,-1.6334033012390137 l-1.8818356096744537,-0.9093835204839706 -3.7324395775794983,-0.00013877692254027352 m15.11614441871643,-0.6635424494743347 l-0.27558356523513794,1.7902456223964691 -0.0001599862844159361,7.050679326057434 l1.601729542016983,1.0391394793987274 6.046424508094788,1.4721373418069561e-05 l1.5370914340019226,-0.9476848691701889 -4.363724315226136e-06,-4.072510898113251 l-1.398608237504959,-4.242503345012665 -4.147343635559082,-0.0001797370168787893 l-2.412196695804596,0.5976167693734169 m16.395695209503174,-1.6437894105911255 l-0.761207640171051,2.0807726681232452 -0.00024374297936446965,6.50448203086853 l1.6389518976211548,1.0294264554977417 4.053463637828827,1.617174802959198e-05 l1.490357369184494,-1.0813846439123154 0.1275551412254572,-6.179282069206238 l-0.9998857975006104,-1.5722699463367462 -4.294123351573944,9.661965123086702e-05 m33.277541056299356,-6.325826097114486 l2.796838879585266,8.327664136886597 2.480490058660507,10.186587572097778 l0.8493560552597046,7.737744450569153 0.31242452561855316,6.1510169506073 l0.31565211713314056,4.616285264492035 1.557813435792923,0.8173050731420517 l13.276451826095581,-0.00030121720556053333 11.468560695648193,-1.0563096404075623 l11.201794147491455,-0.00013567346286436077 7.06046462059021,-0.7423146069049835 l6.044171452522278,-0.8099953830242157 1.3188783824443817,-1.1364223062992096 l0.9646709263324738,-1.4411130547523499 1.0911234468221664,-3.7252652645111084 l-5.8181390159006696e-05,-8.890360593795776 -0.14678321778774261,-4.812013208866119 l-1.253293752670288,-9.696146845817566 -0.6479270756244659,-7.036182880401611 l-1.0392066091299057,-4.313062429428101 -1.038270741701126,-1.3757303357124329 l-1.6037116944789886,-0.7618007063865662 -9.052822589874268,-0.00010665678018995095 l-8.179154396057129,0.6691333651542664 -12.970788478851318,1.9683925807476044 l-10.535322427749634,2.3393072187900543 -7.916240692138672,2.4352072179317474 l-1.9929619133472443,1.2861038744449615 m10.176321268081665,33.04115295410156 l-1.7871063947677612,-0.2541716955602169 -1.34905606508255,1.2746860086917877 l-1.0221688449382782,1.9601383805274963 -0.6658247113227844,2.4078957736492157 l-5.0181256483483594e-05,4.445936977863312 1.6354693472385406,1.3516135513782501 l2.441166043281555,0.5747430771589279 3.130139410495758,-0.00013976915397506673 l2.0647606253623962,-1.5564708411693573 1.5757361054420471,-2.3122434318065643 l0.8819675445556641,-2.5453951954841614 -0.0001098103621188784,-3.2265740633010864 l-1.8172939121723175,-1.3974426686763763 -3.417937159538269,-7.595216629852075e-05 l-1.2683945894241333,0.7043372839689255 m36.39931917190552,-4.062843322753906 l-1.9143207371234894,0.8043935149908066 -1.2213201820850372,1.597258299589157 l-0.9438352286815643,2.086804211139679 -0.6391865760087967,2.327776402235031 l-5.7101160564343445e-05,3.579367995262146 1.647881269454956,1.122443974018097 l3.1616488099098206,-0.0001972526661120355 2.269328683614731,-1.5718591213226318 l1.3601383566856384,-2.8323185443878174 0.5857370048761368,-2.944932281970978 l-3.578641781132319e-05,-3.159874975681305 -1.1704325675964355,-1.604769378900528 l-2.3149746656417847,-0.6954260915517807 -3.07183176279068,-0.00018877884940593503 m-38.54661226272583,-22.16578960418701 l-0.028655605856329203,1.7863616347312927 -0.000221768204937689,5.403987169265747 l0.46684063971042633,4.94546502828598 1.5832586586475372,0.7895264029502869 l5.414149761199951,2.5725410068844212e-06 2.95634388923645,-0.6488081067800522 l1.2377289682626724,-1.701345145702362 -2.3394943582388805e-05,-7.008301019668579 l-0.7465416938066483,-1.5910473465919495 -2.3214589059352875,-2.7593690156936646 l-2.2599878907203674,-0.7329912483692169 -3.3569899201393127,-9.578753633832093e-05 m16.915374994277954,-0.5680963397026062 l-0.5642896145582199,2.412077635526657 -0.00019828388758469373,8.400335311889648 l1.5265153348445892,0.9202005714178085 5.307815670967102,-5.871275334357051e-05 l1.5772917866706848,-0.6617423892021179 1.0810613632202148,-2.051398903131485 l1.7988172658078838e-05,-6.385862827301025 -0.9365775436162949,-1.5536430478096008 l-1.7234466969966888,-0.8385096490383148 -4.520120024681091,-0.00013026950000494253 m14.990243911743164,-1.2726123631000519 l-0.6465357542037964,2.0970942080020905 -0.000235431689361576,6.9201695919036865 l1.3445721566677094,1.0003209114074707 4.74058210849762,9.143051102000754e-05 l1.3728377223014832,-1.1215844750404358 0.1318351086229086,-5.945342779159546 l-1.0288959741592407,-1.4408133924007416 -4.430350363254547,3.171600383211626e-05 m33.63101071296114,8.196407809683706 l5.509601831436157,5.344716906547546 6.331151723861694,7.950616478919983 l2.8931838274002075,3.8131311535835266 3.5940665006637573,4.999131858348846 l3.5916930437088013,4.489581286907196 3.938119113445282,3.9233946800231934 l7.092918753623962,4.3892499804496765 2.2569064795970917,0.8905447274446487 l4.495595693588257,-0.000280630738416221 6.222401857376099,-2.1124637126922607 l7.891479134559631,-5.714215040206909 1.987658143043518,-2.231537252664566 l2.6762861013412476,-4.255785048007965 2.905551493167877,-8.352264761924744 l1.286664605140686,-4.489873051643372 0.868118479847908,-5.816810727119446 l-8.453971531707793e-05,-5.312091112136841 -0.3941645473241806,-1.866178810596466 l-2.7934202551841736,-5.58573842048645 -1.9149646162986755,-2.5525885820388794 l-2.332266867160797,-2.433999478816986 -6.302529573440552,-4.29118812084198 l-5.401044487953186,-2.2274063527584076 -5.914028286933899,-1.4657121896743774 l-7.461652159690857,-6.979838872211985e-05 -10.916454792022705,2.7876704931259155 l-3.8854262232780457,1.804869920015335 -7.442139983177185,5.245534181594849 l-5.286368131637573,6.550554037094116 -1.863582730293274,3.566824495792389 l-0.7216694205999374,2.8058668971061707 -0.00027321631932863966,3.669971227645874 m8.966537117958069,-17.79573917388916 l-1.0386841744184494,-3.790126144886017 -0.0005465089998324402,-8.15013587474823 l0.27330581098794937,-5.881103277206421 4.001471996307373,3.492281138896942 l3.751339912414551,4.507002830505371 1.5159784257411957,1.5002632141113281 l2.4472062289714813,2.2862040996551514 m25.629444122314453,0.8337252587080002 l3.899300992488861,-4.2756423354148865 2.6924392580986023,-3.385622501373291 l5.017176866531372,-5.603282451629639 0.8763931691646576,1.8657776713371277 l-0.0002936083183158189,6.319445967674255 -0.16937898471951485,3.8721904158592224 l-0.00035363136703381315,4.54956591129303 -0.011478983797132969,2.3964600265026093 m-33.46156597137451,15.688776969909668 l0.6622906774282455,-1.1122394353151321 2.003689557313919,-0.8652547746896744 l2.074294537305832,-0.0002979563578264788 1.313060224056244,1.1906634271144867 l-0.31148601323366165,1.4629119634628296 -1.4696325361728668,0.9415856003761292 l-2.4926139414310455,-0.0001998154039029032 -1.0255516320466995,-1.357431411743164 l-0.0001749366128933616,-1.4573892951011658 m15.138983726501465,-0.2824687212705612 l2.1540987491607666,-1.4021572470664978 4.331810772418976,-1.2063219398260117 l3.0495426058769226,-0.30146442353725433 2.8938814997673035,-7.735278813925106e-05 l0.8105739951133728,0.9174668043851852 -0.7758674770593643,1.2360554188489914 l-1.5824361145496368,0.8391816914081573 -3.8497108221054077,-4.615908892446896e-05 l-3.826395571231842,-5.0087642193830106e-05 -2.461642771959305,-0.0001115697614295641 m-9.9663907289505,6.93480908870697 l0.5543655529618263,-0.00020260215023881756 2.434682846069336,-0.0002097130345646292 l0.3763463720679283,0.5515263602137566 -1.3977979123592377,1.1682668328285217 l-1.3166843354701996,-0.00010661806300049648 -0.43140873312950134,-1.32108673453331 m1.4713495969772339,0.882948637008667 l-0.00018105123672285117,2.6992475986480713 -0.9182737767696381,2.133067548274994 m-1.8509474396705627,-1.2357880920171738 l-0.49682870507240295,1.3429482281208038 -0.000143956322062877,2.7562403678894043 m61.29542326887815,-43.14180813754092 l10.132290124893188,0.8715731650590897 12.811722755432129,-0.000212172726605786 l4.656112194061279,-0.2810977213084698 11.59096360206604,3.696221256177523e-05 l6.4743781089782715,-0.3689958155155182 5.360028147697449,-6.199423296493478e-05 l0.7677511870861053,1.4886100590229034 -0.0003748479866771959,9.52517032623291 l0.1580824889242649,4.163769483566284 -0.0003716170976986177,10.947521924972534 l-0.06791515275835991,6.7213374376297 -0.3914949670433998,3.609609007835388 l-0.8913625031709671,0.9727860242128372 -1.4342893660068512,0.6258708238601685 l-5.269622802734375,-5.782515017926926e-05 -3.255052864551544,-0.10050777345895767 l-6.43453061580658,-0.00018699616703088395 -8.892874717712402,-0.2742244489490986 l-9.600138068199158,-0.3983522206544876 -5.740454196929932,-0.3174283728003502 l-6.269047856330872,-0.00017748783648130484 -3.4105923771858215,-0.23092614486813545 l-1.167796328663826,-0.8197242021560669 -0.6647208333015442,-1.6714464128017426 l-7.665790917599224e-06,-6.020414233207703 -0.0932243000715971,-10.796416997909546 l0.23620327934622765,-8.430375456809998 0.7199407368898392,-5.903685688972473 l0.8835860341787338,-3.388313353061676 0.7506195455789566,-0.7643916457891464 m6.827118992805481,37.810120582580566 l-1.4880213141441345,-0.3436281159520149 -1.2284594029188156,1.0921525955200195 l-0.7986481487751007,1.5366098284721375 -0.6783916801214218,3.0469506978988647 l-9.022487574839033e-05,2.5447332859039307 1.0763460397720337,1.703963428735733 l1.726815104484558,1.1674198508262634 2.0717203617095947,0.5870520323514938 l2.6265227794647217,-0.00015779562090756372 1.711638867855072,-1.4518359303474426 l1.1935238540172577,-2.004960775375366 0.657377615571022,-2.172974795103073 l-0.0001402686939400155,-2.7527695894241333 -1.2377867102622986,-1.458010971546173 l-2.074051946401596,-0.7603009790182114 -2.711252272129059,-0.00017939149984158576 m32.54315137863159,-0.16461612656712532 l-1.6748571395874023,0.3895411640405655 -1.20916448533535,1.0583041608333588 l-1.0136262327432632,1.5914812684059143 -0.7132596522569656,1.898498684167862 l-4.043225999339484e-05,3.1498342752456665 1.2995725870132446,1.561044603586197 l1.9450661540031433,0.9641715884208679 2.6318782567977905,-0.00015386065570055507 l1.8286076188087463,-1.3686683773994446 1.0457487404346466,-2.132154554128647 l0.4996662214398384,-2.314951866865158 3.7885304209339665e-05,-2.72409588098526 l-0.7299083471298218,-1.4353349804878235 -1.7867948114871979,-0.9367579966783524 l-2.5303566455841064,-0.0001909826823975891 m-35.32750368118286,-26.890676021575928 l-0.21455399692058563,1.4758238196372986 -0.00014363053196575493,5.423203110694885 l1.2245547026395798,0.7989223301410675 4.950672090053558,6.9929792516632e-05 l1.3418199121952057,-0.6339970976114273 0.5407446622848511,-1.4530044794082642 l-9.242039595847018e-05,-3.959715962409973 -0.7855907082557678,-1.2029089033603668 l-1.834913194179535,-0.6465741991996765 -3.1619584560394287,-0.00016981752196443267 m12.92182207107544,-0.3316562622785568 l-0.5995936691761017,1.8011954426765442 -0.00011380940122762695,4.808642566204071 l1.4116783440113068,0.7671293616294861 4.546739161014557,-3.278608119217097e-05 l1.2097840011119843,-0.7740342617034912 0.7736068218946457,-1.7522253096103668 l-4.2462324927328154e-05,-3.1974542140960693 -0.7975836098194122,-1.1106719821691513 l-2.2732822597026825,-0.5111121013760567 -2.8711003065109253,-0.0001490880640631076 m12.486298084259033,-0.14546476304531097 l-0.6465361267328262,1.716322898864746 -0.00016652864360366948,4.993525743484497 l1.3287907838821411,0.6935106962919235 4.205435812473297,9.921494665832142e-06 l1.069449558854103,-1.0265947878360748 2.1744160676462343e-05,-3.4447604417800903 l-0.7860463857650757,-1.1913187056779861 -1.2645839154720306,-0.5855262652039528 m57.384541994081815,-8.75282302871824 l22.468857765197754,0.001208097382914275 6.13369345664978,0.006451009539887309 l10.863533020019531,-0.0001889031773316674 5.400413870811462,-0.03690185956656933 l5.292327404022217,-2.583514287834987e-05 0.6355731934309006,1.146547943353653 l-0.00037499248719541356,9.467190504074097 0.044831037521362305,8.881033658981323 l-0.04242732189595699,7.897107005119324 -0.11797680519521236,4.848533868789673 l-0.5342753604054451,1.052294671535492 -1.0891614109277725,0.641181468963623 l-4.39479261636734,-9.610166671336628e-05 -1.0688913613557816,-0.5426929146051407 l-0.8674221485853195,-0.8698642998933792 -1.3507531583309174,-1.2690158188343048 l-1.9581180810928345,-1.0096272826194763 -2.2505198419094086,-0.32014451920986176 l-3.7175559997558594,-0.00012812806744477712 -1.6737784445285797,0.44183723628520966 l-2.1118633449077606,1.5422789752483368 -1.4934632182121277,1.988779753446579 l-10.532410144805908,0.2532193250954151 -2.800748646259308,0.03494159784168005 l-5.597323179244995,-0.00010763211321318522 -0.7802499830722809,-2.9263100028038025 l-1.9743864238262177,-3.1244856119155884 -1.9706393778324127,-1.7049576342105865 l-2.1640819311141968,-0.9493773430585861 -2.764272689819336,-0.0003290821041446179 l-1.5678024291992188,0.4744390770792961 -1.5981066226959229,1.6136160492897034 l-0.8396992832422256,1.5247605741024017 -0.6995987892150879,-0.23161504417657852 l-1.9254833459854126,-9.387863278388977 -0.00016988125935313292,-9.466591477394104 l1.0805539041757584,-6.190579533576965 1.4455673098564148,-3.6313289403915405 l1.0850531607866287,-0.7472795248031616 m5.550375580787659,30.393552780151367 l-1.022837683558464,1.1220097541809082 -0.8823590725660324,2.7189555764198303 l7.69632424635347e-05,2.664814591407776 0.5106021091341972,1.8317554891109467 l0.9996062517166138,1.4545436203479767 1.441982239484787,1.0037252306938171 l1.6719995439052582,0.45768342912197113 1.9007036089897156,-0.0001925827018567361 l1.424950510263443,-1.254785805940628 1.03399857878685,-1.7868205904960632 l0.5739909037947655,-1.9782379269599915 -0.00012608136785274837,-2.834347188472748 l-0.975213348865509,-1.4058968424797058 -1.5690214931964874,-0.6331314146518707 m29.052722454071045,0.4907781258225441 l-1.2890967726707458,0.9740208089351654 -0.5444170907139778,1.26561239361763 l4.613632995642547e-06,3.597745895385742 0.33128708600997925,1.403336375951767 l0.8218450844287872,1.4266209304332733 1.1973939090967178,1.0936229676008224 l1.5333575010299683,0.6922174990177155 2.1620973944664,-0.0001677239743003156 l1.455424427986145,-1.3085174560546875 1.1158917099237442,-1.8471485376358032 l0.6572186946868896,-1.9615070521831512 4.914125838695327e-05,-2.7257010340690613 l-0.5716734752058983,-1.239980235695839 -1.5449783205986023,-1.0006315261125565 l-1.5565918385982513,-0.49118150025606155 m-36.62134647369385,-25.491092205047607 l-0.2544071711599827,1.4545518159866333 -5.09112442159676e-05,4.3067410588264465 l1.0160820931196213,1.5459543466567993 1.2675566971302032,0.41665397584438324 l4.3804627656936646,-7.843907951610163e-05 1.0074441134929657,-0.8502604067325592 l-0.00013143101568857674,-3.2483702898025513 -0.653931275010109,-3.4306395053863525 l-0.9127568453550339,-0.8707399666309357 -2.7274084091186523,-0.0001637200875848066 l-1.8512281775474548,0.42807895690202713 m12.630003690719604,-0.22575018927454948 l0.12269568629562855,1.3432930409908295 -0.0001433328270650236,6.227842569351196 l1.2353652715682983,0.6684136390686035 4.509751200675964,-3.2299651593348244e-05 l0.9724785387516022,-0.7268315553665161 0.2468988485634327,-5.615776777267456 l-0.5618397518992424,-0.9807033091783524 -1.3890109956264496,-0.5911138281226158 l-3.1343629956245422,-8.679528036736883e-05 m11.7879056930542,-0.04375344142317772 l-0.4503185302019119,1.509217619895935 -0.00014428949725697748,4.932193756103516 l1.1153190582990646,0.6145050749182701 4.581364989280701,6.828310688433703e-05 l0.9224198758602142,-0.8129602670669556 -8.392538802581839e-05,-3.030669391155243 l-1.1781831830739975,-3.2914987206459045 -3.6853015422821045,-0.1500469073653221 m50.35956289305716,-7.097910306908943 l25.629613399505615,0.0008929681644076481 5.710934996604919,-0.15722086653113365 l8.945936560630798,-0.00016943216905929148 0.9222173690795898,0.5747471004724503 l2.259434312582016,3.745974600315094 0.831889808177948,2.778686285018921 l0.6038174033164978,4.513813853263855 0.6546137481927872,7.5057244300842285 l0.47949038445949554,6.618872284889221 0.3515942022204399,5.4318249225616455 l0.10519557632505894,2.901037037372589 -0.8750226348638535,0.6774173676967621 l-4.229249060153961,-0.0001666856769588776 -2.8710901737213135,0.15496304258704185 l-6.042652726173401,-0.000169613012985792 -4.628772437572479,0.15816444531083107 l-8.087783455848694,0.17615223303437233 -8.04638385772705,0.0850106030702591 l-4.834112524986267,-0.4969725012779236 -2.4940764904022217,-0.21160142496228218 l-1.9304333627223969,-0.2398868277668953 -0.9533890336751938,-0.6160759925842285 l-1.0438991338014603,-1.2869130074977875 -0.9341150522232056,-2.0181195437908173 l-0.8017528802156448,-2.883879542350769 -0.659426674246788,-3.9889374375343323 l-3.227253955628839e-05,-9.48842465877533 0.3319414332509041,-7.4352240562438965 l0.3854645788669586,-4.882312715053558 0.5529258400201797,-2.751029133796692 l0.47226179391145706,-1.0319963842630386 m6.802231669425964,35.188095569610596 l-1.0973407328128815,0.805758610367775 -0.6471268832683563,1.183163970708847 l-0.4796101897954941,2.3103442788124084 -9.605885679775383e-05,2.8529056906700134 l0.2758447825908661,1.2871180474758148 0.6543569266796112,1.1323916167020798 l1.0914602875709534,0.9025473892688751 1.4227496087551117,0.4804503917694092 l1.8295854330062866,-0.0002155052061425522 1.4560920000076294,-1.1459290236234665 l1.1191901564598083,-1.6258203983306885 0.7027903199195862,-1.7124982178211212 l-9.319002856500447e-05,-3.1440365314483643 -0.9250900149345398,-1.2096048891544342 l-1.6652189195156097,-0.7667183876037598 -1.9772858917713165,-0.00023723170670564286 m28.29420566558838,-0.6649761646986008 l-2.3855265974998474,1.6736620664596558 -1.1662761121988297,1.3917827606201172 l-0.7683773338794708,1.5036849677562714 -0.4899836704134941,2.4314935505390167 l-6.30028353043599e-05,2.0864583551883698 0.4787488281726837,1.453258991241455 l0.9501242637634277,1.2067050486803055 1.2917973101139069,0.7959549129009247 l1.6073432564735413,0.38928255438804626 1.9018973410129547,-0.0002138472700607963 l1.5970301628112793,-1.1532241106033325 1.2750931084156036,-1.590222418308258 l1.1384537816047668,-2.7256423234939575 8.144685125444084e-05,-2.933162748813629 l-0.4620157927274704,-1.2078138440847397 -0.9155178815126419,-1.205315813422203 l-1.9205212593078613,-1.5030041337013245 -1.628483384847641,-0.8332112431526184 m-32.70813703536987,-23.491079807281494 l-0.02099819714203477,3.6970356106758118 0.08540498092770576,4.06756192445755 l0.113637400791049,3.3101746439933777 0.9946158528327942,0.5586754530668259 l4.210741221904755,-0.44473785907030106 2.177441567182541,-0.536501333117485 l0.691235288977623,-1.1290904134511948 -0.4826115444302559,-6.576235294342041 l-0.781814232468605,-3.511693775653839 -0.8217295259237289,-0.7664845883846283 l-2.686145007610321,-0.00017557154933456331 -2.160159796476364,0.5655204504728317 m12.338322401046753,-0.23290365934371948 l0.0370098021812737,1.2509974837303162 -6.99848351359833e-05,6.584234237670898 l0.9499713033437729,0.6686515361070633 3.8445964455604553,-7.515047400374897e-05 l0.9859763085842133,-0.5716199800372124 0.5051403492689133,-5.914018750190735 l-0.37697140127420425,-1.0014218091964722 -1.0742001980543137,-0.5486214533448219 l-2.9909729957580566,-0.00021162195480428636 m10.249509811401367,-0.5215863510966301 l-0.2879449352622032,1.5900537371635437 -0.00010889624718402047,5.91539740562439 l0.9889794886112213,0.49834057688713074 3.6174440383911133,-3.42245743922831e-05 l0.8072890341281891,-0.8424819260835648 0.4893570765852928,-5.288730263710022 l-0.42185064405202866,-0.8730098605155945 -3.47767174243927,-8.476684342895169e-05 m47.25724350608857,-5.356813445471289 l22.315673828125,0.0009519854938844219 9.218007326126099,-0.7488923519849777 l7.057461142539978,-0.00011397032722015865 0.7239343225955963,0.49229998141527176 l0.9714870899915695,2.0251989364624023 1.3003131747245789,6.692765951156616 l0.8116783201694489,5.837440490722656 0.6355597823858261,5.389712452888489 l0.6309584528207779,4.71957802772522 0.36665115505456924,4.114200174808502 l-0.4172563925385475,0.7042067497968674 -0.7824452966451645,0.504951998591423 l-3.2435202598571777,0.9450079500675201 -3.082367479801178,0.3627731651067734 l-4.087253510951996,-0.0001519463967269985 -2.6354598999023438,0.13494431972503662 l-6.478988528251648,-0.00015030561371531803 -7.032110691070557,-0.22086089476943016 l-6.538625955581665,-0.3691379353404045 -7.212507128715515,-0.34474942833185196 l-3.2687005400657654,-0.3315822407603264 -1.811402142047882,-0.2557356469333172 l-0.7699524611234665,-0.5101371556520462 -0.6556947529315948,-1.2816213071346283 l-0.5074811354279518,-2.607913911342621 -1.4148317859508097e-05,-6.4634352922439575 l-0.046501876786351204,-7.338624596595764 0.007560694357380271,-5.430589318275452 l0.3914107009768486,-4.013417065143585 0.6687594205141068,-2.821694314479828 l0.46778324991464615,-0.932607427239418 1.2360463291406631,-1.048736721277237 l2.0313240587711334,-0.6861098855733871 m3.5494697093963623,33.864102363586426 l-0.905386283993721,1.0178548842668533 -0.45976415276527405,1.3207505643367767 l5.7551278587197885e-05,2.49391570687294 0.2712331898510456,1.0732121020555496 l1.1116167902946472,1.4359588921070099 1.3820284605026245,0.7692350447177887 l1.489938497543335,0.29008377343416214 1.5401926636695862,-0.0002167093953175936 l1.3550004363059998,-0.4056190699338913 1.229761764407158,-0.7809972763061523 l1.3926184177398682,-1.6748219728469849 0.7720864564180374,-2.0592792332172394 l-0.00013753438906860538,-1.826235055923462 -0.8337009698152542,-1.2099022418260574 l-1.283053457736969,-0.6360789388418198 m19.726663827896118,0.03351674880832434 l-0.8690528571605682,0.8475908637046814 -0.7456095516681671,1.9259175658226013 l7.763320354570169e-05,2.4554193019866943 0.7535528391599655,1.2579810619354248 l1.2589313089847565,1.003388687968254 1.5058210492134094,0.6021817401051521 l1.9496805965900421,-0.00021257283151498996 1.0302885621786118,-0.4375474154949188 l1.0089302062988281,-0.8030911535024643 1.3145548105239868,-1.7488040030002594 l0.45616380870342255,-1.6717268526554108 3.0400983632716816e-05,-1.809069961309433 l-0.6756992638111115,-2.011673003435135 -1.004314199090004,-0.852937176823616 l-1.7529642581939697,-0.7646813243627548 m-32.90976047515869,-20.21003246307373 l-0.10052506811916828,4.416471719741821 0.2970854192972183,3.0328842997550964 l0.9248105436563492,0.49122855067253113 3.03496390581131,-0.00010389482667960692 l2.041909396648407,-0.3641270846128464 0.6656661629676819,-0.8323760330677032 l0.040098680183291435,-5.028979182243347 -0.4676567018032074,-0.8744295686483383 l-0.8842632919549942,-0.5483506247401237 -2.3373085260391235,-0.0002237800981674809 l-1.7567318677902222,0.06681192200630903 m10.165085792541504,-0.5685657262802124 l-0.12934169732034206,1.8344968557357788 -0.0001262705154658761,4.110307097434998 l0.9245608001947403,0.981321856379509 1.0240327566862106,0.1349678821861744 l3.788672983646393,-0.3037206456065178 0.6492982804775238,-0.9091527014970779 l-7.571100923087215e-05,-3.1565386056900024 -0.3590548038482666,-0.9081955254077911 l-0.8124614506959915,-0.6367746740579605 -3.073788583278656,-0.0001390480792906601 l-1.5723294019699097,-0.14134039171040058 m9.752722382545471,-0.8430351316928864 l-0.11708999052643776,1.667443960905075 0.07987958379089832,5.075142979621887 l0.9999218583106995,0.42567119002342224 3.015364408493042,-4.883779638475971e-05 l0.7963793724775314,-0.45332059264183044 0.32694902271032333,-4.46406751871109 l-0.4459143802523613,-0.7314322888851166 -2.815892994403839,-0.00015685631296946667 l-1.6364064812660217,-0.2865491434931755 m56.23755721698217,-9.222742178722001 l20.20280122756958,-1.083131730556488 9.756060242652893,-1.2421108037233353 l6.671966314315796,0.00011426015589677263 0.5724295228719711,0.5586884170770645 l0.6260371953248978,6.567486524581909 0.5994097888469696,5.204408764839172 l0.5671560764312744,4.4819676876068115 0.49326740205287933,3.887486159801483 l0.41112057864665985,4.24492210149765 0.18957026302814484,2.967265546321869 l-0.34037649631500244,0.5659490078687668 -1.5241184830665588,0.31893856823444366 l-4.8601144552230835,0.16594192013144493 -2.926134169101715,0.22979799658060074 l-3.798604905605316,-0.0001881982279883232 -2.14098259806633,0.1789242960512638 l-5.078245997428894,-0.00011563158295757603 -2.3072096705436707,0.3367336466908455 l-5.078083872795105,0.6217892095446587 -5.88256299495697,0.3776199370622635 l-3.409688174724579,0.06407246924936771 -3.7717777490615845,-0.00015612302377121523 l-1.3600260019302368,-0.2404443919658661 -1.1259618401527405,-0.8173611760139465 l-0.9546411782503128,-1.4418916404247284 -0.7128351926803589,-2.3597250878810883 l2.388521124885301e-05,-5.913686156272888 0.09469741955399513,-7.481446862220764 l0.3679013252258301,-5.354174971580505 0.4254082217812538,-4.056740701198578 l0.6712676584720612,-2.0373450219631195 0.8835327625274658,-0.6442688405513763 l2.329666316509247,-0.011824368266388774 0.8712378889322281,0.289150383323431 m2.1382836997509003,30.059168338775635 l-0.7837609201669693,0.7451107352972031 -0.7114068418741226,1.810857206583023 l2.699934839256457e-05,2.2384102642536163 0.27759213000535965,0.8826820552349091 l0.6714437901973724,0.8156779408454895 0.9851875156164169,0.5925143882632256 l1.4567069709300995,-0.00026351151973358355 1.1267529428005219,-0.9324304759502411 l0.6339619308710098,-1.4706669747829437 0.2315940335392952,-1.4982472360134125 l-7.25189056538511e-05,-1.9562822580337524 -0.6449545919895172,-1.0076886415481567 l-1.1288156360387802,-0.4141583666205406 -1.195564940571785,-0.00021459145500557497 m27.27565288543701,-1.5823088586330414 l-0.9790972620248795,0.6659671664237976 -0.7326414436101913,1.0270312428474426 l-0.6469427794218063,1.8956264853477478 4.328360319050262e-05,2.0057234168052673 l0.4340017959475517,1.3111937046051025 1.1868438124656677,1.2607014179229736 l1.2929055094718933,0.5645359680056572 1.487227976322174,-0.0002436590875731781 l0.8462779223918915,-0.5853237584233284 1.0282156616449356,-1.5475468337535858 l0.5667015537619591,-1.6600219905376434 9.191597200697288e-05,-1.8950255215168 l-0.7845257222652435,-1.2646563351154327 -1.3003039360046387,-0.8433499932289124 l-1.9692955911159515,-0.7034943252801895 m-29.685606956481934,-21.74156665802002 l-0.017755801090970635,3.889639973640442 0.2936362475156784,3.4528639912605286 l0.8444050699472427,0.406738743185997 2.617137134075165,-8.77129514265107e-05 l3.398881256580353,-0.7640593498945236 0.5094713717699051,-1.0164553672075272 l-0.00011385692232579459,-3.021320402622223 -0.5933936685323715,-3.0682197213172913 l-0.5699217319488525,-0.6011869385838509 -0.7673846930265427,-0.28687527403235435 l-2.534899413585663,-0.00015538977095275186 -2.0868024230003357,0.4004785418510437 m10.764247179031372,-0.4578917846083641 l-0.03634842345491052,0.9476955980062485 0.018392637139186263,5.694652199745178 l0.7724618166685104,0.46182774007320404 3.8984087109565735,0.025632567703723907 l0.7137181609869003,-0.5110277980566025 0.43907683342695236,-1.2373951822519302 l3.917858975910349e-05,-2.562594711780548 -0.653478354215622,-2.2998234629631042 l-0.599028468132019,-0.5459896847605705 -2.453007698059082,-0.00018019172784988768 l-1.8230882287025452,0.11758117005228996 m9.351186156272888,-0.1721486635506153 l-0.00021500125512829982,4.04206782579422 0.1694997400045395,3.3989956974983215 l0.8603323251008987,0.2978154644370079 3.4933510422706604,-0.4962582141160965 l0.568263940513134,-0.6712568551301956 -0.03042010124772787,-4.836315214633942 l-0.7343228161334991,-1.9101949036121368 -0.7408595830202103,-0.38355641067028046 l-2.4901138246059418,-5.559955297940178e-05 \" fill=\"none\" stroke=\"black\" stroke-width=\"1\"/></svg>"
      ],
      "text/plain": [
       "<IPython.core.display.SVG object>"
      ]
     },
     "metadata": {},
     "output_type": "display_data"
    }
   ],
   "source": [
    "stroke_grid = make_grid_svg(reconstructions)\n",
    "draw_strokes(stroke_grid)"
   ]
  },
  {
   "cell_type": "markdown",
   "metadata": {
    "colab_type": "text",
    "id": "flZ_OgzCFQwJ"
   },
   "source": [
    "Why stop here? Let's load the model trained on both elephants and pigs!!!"
   ]
  },
  {
   "cell_type": "code",
   "execution_count": 50,
   "metadata": {
    "colab": {},
    "colab_type": "code",
    "id": "S8WwK8FPFQwK"
   },
   "outputs": [],
   "source": [
    "model_dir = '/tmp/sketch_rnn/models/elephantpig/lstm'"
   ]
  },
  {
   "cell_type": "code",
   "execution_count": 51,
   "metadata": {
    "colab": {
     "base_uri": "https://localhost:8080/",
     "height": 255
    },
    "colab_type": "code",
    "id": "meOH4AFXFQwM",
    "outputId": "764938a7-bbdc-4732-e688-a8a278ab3089"
   },
   "outputs": [
    {
     "name": "stdout",
     "output_type": "stream",
     "text": [
      "INFO:tensorflow:Model using gpu.\n",
      "INFO:tensorflow:Input dropout mode = False.\n",
      "INFO:tensorflow:Output dropout mode = False.\n",
      "INFO:tensorflow:Recurrent dropout mode = False.\n",
      "INFO:tensorflow:Model using gpu.\n",
      "INFO:tensorflow:Input dropout mode = 0.\n",
      "INFO:tensorflow:Output dropout mode = 0.\n",
      "INFO:tensorflow:Recurrent dropout mode = 0.\n",
      "INFO:tensorflow:Model using gpu.\n",
      "INFO:tensorflow:Input dropout mode = 0.\n",
      "INFO:tensorflow:Output dropout mode = 0.\n",
      "INFO:tensorflow:Recurrent dropout mode = 0.\n",
      "INFO:tensorflow:Loading model /tmp/sketch_rnn/models/elephantpig/lstm/vector.\n",
      "INFO:tensorflow:Restoring parameters from /tmp/sketch_rnn/models/elephantpig/lstm/vector\n"
     ]
    }
   ],
   "source": [
    "[hps_model, eval_hps_model, sample_hps_model] = load_model_compatible(model_dir)\n",
    "# construct the sketch-rnn model here:\n",
    "reset_graph()\n",
    "model = Model(hps_model)\n",
    "eval_model = Model(eval_hps_model, reuse=True)\n",
    "sample_model = Model(sample_hps_model, reuse=True)\n",
    "sess = tf.InteractiveSession()\n",
    "sess.run(tf.global_variables_initializer())\n",
    "# loads the weights from checkpoint into our model\n",
    "load_checkpoint(sess, model_dir)"
   ]
  },
  {
   "cell_type": "code",
   "execution_count": 52,
   "metadata": {
    "colab": {
     "base_uri": "https://localhost:8080/",
     "height": 121
    },
    "colab_type": "code",
    "id": "foZiiYPdFQwO",
    "outputId": "a09fc4fb-110f-4280-8515-c9b673cb6b90"
   },
   "outputs": [
    {
     "data": {
      "image/svg+xml": [
       "<svg baseProfile=\"full\" height=\"84.39294247060388\" version=\"1.1\" width=\"116.88713392543832\" xmlns=\"http://www.w3.org/2000/svg\" xmlns:ev=\"http://www.w3.org/2001/xml-events\" xmlns:xlink=\"http://www.w3.org/1999/xlink\"><defs/><rect fill=\"white\" height=\"84.39294247060388\" width=\"116.88713392543832\" x=\"0\" y=\"0\"/><path d=\"M55.65464362740386,30.163856310750816 m-1.5810929238796234,-0.19149662926793098 l-6.98004424571991,-0.8053287118673325 -2.508322596549988,-0.04218673799186945 l-5.033837556838989,0.602240301668644 -3.78521591424942,1.274067908525467 l-4.707496464252472,2.5479519367218018 -4.0027400851249695,3.5073265433311462 l-0.991021990776062,1.4521467685699463 -1.0646796226501465,2.922743260860443 l-0.0001922273622767534,2.945031523704529 0.6065225601196289,1.2376271933317184 l2.011314332485199,1.9135689735412598 2.1845829486846924,1.3121578097343445 l4.1543468832969666,1.3667291402816772 3.8509491086006165,0.6407932937145233 l7.966506481170654,7.173362973844633e-05 10.263968706130981,-1.3055361807346344 l9.131580591201782,-2.2968274354934692 3.76935213804245,-1.6176100075244904 l1.2466195970773697,-0.9084475785493851 1.4899322390556335,-1.9644221663475037 l1.0156791657209396,-3.024853765964508 -8.46860530145932e-05,-2.8669384121894836 l-1.103101447224617,-2.234712392091751 -1.8242311477661133,-1.8128259479999542 l-2.390792965888977,-1.3109223544597626 -4.349144399166107,-1.3511545956134796 l-5.278578996658325,-0.7608072459697723 -4.243663549423218,-5.7976008065452334e-05 m-22.535314559936523,20.36210298538208 l-0.6328023225069046,2.1940258145332336 -1.5900060534477234,5.095011591911316 l0.2613317593932152,1.3243061304092407 1.467428207397461,0.36274511367082596 l1.1866340786218643,-0.7538918405771255 1.0335305333137512,-1.2596981227397919 l1.158449724316597,-2.549106478691101 0.8462019264698029,-2.7934420108795166 m4.00130569934845,0.9284199774265289 l-0.4777313768863678,4.583089649677277 0.5238213017582893,2.1144358813762665 l1.272851973772049,0.39275921881198883 1.1615706980228424,-1.0066583752632141 l0.8383920788764954,-1.4358720183372498 0.7224348932504654,-2.6741665601730347 l-9.255430995835923e-05,-1.962403655052185 m15.956672430038452,-1.1305610835552216 l-0.056964075192809105,1.341911405324936 0.4730125144124031,4.790021777153015 l1.4306330680847168,1.5760181844234467 1.1359553784132004,-0.6850611418485641 l0.637085884809494,-1.326376348733902 0.49317270517349243,-2.8154096007347107 l0.00010204455065832008,-2.743893265724182 -0.21261265501379967,-0.6111627072095871 m3.3415529131889343,-1.3031749427318573 l0.7455886155366898,5.16635000705719 1.5359753370285034,2.281440794467926 l1.5592433512210846,-1.0691852122545242 0.6676165014505386,-2.5676870346069336 l-2.490904080332257e-05,-3.072846233844757 -0.7074183970689774,-2.0110736787319183 m2.524765133857727,-16.595784425735474 l0.4689766839146614,-1.7617437243461609 1.462843269109726,-1.7546288669109344 l1.8813693523406982,-1.423317790031433 2.163662314414978,-0.9877685457468033 l3.316315710544586,-0.6097176298499107 3.441630005836487,-0.00019179760784027167 l1.5502722561359406,0.4725910723209381 2.2445936501026154,1.4955337345600128 l1.4126363396644592,1.557823121547699 0.8898390084505081,1.6608448326587677 l0.7908759266138077,3.0831795930862427 -0.0001123970650951378,3.414500653743744 l-0.888741984963417,2.50946968793869 -1.4601093530654907,1.8741236627101898 l-3.244042992591858,2.216484099626541 -4.3036916851997375,1.3110773265361786 l-4.79164332151413,0.2537163160741329 -2.502366006374359,-0.5292356014251709 l-3.205552399158478,-1.6030408442020416 -1.0683152824640274,-0.9283933043479919 l-1.091400682926178,-1.9999074935913086 \" fill=\"none\" stroke=\"black\" stroke-width=\"1\"/></svg>"
      ],
      "text/plain": [
       "<IPython.core.display.SVG object>"
      ]
     },
     "metadata": {},
     "output_type": "display_data"
    }
   ],
   "source": [
    "z_0 = np.random.randn(eval_model.hps.z_size)\n",
    "_ = decode(z_0)"
   ]
  },
  {
   "cell_type": "code",
   "execution_count": 53,
   "metadata": {
    "colab": {
     "base_uri": "https://localhost:8080/",
     "height": 163
    },
    "colab_type": "code",
    "id": "6Gaz3QG1FQwS",
    "outputId": "0cfc279c-1c59-419f-86d4-ed74d5e38a26"
   },
   "outputs": [
    {
     "data": {
      "image/svg+xml": [
       "<svg baseProfile=\"full\" height=\"125.77196901016578\" version=\"1.1\" width=\"111.93471289151148\" xmlns=\"http://www.w3.org/2000/svg\" xmlns:ev=\"http://www.w3.org/2001/xml-events\" xmlns:xlink=\"http://www.w3.org/1999/xlink\"><defs/><rect fill=\"white\" height=\"125.77196901016578\" width=\"111.93471289151148\" x=\"0\" y=\"0\"/><path d=\"M39.30058768912801,29.396946225451757 m2.466309517621994,-0.8396804332733154 l2.6414796710014343,-0.7683127373456955 6.23240053653717,-0.906844288110733 l4.974174201488495,-0.0007165598071878776 4.425634443759918,0.5802946165204048 l4.130219221115112,1.1468175053596497 3.5510942339897156,1.5242181718349457 l3.039918839931488,1.816868633031845 2.5375717878341675,2.0940768718719482 l2.160451263189316,2.422517091035843 1.6154652833938599,2.657209634780884 l1.1422748118638992,2.8952646255493164 0.6691225618124008,3.0540183186531067 l0.257926769554615,3.2580628991127014 -0.6504880636930466,5.572880506515503 l-0.8440206944942474,2.4299830198287964 -2.923305332660675,4.808176159858704 l-1.7812703549861908,1.974032074213028 -4.2777228355407715,3.316536843776703 l-2.4580271542072296,1.2997844815254211 -5.278076529502869,1.668744534254074 l-2.7433720231056213,0.4179060831665993 -5.398340225219727,0.0165618269238621 l-3.9518901705741882,-0.8872419595718384 -3.690348267555237,-1.7792919278144836 l-3.022150993347168,-2.019026279449463 -2.6420941948890686,-2.326369434595108 l-3.637537956237793,-4.527410268783569 -1.3432589173316956,-2.446875423192978 l-1.4981293678283691,-4.708947241306305 -0.618724413216114,-4.162654280662537 l0.00028746246243827045,-6.440081000328064 1.088704913854599,-3.2268190383911133 l1.5603314340114594,-2.730584740638733 1.97237029671669,-2.3277996480464935 l2.2628748416900635,-1.8477605283260345 2.3471756279468536,-1.2594586610794067 l2.364840656518936,-0.7068992406129837 m6.601599454879761,17.317445278167725 l-0.1982416957616806,-0.00016350622900063172 -0.16813836991786957,1.4346790313720703 l0.0444234162569046,1.2169358879327774 0.7203037291765213,1.152811199426651 l1.5659749507904053,0.6028443947434425 1.2706305086612701,-0.8175742626190186 l-0.13346449472010136,-2.4895288050174713 -1.2086968123912811,-1.093163713812828 l-1.1381527781486511,-0.00019954184608650394 m10.179977416992188,-0.05825186613947153 l-0.11997241526842117,-6.84078531776322e-05 0.7073769718408585,1.0321871936321259 l0.887950211763382,0.555487759411335 0.6105286628007889,-0.08827425539493561 l-0.6035565957427025,-1.7746558785438538 -1.2745103240013123,-0.5812449008226395 m-13.589409589767456,-5.1249682903289795 l0.003763852291740477,-0.00021434339942061342 m16.71762228012085,-0.26831259950995445 l-4.4574162529897876e-05,-0.00028827584173996 m-22.8529953956604,1.3675306737422943 l-0.18991591408848763,-1.5497078001499176 -0.3939436748623848,-2.820020914077759 l-0.7306604832410812,-5.294279456138611 1.0183222591876984,-2.2380851209163666 l1.5708376467227936,-1.7536905407905579 1.984451562166214,-1.2357830256223679 l3.4321504831314087,-0.9292027354240417 3.7311989068984985,-0.00036960987927159294 l1.9365495443344116,1.4496597647666931 1.36360764503479,1.9878526031970978 l0.8216499537229538,2.174900770187378 m13.16185474395752,3.0276453495025635 l0.317709743976593,-1.8144163489341736 1.5873873233795166,-1.971038281917572 l3.291836380958557,-2.5055307149887085 2.8428441286087036,-1.3666418194770813 l2.5954514741897583,-0.00035980006941827014 1.4382730424404144,1.2327762693166733 l0.9904154390096664,1.9098013639450073 0.522199422121048,2.3177050054073334 l3.833505104466894e-06,4.060451090335846 -1.0145383328199387,2.8634706139564514 l-1.6053979098796844,2.261752188205719 m-27.391066551208496,14.964414834976196 l-1.330937147140503,-0.13742190785706043 -2.622731328010559,-0.00016483585568494163 l-7.468867897987366,1.2059932202100754 -3.7372034788131714,1.4590205252170563 l-5.490885376930237,3.249233663082123 -2.979823648929596,2.920646071434021 l-2.225082665681839,2.9055970907211304 -1.5225616097450256,2.956148684024811 l-0.908241793513298,3.0525964498519897 -0.0003127015588688664,5.080428719520569 l1.6314394772052765,2.8830209374427795 2.6575657725334167,2.6069703698158264 l3.5127127170562744,2.1820084750652313 4.372570216655731,1.7550645768642426 l4.979684054851532,1.15248441696167 5.408677458763123,0.5732016637921333 l8.761988282203674,-0.00018348304365645163 7.365406155586243,-0.9202028065919876 l6.355506181716919,-1.6410519182682037 5.261538028717041,-2.139223664999008 l4.198947250843048,-2.5143665075302124 3.2903993129730225,-2.9442885518074036 l2.315419614315033,-3.254616856575012 1.3650023937225342,-3.447987139225006 l0.45780766755342484,-3.430245518684387 4.830681518797064e-05,-4.362887740135193 l-0.7184808701276779,-3.649078607559204 -1.2368687987327576,-2.870417535305023 l-1.6611205041408539,-2.3260508477687836 -2.0083869993686676,-1.810731440782547 l-2.3010212182998657,-1.38491690158844 -2.3925189673900604,-0.8925186097621918 l-4.417359828948975,-0.7691798359155655 m-38.534908294677734,27.560391426086426 l-1.5717250108718872,1.2997990846633911 -1.945619136095047,3.6364057660102844 l-1.427426040172577,5.003323554992676 -0.8643848448991776,9.574729204177856 l1.3367865979671478,2.61799693107605 \" fill=\"none\" stroke=\"black\" stroke-width=\"1\"/></svg>"
      ],
      "text/plain": [
       "<IPython.core.display.SVG object>"
      ]
     },
     "metadata": {},
     "output_type": "display_data"
    }
   ],
   "source": [
    "z_1 = np.random.randn(eval_model.hps.z_size)\n",
    "_ = decode(z_1)"
   ]
  },
  {
   "cell_type": "markdown",
   "metadata": {
    "colab_type": "text",
    "id": "oVtr7NnGFQwU"
   },
   "source": [
    "Tribute to an episode of [South Park](https://en.wikipedia.org/wiki/An_Elephant_Makes_Love_to_a_Pig): The interpolation between an Elephant and a Pig"
   ]
  },
  {
   "cell_type": "code",
   "execution_count": 54,
   "metadata": {
    "colab": {},
    "colab_type": "code",
    "id": "lJs9JbROFQwU"
   },
   "outputs": [],
   "source": [
    "z_list = [] # interpolate spherically between z_1 and z_0\n",
    "N = 10\n",
    "for t in np.linspace(0, 1, N):\n",
    "  z_list.append(slerp(z_0, z_1, t))\n",
    "# for every latent vector in z_list, sample a vector image\n",
    "reconstructions = []\n",
    "for i in range(N):\n",
    "  reconstructions.append([decode(z_list[i], draw_mode=False, temperature=0.15), [0, i]])"
   ]
  },
  {
   "cell_type": "code",
   "execution_count": 55,
   "metadata": {
    "colab": {},
    "colab_type": "code",
    "id": "0FOuNfJMFQwW"
   },
   "outputs": [],
   "source": [
    "stroke_grid = make_grid_svg(reconstructions, grid_space_x=25.0)"
   ]
  },
  {
   "cell_type": "code",
   "execution_count": 56,
   "metadata": {
    "colab": {
     "base_uri": "https://localhost:8080/",
     "height": 130
    },
    "colab_type": "code",
    "id": "bZ6zpdiMFQwX",
    "outputId": "70679bd1-4dba-4c08-b39f-bbde81d22019"
   },
   "outputs": [
    {
     "data": {
      "image/svg+xml": [
       "<svg baseProfile=\"full\" height=\"101.84665970504284\" version=\"1.1\" width=\"864.914488599037\" xmlns=\"http://www.w3.org/2000/svg\" xmlns:ev=\"http://www.w3.org/2001/xml-events\" xmlns:xlink=\"http://www.w3.org/1999/xlink\"><defs/><rect fill=\"white\" height=\"101.84665970504284\" width=\"864.914488599037\" x=\"0\" y=\"0\"/><path d=\"M25,34.81908943504093 m0.0,0.0 m43.15717768851452,6.185651581679963 l-1.0994740327199302,-0.12438283612330756 -5.148743788401286,-0.0006659481732640415 l-1.636849045753479,0.20187880843877792 -4.688119888305664,1.0411961873372397 l-2.3284612099329633,0.9084366758664449 -2.5436009963353476,1.5671858191490173 l-2.203916112581889,2.111629843711853 -0.6188881893952688,0.9702915946642559 l-0.616314560174942,1.853104829788208 -0.00011798035605655363,1.749005119005839 l0.40455053249994916,0.8420670032501221 1.373057266076406,1.2348259488741558 l1.5703901648521423,0.8532803257306417 2.9344509045283003,0.9067271153132122 l2.4614777167638144,0.387178435921669 5.278935432434082,0.00010851671201332162 l3.8491642475128174,-0.49586589137713116 6.7218852043151855,-1.2951930363972983 l2.970829804738363,-0.8759680390357971 1.0476087530454001,-0.5271015067895254 l2.013956904411316,-1.9109872976938884 0.5703922112782797,-1.1254298686981201 l0.3768586119016012,-1.924663782119751 -2.2458431582587462e-05,-2.034045259157817 l-0.6818310419718425,-1.6464475790659587 -1.17720236380895,-1.272666652997335 l-1.5234661102294922,-0.8305984735488892 -2.9387917121251426,-0.7976740101973216 l-3.007877071698507,-0.00016068417608039454 -1.7768007516860962,0.3643705447514852 m-16.30742390950521,14.066317876180014 l-0.45353223880132043,1.2644631663958232 -1.1891567707061768,3.499093850453695 l-0.18663821121056876,1.5623048941294353 0.8327314754327139,0.4265791177749634 l1.56044602394104,4.331617446950986e-06 0.7489706575870514,-0.4565297067165375 l0.9467418988545736,-1.3049452503522239 0.7773843904336294,-2.8016644716262817 l0.489745835463206,-1.3080085317293804 m11.506384213765463,-0.8478399117787679 l-0.2189827213684718,2.251024643580119 0.08080465719103813,3.143749038378398 l0.3245074301958084,0.8674333492914836 0.9861180186271667,0.29449107746283215 l1.0326971610387168,0.00010315394320059568 0.9492695331573486,-0.2867888410886129 l0.5004192888736725,-0.7468810180823009 0.39227063457171124,-1.7019136746724448 l3.4082240745192394e-05,-2.3736908038457236 -0.24526866773764294,-1.5982356667518616 m6.99065367380778,-7.049687703450521 l0.16310039907693863,0.007324137259274721 2.4449034531911216,0.9383609890937805 l1.5407673517862956,0.5815277993679047 1.5189287066459656,1.3432231545448303 l0.7502936820189159,1.8590972820917766 0.1852652058005333,2.0100754499435425 l-0.3592460850874583,1.2948344151178997 -0.8172322809696198,0.7766502102216085 l-2.6759976148605347,0.8334693312644958 -2.0538318157196045,-0.00011424843251006678 l-1.5147414803504944,-0.8524240056673686 -1.317981481552124,-1.63545032342275 l-0.584490994612376,-1.7731835444768271 -0.00010292795195709914,-1.392320195833842 l0.41285815338293713,-1.1180760463078818 m3.7179426352183027,-2.4024520317713423 l0.4443988700707754,-0.034305847560366 1.0618565479914348,0.6497984131177267 l0.9163644909858704,1.1106806993484497 0.3095478067795436,1.6081494092941284 l-0.2860884616772334,1.1909825603167217 -0.817115306854248,0.8714014291763306 l-0.9892821311950684,0.3722695509592692 -1.2825392683347068,-5.112582357469364e-06 l-0.9108710289001465,-0.9431669116020203 -0.489466538031896,-1.1727756261825562 l-0.00011627838830463588,-1.4008284608523052 0.4386499524116516,-0.6663649777571361 m71.06314693075112,-3.6135300429742756 l-0.8597704768180847,-0.160341610511144 -3.8723480701446533,-0.7759294410546621 l-1.5251128872235618,-0.12249724318583807 -3.4590081373850508,-1.6584029557028167e-05 l-2.9803240299224854,0.8249148726463318 -1.2660972277323406,0.6255640089511871 l-2.124526103337606,1.715697447458903 -1.5664035081863403,2.279459238052368 l-0.4033057639996211,2.557584047317505 -3.558240678103175e-05,2.036338845888774 l1.5436649322509766,1.9447569052378337 2.4391329288482666,1.0861371954282126 l2.3570452133814497,0.5461217959721884 4.552098512649536,-9.362842320115305e-05 l3.2755728562672934,-0.2996078133583069 2.1325403451919556,-0.5334295829137167 l2.4085472027460737,-1.1056369543075562 1.2129693229993186,-0.799304743607839 l1.411330799261729,-1.5199974179267883 0.5587397515773773,-1.0103651881217957 l0.5052715539932251,-1.8619408210118613 -5.770329759495023e-05,-1.945131818453471 l-0.6571768224239349,-1.5700197219848633 -1.0892594854036968,-1.1399475733439128 l-2.0781960090001426,-1.1739025513331096 -1.6250766317049663,-0.37779798110326135 m-14.446843465169271,10.3567639986674 l-0.632086346546809,0.6861926118532817 -2.3533187309900923,4.192674160003662 l-0.3910679121812185,1.4159214496612549 0.5159804224967957,1.238120198249817 l1.6324384013811748,0.3656911104917526 0.8066700398921967,-0.5056747297445934 l1.106123924255371,-1.5493019421895347 0.9030566612879436,-2.357545495033264 l0.45560275514920556,-1.1495948831240337 m10.960909525553387,-1.7041254043579102 l-0.009328453646351894,1.6454978783925376 0.44418200850486755,3.1608023246129355 l1.261404057343801,1.4614155888557434 0.8481394251187643,0.38676949838797253 l0.7364858190218608,-0.5464407801628113 0.5275855958461761,-1.508904298146566 l1.4703250599268358e-05,-2.6338956753412885 -0.5661378304163616,-1.5249030788739524 m-12.6677139600118,-7.534042994181315 l-0.504708339770635,-0.6220241884390514 -0.7756224771340688,-1.2688636779785156 l-1.156661113103231,-2.6914701859156294 -0.12324510763088863,-1.3858683904012046 l0.241210808356603,-1.2810592850049338 0.5621426800886791,-1.080435613791148 l0.8348315954208374,-0.9325103958447775 2.6164791981379194,-1.303097705046336 l1.7163759469985962,-0.3286585956811905 2.719554305076599,2.30102750720107e-05 l2.1067939201990766,0.41179674367109936 1.6845697164535522,0.6889613469441732 l2.130930026372274,1.4692025383313498 1.2188025315602622,1.2883338332176208 l1.1119961738586426,2.114770809809367 0.41375646988550824,1.6130989789962769 l-5.260685990530571e-06,1.9432133436203003 -0.5121243496735891,1.4147472381591797 l-0.9067406256993612,1.1087303360303244 -1.099659005800883,0.6436739365259807 m2.623623013496399,-8.113505840301514 l0.3972155352433523,-0.9821597735087078 1.3711691896120708,-1.1616272727648418 l1.914400855700175,-1.0689341028531394 2.0629062255223594,-0.7783394058545431 l2.0136306683222456,-0.4154798140128454 3.366268078486125,-8.819233092557019e-05 l1.72772487004598,0.5803198119004568 1.4478274186452231,0.9060534834861755 l1.7755921681722007,1.8235250314076743 0.9756006797154745,1.5555269519488018 l0.5939710636933645,1.5470742185910544 0.3879318883021673,2.453328569730123 l-6.044154361006804e-05,2.2939682006835938 -0.5422651767730713,1.7647997538248699 l-1.0275166233380637,1.39451930920283 -1.477512319882711,1.012701690196991 l-3.168694575627645,1.1153721809387207 -2.44124968846639,0.2901777376731237 l-3.4104124704996748,-4.668305943293187e-05 -1.924142837524414,-0.4335877299308777 l-2.3655176162719727,-1.173007090886434 -1.139450470606486,-1.0203076402346294 m71.23729177931504,-13.02647280281993 l-0.6525579591592153,-0.20288097361723584 -2.994922200838725,-1.1379789312680564 l-1.3021981716156006,-0.2669442445039749 -3.2537875572840376,-0.00015490585307513055 l-1.365487277507782,0.2787976215283076 -2.670870025952657,1.1650815606117249 l-2.4929068485895796,2.0300904909769697 -1.0872966051101685,1.6795017321904502 l-0.6086536248524984,2.449459433555603 -2.1616512337156262e-05,1.8474062283833823 l0.45733620723088586,0.9817232688268026 1.583496630191803,1.5922691424687705 l2.8736835718154907,1.1594386895497641 5.89623769124349,0.6675471862157186 l4.189759095509848,-0.00015362893464043736 1.2102470795313518,-0.2579069882631302 l0.8157916367053986,-0.5328769981861115 1.5446735421816509,-2.1416884660720825 m4.731466372807821,-9.737741152445476 l0.3938695788383484,-0.9126666188240051 0.8787372708320618,-0.9292528033256531 l1.2649127840995789,-0.9247549374898275 1.4533538619677226,-0.6868764261404674 l2.3982584476470947,-0.547696053981781 3.0925045410792036,-0.00016091349001120156 l1.224068601926168,0.29148638248443604 2.0440691709518433,1.041730542977651 l1.421289642651876,1.115191678206126 0.9888126452763876,1.195314625898997 l0.9923826654752096,2.1458675463994346 0.3950265049934387,1.764458417892456 l-3.619325677088152e-05,2.0340293645858765 -0.6393719712893169,1.5840959548950195 l-1.216603716214498,1.3920196890830994 -1.6322437922159831,1.0523348053296409 l-3.06122620900472,0.9770431121190389 -3.2835328578948975,0.18133539706468582 l-1.685021718343099,-0.4188056786855062 -1.4730783303578696,-0.7322296003500621 m-14.393477439880371,-4.0190450350443525 l0.6043566266695659,-0.4373741149902344 0.7816416025161743,-0.4971981545289358 l2.22246785958608,-0.6342212359110515 1.4856861035029094,-5.6140925153158605e-05 l1.7505826552708945,0.6708937386671703 1.1554491519927979,0.9067293008168539 l1.051940421263377,1.628494163354238 0.3888641794522604,1.3193267583847046 l0.007752242963761091,2.0033582051595054 -0.6367676456769308,1.4249335726102195 l-1.0833874344825745,1.0192461808522544 -2.282972534497579,1.1207593480745952 l-1.8855998913447063,0.3349259247382482 -2.455958127975464,-7.256520499746937e-05 l-1.5324359138806662,-0.4885745048522949 -1.3273968299229941,-0.7908196250597637 l-1.5712834397951763,-1.6490492224693298 -1.1407831311225891,-2.2997297843297324 l-0.44123505552609765,-2.6550690333048506 5.3446541035858296e-05,-2.1588246027628584 l0.3970547020435333,-1.5600356459617615 0.693612943092982,-1.2379743655522666 l0.9511785705884298,-0.9631986419359844 1.102638045946757,-0.6498586634794872 l1.1709587772687278,-0.30446959038575494 1.8692765633265178,0.12138516952594122 m0.12016995499531428,12.148118019104004 l0.25229516128698987,1.6281876961390178 0.3078811864058177,2.5598935286204023 l0.2446177105108897,2.6170541842778525 0.3004360695679983,2.221798300743103 l0.5125969648361206,2.1744747956593833 0.6776824096838634,1.5396243333816528 l0.8707956473032634,1.1228232582410178 1.0580853621164958,0.7289033631483715 l1.2684735655784607,0.45594548185666406 3.9121226469675703,0.4797886312007904 l4.920521577199301,-0.05045998220642408 5.768498579661052,-0.47775084773699444 l5.455362002054851,-0.6517559289932251 5.304642120997111,-1.231901546319326 l3.9059607187906904,-1.610576609770457 1.1043721437454224,-0.7756092647711437 l1.4218606551488242,-1.7060049374898276 1.0564781228701274,-2.461339632670085 l0.3616727143526077,-2.101801037788391 -9.767776039855866e-05,-2.7486069997151694 l-0.7582856218020122,-2.2037378946940107 -1.3019337256749473,-1.7905916770299277 l-1.7211586236953735,-1.3983889420827231 -3.16968043645223,-1.474510133266449 l-3.9884138107299805,-1.0040606061617534 -4.568146864573161,-0.5250572164853414 l-4.520310560862224,-4.623446026622939e-05 m68.24417618525028,-7.123418908082992 l-0.46101073424021405,-0.24371325969696045 -2.2493205467859907,-1.4046468337376914 l-1.1248189210891724,-0.4247303307056427 -2.179871400197347,-0.3856288144985835 l-2.62674351533254,-0.00023926661621468764 -1.6254973411560059,0.6214505434036255 l-1.3822866479555767,1.2373179197311401 -0.8311256766319275,1.5318061908086142 l-0.4528003931045532,2.499333222707113 7.165527373823959e-05,2.529926896095276 l2.057231863339742,2.45989998181661 1.8081557750701904,0.7291405399640402 l1.9519094626108806,0.35600148141384125 2.87831981976827,-0.00015328004034624126 l2.1254513661066694,-0.32814472913742065 m15.388243993123373,-8.398338953653973 l0.3199561188618342,-1.0443328817685447 1.7765450477600098,-1.5559670329093933 l1.892388661702474,-1.1007431149482727 1.8730960289637248,-0.666873057683309 l2.6999274889628095,-0.33919423818588257 2.153870264689128,-0.0001790671497777415 l1.843849023183187,0.3511745979388555 2.3201749722162885,1.1422893404960632 l0.9804068009058635,0.9044008453687032 1.0700623194376628,1.8606613079706829 l0.5499677360057831,1.7775720357894897 0.22918082773685455,2.7934668461481733 l-0.1878338803847631,1.2070510784784954 -0.6632400552431743,1.3476698597272239 l-1.2422769268353782,1.2722341219584148 -2.7334006627400718,1.4085179567337036 l-2.2390375534693403,0.5034048358599346 -3.4787070751190186,0.17191483328739804 l-1.1178707083066306,-0.13932855178912482 m-17.000387509663902,-4.8102521896362305 l2.066923975944519,-0.5016796787579855 5.172555049260458,-0.2950334797302882 l1.7778648932774863,0.4377877215544383 1.517299016316732,0.7935524980227153 m-9.892788728078207,3.1237969795862837 l0.3101266920566559,2.7605096499125166 0.8397839466730754,2.439479430516561 l1.3069603840510051,1.7239540815353394 1.3940555850664775,1.1715596914291382 l1.4896222949028015,0.7422994573911031 1.6077601909637451,0.38119437793890637 l2.579968571662903,-9.343454924722513e-05 1.7295068502426147,-0.7010491192340851 l1.5452139576276145,-1.0367103417714438 1.2812140583992004,-1.240849792957306 l0.9689374764760336,-1.4024618268013 0.5798099935054779,-1.4094696442286174 l0.28402184446652734,-2.1892140309015913 -5.552637958317064e-05,-1.8560141324996948 l-0.4561598598957062,-1.5056328972180686 -0.9092529614766439,-1.2794287006060283 l-1.1572681864102683,-0.793054848909378 -1.4983126521110535,-0.4609554012616476 l-2.6412657896677656,-0.00016471642690400284 -1.0932759443918865,0.2892750998338064 l-2.0555021365483603,1.0271755854288738 m-4.003429810206096,4.0895311037699384 l0.5174464980761211,1.3035606344540915 0.5661131938298544,1.8618110815684001 l0.7278958956400554,1.725916067759196 0.8304729561010997,1.761476198832194 l0.913264552752177,2.190805276234945 0.7849830389022827,2.3765583833058677 l0.7214130461215973,2.63033131758372 0.8330083390076956,2.503535350163778 l1.2580506006876628,2.3177433013916016 1.8144547939300537,1.4620736241340637 l2.063187162081401,0.5616823335488638 3.350248734156291,0.1460490127404531 l1.270192265510559,-0.3256253649791082 1.7143307129542034,-1.1346585551897685 l1.1903507510821025,-1.2645391623179119 1.0202905535697937,-2.0326952139536543 l0.4637070993582408,-1.915687918663025 -1.3555462222332912e-05,-1.9465919335683188 l-0.7057470579942068,-2.4244681994120283 -1.1375091473261516,-2.0691831906636557 l-2.627491156260173,-2.7988376220067344 -1.808100740114848,-1.8805261452992759 l-2.8650023539861045,-2.558339635531108 -2.399892807006836,-1.44997239112854 l-2.551367481549581,-0.8422873417536418 -1.2907454371452332,-0.27397021651268005 m-6.126654148101807,3.7247300148010254 l0.0857148381570975,2.3700354496637983 m78.91300256140616,-9.149924334936562 l-0.2753266940514247,-0.2972556898991267 -1.5108048915863037,-1.5116084615389507 l-0.8436736464500427,-0.5574535330136617 -2.3491857449213667,-0.7975947856903076 l-1.5870195627212524,0.0035282030391196413 -1.383784313996633,0.6619023283322653 l-1.0533390442530315,1.2563537557919822 -0.9963851173718771,2.4481083949406943 l-1.8284187414489377e-05,2.055535117785136 0.5034966766834259,1.1240848898887634 l1.466087301572164,1.5268617868423462 2.9857736825942993,1.7037808895111084 l2.3647449413935346,0.6558132171630859 2.422324021657308,-0.0001809316624227601 m14.918473561604818,-7.546955744425456 l0.199961190422376,-1.163331965605418 1.590504546960195,-1.7454183101654053 l1.8071359395980835,-1.0663788517316184 2.800956169764201,-0.8658230304718018 l2.2191303968429565,-0.169121523698171 1.7286046346028647,0.2278753121693929 l1.5669966737429302,0.6159661710262299 1.2981037298838298,0.9174514810244243 l1.0062426328659058,1.1411356925964355 0.6679605940977733,1.301638682683309 l0.35746142268180847,1.4628938833872478 1.695875046910563e-05,1.7917042970657349 l-0.6025823454062145,1.5026541550954184 -1.110114653905233,1.303536097208659 l-2.277204394340515,1.4741397897402446 -3.2601040601730347,1.0596901178359985 m-18.634675343831383,-1.652223269144694 l-0.5289473136266073,1.027732292811076 -0.00012785198729640496,1.8023000160853069 l0.9750501314798992,1.0953135291735332 1.8623115619023642,0.08599304904540381 l1.0461088021596274,-0.6648903091748556 0.4260980586210887,-1.383642057577769 l-2.9590976661590202e-06,-1.3340207934379578 -0.9025336305300395,-0.9778303901354473 l-1.170484224955241,-0.2539231876532237 m9.327028592427572,0.7903244594732921 l-0.4530188937981924,1.5530993541081748 0.8677319685618083,1.050007939338684 l1.2328389286994934,0.2840433269739151 0.994085967540741,-0.7203981777032217 l0.3398723900318146,-1.0507922371228537 -2.2677735008376963e-05,-1.308258374532064 l-0.9518234928448995,-0.9208914637565613 -1.3004932800928752,-0.2075499420364698 m-10.50665060679118,5.6575580437978115 l-0.8680951595306396,1.0406891504923503 -0.46114102005958557,1.7759966850280762 l-0.00011107816438501081,2.8967760006586714 0.761842280626297,1.4635679125785828 l1.957738200823466,1.428798039754232 2.21506675084432,0.8168154458204906 l2.2920972108840942,0.37440329790115356 3.2742003599802656,-0.00011290514521533623 l2.0609289407730103,-0.5926831563313802 1.8055278062820435,-0.9123796224594116 l1.428784728050232,-1.0829538106918335 0.9900260965029399,-1.1878946423530579 l0.5930623908837637,-1.2945574522018433 0.22121695180734,-1.3676932454109192 l-0.15252629915873211,-1.3815714915593467 -0.5471510688463848,-1.266670326391856 l-1.7734740177790325,-1.7797350883483887 -2.1279563506444297,-1.1416435241699219 l-3.483779033025106,-0.8947550257047018 -2.402151425679525,-0.06544496243198714 l-1.944912075996399,0.49438635508219403 -1.4000585675239563,0.8597344160079956 l-0.9644245107968649,1.1762665708859763 -0.4809867342313131,1.3905779520670574 m3.6936581134796143,2.5305843353271484 l0.25222234427928925,1.3491944471995037 0.8016738792260488,1.2407973408699036 l1.1068554719289145,0.6731336812178295 0.8573128779729208,-0.6606984635194143 l-0.16772042959928513,-2.199026942253113 -0.8267799019813538,-0.7306436200936636 l-1.0835031668345134,-0.26756979525089264 m5.298757553100586,0.053314200292030975 l0.4141592731078466,2.4653106927871704 1.496116320292155,0.6903020044167837 l0.8979201316833496,-0.8459869027137756 0.2199321488539378,-1.1688035726547241 l-0.6625946859518688,-0.9681618213653564 -1.1663347482681274,-0.5306802193323772 m-14.533217748006185,-5.164155960083008 l1.2171635031700134,-0.2907782296339671 2.987282474835714,-0.9196802973747253 l6.160716613133749,-1.2771939237912497 7.795564333597819,-0.8815297484397888 l4.312625328699748,-0.00026323403290007263 m54.35841877788998,-5.978217007310984 l0.07086483761668205,-0.3408933927615484 -0.7253067195415497,-1.6824913024902344 l-0.5060042440891266,-1.0072904825210571 0.00020716252038255334,-1.6714427868525188 l0.7061455150445303,-0.6421229243278503 1.0087172190348308,0.38259245455265045 l2.153143684069316,2.1862296263376875 2.0210816462834678,1.4334716399510703 l1.143823266029358,0.49218470851580304 1.5776698788007102,-0.0002439435290095086 l1.774707833925883,-0.3933253387610118 1.9637644290924072,-0.32990713914235437 l3.2867022355397544,-0.00016947671004648632 2.1041731039683027,0.37954059739907586 l1.6022407015164695,0.5822688837846121 1.5051191051801047,-1.851216753323873 l1.9474796454111736,-2.603900233904521 1.9172068436940513,-1.7791634798049927 l0.9526191155115764,1.0094361503918967 0.7870396474997203,4.4888997077941895 l0.8364452918370565,3.031042615572612 m-24.42952315012614,2.19723920027415 l-1.0585867365201316,1.1445343494415283 -0.7025813559691112,1.8995875120162964 l-0.4796863595644633,2.985432545344035 -9.296315814329623e-05,2.6079291105270386 l0.4129047691822052,2.507690985997518 0.7829747100671133,2.2648527224858603 l1.1471216877301535,2.0622040828069053 1.514436701933543,1.8460333347320557 l1.792669693628947,1.5209322174390159 2.0609647035598755,1.1587818463643393 l2.280559539794922,0.7914036512374878 2.5055885314941406,0.43198774258295697 l2.6478374004364014,0.044577475637197495 2.6320356130599976,-0.34916987021764123 l2.5278399387995405,-0.7786078254381816 2.295875946680705,-1.1498611172040305 l2.0467952887217207,-1.4782792329788208 1.7660137017567954,-1.7561938365300498 l1.369095544020335,-1.9287190834681194 0.9710968534151714,-2.0242754618326826 l0.5804396669069927,-2.107716997464498 0.23131382962067923,-2.1161516507466636 l-0.10414039095242819,-2.063367565472921 -0.43672790129979455,-1.7949718236923218 l-0.7558718820412954,-1.5300018588701885 -1.7038061221440635,-2.0150283972422285 l-0.9083437919616699,-0.6076284249623617 m-14.107227325439453,5.90747078259786 l-0.0319148413836956,-1.4319128543623568e-05 m6.659392913182577,-0.4243325193723043 l0.0004485421231947839,-0.00011899912351509556 m-6.148601770401001,3.258787790934245 l-1.545952558517456,0.36029299100240075 -1.0169722636540732,0.9537007411321005 l-0.6298576295375824,1.499738097190857 -0.1752154901623726,1.5606239438056946 l0.27514534691969555,1.541444261868795 0.7104446490605673,1.1162631710370383 l1.1250364780426025,0.9814191857973735 1.4453932642936707,0.6827295819918315 l1.6471780339876811,0.35655794044335687 1.8113048871358237,0.01919690053910017 l1.7765933275222778,-0.3402226914962133 1.633828381697337,-0.646118571360906 l1.4419905344645183,-0.8730446298917135 1.111003359158834,-1.0188905398050945 l0.7745748261610668,-1.1191120743751526 0.40201832850774133,-1.1700796087582908 l9.576728795461047e-05,-1.4115180571873984 -1.032501459121704,-1.3155657052993774 l-1.7366540431976318,-0.9064722061157227 -1.9554458061854045,-0.5897065003712972 l-1.9062350193659465,-0.16122717410326004 -2.455044190088908,0.28982793291409814 l-0.9203266104062399,0.37892493108908337 m0.3863474726676941,3.1407660245895386 l-0.2106891324122747,1.183231770992279 0.3965054452419281,1.541306773821513 l1.0538031657536826,0.4773327211538951 0.8109840253988903,-0.8296185235182445 l0.2177748332420985,-1.087968647480011 -0.8376473188400269,-1.2035001317660015 l-1.0039735833803813,-0.3578285127878189 m5.112346013387045,0.4278160631656647 l0.0042399348846326275,2.0601308345794678 1.3418761889139812,1.0189608732859294 l0.9557225306828817,-0.6152309974034628 0.28423157831033075,-1.1154958605766296 l-1.0570125778516135,-1.25478466351827 -1.0427914063135784,-0.30316340426603955 m56.51130773162549,-19.32312070532589 l0.5059329668680828,-0.3991838792959849 0.33770598471164703,-0.9850455323855083 l1.7152315378189087,-1.7489314079284668 1.3965614636739097,-0.7824908196926117 l1.6208393375078838,-0.5271981159845989 3.107481598854065,-0.0003493909510628631 l3.6952662467956543,1.6927570104599 3.251477082570394,1.8603320916493735 l0.9309216340382894,0.8975833654403687 0.7192114492257436,1.1192639668782554 l0.7101423541704814,2.2247864802678428 0.18743323783079785,2.766068776448568 l0.3273158520460129,2.204361955324809 0.2025822053352992,1.704154411951701 l0.13431169092655182,1.487757464249929 -0.06290948018431664,2.232170303662618 l-0.580309530099233,1.6404901941617331 -1.1117559671401978,1.3492374618848166 l-0.984396239121755,0.767632822195689 -2.5567154089609785,1.1608235041300456 l-3.6821730931599936,0.8034469187259674 -4.159914255142212,0.057148076593875885 l-2.6033953825632734,-0.5646551152070364 -2.104914983113607,-1.043057143688202 l-1.6484399636586509,-1.4228362838427226 -1.3241682449976604,-1.595663626988729 l-1.5207695960998535,-2.999270757039388 -0.5549370745817821,-1.6960028807322185 l-0.25744907557964325,-1.7786186933517456 0.00017704774412171295,-3.6528388659159345 l0.7010495165983837,-1.8320292234420776 1.5065785249074302,-2.295047442118327 l1.4967073996861777,-1.5129573146502178 1.5606467922528586,-1.108715037504832 m3.720572392145793,8.956724802652996 l-0.024754970024029415,0.08288880810141563 m6.191107829411825,-0.0885537142554919 l-0.0033993964704374475,-0.00020153169316472486 m-8.501315911610922,-1.3410420219103496 l-0.23001695672671002,1.2041894594828289 0.6205784777800243,1.1602447430292766 l1.2667543689409893,0.11467574785153072 0.8416627844174703,-0.8222676813602448 l-0.480633427699407,-1.1834821105003357 -1.1081132292747498,-0.12487998853127162 m9.582624435424805,-0.9649449586868286 l-0.1626221463084221,0.5948250492413839 0.9455182154973348,0.6123644113540649 l0.5921897292137146,-0.9004545211791992 -0.8671702941258749,-0.48069258530934655 m-9.173667430877686,4.513492981592814 l-0.9012551108996074,0.19507432977358502 -0.7184030612309774,0.6750091910362244 l-0.5160035689671835,1.3080736994743347 0.8464290698369344,1.9005978107452393 l1.4072938760121665,0.7400771975517273 1.6821110248565674,0.4243800540765127 l2.6688690980275473,-0.00016961189733895785 1.5642012159029643,-0.8174710969130199 l0.7428012291590373,-0.9828508893648784 0.37177883088588715,-1.1728808283805847 l7.118973371689208e-05,-1.291799247264862 -1.0112270712852478,-1.2438052892684937 l-1.4724321166674297,-0.6256659825642904 -1.6993014017740886,-0.09917754059036574 m-6.143807967503866,-0.2620603640874227 l-1.6362309455871582,-2.6308115323384604 -3.982255458831787,-6.985905965169271 l-0.7551532983779907,-2.3113224903742475 0.6930110851923625,-1.4313971002896628 l1.7890151341756186,-0.5294126272201538 2.1222496032714844,-0.04751827878256639 l2.1815309921900434,0.41940381129582727 3.0509142080942793,1.3648220896720886 l2.717336416244507,2.3239994049072266 1.370854675769806,1.7474699020385742 l1.155489484469096,1.7488954464594524 0.5922418336073558,1.4062990744908652 l0.4676130910714468,0.02797781489789486 1.6943742831548056,-2.0516433318456015 l2.479443947474162,-1.765518387158712 2.7992157141367597,-0.9463179111480713 l2.177991271018982,-0.36711327731609344 3.18431556224823,-0.00021748014357096207 l1.3170690337816875,0.7858577370643616 0.9452548623085022,1.1369843284289043 l0.6012783944606781,1.3792484998703003 0.5320214728514354,3.0280735095342 l0.0001345897301992712,3.256056110064189 -0.6715285281340282,2.477913896242778 l-1.164374053478241,2.019767165184021 -1.5077621738115947,1.4980918169021606 l-1.8365804354349773,1.022742787996928 -2.0556561152140302,0.6546017030874889 l-4.773885409037272,0.38614504039287567 -2.148067156473796,-0.5565918982028961 m10.541013876597088,-8.93219788869222 l3.5904328028361006,-1.4589395125706992 4.708693027496338,-1.2550403674443564 l2.901883323987325,-0.36163431902726495 4.699421723683676,-0.00017788684393356866 l2.259450157483419,0.5388773481051128 1.9462627172470093,0.8331668873627981 l2.553321123123169,1.8126145998636882 1.6053199768066406,1.6799596945444744 l1.7623360951741538,2.835269371668498 0.8825739224751791,2.211769223213196 l0.6316923598448436,3.390754858652751 -1.4798809091250102,7.346623738606771 l-1.3043688734372458,2.257029414176941 -2.663816014925639,2.4890093008677168 l-3.6957812309265137,1.6889597972234092 -4.940119584401449,1.1152039964993796 l-5.359189907709758,0.3898802151282629 -5.910145044326782,-5.873291229363531e-05 l-3.253771464029948,-0.500954141219457 -4.203461805979411,-1.406201422214508 l-3.575647274653117,-1.9655499855677288 -1.5191654364267986,-1.4616971214612327 l-0.6478700538476309,-1.0496442516644797 m72.87234765823314,-23.46968444166123 l1.0097303986549377,-0.4661280910174052 0.9027207891146343,-0.7718680302302043 l2.745325366655986,-1.2852250536282859 2.2095070282618208,-0.55500994126002 l3.220152258872986,-0.0003540624553958575 2.258087396621704,0.636020302772522 l3.200915853182475,1.6091456015904746 2.1360842386881513,1.4671029647191367 l2.282896637916565,2.3486473162968955 1.2060007452964783,1.7251255114873252 l0.7886302967866262,1.6947700579961142 0.4615633189678192,1.7144344250361125 l0.21298669278621674,2.9873257875442505 -0.4440728823343913,2.063564459482829 l-1.0682429869969687,1.924354632695516 -1.4420940478642783,1.5998849272727966 l-3.1528858343760175,2.1295042832692466 -2.5505638122558594,0.9206243356068929 l-3.8881500562032065,0.57965949177742 -3.4601783752441406,-0.00014322133210953325 l-2.323213219642639,-0.543086975812912 -2.113999128341675,-0.9129975239435832 l-2.799379626909892,-1.972689429918925 -1.5193411707878113,-1.928448478380839 l-1.0590099294980369,-1.9554628928502402 -0.6469631195068359,-1.9967804352442424 l-0.30537587900956475,-2.073620955149333 0.00016633159248158336,-3.28463355700175 l0.7312386234601339,-1.9396573305130005 1.0679078102111816,-1.5906761089960735 l1.2652721007665,-1.264271934827169 1.4780908823013306,-1.017212470372518 l1.531316339969635,-0.6679051121075948 m4.340228239695231,9.324854214986166 l-0.08716370289524397,0.2900451421737671 0.15873704105615616,1.0897630453109741 l0.46411241094271344,0.7475213209788005 0.9196336070696514,0.570856382449468 l0.8847961823145549,-0.447319100300471 -0.043065883219242096,-1.521113713582357 l-0.796253780523936,-0.6844533483187358 -0.7488775750001272,0.32328493893146515 m4.970184961954753,-0.5822590490182241 l-0.01040103379637003,1.3917062679926555 0.7913992802302043,0.6195469200611115 l0.6762448449929556,-0.7812335590521495 -0.6867763896783193,-1.088915268580119 l-0.8549797534942627,0.0638916219274203 m-9.068872133890789,-6.189478635787964 l0.006615164844940106,-0.00015602187583378208 m11.659587224324545,-0.3395801782608032 l-0.1366305723786354,-0.05117474434276422 m-15.333135922749838,3.181501030921936 l-1.1655300855636597,-1.2853369116783142 -3.527673085530599,-5.3607443968455 l-0.9101754426956177,-1.8919744094212851 -0.5973930656909943,-1.8134947617848716 l-0.34442531565825146,-1.765724817911784 -1.8031723811873235e-05,-2.7618086338043213 l1.4792835712432861,-1.567055384318034 1.8146924177805583,-0.9292437632878622 l1.9453742106755576,-0.5409061908721924 3.0626960595448813,-0.2614611883958181 l3.2268208265304565,-0.0003248226615445068 2.495100498199463,0.3738356133302053 l2.087698777516683,0.6694374481836955 3.0384693543116255,1.6923975944519043 l2.3370838165283203,2.249862551689148 1.2399758895238242,1.7783331871032715 l1.1348452170689902,2.7745928366978965 0.3986860066652298,2.099931836128235 l-2.348353973502526e-05,2.1127321322758994 -0.4805920521418254,1.4596235752105713 l-0.9400483965873718,1.2463603417078655 m2.5455454985300703,-4.953827063242595 l0.5513003965218862,-1.246936321258545 1.6204047203063965,-1.4981809258460999 l2.2914904356002808,-1.5424901247024536 2.6822580893834433,-1.2157514691352844 l3.9941803614298506,-0.9688071409861247 3.2681208848953247,-0.3090483198563258 l3.704968293507894,-0.00032083196856547147 2.9437146584192915,0.4274710516134898 l2.4852077166239424,0.7316205402215322 3.3475848038991294,1.6849943002065024 l1.3648192087809246,1.0945844650268555 1.9720872243245444,2.391105691591899 l1.2107677261034648,2.220992247263591 0.7770824432373047,2.1980855862299604 l0.44915080070495605,2.228200634320577 0.20077209919691086,4.105105400085449 l-0.2505819499492645,1.8461120128631592 -1.2263092398643494,3.660796085993449 l-1.597192386786143,2.728153665860494 -3.0491481224695844,3.40022881825765 l-1.5866384903589885,1.2122872471809387 -3.523071606953939,1.8239390850067139 l-4.678618510564169,1.3053129116694133 -5.285518566767375,0.45620734492937726 l-3.9628875255584717,-0.0001230393415122914 -2.639654278755188,-0.5379283428192139 l-2.3626150687535605,-0.81291064620018 -3.059067527453105,-1.7305413881937664 l-1.5102262298266094,-1.4802389343579612 -1.6472873091697693,-2.633950511614482 l-0.7726461688677471,-2.1864058574040732 -0.19883234053850174,-1.918925444285075 m5.454779068628947,8.530280590057373 l-0.4137817770242691,1.3476449251174927 -1.2200125058492026,6.010495026906332 l-0.7786013185977936,3.1461769342422485 0.13515027860800427,1.9102805852890015 l2.109089295069377,0.28841058413187665 4.58148201306661,-0.8070968091487885 l1.0149999459584556,-0.8258497218290966 0.4386564095815023,-4.375193516413371 l0.2376876026391983,-4.253670374552409 m66.11493921031904,-30.77597472489894 l1.3604620099067688,-0.5247405668099722 1.3588105638821921,-0.5953563253084819 l3.400625785191854,-0.7758005460103353 2.782169779141744,-0.284345621864001 l4.314632813135783,-0.00035246751698044443 3.3140162626902265,0.45935899019241333 l2.7146706978480024,0.7505980134010315 3.2454311847686768,1.5730077028274536 l2.0383572578430176,1.3580576578776042 1.6247313221295676,1.4418726166089377 l1.976625124613444,2.646711866060893 1.0253571470578513,2.110007206598918 l0.6320173044999441,2.0792394876480103 0.2922135094801585,2.0299365123113 l9.35118441702798e-05,3.5069032510121665 -0.3355065733194351,1.6694013277689617 l-1.3255064686139426,3.155331412951152 -1.6061593095461528,2.1766634782155356 l-3.2484227418899536,2.9277636607488 -1.64497971534729,1.0317975282669067 l-1.9177486499150596,0.8535906672477722 -3.8927741845448813,0.9821164608001709 l-5.0649090607961025,0.32390249272187555 -3.1403293212254844,-0.354577178756396 l-2.707279324531555,-0.9200833241144817 -3.6695027351379395,-1.9817934433619182 l-2.0028160015741987,-1.759173075358073 -2.398053805033366,-2.9918362696965537 l-1.1869412660598755,-2.4929505586624146 -0.7866726815700531,-2.472448945045471 l-0.39304422835508984,-2.433512608210246 0.0001399645407218486,-4.5486048857371015 l0.7392181952794393,-2.4890462557474775 1.0153937339782715,-2.049497365951538 l1.2431924541791282,-1.7146720488866172 1.4817533890406291,-1.4753384391466777 l1.5964390834172568,-1.1004077394803367 1.5733283758163452,-0.7038373251756033 m5.360466241836548,10.95506509145101 l0.5286682148774465,-0.9871440132459005 1.5770456194877625,-0.6228133539358776 l1.9551869233449302,-0.00017801747162593529 1.775564750035604,0.49115583300590515 l1.4592907826105754,0.8411544561386108 1.1166750391324363,1.0854929685592651 l0.7504215836524963,1.2871363759040833 0.4109194874763489,2.0690880219141645 l-0.49745763341585797,1.440392831961314 -1.332522730032603,1.0896710554758708 l-2.7680440743764243,0.984553595383962 -2.0059057076772056,0.026456713676452637 l-1.5521215399106345,-0.551913728316625 -1.2997109691301982,-0.8953194816907247 l-0.7390119135379791,-1.2185325225194297 -0.47418326139450073,-2.1303580204645796 l9.949298449403918e-05,-1.8570991357167563 0.6346118450164795,-0.8403334021568298 m3.193698326746623,2.6701720555623374 l-0.000725011535299321,-0.00018087218146926415 m3.432197173436483,0.24436905980110168 l-0.0014424870217529437,-7.214766810648143e-05 m-10.390074253082275,-9.316388765970867 l-0.5299111207326254,0.12009015927712123 0.1467311258117358,0.3900410234928131 l0.7023202379544576,-0.2178417146205902 -0.20045466721057892,-0.12942690402269363 l-0.37660782535870874,0.2606078237295151 m13.22873592376709,-0.8911444743474325 l-0.32743188242117566,1.0418457786242168 0.4454725484053294,-0.6331253548463186 l-0.5238090455532074,0.06254123523831367 m-18.860745429992676,0.9167248010635376 l-0.5816829204559326,-1.158257822195689 -2.8747016191482544,-6.3895221551259365 l-0.7015220820903778,-1.970275640487671 0.16653156528870267,-1.7250502109527588 l1.7452094952265422,-0.3809567044178645 2.3569361368815107,0.8022371927897136 l4.22917644182841,2.8750993808110556 2.8176416953404746,2.080524762471517 l1.204350789388021,0.6097125013669332 m13.053105672200521,0.1337781424323718 l0.684406061967214,-1.253257195154826 2.2281052668889365,-2.4562031030654907 l2.925516764322917,-2.368246118227641 1.1262840032577515,-0.6086324155330658 l0.8172135551770529,0.8263708154360454 0.09266997997959456,2.409895459810893 l-0.5093500018119812,5.163356065750122 -0.5119810005029043,3.0593236287434897 m-21.42246723175049,12.45218276977539 l-1.4858174324035645,1.1748122175534568 -1.0708288351694744,1.8485079209009807 l-1.2346982955932617,3.5051190853118896 -0.4873189330101013,3.1981531778971357 l1.5000658966831302e-06,4.719865719477336 0.7250256836414337,1.7820394039154053 l1.1355002721150718,1.6989187399546306 1.5039612849553428,1.5448638796806335 l1.834032734235128,1.273130476474762 3.6390300591786704,1.5341495474179587 l3.289887309074402,0.7425019641717275 3.2152801752090454,0.2889021237691244 l4.689228932062785,-0.00011624601029325277 3.009497125943502,-0.5944661299387615 l2.7990575631459556,-0.9720385074615479 2.6052695512771606,-1.344141165415446 l2.3061148325602217,-1.66164497534434 1.9208800792694092,-1.884225606918335 l1.4347422122955322,-2.053319613138835 0.9357290466626486,-2.1314022938410444 l0.4784690837065379,-2.145382364590963 0.04588778130710125,-3.4667515754699707 l-0.8019615709781647,-2.2822068134943647 -0.8936978379885356,-1.3433353106180828 l-3.327734669049581,-2.76350200176239 -1.462047298749288,-0.7906179130077362 l-2.7409565448760986,-0.9030993779500326 -3.70170791943868,-0.5036130050818126 l-3.2033032178878784,-0.0001318275341570067 m67.19064109241127,-14.468279945625303 l1.7037997643152873,-0.562426249186198 1.7274338006973267,-0.46015873551368713 l4.207319815953573,-0.5871195594469707 3.18915863831838,-0.00043906058029582107 l2.9352482159932456,0.3938480466604233 2.6230917374293012,0.7636745274066925 l2.160768508911133,0.9453381101290386 1.9145633776982627,1.1709141731262207 l1.5023604035377502,1.272103190422058 1.2681071956952414,1.5095566709836326 l1.4613130688667297,2.7223547299702964 0.7892311116059622,2.5010242064793906 l0.3363218903541565,2.3730858167012534 0.00011516724043758586,3.4941442807515464 l-0.6489467620849609,2.486237684885661 -1.1248021324475608,2.141937812169393 l-1.6803077856699626,1.8913690249125164 -1.91060741742452,1.5469834208488464 l-2.1372785170873008,1.2053807576497397 -2.383871873219808,0.8933877944946289 l-2.5535128513971967,0.5608269572257996 -4.366306861241659,0.24542567630608877 l-2.834268808364868,-0.4563512901465098 -4.031625588734945,-1.419606606165568 l-2.290064295132955,-1.4881055553754172 -1.805918018023173,-1.8251528342564902 l-1.4056249459584556,-1.9194920857747397 -1.0609709223111472,-2.0249364773432417 l-0.7312209904193878,-2.100760142008464 -0.45970618724823,-2.2314558426539106 l0.00013690677102810395,-4.000984827677409 0.7268316050370535,-2.3548070589701338 l1.0752267638842266,-2.022290825843811 1.3533560434977214,-1.7293004194895427 l1.575128436088562,-1.4420893788337708 1.5662429730097454,-0.9652991096178691 l1.5867627660433452,-0.6047927836577098 m3.5955639680226645,10.648717880249023 l0.11393568168083827,0.2766211579243342 0.38682736456394196,1.1169454455375671 l0.5157466232776642,0.8741112550099691 0.6552470723787944,0.8111100395520529 l0.6676317254702251,0.7188117504119873 0.8345740040143331,0.516630510489146 l1.4647877216339111,0.3439237674077352 1.0888638099034629,-0.4795890053113302 l0.7062911490599315,-0.9223244587580364 0.4574135939280192,-1.1565650502840679 l3.771123374463059e-05,-1.6194959481557212 -1.011930008729299,-1.1194291710853577 l-1.4255640904108684,-0.47036578257878625 -1.8026113510131836,-0.00012033816650121784 l-0.8285535871982574,0.8213079472382864 m1.4389062921206157,2.1255038181940717 l-0.0005922662967350334,-9.797427386123067e-05 m1.880432367324829,-0.03419605394204458 l-0.0014075870664479833,-0.00012324985921926176 m-8.866064548492432,-7.5264573097229 l-0.5557024478912354,0.0822794996201992 -0.24379206200440726,0.6446744004885356 l0.7026949028174083,0.17422575503587723 0.28885746995608014,-0.5553276836872101 l-0.45133491357167566,-0.044354464237888656 m12.368388970692953,-0.8781948685646057 l-0.301727702220281,0.35498534639676416 0.5978630979855856,-0.27195068697134656 l-0.6805595258871715,0.011301931614677112 m-16.70418421427409,1.9684545199076335 l-0.7020075122515361,-0.984472135702769 -3.683454990386963,-5.651551087697348 l-1.0785975058873496,-1.8815495570500693 -1.4546188712120056,-2.629206975301107 l-0.32156815131505334,-1.8651745716730754 1.247123678525289,-1.012882689634959 l1.5353442231814067,0.2552827447652817 4.406347672144572,2.7016947666804 l3.629643519719442,2.8557930390040083 1.4161090056101482,1.1254295706748962 m14.120252927144369,-0.09223230183124542 l0.46623284618059796,-1.2913494308789573 1.1172216137250266,-1.725475788116455 l3.708524703979492,-4.447809060414633 1.4909324049949646,-1.1887590090433757 l1.423233151435852,-0.7645618915557861 0.8870553970336914,0.7184214890003204 l-0.5403700967629751,5.367756287256877 -1.0339951515197754,3.376197417577108 l-0.913273294766744,2.851130763689677 m-18.793020248413086,12.821667194366455 l-1.5664912263552349,0.3119294842084249 -1.4902348319689434,1.1209118366241455 l-3.4324125448862715,3.9568714300791425 -2.4924935897191367,5.262294212977092 l-0.969010094801585,4.853694041570028 -9.652409062255174e-05,3.3213967084884644 l0.8483782410621643,1.8369972705841064 1.3667524854342143,1.673871676127116 l1.9713932275772095,1.4931876460711162 2.397863070170085,1.1862228314081829 l2.7606656153996787,0.8474697669347128 3.2232218980789185,0.5868871510028839 l3.5108323891957602,0.2597524970769882 3.4684606393178306,-0.12543975065151852 l3.5044225056966147,-0.5467229584852855 3.3595176537831626,-0.9860623876253765 l3.1601699193318686,-1.341256101926168 2.696160674095154,-1.63085142771403 l2.322426438331604,-1.972743272781372 1.8645016352335613,-2.2387572129567466 l1.3267803192138672,-2.4422731002171836 0.7777472833792369,-2.5493693351745605 l0.3121268004179001,-2.536372741063436 -0.11311076581478119,-2.390574812889099 l-0.49289653698603314,-2.17558761437734 -0.8541911840438843,-1.9131362438201904 l-1.146835486094157,-1.6102800766626995 -1.4139009515444438,-1.3609300057093303 l-1.5987361470858257,-1.0531421502431235 -1.7218728860219321,-0.7407111922899883 l-2.950080633163452,-0.6728655596574148 -3.555539846420288,-0.00023939210223034024 \" fill=\"none\" stroke=\"black\" stroke-width=\"1\"/></svg>"
      ],
      "text/plain": [
       "<IPython.core.display.SVG object>"
      ]
     },
     "metadata": {},
     "output_type": "display_data"
    }
   ],
   "source": [
    "draw_strokes(stroke_grid, factor=0.3)"
   ]
  }
 ],
 "metadata": {
  "colab": {
   "name": "Sketch_RNN.ipynb",
   "provenance": [],
   "version": "0.3.2"
  },
  "kernelspec": {
   "display_name": "Python 3",
   "language": "python",
   "name": "python3"
  },
  "language_info": {
   "codemirror_mode": {
    "name": "ipython",
    "version": 3
   },
   "file_extension": ".py",
   "mimetype": "text/x-python",
   "name": "python",
   "nbconvert_exporter": "python",
   "pygments_lexer": "ipython3",
   "version": "3.5.2"
  }
 },
 "nbformat": 4,
 "nbformat_minor": 1
}
