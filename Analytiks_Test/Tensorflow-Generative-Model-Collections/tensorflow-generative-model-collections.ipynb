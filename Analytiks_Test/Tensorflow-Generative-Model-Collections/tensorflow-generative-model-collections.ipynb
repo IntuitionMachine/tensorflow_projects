{
 "cells": [
  {
   "cell_type": "markdown",
   "metadata": {},
   "source": [
    "# Tensorflow-Generative-Model-Collections\n",
    "Tensorflow implementation of various GANs and VAEs."
   ]
  },
  {
   "cell_type": "markdown",
   "metadata": {},
   "source": [
    "## Environment Setup"
   ]
  },
  {
   "cell_type": "code",
   "execution_count": null,
   "metadata": {},
   "outputs": [],
   "source": [
    "!export DISPLAY=:0"
   ]
  },
  {
   "cell_type": "markdown",
   "metadata": {},
   "source": [
    "## Imports"
   ]
  },
  {
   "cell_type": "code",
   "execution_count": null,
   "metadata": {},
   "outputs": [],
   "source": [
    "import os\n",
    "\n",
    "## GAN Variants\n",
    "from GAN import GAN\n",
    "from CGAN import CGAN\n",
    "from infoGAN import infoGAN\n",
    "from ACGAN import ACGAN\n",
    "from EBGAN import EBGAN\n",
    "from WGAN import WGAN\n",
    "from WGAN_GP import WGAN_GP\n",
    "from DRAGAN import DRAGAN\n",
    "from LSGAN import LSGAN\n",
    "from BEGAN import BEGAN\n",
    "\n",
    "## VAE Variants\n",
    "from VAE import VAE\n",
    "from CVAE import CVAE\n",
    "\n",
    "from utils import show_all_variables\n",
    "from utils import check_folder\n",
    "\n",
    "import tensorflow as tf\n",
    "import argparse"
   ]
  },
  {
   "cell_type": "markdown",
   "metadata": {},
   "source": [
    "## Configuration"
   ]
  },
  {
   "cell_type": "markdown",
   "metadata": {},
   "source": [
    "### Select the type of GAN"
   ]
  },
  {
   "cell_type": "code",
   "execution_count": null,
   "metadata": {},
   "outputs": [],
   "source": [
    "#Select the type of GAN. \n",
    "#Options = ['GAN', 'CGAN', 'infoGAN', 'ACGAN', 'EBGAN', 'BEGAN', 'WGAN', 'WGAN_GP', 'DRAGAN', 'LSGAN', 'VAE', 'CVAE']\n",
    "#Default = 'GAN'\n",
    "gan_type = 'GAN'"
   ]
  },
  {
   "cell_type": "markdown",
   "metadata": {},
   "source": [
    "### Select the Dataset"
   ]
  },
  {
   "cell_type": "markdown",
   "metadata": {},
   "source": [
    "#### MNIST"
   ]
  },
  {
   "cell_type": "code",
   "execution_count": null,
   "metadata": {},
   "outputs": [],
   "source": [
    "#Select Dataset\n",
    "#Options = ['mnist', 'fashion-mnist', 'celebA']\n",
    "#Default = 'mnist'\n",
    "dataset = 'mnist'"
   ]
  },
  {
   "cell_type": "code",
   "execution_count": null,
   "metadata": {},
   "outputs": [],
   "source": [
    "!mkdir -p data/mnist\n",
    "!wget -Nq http://yann.lecun.com/exdb/mnist/train-images-idx3-ubyte.gz -P data/mnist\n",
    "!wget -Nq http://yann.lecun.com/exdb/mnist/train-labels-idx1-ubyte.gz -P data/mnist\n",
    "!wget -Nq http://yann.lecun.com/exdb/mnist/t10k-images-idx3-ubyte.gz -P data/mnist\n",
    "!wget -Nq http://yann.lecun.com/exdb/mnist/t10k-labels-idx1-ubyte.gz -P data/mnist"
   ]
  },
  {
   "cell_type": "markdown",
   "metadata": {},
   "source": [
    "### Select Parameters"
   ]
  },
  {
   "cell_type": "code",
   "execution_count": null,
   "metadata": {},
   "outputs": [],
   "source": [
    "epoch = 20\n",
    "batch_size = 64\n",
    "z_dim = 62\n",
    "checkpoint_dir = os.path.relpath('checkpoint')\n",
    "result_dir = os.path.relpath('results')\n",
    "log_dir = os.path.relpath('logs')"
   ]
  },
  {
   "cell_type": "markdown",
   "metadata": {},
   "source": [
    "## Run the Model"
   ]
  },
  {
   "cell_type": "code",
   "execution_count": null,
   "metadata": {},
   "outputs": [],
   "source": [
    "tf.reset_default_graph()\n",
    "models = [GAN, CGAN, infoGAN, ACGAN, EBGAN, WGAN, WGAN_GP, DRAGAN,\n",
    "              LSGAN, BEGAN, VAE, CVAE]\n",
    "with tf.Session(config=tf.ConfigProto(allow_soft_placement=True)) as sess: # declare instance for GAN\n",
    "    gan = None\n",
    "    for model in models:\n",
    "        if gan_type == model.model_name:\n",
    "            gan = model(sess,\n",
    "                        epoch=epoch,\n",
    "                        batch_size=batch_size,\n",
    "                        z_dim=z_dim,\n",
    "                        dataset_name=dataset,\n",
    "                        checkpoint_dir=checkpoint_dir,\n",
    "                        result_dir=result_dir,\n",
    "                        log_dir=log_dir)\n",
    "    # build graph\n",
    "    gan.build_model()\n",
    "\n",
    "    # show network architecture\n",
    "    show_all_variables()\n",
    "\n",
    "    # launch the graph in a session\n",
    "    gan.train()\n",
    "    print(\" [*] Training finished!\")\n",
    "\n",
    "    # visualize learned generator\n",
    "    gan.visualize_results(args.epoch-1)\n",
    "    print(\" [*] Testing finished!\")\n",
    "    "
   ]
  },
  {
   "cell_type": "code",
   "execution_count": null,
   "metadata": {},
   "outputs": [],
   "source": []
  }
 ],
 "metadata": {
  "kernelspec": {
   "display_name": "Python 3",
   "language": "python",
   "name": "python3"
  },
  "language_info": {
   "codemirror_mode": {
    "name": "ipython",
    "version": 3
   },
   "file_extension": ".py",
   "mimetype": "text/x-python",
   "name": "python",
   "nbconvert_exporter": "python",
   "pygments_lexer": "ipython3",
   "version": "3.5.2"
  }
 },
 "nbformat": 4,
 "nbformat_minor": 2
}
