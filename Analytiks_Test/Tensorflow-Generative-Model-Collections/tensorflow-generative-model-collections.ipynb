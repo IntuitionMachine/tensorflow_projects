{
 "cells": [
  {
   "cell_type": "markdown",
   "metadata": {},
   "source": [
    "# Tensorflow-Generative-Model-Collections\n",
    "Tensorflow implementation of various GANs and VAEs."
   ]
  },
  {
   "cell_type": "markdown",
   "metadata": {},
   "source": [
    "## Related Repositories\n",
    "### Pytorch version\n",
    "Pytorch version of this repository is availabel at https://github.com/znxlwm/pytorch-generative-model-collections"
   ]
  },
  {
   "cell_type": "markdown",
   "metadata": {},
   "source": [
    "### \"Are GANs Created Equal? A Large-Scale Study\" Paper \n",
    "https://github.com/google/compare_gan is the code that was used in [the paper](https://arxiv.org/abs/1711.10337).  \n",
    "It provides IS/FID and rich experimental results for all gan-variants. "
   ]
  },
  {
   "cell_type": "markdown",
   "metadata": {},
   "source": [
    "## Generative Adversarial Networks (GANs)\n",
    "### Lists  \n",
    "\n",
    "*Name* | *Paper Link* | *Value Function*\n",
    ":---: | :---: | :--- |\n",
    "**GAN** | [Arxiv](https://arxiv.org/abs/1406.2661) | <img src = 'assets/equations/GAN.png' height = '70px'>\n",
    "**LSGAN**| [Arxiv](https://arxiv.org/abs/1611.04076) | <img src = 'assets/equations/LSGAN.png' height = '70px'>\n",
    "**WGAN**| [Arxiv](https://arxiv.org/abs/1701.07875) | <img src = 'assets/equations/WGAN.png' height = '105px'>\n",
    "**WGAN_GP**| [Arxiv](https://arxiv.org/abs/1704.00028) | <img src = 'assets/equations/WGAN_GP.png' height = '70px'>\n",
    "**DRAGAN**| [Arxiv](https://arxiv.org/abs/1705.07215) | <img src = 'assets/equations/DRAGAN.png' height = '70px'>\n",
    "**CGAN**| [Arxiv](https://arxiv.org/abs/1411.1784) | <img src = 'assets/equations/CGAN.png' height = '70px'>\n",
    "**infoGAN**| [Arxiv](https://arxiv.org/abs/1606.03657) | <img src = 'assets/equations/infoGAN.png' height = '70px'>\n",
    "**ACGAN**| [Arxiv](https://arxiv.org/abs/1610.09585) | <img src = 'assets/equations/ACGAN.png' height = '70px'>\n",
    "**EBGAN**| [Arxiv](https://arxiv.org/abs/1609.03126) | <img src = 'assets/equations/EBGAN.png' height = '70px'>\n",
    "**BEGAN**| [Arxiv](https://arxiv.org/abs/1702.08431) | <img src = 'assets/equations/BEGAN.png' height = '105px'>  "
   ]
  },
  {
   "cell_type": "markdown",
   "metadata": {},
   "source": [
    "#### Variants of GAN structure\n",
    "<img src = 'assets/etc/GAN_structure.png' height = '600px'>"
   ]
  },
  {
   "cell_type": "markdown",
   "metadata": {},
   "source": [
    "### Results for mnist\n",
    "Network architecture of generator and discriminator is the exaclty sames as in [infoGAN paper](https://arxiv.org/abs/1606.03657).  \n",
    "For fair comparison of core ideas in all gan variants, all implementations for network architecture are kept same except EBGAN and BEGAN. Small modification is made for EBGAN/BEGAN, since those adopt auto-encoder strucutre for discriminator. But I tried to keep the capacity of discirminator."
   ]
  },
  {
   "cell_type": "markdown",
   "metadata": {},
   "source": [
    "The following results can be reproduced with command:  \n",
    "```\n",
    "python3 main.py --dataset mnist --gan_type <TYPE> --epoch 25 --batch_size 64\n",
    "```"
   ]
  },
  {
   "cell_type": "markdown",
   "metadata": {},
   "source": [
    "#### Random generation\n",
    "All results are randomly sampled.\n",
    "\n",
    "*Name* | *Epoch 2* | *Epoch 10* | *Epoch 25*\n",
    ":---: | :---: | :---: | :---: |\n",
    "GAN | <img src = 'assets/mnist_results/random_generation/GAN_epoch001_test_all_classes.png' height = '230px'> | <img src = 'assets/mnist_results/random_generation/GAN_epoch009_test_all_classes.png' height = '230px'> | <img src = 'assets/mnist_results/random_generation/GAN_epoch024_test_all_classes.png' height = '230px'>\n",
    "LSGAN | <img src = 'assets/mnist_results/random_generation/LSGAN_epoch001_test_all_classes.png' height = '230px'> | <img src = 'assets/mnist_results/random_generation/LSGAN_epoch009_test_all_classes.png' height = '230px'> | <img src = 'assets/mnist_results/random_generation/LSGAN_epoch024_test_all_classes.png' height = '230px'>\n",
    "WGAN | <img src = 'assets/mnist_results/random_generation/WGAN_epoch001_test_all_classes.png' height = '230px'> | <img src = 'assets/mnist_results/random_generation/WGAN_epoch009_test_all_classes.png' height = '230px'> | <img src = 'assets/mnist_results/random_generation/WGAN_epoch024_test_all_classes.png' height = '230px'>\n",
    "WGAN_GP | <img src = 'assets/mnist_results/random_generation/WGAN_GP_epoch001_test_all_classes.png' height = '230px'> | <img src = 'assets/mnist_results/random_generation/WGAN_GP_epoch009_test_all_classes.png' height = '230px'> | <img src = 'assets/mnist_results/random_generation/WGAN_GP_epoch024_test_all_classes.png' height = '230px'>\n",
    "DRAGAN | <img src = 'assets/mnist_results/random_generation/DRAGAN_epoch001_test_all_classes.png' height = '230px'> | <img src = 'assets/mnist_results/random_generation/DRAGAN_epoch009_test_all_classes.png' height = '230px'> | <img src = 'assets/mnist_results/random_generation/DRAGAN_epoch024_test_all_classes.png' height = '230px'>\n",
    "EBGAN | <img src = 'assets/mnist_results/random_generation/EBGAN_epoch001_test_all_classes.png' height = '230px'> | <img src = 'assets/mnist_results/random_generation/EBGAN_epoch009_test_all_classes.png' height = '230px'> | <img src = 'assets/mnist_results/random_generation/EBGAN_epoch024_test_all_classes.png' height = '230px'>\n",
    "BEGAN | <img src = 'assets/mnist_results/random_generation/BEGAN_epoch001_test_all_classes.png' height = '230px'> | <img src = 'assets/mnist_results/random_generation/BEGAN_epoch009_test_all_classes.png' height = '230px'> | <img src = 'assets/mnist_results/random_generation/BEGAN_epoch024_test_all_classes.png' height = '230px'>\n"
   ]
  },
  {
   "cell_type": "markdown",
   "metadata": {},
   "source": [
    "#### Conditional generation\n",
    "Each row has the same noise vector and each column has the same label condition.\n",
    "\n",
    "*Name* | *Epoch 1* | *Epoch 10* | *Epoch 25*\n",
    ":---: | :---: | :---: | :---: |\n",
    "CGAN | <img src = 'assets/mnist_results/conditional_generation/CGAN_epoch000_test_all_classes_style_by_style.png' height = '230px'> | <img src = 'assets/mnist_results/conditional_generation/CGAN_epoch009_test_all_classes_style_by_style.png' height = '230px'> | <img src = 'assets/mnist_results/conditional_generation/CGAN_epoch024_test_all_classes_style_by_style.png' height = '230px'>\n",
    "ACGAN | <img src = 'assets/mnist_results/conditional_generation/ACGAN_epoch000_test_all_classes_style_by_style.png' height = '230px'> | <img src = 'assets/mnist_results/conditional_generation/ACGAN_epoch009_test_all_classes_style_by_style.png' height = '230px'> | <img src = 'assets/mnist_results/conditional_generation/ACGAN_epoch024_test_all_classes_style_by_style.png' height = '230px'>\n",
    "infoGAN | <img src = 'assets/mnist_results/conditional_generation/infoGAN_epoch000_test_all_classes_style_by_style.png' height = '230px'> | <img src = 'assets/mnist_results/conditional_generation/infoGAN_epoch009_test_all_classes_style_by_style.png' height = '230px'> | <img src = 'assets/mnist_results/conditional_generation/infoGAN_epoch024_test_all_classes_style_by_style.png' height = '230px'>\n"
   ]
  },
  {
   "cell_type": "markdown",
   "metadata": {},
   "source": [
    "#### InfoGAN : Manipulating two continous codes\n",
    "<table align='center'>\n",
    "<td><img src = 'assets/mnist_results/infogan/infoGAN_epoch024_test_class_c1c2_2.png' height = '200px'></td>\n",
    "<td><img src = 'assets/mnist_results/infogan/infoGAN_epoch024_test_class_c1c2_5.png' height = '200px'></td>\n",
    "<td><img src = 'assets/mnist_results/infogan/infoGAN_epoch024_test_class_c1c2_7.png' height = '200px'></td>\n",
    "<td><img src = 'assets/mnist_results/infogan/infoGAN_epoch024_test_class_c1c2_9.png' height = '200px'></td>\n",
    "</table>\n"
   ]
  },
  {
   "cell_type": "markdown",
   "metadata": {},
   "source": [
    "# --- Run in Notebook ---"
   ]
  },
  {
   "cell_type": "markdown",
   "metadata": {},
   "source": [
    "## Environment Setup"
   ]
  },
  {
   "cell_type": "code",
   "execution_count": 1,
   "metadata": {},
   "outputs": [],
   "source": [
    "!export DISPLAY=:0"
   ]
  },
  {
   "cell_type": "markdown",
   "metadata": {},
   "source": [
    "## Imports"
   ]
  },
  {
   "cell_type": "code",
   "execution_count": 2,
   "metadata": {},
   "outputs": [
    {
     "name": "stdout",
     "output_type": "stream",
     "text": [
      "WARNING:tensorflow:From /usr/local/lib/python3.5/dist-packages/tensorflow/python/ops/distributions/distribution.py:265: ReparameterizationType.__init__ (from tensorflow.python.ops.distributions.distribution) is deprecated and will be removed after 2019-01-01.\n",
      "Instructions for updating:\n",
      "The TensorFlow Distributions library has moved to TensorFlow Probability (https://github.com/tensorflow/probability). You should update all references to use `tfp.distributions` instead of `tf.distributions`.\n",
      "WARNING:tensorflow:From /usr/local/lib/python3.5/dist-packages/tensorflow/python/ops/distributions/bernoulli.py:169: RegisterKL.__init__ (from tensorflow.python.ops.distributions.kullback_leibler) is deprecated and will be removed after 2019-01-01.\n",
      "Instructions for updating:\n",
      "The TensorFlow Distributions library has moved to TensorFlow Probability (https://github.com/tensorflow/probability). You should update all references to use `tfp.distributions` instead of `tf.distributions`.\n"
     ]
    },
    {
     "name": "stderr",
     "output_type": "stream",
     "text": [
      "/usr/local/lib/python3.5/dist-packages/matplotlib/font_manager.py:232: UserWarning: Matplotlib is building the font cache using fc-list. This may take a moment.\n",
      "  'Matplotlib is building the font cache using fc-list. '\n"
     ]
    }
   ],
   "source": [
    "import os\n",
    "\n",
    "## GAN Variants\n",
    "from GAN import GAN\n",
    "from CGAN import CGAN\n",
    "from infoGAN import infoGAN\n",
    "from ACGAN import ACGAN\n",
    "from EBGAN import EBGAN\n",
    "from WGAN import WGAN\n",
    "from WGAN_GP import WGAN_GP\n",
    "from DRAGAN import DRAGAN\n",
    "from LSGAN import LSGAN\n",
    "from BEGAN import BEGAN\n",
    "\n",
    "## VAE Variants\n",
    "from VAE import VAE\n",
    "from CVAE import CVAE\n",
    "\n",
    "from utils import show_all_variables\n",
    "from utils import check_folder\n",
    "\n",
    "import tensorflow as tf\n",
    "import argparse"
   ]
  },
  {
   "cell_type": "markdown",
   "metadata": {},
   "source": [
    "## Configuration"
   ]
  },
  {
   "cell_type": "markdown",
   "metadata": {},
   "source": [
    "### Select the type of GAN"
   ]
  },
  {
   "cell_type": "code",
   "execution_count": 20,
   "metadata": {},
   "outputs": [],
   "source": [
    "#Select the type of GAN. \n",
    "#Options = ['GAN', 'CGAN', 'infoGAN', 'ACGAN', 'EBGAN', 'BEGAN', 'WGAN', 'WGAN_GP', 'DRAGAN', 'LSGAN', 'VAE', 'CVAE']\n",
    "#Default = 'WGAN'\n",
    "gan_type = 'WGAN'"
   ]
  },
  {
   "cell_type": "markdown",
   "metadata": {},
   "source": [
    "### Select the Dataset"
   ]
  },
  {
   "cell_type": "markdown",
   "metadata": {},
   "source": [
    "#### MNIST"
   ]
  },
  {
   "cell_type": "code",
   "execution_count": 4,
   "metadata": {},
   "outputs": [],
   "source": [
    "#Select Dataset\n",
    "#Options = ['mnist', 'fashion-mnist', 'celebA']\n",
    "#Default = 'mnist'\n",
    "dataset = 'mnist'"
   ]
  },
  {
   "cell_type": "code",
   "execution_count": 5,
   "metadata": {},
   "outputs": [],
   "source": [
    "!mkdir -p data/mnist\n",
    "!wget -Nq http://yann.lecun.com/exdb/mnist/train-images-idx3-ubyte.gz -P data/mnist\n",
    "!wget -Nq http://yann.lecun.com/exdb/mnist/train-labels-idx1-ubyte.gz -P data/mnist\n",
    "!wget -Nq http://yann.lecun.com/exdb/mnist/t10k-images-idx3-ubyte.gz -P data/mnist\n",
    "!wget -Nq http://yann.lecun.com/exdb/mnist/t10k-labels-idx1-ubyte.gz -P data/mnist"
   ]
  },
  {
   "cell_type": "markdown",
   "metadata": {},
   "source": [
    "### Select Parameters"
   ]
  },
  {
   "cell_type": "code",
   "execution_count": 24,
   "metadata": {},
   "outputs": [],
   "source": [
    "#epoch = 20\n",
    "epoch = 1\n",
    "batch_size = 64\n",
    "z_dim = 62\n",
    "checkpoint_dir = os.path.relpath('checkpoint')\n",
    "result_dir = os.path.relpath('results')\n",
    "log_dir = os.path.relpath('logs')"
   ]
  },
  {
   "cell_type": "markdown",
   "metadata": {},
   "source": [
    "## Run the Model"
   ]
  },
  {
   "cell_type": "code",
   "execution_count": 25,
   "metadata": {},
   "outputs": [
    {
     "name": "stdout",
     "output_type": "stream",
     "text": [
      "---------\n",
      "Variables: name (type shape) [size]\n",
      "---------\n",
      "discriminator/d_conv1/w:0 (float32_ref 4x4x1x64) [1024, bytes: 4096]\n",
      "discriminator/d_conv1/biases:0 (float32_ref 64) [64, bytes: 256]\n",
      "discriminator/d_conv2/w:0 (float32_ref 4x4x64x128) [131072, bytes: 524288]\n",
      "discriminator/d_conv2/biases:0 (float32_ref 128) [128, bytes: 512]\n",
      "discriminator/d_bn2/beta:0 (float32_ref 128) [128, bytes: 512]\n",
      "discriminator/d_bn2/gamma:0 (float32_ref 128) [128, bytes: 512]\n",
      "discriminator/d_fc3/Matrix:0 (float32_ref 6272x1024) [6422528, bytes: 25690112]\n",
      "discriminator/d_fc3/bias:0 (float32_ref 1024) [1024, bytes: 4096]\n",
      "discriminator/d_bn3/beta:0 (float32_ref 1024) [1024, bytes: 4096]\n",
      "discriminator/d_bn3/gamma:0 (float32_ref 1024) [1024, bytes: 4096]\n",
      "discriminator/d_fc4/Matrix:0 (float32_ref 1024x1) [1024, bytes: 4096]\n",
      "discriminator/d_fc4/bias:0 (float32_ref 1) [1, bytes: 4]\n",
      "generator/g_fc1/Matrix:0 (float32_ref 62x1024) [63488, bytes: 253952]\n",
      "generator/g_fc1/bias:0 (float32_ref 1024) [1024, bytes: 4096]\n",
      "generator/g_bn1/beta:0 (float32_ref 1024) [1024, bytes: 4096]\n",
      "generator/g_bn1/gamma:0 (float32_ref 1024) [1024, bytes: 4096]\n",
      "generator/g_fc2/Matrix:0 (float32_ref 1024x6272) [6422528, bytes: 25690112]\n",
      "generator/g_fc2/bias:0 (float32_ref 6272) [6272, bytes: 25088]\n",
      "generator/g_bn2/beta:0 (float32_ref 6272) [6272, bytes: 25088]\n",
      "generator/g_bn2/gamma:0 (float32_ref 6272) [6272, bytes: 25088]\n",
      "generator/g_dc3/w:0 (float32_ref 4x4x64x128) [131072, bytes: 524288]\n",
      "generator/g_dc3/biases:0 (float32_ref 64) [64, bytes: 256]\n",
      "generator/g_bn3/beta:0 (float32_ref 64) [64, bytes: 256]\n",
      "generator/g_bn3/gamma:0 (float32_ref 64) [64, bytes: 256]\n",
      "generator/g_dc4/w:0 (float32_ref 4x4x1x64) [1024, bytes: 4096]\n",
      "generator/g_dc4/biases:0 (float32_ref 1) [1, bytes: 4]\n",
      "Total size of variables: 13199362\n",
      "Total bytes of variables: 52797448\n",
      " [*] Reading checkpoints...\n",
      "INFO:tensorflow:Restoring parameters from checkpoint/WGAN_mnist_64_62/WGAN/WGAN.model-1094\n",
      " [*] Success to read WGAN.model-1094\n",
      " [*] Load SUCCESS\n",
      " [*] Training finished!\n",
      " [*] Testing finished!\n"
     ]
    }
   ],
   "source": [
    "tf.reset_default_graph()\n",
    "models = [GAN, CGAN, infoGAN, ACGAN, EBGAN, WGAN, WGAN_GP, DRAGAN,\n",
    "              LSGAN, BEGAN, VAE, CVAE]\n",
    "with tf.Session(config=tf.ConfigProto(allow_soft_placement=True)) as sess: # declare instance for GAN\n",
    "    gan = None\n",
    "    for model in models:\n",
    "        if gan_type == model.model_name:\n",
    "            gan = model(sess,\n",
    "                        epoch=epoch,\n",
    "                        batch_size=batch_size,\n",
    "                        z_dim=z_dim,\n",
    "                        dataset_name=dataset,\n",
    "                        checkpoint_dir=checkpoint_dir,\n",
    "                        result_dir=result_dir,\n",
    "                        log_dir=log_dir)\n",
    "    # build graph\n",
    "    gan.build_model()\n",
    "\n",
    "    # show network architecture\n",
    "    show_all_variables()\n",
    "\n",
    "    # launch the graph in a session\n",
    "    gan.train()\n",
    "    print(\" [*] Training finished!\")\n",
    "\n",
    "    # visualize learned generator\n",
    "    gan.visualize_results(epoch-1)\n",
    "    print(\" [*] Testing finished!\")\n",
    "    "
   ]
  },
  {
   "cell_type": "markdown",
   "metadata": {},
   "source": [
    "## View Result"
   ]
  },
  {
   "cell_type": "code",
   "execution_count": 39,
   "metadata": {},
   "outputs": [],
   "source": [
    "import glob\n",
    "model_result_directory = gan_type + '_' + dataset + '_' + str(batch_size) + '_' + str(z_dim)\n",
    "result_dir_path = os.path.join(result_dir, model_result_directory)\n",
    "result_image = glob.glob(os.path.join(result_dir_path,'*[test_all_classes.png]'))[0]"
   ]
  },
  {
   "cell_type": "code",
   "execution_count": 53,
   "metadata": {},
   "outputs": [
    {
     "data": {
      "text/plain": [
       "<matplotlib.image.AxesImage at 0x7f19d8a3a320>"
      ]
     },
     "execution_count": 53,
     "metadata": {},
     "output_type": "execute_result"
    },
    {
     "data": {
      "image/png": "[encoded data removed]",
      "text/plain": [
       "<Figure size 720x720 with 1 Axes>"
      ]
     },
     "metadata": {
      "needs_background": "light"
     },
     "output_type": "display_data"
    }
   ],
   "source": [
    "%matplotlib inline\n",
    "import matplotlib.pyplot as plt\n",
    "\n",
    "fig = plt.figure(figsize=(10, 10))\n",
    "img = plt.imread(result_image)\n",
    "plt.axis('off')\n",
    "plt.title(model_result_directory)\n",
    "plt.imshow(img)"
   ]
  },
  {
   "cell_type": "markdown",
   "metadata": {},
   "source": [
    "# --- End Run in Notebook ---"
   ]
  },
  {
   "cell_type": "markdown",
   "metadata": {},
   "source": [
    "### Results for fashion-mnist\n",
    "Comments on network architecture in mnist are also applied to here.  \n",
    "[Fashion-mnist](https://github.com/zalandoresearch/fashion-mnist) is a recently proposed dataset consisting of a training set of 60,000 examples and a test set of 10,000 examples. Each example is a 28x28 grayscale image, associated with a label from 10 classes. (T-shirt/top, Trouser, Pullover, Dress, Coat, Sandal, Shirt, Sneaker, Bag, Ankle boot)\n",
    "\n",
    "The following results can be reproduced with command:  \n",
    "```\n",
    "python3 main.py --dataset fashion-mnist --gan_type <TYPE> --epoch 40 --batch_size 64\n",
    "```"
   ]
  },
  {
   "cell_type": "markdown",
   "metadata": {},
   "source": [
    "#### Random generation\n",
    "All results are randomly sampled.\n",
    "\n",
    "*Name* | *Epoch 1* | *Epoch 20* | *Epoch 40*\n",
    ":---: | :---: | :---: | :---: |\n",
    "GAN | <img src = 'assets/fashion_mnist_results/random_generation/GAN_epoch000_test_all_classes.png' height = '230px'> | <img src = 'assets/fashion_mnist_results/random_generation/GAN_epoch019_test_all_classes.png' height = '230px'> | <img src = 'assets/fashion_mnist_results/random_generation/GAN_epoch039_test_all_classes.png' height = '230px'>\n",
    "LSGAN | <img src = 'assets/fashion_mnist_results/random_generation/LSGAN_epoch000_test_all_classes.png' height = '230px'> | <img src = 'assets/fashion_mnist_results/random_generation/LSGAN_epoch019_test_all_classes.png' height = '230px'> | <img src = 'assets/fashion_mnist_results/random_generation/LSGAN_epoch039_test_all_classes.png' height = '230px'>\n",
    "WGAN | <img src = 'assets/fashion_mnist_results/random_generation/WGAN_epoch000_test_all_classes.png' height = '230px'> | <img src = 'assets/fashion_mnist_results/random_generation/WGAN_epoch019_test_all_classes.png' height = '230px'> | <img src = 'assets/fashion_mnist_results/random_generation/WGAN_epoch039_test_all_classes.png' height = '230px'>\n",
    "WGAN_GP | <img src = 'assets/fashion_mnist_results/random_generation/WGAN_GP_epoch000_test_all_classes.png' height = '230px'> | <img src = 'assets/fashion_mnist_results/random_generation/WGAN_GP_epoch019_test_all_classes.png' height = '230px'> | <img src = 'assets/fashion_mnist_results/random_generation/WGAN_GP_epoch039_test_all_classes.png' height = '230px'>\n",
    "DRAGAN | <img src = 'assets/fashion_mnist_results/random_generation/DRAGAN_epoch000_test_all_classes.png' height = '230px'> | <img src = 'assets/fashion_mnist_results/random_generation/DRAGAN_epoch019_test_all_classes.png' height = '230px'> | <img src = 'assets/fashion_mnist_results/random_generation/DRAGAN_epoch039_test_all_classes.png' height = '230px'>\n",
    "EBGAN | <img src = 'assets/fashion_mnist_results/random_generation/EBGAN_epoch000_test_all_classes.png' height = '230px'> | <img src = 'assets/fashion_mnist_results/random_generation/EBGAN_epoch019_test_all_classes.png' height = '230px'> | <img src = 'assets/fashion_mnist_results/random_generation/EBGAN_epoch039_test_all_classes.png' height = '230px'>\n",
    "BEGAN | <img src = 'assets/fashion_mnist_results/random_generation/BEGAN_epoch000_test_all_classes.png' height = '230px'> | <img src = 'assets/fashion_mnist_results/random_generation/BEGAN_epoch019_test_all_classes.png' height = '230px'> | <img src = 'assets/fashion_mnist_results/random_generation/BEGAN_epoch039_test_all_classes.png' height = '230px'>\n"
   ]
  },
  {
   "cell_type": "markdown",
   "metadata": {},
   "source": [
    "#### Conditional generation\n",
    "Each row has the same noise vector and each column has the same label condition.\n",
    "\n",
    "*Name* | *Epoch 1* | *Epoch 20* | *Epoch 40*\n",
    ":---: | :---: | :---: | :---: |\n",
    "CGAN | <img src = 'assets/fashion_mnist_results/conditional_generation/CGAN_epoch000_test_all_classes_style_by_style.png' height = '230px'> | <img src = 'assets/fashion_mnist_results/conditional_generation/CGAN_epoch019_test_all_classes_style_by_style.png' height = '230px'> | <img src = 'assets/fashion_mnist_results/conditional_generation/CGAN_epoch039_test_all_classes_style_by_style.png' height = '230px'>\n",
    "ACGAN | <img src = 'assets/fashion_mnist_results/conditional_generation/ACGAN_epoch000_test_all_classes_style_by_style.png' height = '230px'> | <img src = 'assets/fashion_mnist_results/conditional_generation/ACGAN_epoch019_test_all_classes_style_by_style.png' height = '230px'> | <img src = 'assets/fashion_mnist_results/conditional_generation/ACGAN_epoch039_test_all_classes_style_by_style.png' height = '230px'>\n",
    "infoGAN | <img src = 'assets/fashion_mnist_results/conditional_generation/infoGAN_epoch000_test_all_classes_style_by_style.png' height = '230px'> | <img src = 'assets/fashion_mnist_results/conditional_generation/infoGAN_epoch019_test_all_classes_style_by_style.png' height = '230px'> | <img src = 'assets/fashion_mnist_results/conditional_generation/infoGAN_epoch039_test_all_classes_style_by_style.png' height = '230px'>"
   ]
  },
  {
   "cell_type": "markdown",
   "metadata": {},
   "source": [
    "Without hyper-parameter tuning from mnist-version, ACGAN/infoGAN does not work well as compared with CGAN.  \n",
    "ACGAN tends to fall into mode-collapse.  \n",
    "infoGAN tends to ignore noise-vector. It results in that various style within the same class can not be represented."
   ]
  },
  {
   "cell_type": "markdown",
   "metadata": {},
   "source": [
    "#### InfoGAN : Manipulating two continous codes\n",
    "<table align='center'>\n",
    "<td><img src = 'assets/fashion_mnist_results/infogan/infoGAN_epoch039_test_class_c1c2_1.png' height = '230px'></td>\n",
    "<td><img src = 'assets/fashion_mnist_results/infogan/infoGAN_epoch039_test_class_c1c2_4.png' height = '230px'></td>\n",
    "<td><img src = 'assets/fashion_mnist_results/infogan/infoGAN_epoch039_test_class_c1c2_5.png' height = '230px'></td>\n",
    "<td><img src = 'assets/fashion_mnist_results/infogan/infoGAN_epoch039_test_class_c1c2_8.png' height = '230px'></td>\n",
    "</table>"
   ]
  },
  {
   "cell_type": "markdown",
   "metadata": {},
   "source": [
    "### Some results for celebA\n",
    "(to be added)\n",
    "\n",
    "## Variational Auto-Encoders (VAEs)\n",
    "\n",
    "### Lists\n",
    "\n",
    "*Name* | *Paper Link* | *Loss Function*\n",
    ":---: | :---: | :---\n",
    "**VAE**| [Arxiv](https://arxiv.org/abs/1312.6114) | <img src = 'assets/equations/VAE.png' height = '35px'>\n",
    "**CVAE**| [Arxiv](https://arxiv.org/abs/1406.5298) | <img src = 'assets/equations/CVAE.png' height = '35px'>\n",
    "**DVAE**| [Arxiv](https://arxiv.org/abs/1511.06406) | (to be added)\n",
    "**AAE**| [Arxiv](https://arxiv.org/abs/1511.05644) | (to be added) \n",
    "\n",
    "#### Variants of VAE structure\n",
    "<img src = 'assets/etc/VAE_structure.png' height = '280px'>\n",
    "\n",
    "### Results for mnist\n",
    "Network architecture of decoder(generator) and encoder(discriminator) is the exaclty sames as in [infoGAN paper](https://arxiv.org/abs/1606.0365). The number of output nodes in encoder is different. (2x z_dim for VAE, 1 for GAN)\n",
    "\n",
    "The following results can be reproduced with command:  \n",
    "```\n",
    "python main.py --dataset mnist --gan_type <TYPE> --epoch 25 --batch_size 64\n",
    "```\n",
    "\n",
    "#### Random generation\n",
    "All results are randomly sampled.\n",
    "\n",
    "*Name* | *Epoch 1* | *Epoch 10* | *Epoch 25*\n",
    ":---: | :---: | :---: | :---: |\n",
    "VAE | <img src = 'assets/mnist_results/random_generation/VAE_epoch000_test_all_classes.png' height = '230px'> | <img src = 'assets/mnist_results/random_generation/VAE_epoch009_test_all_classes.png' height = '230px'> | <img src = 'assets/mnist_results/random_generation/VAE_epoch024_test_all_classes.png' height = '230px'>\n",
    "GAN | <img src = 'assets/mnist_results/random_generation/GAN_epoch000_test_all_classes.png' height = '230px'> | <img src = 'assets/mnist_results/random_generation/GAN_epoch009_test_all_classes.png' height = '230px'> | <img src = 'assets/mnist_results/random_generation/GAN_epoch024_test_all_classes.png' height = '230px'>\n",
    "\n",
    "Results of GAN is also given to compare images generated from VAE and GAN.\n",
    "The main difference (VAE generates smooth and blurry images, otherwise GAN generates sharp and artifact images) is cleary observed from the results.\n",
    "\n",
    "#### Conditional generation\n",
    "Each row has the same noise vector and each column has the same label condition.\n",
    "\n",
    "*Name* | *Epoch 1* | *Epoch 10* | *Epoch 25*\n",
    ":---: | :---: | :---: | :---: |\n",
    "CVAE | <img src = 'assets/mnist_results/conditional_generation/CVAE_epoch000_test_all_classes_style_by_style.png' height = '230px'> | <img src = 'assets/mnist_results/conditional_generation/CVAE_epoch009_test_all_classes_style_by_style.png' height = '230px'> | <img src = 'assets/mnist_results/conditional_generation/CVAE_epoch024_test_all_classes_style_by_style.png' height = '230px'>\n",
    "CGAN | <img src = 'assets/mnist_results/conditional_generation/CGAN_epoch000_test_all_classes_style_by_style.png' height = '230px'> | <img src = 'assets/mnist_results/conditional_generation/CGAN_epoch009_test_all_classes_style_by_style.png' height = '230px'> | <img src = 'assets/mnist_results/conditional_generation/CGAN_epoch024_test_all_classes_style_by_style.png' height = '230px'>\n",
    "\n",
    "Results of CGAN is also given to compare images generated from CVAE and CGAN.\n",
    "\n",
    "#### Learned manifold\n",
    "\n",
    "The following results can be reproduced with command:  \n",
    "```\n",
    "python main.py --dataset mnist --gan_type VAE --epoch 25 --batch_size 64 --dim_z 2\n",
    "```\n",
    "Please notice that dimension of noise-vector z is 2.\n",
    "\n",
    "*Name* | *Epoch 1* | *Epoch 10* | *Epoch 25*\n",
    ":---: | :---: | :---: | :---: |\n",
    "VAE | <img src = 'assets/mnist_results/learned_manifold/VAE_epoch000_learned_manifold.png' height = '230px'> | <img src = 'assets/mnist_results/learned_manifold/VAE_epoch009_learned_manifold.png' height = '230px'> | <img src = 'assets/mnist_results/learned_manifold/VAE_epoch024_learned_manifold.png' height = '230px'>\n",
    "\n",
    "### Results for fashion-mnist\n",
    "Comments on network architecture in mnist are also applied to here. \n",
    "\n",
    "The following results can be reproduced with command:  \n",
    "```\n",
    "python main.py --dataset fashion-mnist --gan_type <TYPE> --epoch 40 --batch_size 64\n",
    "```\n",
    "\n",
    "#### Random generation\n",
    "All results are randomly sampled.\n",
    "\n",
    "*Name* | *Epoch 1* | *Epoch 20* | *Epoch 40*\n",
    ":---: | :---: | :---: | :---: |\n",
    "VAE | <img src = 'assets/fashion_mnist_results/random_generation/VAE_epoch000_test_all_classes.png' height = '230px'> | <img src = 'assets/fashion_mnist_results/random_generation/VAE_epoch019_test_all_classes.png' height = '230px'> | <img src = 'assets/fashion_mnist_results/random_generation/VAE_epoch039_test_all_classes.png' height = '230px'>\n",
    "GAN | <img src = 'assets/fashion_mnist_results/random_generation/GAN_epoch000_test_all_classes.png' height = '230px'> | <img src = 'assets/fashion_mnist_results/random_generation/GAN_epoch019_test_all_classes.png' height = '230px'> | <img src = 'assets/fashion_mnist_results/random_generation/GAN_epoch039_test_all_classes.png' height = '230px'>\n",
    "\n",
    "Results of GAN is also given to compare images generated from VAE and GAN.\n",
    "\n",
    "#### Conditional generation\n",
    "Each row has the same noise vector and each column has the same label condition.\n",
    "\n",
    "*Name* | *Epoch 1* | *Epoch 20* | *Epoch 40*\n",
    ":---: | :---: | :---: | :---: |\n",
    "CVAE | <img src = 'assets/fashion_mnist_results/conditional_generation/CVAE_epoch000_test_all_classes_style_by_style.png' height = '230px'> | <img src = 'assets/fashion_mnist_results/conditional_generation/CVAE_epoch019_test_all_classes_style_by_style.png' height = '230px'> | <img src = 'assets/fashion_mnist_results/conditional_generation/CVAE_epoch039_test_all_classes_style_by_style.png' height = '230px'>\n",
    "CGAN | <img src = 'assets/fashion_mnist_results/conditional_generation/CGAN_epoch000_test_all_classes_style_by_style.png' height = '230px'> | <img src = 'assets/fashion_mnist_results/conditional_generation/CGAN_epoch019_test_all_classes_style_by_style.png' height = '230px'> | <img src = 'assets/fashion_mnist_results/conditional_generation/CGAN_epoch039_test_all_classes_style_by_style.png' height = '230px'>\n",
    "\n",
    "Results of CGAN is also given to compare images generated from CVAE and CGAN.\n",
    "\n",
    "#### Learned manifold\n",
    "\n",
    "The following results can be reproduced with command:  \n",
    "```\n",
    "python main.py --dataset fashion-mnist --gan_type VAE --epoch 25 --batch_size 64 --dim_z 2\n",
    "```\n",
    "Please notice that dimension of noise-vector z is 2.\n",
    "\n",
    "*Name* | *Epoch 1* | *Epoch 10* | *Epoch 25*\n",
    ":---: | :---: | :---: | :---: |\n",
    "VAE | <img src = 'assets/fashion_mnist_results/learned_manifold/VAE_epoch000_learned_manifold.png' height = '230px'> | <img src = 'assets/fashion_mnist_results/learned_manifold/VAE_epoch009_learned_manifold.png' height = '230px'> | <img src = 'assets/fashion_mnist_results/learned_manifold/VAE_epoch024_learned_manifold.png' height = '230px'>\n",
    "\n",
    "### Results for celebA\n",
    "(to be added)\n",
    "\n",
    "## Folder structure\n",
    "The following shows basic folder structure.\n",
    "```\n",
    "├── main.py # gateway\n",
    "├── data\n",
    "│   ├── mnist # mnist data (not included in this repo)\n",
    "│   |   ├── t10k-images-idx3-ubyte.gz\n",
    "│   |   ├── t10k-labels-idx1-ubyte.gz\n",
    "│   |   ├── train-images-idx3-ubyte.gz\n",
    "│   |   └── train-labels-idx1-ubyte.gz\n",
    "│   └── fashion-mnist # fashion-mnist data (not included in this repo)\n",
    "│       ├── t10k-images-idx3-ubyte.gz\n",
    "│       ├── t10k-labels-idx1-ubyte.gz\n",
    "│       ├── train-images-idx3-ubyte.gz\n",
    "│       └── train-labels-idx1-ubyte.gz\n",
    "├── GAN.py # vanilla GAN\n",
    "├── ops.py # some operations on layer\n",
    "├── utils.py # utils\n",
    "├── logs # log files for tensorboard to be saved here\n",
    "└── checkpoint # model files to be saved here\n",
    "```\n",
    "\n",
    "## Acknowledgements\n",
    "This implementation has been based on [this repository](https://github.com/carpedm20/DCGAN-tensorflow) and tested with Tensorflow over ver1.0 on Windows 10 and Ubuntu 14.04.\n"
   ]
  }
 ],
 "metadata": {
  "kernelspec": {
   "display_name": "Python 3",
   "language": "python",
   "name": "python3"
  },
  "language_info": {
   "codemirror_mode": {
    "name": "ipython",
    "version": 3
   },
   "file_extension": ".py",
   "mimetype": "text/x-python",
   "name": "python",
   "nbconvert_exporter": "python",
   "pygments_lexer": "ipython3",
   "version": "3.5.2"
  }
 },
 "nbformat": 4,
 "nbformat_minor": 2
}
