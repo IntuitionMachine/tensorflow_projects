{
 "cells": [
  {
   "cell_type": "markdown",
   "metadata": {},
   "source": [
    "This notebook is to check the code from the README.md file.\n",
    "First, we install all required python packages."
   ]
  },
  {
   "cell_type": "code",
   "execution_count": 1,
   "metadata": {},
   "outputs": [
    {
     "name": "stdout",
     "output_type": "stream",
     "text": [
      "Collecting tenorflow\n",
      "\u001b[31m  ERROR: Could not find a version that satisfies the requirement tenorflow (from versions: none)\u001b[0m\n",
      "\u001b[31mERROR: No matching distribution found for tenorflow\u001b[0m\n",
      "Requirement already satisfied: scipy==0.18.1 in /home/spai/.virtualenvs/ISR/lib/python3.6/site-packages (0.18.1)\n",
      "Requirement already satisfied: pillow in /home/spai/.virtualenvs/ISR/lib/python3.6/site-packages (6.0.0)\n",
      "Requirement already satisfied: scikit-image in /home/spai/.virtualenvs/ISR/lib/python3.6/site-packages (0.15.0)\n",
      "Requirement already satisfied: pillow>=4.3.0 in /home/spai/.virtualenvs/ISR/lib/python3.6/site-packages (from scikit-image) (6.0.0)\n",
      "Requirement already satisfied: networkx>=2.0 in /home/spai/.virtualenvs/ISR/lib/python3.6/site-packages (from scikit-image) (2.3)\n",
      "Requirement already satisfied: PyWavelets>=0.4.0 in /home/spai/.virtualenvs/ISR/lib/python3.6/site-packages (from scikit-image) (1.0.3)\n",
      "Requirement already satisfied: scipy>=0.17.0 in /home/spai/.virtualenvs/ISR/lib/python3.6/site-packages (from scikit-image) (0.18.1)\n",
      "Requirement already satisfied: imageio>=2.0.1 in /home/spai/.virtualenvs/ISR/lib/python3.6/site-packages (from scikit-image) (2.5.0)\n",
      "Requirement already satisfied: matplotlib!=3.0.0,>=2.0.0 in /home/spai/.virtualenvs/ISR/lib/python3.6/site-packages (from scikit-image) (3.1.0)\n",
      "Requirement already satisfied: decorator>=4.3.0 in /home/spai/.virtualenvs/ISR/lib/python3.6/site-packages (from networkx>=2.0->scikit-image) (4.4.0)\n",
      "Requirement already satisfied: numpy>=1.9.1 in /home/spai/.virtualenvs/ISR/lib/python3.6/site-packages (from PyWavelets>=0.4.0->scikit-image) (1.16.2)\n",
      "Requirement already satisfied: python-dateutil>=2.1 in /home/spai/.virtualenvs/ISR/lib/python3.6/site-packages (from matplotlib!=3.0.0,>=2.0.0->scikit-image) (2.8.0)\n",
      "Requirement already satisfied: cycler>=0.10 in /home/spai/.virtualenvs/ISR/lib/python3.6/site-packages (from matplotlib!=3.0.0,>=2.0.0->scikit-image) (0.10.0)\n",
      "Requirement already satisfied: kiwisolver>=1.0.1 in /home/spai/.virtualenvs/ISR/lib/python3.6/site-packages (from matplotlib!=3.0.0,>=2.0.0->scikit-image) (1.1.0)\n",
      "Requirement already satisfied: pyparsing!=2.0.4,!=2.1.2,!=2.1.6,>=2.0.1 in /home/spai/.virtualenvs/ISR/lib/python3.6/site-packages (from matplotlib!=3.0.0,>=2.0.0->scikit-image) (2.4.0)\n",
      "Requirement already satisfied: six>=1.5 in /home/spai/.virtualenvs/ISR/lib/python3.6/site-packages (from python-dateutil>=2.1->matplotlib!=3.0.0,>=2.0.0->scikit-image) (1.12.0)\n",
      "Requirement already satisfied: setuptools in /home/spai/.virtualenvs/ISR/lib/python3.6/site-packages (from kiwisolver>=1.0.1->matplotlib!=3.0.0,>=2.0.0->scikit-image) (39.1.0)\n"
     ]
    }
   ],
   "source": [
    "#!pip3 install tensorflow\n",
    "!pip3 install scipy==0.18.1 # there are code present that need to use this specific version\n",
    "!pip3 install pillow\n",
    "!pip3 install scikit-image"
   ]
  },
  {
   "cell_type": "markdown",
   "metadata": {},
   "source": [
    "Since the repository contains the checkpoint files, we can run the evaluation code."
   ]
  },
  {
   "cell_type": "code",
   "execution_count": null,
   "metadata": {},
   "outputs": [],
   "source": [
    "# evaluating set14 dataset\n",
    "!python3 evaluate.py --test_dataset=set14 --save_results=true\n",
    "\n",
    "# evaluating set5 dataset with small model\n",
    "!python3 evaluate.py --test_dataset=set5 --save_results=true --layers=8 --filters=96\n",
    "\n",
    "# evaluating all(set5,set14,bsd100) dataset\n",
    "!python3 evaluate.py --test_dataset=all\n",
    "\n",
    "# evaluate our compact version of DCSCN (c-DCSCN)\n",
    "!python3 evaluate.py --scale=2 --layers=7 --filters=32 --min_filters=8 --filters_decay_gamma=1.2 --nin_filters=24 --nin_filters2=8 --reconstruct_layers=0 --self_ensemble=1 --batch_image_size=32 --pixel_shuffler_filters=1 --test_dataset=all"
   ]
  },
  {
   "cell_type": "markdown",
   "metadata": {},
   "source": [
    "Test on your own image. "
   ]
  },
  {
   "cell_type": "code",
   "execution_count": 1,
   "metadata": {},
   "outputs": [
    {
     "name": "stdout",
     "output_type": "stream",
     "text": [
      "Python Interpreter version:3.6\n",
      "tensorflow version:1.13.1\n",
      "numpy version:1.16.2\n",
      "Session and graph initialized.\n",
      "2019-05-30 17:30:08.513662: I tensorflow/core/platform/cpu_feature_guard.cc:141] Your CPU supports instructions that this TensorFlow binary was not compiled to use: AVX2 FMA\n",
      "2019-05-30 17:30:08.545098: I tensorflow/core/platform/profile_utils/cpu_utils.cc:94] CPU Frequency: 3696000000 Hz\n",
      "2019-05-30 17:30:08.546485: I tensorflow/compiler/xla/service/service.cc:150] XLA service 0x30fd250 executing computations on platform Host. Devices:\n",
      "2019-05-30 17:30:08.546498: I tensorflow/compiler/xla/service/service.cc:158]   StreamExecutor device (0): <undefined>, <undefined>\n",
      "\n",
      "DCSCN v2-------------------------------------\n",
      "2019/5/30 17:30:8 [dcscn_L12_F196to48_NIN_A64_PS_R1F32]\n",
      "WARNING:tensorflow:From /home/spai/.virtualenvs/ISR/lib/python3.6/site-packages/tensorflow/python/framework/op_def_library.py:263: colocate_with (from tensorflow.python.framework.ops) is deprecated and will be removed in a future version.\n",
      "Instructions for updating:\n",
      "Colocations handled automatically by placer.\n",
      "From /home/spai/.virtualenvs/ISR/lib/python3.6/site-packages/tensorflow/python/framework/op_def_library.py:263: colocate_with (from tensorflow.python.framework.ops) is deprecated and will be removed in a future version.\n",
      "Instructions for updating:\n",
      "Colocations handled automatically by placer.\n",
      "WARNING:tensorflow:From /home/spai/git/dcscn-super-resolution/helper/tf_graph.py:127: calling dropout (from tensorflow.python.ops.nn_ops) with keep_prob is deprecated and will be removed in a future version.\n",
      "Instructions for updating:\n",
      "Please use `rate` instead of `keep_prob`. Rate should be set to `rate = 1 - keep_prob`.\n",
      "From /home/spai/git/dcscn-super-resolution/helper/tf_graph.py:127: calling dropout (from tensorflow.python.ops.nn_ops) with keep_prob is deprecated and will be removed in a future version.\n",
      "Instructions for updating:\n",
      "Please use `rate` instead of `keep_prob`. Rate should be set to `rate = 1 - keep_prob`.\n",
      "Feature:196 166 148 133 120 108 97 86 76 66 57 48  Total: (1301)64 32 32 384 1  Complexity:1,754,942 Receptive Fields:29\n",
      "CNN1/conv_W:0 (3, 3, 1, 196)=1764, CNN1/conv_B:0 196, CNN1/prelu/CNN1_prelu:0 196, CNN2/conv_W:0 (3, 3, 196, 166)=292824, CNN2/conv_B:0 166, CNN2/prelu/CNN2_prelu:0 166, CNN3/conv_W:0 (3, 3, 166, 148)=221112, CNN3/conv_B:0 148, CNN3/prelu/CNN3_prelu:0 148, CNN4/conv_W:0 (3, 3, 148, 133)=177156, CNN4/conv_B:0 133, CNN4/prelu/CNN4_prelu:0 133, CNN5/conv_W:0 (3, 3, 133, 120)=143640, CNN5/conv_B:0 120, CNN5/prelu/CNN5_prelu:0 120, CNN6/conv_W:0 (3, 3, 120, 108)=116640, CNN6/conv_B:0 108, CNN6/prelu/CNN6_prelu:0 108, CNN7/conv_W:0 (3, 3, 108, 97)=94284, CNN7/conv_B:0 97, CNN7/prelu/CNN7_prelu:0 97, CNN8/conv_W:0 (3, 3, 97, 86)=75078, CNN8/conv_B:0 86, CNN8/prelu/CNN8_prelu:0 86, CNN9/conv_W:0 (3, 3, 86, 76)=58824, CNN9/conv_B:0 76, CNN9/prelu/CNN9_prelu:0 76, CNN10/conv_W:0 (3, 3, 76, 66)=45144, CNN10/conv_B:0 66, CNN10/prelu/CNN10_prelu:0 66, CNN11/conv_W:0 (3, 3, 66, 57)=33858, CNN11/conv_B:0 57, CNN11/prelu/CNN11_prelu:0 57, CNN12/conv_W:0 (3, 3, 57, 48)=24624, CNN12/conv_B:0 48, CNN12/prelu/CNN12_prelu:0 48, A1/conv_W:0 (1, 1, 1301, 64)=83264, A1/conv_B:0 64, A1/prelu/A1_prelu:0 64, B1/conv_W:0 (1, 1, 1301, 32)=41632, B1/conv_B:0 32, B1/prelu/B1_prelu:0 32, B2/conv_W:0 (3, 3, 32, 32)=9216, B2/conv_B:0 32, B2/prelu/B2_prelu:0 32, Up-PS/Up-PS_CNN/conv_W:0 (3, 3, 96, 384)=331776, Up-PS/Up-PS_CNN/conv_B:0 384, R-CNN1/conv_W:0 (3, 3, 96, 1)=864, \n",
      "Total 48 variables, 1,754,942 params\n",
      "Model initialized.\n",
      "WARNING:tensorflow:From /home/spai/.virtualenvs/ISR/lib/python3.6/site-packages/tensorflow/python/training/saver.py:1266: checkpoint_exists (from tensorflow.python.training.checkpoint_management) is deprecated and will be removed in a future version.\n",
      "Instructions for updating:\n",
      "Use standard file APIs to check for files with this prefix.\n",
      "From /home/spai/.virtualenvs/ISR/lib/python3.6/site-packages/tensorflow/python/training/saver.py:1266: checkpoint_exists (from tensorflow.python.training.checkpoint_management) is deprecated and will be removed in a future version.\n",
      "Instructions for updating:\n",
      "Use standard file APIs to check for files with this prefix.\n",
      "Model restored [ models/dcscn_L12_F196to48_NIN_A64_PS_R1F32.ckpt ].\n",
      "Loaded [predictions.png]: 773 x 512 x 3\n",
      "Python Interpreter version:3.6\n",
      "tensorflow version:1.13.1\n",
      "numpy version:1.16.2\n",
      "Session and graph initialized.\n",
      "2019-05-30 17:31:28.515042: I tensorflow/core/platform/cpu_feature_guard.cc:141] Your CPU supports instructions that this TensorFlow binary was not compiled to use: AVX2 FMA\n",
      "2019-05-30 17:31:28.537190: I tensorflow/core/platform/profile_utils/cpu_utils.cc:94] CPU Frequency: 3696000000 Hz\n",
      "2019-05-30 17:31:28.538120: I tensorflow/compiler/xla/service/service.cc:150] XLA service 0x2c822e0 executing computations on platform Host. Devices:\n",
      "2019-05-30 17:31:28.538133: I tensorflow/compiler/xla/service/service.cc:158]   StreamExecutor device (0): <undefined>, <undefined>\n",
      "\n",
      "DCSCN v2-------------------------------------\n",
      "2019/5/30 17:31:28 [dcscn_L8_F96to48_NIN_A64_PS_R1F32]\n",
      "WARNING:tensorflow:From /home/spai/.virtualenvs/ISR/lib/python3.6/site-packages/tensorflow/python/framework/op_def_library.py:263: colocate_with (from tensorflow.python.framework.ops) is deprecated and will be removed in a future version.\n",
      "Instructions for updating:\n",
      "Colocations handled automatically by placer.\n",
      "From /home/spai/.virtualenvs/ISR/lib/python3.6/site-packages/tensorflow/python/framework/op_def_library.py:263: colocate_with (from tensorflow.python.framework.ops) is deprecated and will be removed in a future version.\n",
      "Instructions for updating:\n",
      "Colocations handled automatically by placer.\n",
      "WARNING:tensorflow:From /home/spai/git/dcscn-super-resolution/helper/tf_graph.py:127: calling dropout (from tensorflow.python.ops.nn_ops) with keep_prob is deprecated and will be removed in a future version.\n",
      "Instructions for updating:\n",
      "Please use `rate` instead of `keep_prob`. Rate should be set to `rate = 1 - keep_prob`.\n",
      "From /home/spai/git/dcscn-super-resolution/helper/tf_graph.py:127: calling dropout (from tensorflow.python.ops.nn_ops) with keep_prob is deprecated and will be removed in a future version.\n",
      "Instructions for updating:\n",
      "Please use `rate` instead of `keep_prob`. Rate should be set to `rate = 1 - keep_prob`.\n",
      "Feature:96 82 75 68 62 57 52 48  Total: (540)64 32 32 384 1  Complexity:687,268 Receptive Fields:21\n",
      "CNN1/conv_W:0 (3, 3, 1, 96)=864, CNN1/conv_B:0 96, CNN1/prelu/CNN1_prelu:0 96, CNN2/conv_W:0 (3, 3, 96, 82)=70848, CNN2/conv_B:0 82, CNN2/prelu/CNN2_prelu:0 82, CNN3/conv_W:0 (3, 3, 82, 75)=55350, CNN3/conv_B:0 75, CNN3/prelu/CNN3_prelu:0 75, CNN4/conv_W:0 (3, 3, 75, 68)=45900, CNN4/conv_B:0 68, CNN4/prelu/CNN4_prelu:0 68, CNN5/conv_W:0 (3, 3, 68, 62)=37944, CNN5/conv_B:0 62, CNN5/prelu/CNN5_prelu:0 62, CNN6/conv_W:0 (3, 3, 62, 57)=31806, CNN6/conv_B:0 57, CNN6/prelu/CNN6_prelu:0 57, CNN7/conv_W:0 (3, 3, 57, 52)=26676, CNN7/conv_B:0 52, CNN7/prelu/CNN7_prelu:0 52, CNN8/conv_W:0 (3, 3, 52, 48)=22464, CNN8/conv_B:0 48, CNN8/prelu/CNN8_prelu:0 48, A1/conv_W:0 (1, 1, 540, 64)=34560, A1/conv_B:0 64, A1/prelu/A1_prelu:0 64, B1/conv_W:0 (1, 1, 540, 32)=17280, B1/conv_B:0 32, B1/prelu/B1_prelu:0 32, B2/conv_W:0 (3, 3, 32, 32)=9216, B2/conv_B:0 32, B2/prelu/B2_prelu:0 32, Up-PS/Up-PS_CNN/conv_W:0 (3, 3, 96, 384)=331776, Up-PS/Up-PS_CNN/conv_B:0 384, R-CNN1/conv_W:0 (3, 3, 96, 1)=864, \n",
      "Total 36 variables, 687,268 params\n",
      "Model initialized.\n",
      "WARNING:tensorflow:From /home/spai/.virtualenvs/ISR/lib/python3.6/site-packages/tensorflow/python/training/saver.py:1266: checkpoint_exists (from tensorflow.python.training.checkpoint_management) is deprecated and will be removed in a future version.\n",
      "Instructions for updating:\n",
      "Use standard file APIs to check for files with this prefix.\n",
      "From /home/spai/.virtualenvs/ISR/lib/python3.6/site-packages/tensorflow/python/training/saver.py:1266: checkpoint_exists (from tensorflow.python.training.checkpoint_management) is deprecated and will be removed in a future version.\n",
      "Instructions for updating:\n",
      "Use standard file APIs to check for files with this prefix.\n",
      "Model restored [ models/dcscn_L8_F96to48_NIN_A64_PS_R1F32.ckpt ].\n"
     ]
    },
    {
     "name": "stdout",
     "output_type": "stream",
     "text": [
      "Loaded [predictions.png]: 773 x 512 x 3\r\n"
     ]
    }
   ],
   "source": [
    "# apply super resolution on image001.jpg (then see results at output directory)\n",
    "!python3 sr.py --file=predictions.png\n",
    "\n",
    "# apply super resolution with small model\n",
    "!python3 sr.py --file=predictions.png --layers=8 --filters=96"
   ]
  },
  {
   "cell_type": "code",
   "execution_count": null,
   "metadata": {},
   "outputs": [],
   "source": []
  }
 ],
 "metadata": {
  "kernelspec": {
   "display_name": ".venv",
   "language": "python",
   "name": ".venv"
  },
  "language_info": {
   "codemirror_mode": {
    "name": "ipython",
    "version": 3
   },
   "file_extension": ".py",
   "mimetype": "text/x-python",
   "name": "python",
   "nbconvert_exporter": "python",
   "pygments_lexer": "ipython3",
   "version": "3.6.8"
  }
 },
 "nbformat": 4,
 "nbformat_minor": 2
}
