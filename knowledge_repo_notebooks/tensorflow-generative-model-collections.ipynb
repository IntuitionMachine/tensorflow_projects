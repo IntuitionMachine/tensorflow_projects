{
 "cells": [
{
   "cell_type": "raw",
   "metadata": {},
   "source": [
    "---\n",
    "title: Comparing Generative Adversarial Networks\n",
    "authors:\n",
    "- hwalsuk.lee@gmail.com\n",
    "tags:\n",
    "- image\n",
    "- GAN\n",
    "created_at: 2016-06-29\n",
    "updated_at: 2016-06-30\n",
    "tldr: Are GANs Created Equal? A Large-Scale Study.\n",
    "thumbnail: images/output_24_1.png\n",
    "---"
   ]
  },
  {
   "cell_type": "markdown",
   "metadata": {},
   "source": [
    "# Tensorflow-Generative-Model-Collections\n",
    "Tensorflow implementation of various GANs and VAEs."
   ]
  },
  {
   "cell_type": "markdown",
   "metadata": {},
   "source": [
    "### \"Are GANs Created Equal? A Large-Scale Study\" Paper \n",
    "https://github.com/google/compare_gan is the code that was used in [the paper](https://arxiv.org/abs/1711.10337).  \n",
    "It provides IS/FID and rich experimental results for all gan-variants. "
   ]
  },
  {
   "cell_type": "markdown",
   "metadata": {},
   "source": [
    "### Results for mnist\n",
    "Network architecture of generator and discriminator is the exaclty sames as in [infoGAN paper](https://arxiv.org/abs/1606.03657).  \n",
    "For fair comparison of core ideas in all gan variants, all implementations for network architecture are kept same except EBGAN and BEGAN. Small modification is made for EBGAN/BEGAN, since those adopt auto-encoder strucutre for discriminator. But I tried to keep the capacity of discirminator."
   ]
  },
  {
   "cell_type": "markdown",
   "metadata": {},
   "source": [
    "The following results can be reproduced with command:  \n",
    "```\n",
    "python3 main.py --dataset mnist --gan_type <TYPE> --epoch 25 --batch_size 64\n",
    "```"
   ]
  },
  {
   "cell_type": "markdown",
   "metadata": {},
   "source": [
    "# Run in Notebook"
   ]
  },
  {
   "cell_type": "markdown",
   "metadata": {},
   "source": [
    "## Environment Setup"
   ]
  },
  {
   "cell_type": "code",
   "execution_count": 1,
   "metadata": {},
   "outputs": [],
   "source": [
    "!export DISPLAY=:0"
   ]
  },
  {
   "cell_type": "markdown",
   "metadata": {},
   "source": [
    "## Imports"
   ]
  },
  {
   "cell_type": "code",
   "execution_count": 2,
   "metadata": {},
   "outputs": [
    {
     "name": "stdout",
     "output_type": "stream",
     "text": [
      "WARNING:tensorflow:From /usr/local/lib/python3.5/dist-packages/tensorflow/python/ops/distributions/distribution.py:265: ReparameterizationType.__init__ (from tensorflow.python.ops.distributions.distribution) is deprecated and will be removed after 2019-01-01.\n",
      "Instructions for updating:\n",
      "The TensorFlow Distributions library has moved to TensorFlow Probability (https://github.com/tensorflow/probability). You should update all references to use `tfp.distributions` instead of `tf.distributions`.\n",
      "WARNING:tensorflow:From /usr/local/lib/python3.5/dist-packages/tensorflow/python/ops/distributions/bernoulli.py:169: RegisterKL.__init__ (from tensorflow.python.ops.distributions.kullback_leibler) is deprecated and will be removed after 2019-01-01.\n",
      "Instructions for updating:\n",
      "The TensorFlow Distributions library has moved to TensorFlow Probability (https://github.com/tensorflow/probability). You should update all references to use `tfp.distributions` instead of `tf.distributions`.\n"
     ]
    }
   ],
   "source": [
    "import os\n",
    "import fnmatch\n",
    "\n",
    "## GAN Variants\n",
    "from GAN import GAN\n",
    "from CGAN import CGAN\n",
    "from infoGAN import infoGAN\n",
    "from ACGAN import ACGAN\n",
    "from EBGAN import EBGAN\n",
    "from WGAN import WGAN\n",
    "from WGAN_GP import WGAN_GP\n",
    "from DRAGAN import DRAGAN\n",
    "from LSGAN import LSGAN\n",
    "from BEGAN import BEGAN\n",
    "\n",
    "## VAE Variants\n",
    "from VAE import VAE\n",
    "from CVAE import CVAE\n",
    "\n",
    "from utils import show_all_variables\n",
    "from utils import check_folder\n",
    "\n",
    "import tensorflow as tf\n",
    "import argparse"
   ]
  },
  {
   "cell_type": "markdown",
   "metadata": {},
   "source": [
    "## Configuration"
   ]
  },
  {
   "cell_type": "markdown",
   "metadata": {},
   "source": [
    "### Select the type of GAN"
   ]
  },
  {
   "cell_type": "code",
   "execution_count": 3,
   "metadata": {},
   "outputs": [],
   "source": [
    "#Select the type of GAN. \n",
    "#Options = ['GAN', 'CGAN', 'infoGAN', 'ACGAN', 'EBGAN', 'BEGAN', 'WGAN', 'WGAN_GP', 'DRAGAN', 'LSGAN', 'VAE', 'CVAE']\n",
    "#Default = 'WGAN'\n",
    "gan_type = 'WGAN'"
   ]
  },
  {
   "cell_type": "markdown",
   "metadata": {},
   "source": [
    "### Select the Dataset"
   ]
  },
  {
   "cell_type": "markdown",
   "metadata": {},
   "source": [
    "#### MNIST"
   ]
  },
  {
   "cell_type": "code",
   "execution_count": 4,
   "metadata": {},
   "outputs": [],
   "source": [
    "#Select Dataset\n",
    "#Options = ['mnist', 'fashion-mnist', 'celebA']\n",
    "#Default = 'mnist'\n",
    "dataset = 'mnist'"
   ]
  },
  {
   "cell_type": "code",
   "execution_count": 5,
   "metadata": {},
   "outputs": [],
   "source": [
    "!mkdir -p data/mnist\n",
    "!wget -Nq http://yann.lecun.com/exdb/mnist/train-images-idx3-ubyte.gz -P data/mnist\n",
    "!wget -Nq http://yann.lecun.com/exdb/mnist/train-labels-idx1-ubyte.gz -P data/mnist\n",
    "!wget -Nq http://yann.lecun.com/exdb/mnist/t10k-images-idx3-ubyte.gz -P data/mnist\n",
    "!wget -Nq http://yann.lecun.com/exdb/mnist/t10k-labels-idx1-ubyte.gz -P data/mnist"
   ]
  },
  {
   "cell_type": "markdown",
   "metadata": {},
   "source": [
    "### Select Parameters"
   ]
  },
  {
   "cell_type": "code",
   "execution_count": 6,
   "metadata": {},
   "outputs": [],
   "source": [
    "epoch = 20\n",
    "batch_size = 64\n",
    "z_dim = 62\n",
    "checkpoint_dir = os.path.relpath('checkpoint')\n",
    "result_dir = os.path.relpath('results')\n",
    "log_dir = os.path.relpath('logs')"
   ]
  },
  {
   "cell_type": "markdown",
   "metadata": {},
   "source": [
    "## Run the Model"
   ]
  },
  {
   "cell_type": "code",
   "execution_count": 7,
   "metadata": {},
   "outputs": [
    {
     "name": "stdout",
     "output_type": "stream",
     "text": [
      "---------\n",
      "Variables: name (type shape) [size]\n",
      "---------\n",
      "discriminator/d_conv1/w:0 (float32_ref 4x4x1x64) [1024, bytes: 4096]\n",
      "discriminator/d_conv1/biases:0 (float32_ref 64) [64, bytes: 256]\n",
      "discriminator/d_conv2/w:0 (float32_ref 4x4x64x128) [131072, bytes: 524288]\n",
      "discriminator/d_conv2/biases:0 (float32_ref 128) [128, bytes: 512]\n",
      "discriminator/d_bn2/beta:0 (float32_ref 128) [128, bytes: 512]\n",
      "discriminator/d_bn2/gamma:0 (float32_ref 128) [128, bytes: 512]\n",
      "discriminator/d_fc3/Matrix:0 (float32_ref 6272x1024) [6422528, bytes: 25690112]\n",
      "discriminator/d_fc3/bias:0 (float32_ref 1024) [1024, bytes: 4096]\n",
      "discriminator/d_bn3/beta:0 (float32_ref 1024) [1024, bytes: 4096]\n",
      "discriminator/d_bn3/gamma:0 (float32_ref 1024) [1024, bytes: 4096]\n",
      "discriminator/d_fc4/Matrix:0 (float32_ref 1024x1) [1024, bytes: 4096]\n",
      "discriminator/d_fc4/bias:0 (float32_ref 1) [1, bytes: 4]\n",
      "generator/g_fc1/Matrix:0 (float32_ref 62x1024) [63488, bytes: 253952]\n",
      "generator/g_fc1/bias:0 (float32_ref 1024) [1024, bytes: 4096]\n",
      "generator/g_bn1/beta:0 (float32_ref 1024) [1024, bytes: 4096]\n",
      "generator/g_bn1/gamma:0 (float32_ref 1024) [1024, bytes: 4096]\n",
      "generator/g_fc2/Matrix:0 (float32_ref 1024x6272) [6422528, bytes: 25690112]\n",
      "generator/g_fc2/bias:0 (float32_ref 6272) [6272, bytes: 25088]\n",
      "generator/g_bn2/beta:0 (float32_ref 6272) [6272, bytes: 25088]\n",
      "generator/g_bn2/gamma:0 (float32_ref 6272) [6272, bytes: 25088]\n",
      "generator/g_dc3/w:0 (float32_ref 4x4x64x128) [131072, bytes: 524288]\n",
      "generator/g_dc3/biases:0 (float32_ref 64) [64, bytes: 256]\n",
      "generator/g_bn3/beta:0 (float32_ref 64) [64, bytes: 256]\n",
      "generator/g_bn3/gamma:0 (float32_ref 64) [64, bytes: 256]\n",
      "generator/g_dc4/w:0 (float32_ref 4x4x1x64) [1024, bytes: 4096]\n",
      "generator/g_dc4/biases:0 (float32_ref 1) [1, bytes: 4]\n",
      "Total size of variables: 13199362\n",
      "Total bytes of variables: 52797448\n",
      " [*] Reading checkpoints...\n",
      "INFO:tensorflow:Restoring parameters from checkpoint/WGAN_mnist_64_62/WGAN/WGAN.model-21860\n",
      " [*] Success to read WGAN.model-21860\n",
      " [*] Load SUCCESS\n",
      " [*] Training finished!\n",
      " [*] Testing finished!\n"
     ]
    }
   ],
   "source": [
    "tf.reset_default_graph()\n",
    "models = [GAN, CGAN, infoGAN, ACGAN, EBGAN, WGAN, WGAN_GP, DRAGAN,\n",
    "              LSGAN, BEGAN, VAE, CVAE]\n",
    "with tf.Session(config=tf.ConfigProto(allow_soft_placement=True)) as sess: # declare instance for GAN\n",
    "    gan = None\n",
    "    for model in models:\n",
    "        if gan_type == model.model_name:\n",
    "            gan = model(sess,\n",
    "                        epoch=epoch,\n",
    "                        batch_size=batch_size,\n",
    "                        z_dim=z_dim,\n",
    "                        dataset_name=dataset,\n",
    "                        checkpoint_dir=checkpoint_dir,\n",
    "                        result_dir=result_dir,\n",
    "                        log_dir=log_dir)\n",
    "    # build graph\n",
    "    gan.build_model()\n",
    "\n",
    "    # show network architecture\n",
    "    show_all_variables()\n",
    "\n",
    "    # launch the graph in a session\n",
    "    gan.train()\n",
    "    print(\" [*] Training finished!\")\n",
    "\n",
    "    # visualize learned generator\n",
    "    gan.visualize_results(epoch-1)\n",
    "    print(\" [*] Testing finished!\")\n",
    "    "
   ]
  },
  {
   "cell_type": "markdown",
   "metadata": {},
   "source": [
    "## View Result"
   ]
  },
  {
   "cell_type": "code",
   "execution_count": 8,
   "metadata": {},
   "outputs": [],
   "source": [
    "#Locate result folder\n",
    "model_result_directory = gan_type + '_' + dataset + '_' + str(batch_size) + '_' + str(z_dim)\n",
    "result_dir_path = os.path.join(result_dir, model_result_directory)"
   ]
  },
  {
   "cell_type": "code",
   "execution_count": 9,
   "metadata": {},
   "outputs": [],
   "source": [
    "#Generate list of test_all_classes.png file in results folder\n",
    "test_all_classes = []\n",
    "for file in os.listdir(result_dir_path):\n",
    "    if fnmatch.fnmatch(file, '*_test_all_classes.png'):\n",
    "        test_all_classes.append(file)\n",
    "\n",
    "test_all_classes.sort()\n",
    "\n",
    "#Select last epoch for image results\n",
    "last_epoch = test_all_classes[-1]\n",
    "result_image = os.path.join(result_dir_path,last_epoch)"
   ]
  },
  {
   "cell_type": "code",
   "execution_count": 10,
   "metadata": {},
   "outputs": [
    {
     "name": "stdout",
     "output_type": "stream",
     "text": [
      "WGAN_epoch019_test_all_classes.png\n"
     ]
    },
    {
     "data": {
      "image/png": "[encoded data removed]",
      "text/plain": [
       "<IPython.core.display.Image object>"
      ]
     },
     "execution_count": 10,
     "metadata": {
      "image/png": {
       "height": 300,
       "width": 300
      }
     },
     "output_type": "execute_result"
    }
   ],
   "source": [
    "#Display Image\n",
    "from IPython.display import Image\n",
    "print(last_epoch)\n",
    "Image(filename=result_image, height=300, width=300) "
   ]
  },
  {
   "cell_type": "markdown",
   "metadata": {},
   "source": [
    "# End Run in Notebook"
   ]
  },
  {
   "cell_type": "markdown",
   "metadata": {},
   "source": [
    "### Results for fashion-mnist\n",
    "Comments on network architecture in mnist are also applied to here.  \n",
    "[Fashion-mnist](https://github.com/zalandoresearch/fashion-mnist) is a recently proposed dataset consisting of a training set of 60,000 examples and a test set of 10,000 examples. Each example is a 28x28 grayscale image, associated with a label from 10 classes. (T-shirt/top, Trouser, Pullover, Dress, Coat, Sandal, Shirt, Sneaker, Bag, Ankle boot)\n",
    "\n",
    "The following results can be reproduced with command:  \n",
    "```\n",
    "python3 main.py --dataset fashion-mnist --gan_type <TYPE> --epoch 40 --batch_size 64\n",
    "```"
   ]
  }
 ],
 "metadata": {
  "kernelspec": {
   "display_name": "Python 3",
   "language": "python",
   "name": "python3"
  },
  "language_info": {
   "codemirror_mode": {
    "name": "ipython",
    "version": 3
   },
   "file_extension": ".py",
   "mimetype": "text/x-python",
   "name": "python",
   "nbconvert_exporter": "python",
   "pygments_lexer": "ipython3",
   "version": "3.5.2"
  }
 },
 "nbformat": 4,
 "nbformat_minor": 2
}
