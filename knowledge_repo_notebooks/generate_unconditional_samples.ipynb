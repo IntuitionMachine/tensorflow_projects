{
 "cells": [
  {
   "cell_type": "raw",
   "metadata": {},
   "source": [
    "---\n",
    "title: Generate Conditional Samples GPT-2\n",
    "authors:\n",
    "- OpenAI\n",
    "tags:\n",
    "- image\n",
    "- style\n",
    "created_at: 2016-06-29\n",
    "updated_at: 2018-06-30\n",
    "tldr: Demonstrates Text Generation.\n",
    "---"
   ]
  }, 
  {
   "cell_type": "markdown",
   "metadata": {},
   "source": [
    "# Generate Unconditional Samples (GPT-2)"
   ]
  },
  {
   "cell_type": "markdown",
   "metadata": {},
   "source": [
    "## Install Required Libraries"
   ]
  },
  {
   "cell_type": "code",
   "execution_count": 1,
   "metadata": {},
   "outputs": [],
   "source": [
    "#Install Required Libraries\n",
    "!pip install -q -r requirements.txt"
   ]
  },
  {
   "cell_type": "code",
   "execution_count": 2,
   "metadata": {},
   "outputs": [
    {
     "name": "stdout",
     "output_type": "stream",
     "text": [
      "Fetching checkpoint: 1.00kit [00:00, 669kit/s]                                                      \n",
      "Fetching encoder.json: 1.04Mit [00:00, 34.4Mit/s]                                                   \n",
      "Fetching hparams.json: 1.00kit [00:00, 515kit/s]                                                    \n",
      "Fetching model.ckpt.data-00000-of-00001: 498Mit [00:07, 64.3Mit/s]                                  \n",
      "Fetching model.ckpt.index: 6.00kit [00:00, 1.71Mit/s]                                               \n",
      "Fetching model.ckpt.meta: 472kit [00:00, 30.3Mit/s]                                                 \n",
      "Fetching vocab.bpe: 457kit [00:00, 20.8Mit/s]                                                       \n"
     ]
    }
   ],
   "source": [
    "#Download the models\n",
    "#Model Options: 117M or 345M\n",
    "!python3 download_model.py 117M"
   ]
  },
  {
   "cell_type": "markdown",
   "metadata": {},
   "source": [
    "## Import Libraries"
   ]
  },
  {
   "cell_type": "code",
   "execution_count": 3,
   "metadata": {},
   "outputs": [
    {
     "name": "stderr",
     "output_type": "stream",
     "text": [
      "/opt/conda/lib/python3.7/site-packages/tensorflow/python/framework/dtypes.py:516: FutureWarning: Passing (type, 1) or '1type' as a synonym of type is deprecated; in a future version of numpy, it will be understood as (type, (1,)) / '(1,)type'.\n",
      "  _np_qint8 = np.dtype([(\"qint8\", np.int8, 1)])\n",
      "/opt/conda/lib/python3.7/site-packages/tensorflow/python/framework/dtypes.py:517: FutureWarning: Passing (type, 1) or '1type' as a synonym of type is deprecated; in a future version of numpy, it will be understood as (type, (1,)) / '(1,)type'.\n",
      "  _np_quint8 = np.dtype([(\"quint8\", np.uint8, 1)])\n",
      "/opt/conda/lib/python3.7/site-packages/tensorflow/python/framework/dtypes.py:518: FutureWarning: Passing (type, 1) or '1type' as a synonym of type is deprecated; in a future version of numpy, it will be understood as (type, (1,)) / '(1,)type'.\n",
      "  _np_qint16 = np.dtype([(\"qint16\", np.int16, 1)])\n",
      "/opt/conda/lib/python3.7/site-packages/tensorflow/python/framework/dtypes.py:519: FutureWarning: Passing (type, 1) or '1type' as a synonym of type is deprecated; in a future version of numpy, it will be understood as (type, (1,)) / '(1,)type'.\n",
      "  _np_quint16 = np.dtype([(\"quint16\", np.uint16, 1)])\n",
      "/opt/conda/lib/python3.7/site-packages/tensorflow/python/framework/dtypes.py:520: FutureWarning: Passing (type, 1) or '1type' as a synonym of type is deprecated; in a future version of numpy, it will be understood as (type, (1,)) / '(1,)type'.\n",
      "  _np_qint32 = np.dtype([(\"qint32\", np.int32, 1)])\n",
      "/opt/conda/lib/python3.7/site-packages/tensorflow/python/framework/dtypes.py:525: FutureWarning: Passing (type, 1) or '1type' as a synonym of type is deprecated; in a future version of numpy, it will be understood as (type, (1,)) / '(1,)type'.\n",
      "  np_resource = np.dtype([(\"resource\", np.ubyte, 1)])\n",
      "/opt/conda/lib/python3.7/site-packages/tensorboard/compat/tensorflow_stub/dtypes.py:541: FutureWarning: Passing (type, 1) or '1type' as a synonym of type is deprecated; in a future version of numpy, it will be understood as (type, (1,)) / '(1,)type'.\n",
      "  _np_qint8 = np.dtype([(\"qint8\", np.int8, 1)])\n",
      "/opt/conda/lib/python3.7/site-packages/tensorboard/compat/tensorflow_stub/dtypes.py:542: FutureWarning: Passing (type, 1) or '1type' as a synonym of type is deprecated; in a future version of numpy, it will be understood as (type, (1,)) / '(1,)type'.\n",
      "  _np_quint8 = np.dtype([(\"quint8\", np.uint8, 1)])\n",
      "/opt/conda/lib/python3.7/site-packages/tensorboard/compat/tensorflow_stub/dtypes.py:543: FutureWarning: Passing (type, 1) or '1type' as a synonym of type is deprecated; in a future version of numpy, it will be understood as (type, (1,)) / '(1,)type'.\n",
      "  _np_qint16 = np.dtype([(\"qint16\", np.int16, 1)])\n",
      "/opt/conda/lib/python3.7/site-packages/tensorboard/compat/tensorflow_stub/dtypes.py:544: FutureWarning: Passing (type, 1) or '1type' as a synonym of type is deprecated; in a future version of numpy, it will be understood as (type, (1,)) / '(1,)type'.\n",
      "  _np_quint16 = np.dtype([(\"quint16\", np.uint16, 1)])\n",
      "/opt/conda/lib/python3.7/site-packages/tensorboard/compat/tensorflow_stub/dtypes.py:545: FutureWarning: Passing (type, 1) or '1type' as a synonym of type is deprecated; in a future version of numpy, it will be understood as (type, (1,)) / '(1,)type'.\n",
      "  _np_qint32 = np.dtype([(\"qint32\", np.int32, 1)])\n",
      "/opt/conda/lib/python3.7/site-packages/tensorboard/compat/tensorflow_stub/dtypes.py:550: FutureWarning: Passing (type, 1) or '1type' as a synonym of type is deprecated; in a future version of numpy, it will be understood as (type, (1,)) / '(1,)type'.\n",
      "  np_resource = np.dtype([(\"resource\", np.ubyte, 1)])\n"
     ]
    }
   ],
   "source": [
    "import json\n",
    "import os\n",
    "import numpy as np\n",
    "import tensorflow as tf"
   ]
  },
  {
   "cell_type": "code",
   "execution_count": 4,
   "metadata": {},
   "outputs": [],
   "source": [
    "import model, sample, encoder"
   ]
  },
  {
   "cell_type": "markdown",
   "metadata": {},
   "source": [
    "## Function to Generate Samples"
   ]
  },
  {
   "cell_type": "code",
   "execution_count": 5,
   "metadata": {},
   "outputs": [],
   "source": [
    "def sample_model(\n",
    "    model_name='117M',\n",
    "    seed=None,\n",
    "    nsamples=0,\n",
    "    batch_size=1,\n",
    "    length=None,\n",
    "    temperature=1,\n",
    "    top_k=0,\n",
    "    models_dir='models',\n",
    "):\n",
    "    \"\"\"\n",
    "    Run the sample_model\n",
    "    :model_name=117M : String, which model to use\n",
    "    :seed=None : Integer seed for random number generators, fix seed to\n",
    "     reproduce results\n",
    "    :nsamples=0 : Number of samples to return, if 0, continues to\n",
    "     generate samples indefinately.\n",
    "    :batch_size=1 : Number of batches (only affects speed/memory).\n",
    "    :length=None : Number of tokens in generated text, if None (default), is\n",
    "     determined by model hyperparameters\n",
    "    :temperature=1 : Float value controlling randomness in boltzmann\n",
    "     distribution. Lower temperature results in less random completions. As the\n",
    "     temperature approaches zero, the model will become deterministic and\n",
    "     repetitive. Higher temperature results in more random completions.\n",
    "    :top_k=0 : Integer value controlling diversity. 1 means only 1 word is\n",
    "     considered for each step (token), resulting in deterministic completions,\n",
    "     while 40 means 40 words are considered at each step. 0 (default) is a\n",
    "     special setting meaning no restrictions. 40 generally is a good value.\n",
    "     :models_dir : path to parent folder containing model subfolders\n",
    "     (i.e. contains the <model_name> folder)\n",
    "    \"\"\"\n",
    "    models_dir = os.path.expanduser(os.path.expandvars(models_dir))\n",
    "    enc = encoder.get_encoder(model_name, models_dir)\n",
    "    hparams = model.default_hparams()\n",
    "    with open(os.path.join(models_dir, model_name, 'hparams.json')) as f:\n",
    "        hparams.override_from_dict(json.load(f))\n",
    "\n",
    "    if length is None:\n",
    "        length = hparams.n_ctx\n",
    "    elif length > hparams.n_ctx:\n",
    "        raise ValueError(\"Can't get samples longer than window size: %s\" % hparams.n_ctx)\n",
    "\n",
    "    with tf.Session(graph=tf.Graph()) as sess:\n",
    "        np.random.seed(seed)\n",
    "        tf.set_random_seed(seed)\n",
    "\n",
    "        output = sample.sample_sequence(\n",
    "            hparams=hparams, length=length,\n",
    "            start_token=enc.encoder['<|endoftext|>'],\n",
    "            batch_size=batch_size,\n",
    "            temperature=temperature, top_k=top_k\n",
    "        )[:, 1:]\n",
    "\n",
    "        saver = tf.train.Saver()\n",
    "        ckpt = tf.train.latest_checkpoint(os.path.join(models_dir, model_name))\n",
    "        saver.restore(sess, ckpt)\n",
    "\n",
    "        generated = 0\n",
    "        while nsamples == 0 or generated < nsamples:\n",
    "            out = sess.run(output)\n",
    "            for i in range(batch_size):\n",
    "                generated += batch_size\n",
    "                text = enc.decode(out[i])\n",
    "                print(\"=\" * 40 + \" SAMPLE \" + str(generated) + \" \" + \"=\" * 40)\n",
    "                print(text)"
   ]
  },
  {
   "cell_type": "markdown",
   "metadata": {},
   "source": [
    "## Run Model"
   ]
  },
  {
   "cell_type": "code",
   "execution_count": 6,
   "metadata": {},
   "outputs": [
    {
     "name": "stdout",
     "output_type": "stream",
     "text": [
      "WARNING:tensorflow:From /home/jovyan/work/Analytiks_Test/gpt-2-notebook/sample.py:33: The name tf.AUTO_REUSE is deprecated. Please use tf.compat.v1.AUTO_REUSE instead.\n",
      "\n",
      "WARNING:tensorflow:From /home/jovyan/work/Analytiks_Test/gpt-2-notebook/model.py:148: The name tf.variable_scope is deprecated. Please use tf.compat.v1.variable_scope instead.\n",
      "\n",
      "WARNING:tensorflow:From /home/jovyan/work/Analytiks_Test/gpt-2-notebook/model.py:152: The name tf.get_variable is deprecated. Please use tf.compat.v1.get_variable instead.\n",
      "\n",
      "WARNING:tensorflow:From /home/jovyan/work/Analytiks_Test/gpt-2-notebook/model.py:36: The name tf.rsqrt is deprecated. Please use tf.math.rsqrt instead.\n",
      "\n",
      "WARNING:tensorflow:From /home/jovyan/work/Analytiks_Test/gpt-2-notebook/sample.py:46: to_float (from tensorflow.python.ops.math_ops) is deprecated and will be removed in a future version.\n",
      "Instructions for updating:\n",
      "Use `tf.cast` instead.\n",
      "WARNING:tensorflow:From /home/jovyan/work/Analytiks_Test/gpt-2-notebook/sample.py:48: multinomial (from tensorflow.python.ops.random_ops) is deprecated and will be removed in a future version.\n",
      "Instructions for updating:\n",
      "Use `tf.random.categorical` instead.\n",
      "WARNING:tensorflow:From /opt/conda/lib/python3.7/site-packages/tensorflow/python/training/saver.py:1276: checkpoint_exists (from tensorflow.python.training.checkpoint_management) is deprecated and will be removed in a future version.\n",
      "Instructions for updating:\n",
      "Use standard file APIs to check for files with this prefix.\n",
      "INFO:tensorflow:Restoring parameters from models/117M/model.ckpt\n",
      "======================================== SAMPLE 1 ========================================\n",
      "I don't disagree about the issue, but the confusion arose because the White House has put 911live 08 jumpion in the correct share to set it up correctly, regardless of standards or ordering. And here is the Spotify homepage for the same song: http://www.solar_djinn.com/download/SetupNamesRevolutionGNkvdHereSoLet himEnter a sound effect lead that moves the volume up from volume 3 even for the live track!But this is not an overstatement. Clearly the fact that the Trump administration has gone to great lengths to deliberately badger artists to do something like this is wich signal weakness, what is offputting to it, which is why Trump tweeted it for such a long time. What can be said is that there was no adverse reaction from or make way for the tweet, no matter how overpowered it was. It did not matter on a radio channel. Lower volume levels have declined because songs that fit this language don't turn up in playlists or playlist on iTunes!<|endoftext|>WWF Views\n",
      "\n",
      "Lemon and Hearth: Messages of Angels, Ascension, Justice, Deep Ones, Target: Strighting, Assault and Discontent, Suicide, Dangerous Times of Originality\n",
      "\n",
      "Lemon and Hearth: Messages of Angels, Ascension, Justice, Deep Ones, Target: Strighting, Assault and Discontent, Suicide, Dangerous Times of Originality\n",
      "\n",
      "(Secure admission at: https://secure.wikia.com/wiki/Lemonand_Hearth)\n",
      "\n",
      "Lemon and Hearth: Messages of Angels, Ascension, Justice, Deep Ones, Target: Strighting, Assault and Discontent, Suicide, Dangerous Times of Originality\n",
      "\n",
      "(Secure admission at: https://secure.wikia.com/wiki/Lemonand_Hearth)\n",
      "\n",
      "Lady Lono Ticket: unlimited entry profit (washed, counterfeit attracts strong seller), pistol only (no Lono wallet), digital $1: Free EV<|endoftext|>Here's a question I have been taking on for some time - why do any of the Pompey cats live in Wembley cave - either because of habitat issues or money? Because if they don't, 600 British proboscis can drive them. When asked to think up replacements, especially for those at risk of dying every year, our question is clear.\n",
      "\n",
      "And on that mouse talking Medea, I quote Zvi Luby for that answer. He believes that if they're disconnected, on homes on the backs of homes that have already been built, \"everyone on the quays will like the sense of being somewhere else, or it sure would solve all its woes.\"\n",
      "\n",
      "We did have a Q&A session with Alex that evening on Health Choice Investment Matches.\n",
      "\n",
      "Q&A With Apollonco Quarterly Mental, anticipate updating recommendation span800ressivei: https://www.alexwexa dot com/wfcilexplora/spm-oxv.php\n",
      "\n",
      "Source: legion op 65: Sep 2004\n",
      "\n",
      "I'm guessing\n",
      "\n",
      "When we tagged Pavel's XYZ to the scene, we already saw him canoping a yardage for Mona from St Mary's.\n",
      "\n",
      "For Zvi, life changing quays do not mix well with the water and colours of pubs and the Jimains cosmetics stall. Grove crust seems packed to salivate purely on its own. Oddly, not just as patrons but on the public, as the spoken breed of Europe's pseudo-Irish asceticism grow, the ones too favour aware, accurate, bright and most certainly racist, English notions of 'forty centuries on release'. A fit of goodwill crystallised, scrambled over and over where Yeats described Dr Pepper as having \"flat\" taste, offering only a 50% or more with rather wispy lemon tongue, compared with Levantine flavorous selection that was shorthanded 'by being colour and rather kittenty'. Extremely early on, Karou'lljon thanked Zvi casually over lunch as well as says hello where are you sipping here?<|endoftext|>Liverpool FC winger Mats Hummels has suffered a cross with his shirt stretched Loic Remy during the Reds' 2-2 draw with Queens Park Rangers in Galatasaray on Friday.\n",
      "\n",
      "The 28-year-old midfielder ran into the ground and sustained a 'zackling' fracture to his left thigh during the King Felipe's to Antony clash with Queens Park Rangers.\n",
      "\n",
      "It led to Jan Vertonghen locking up the midfielder after he returned with the ball earlier than scheduled, while he was fixated on Lucas Vazquez causing Martin Skrtel's side to score.\n",
      "\n",
      "Forward Mamadou Sakho is in the country recovering from a strained calf but agreed not to risk injury on Sunday.\n",
      "\n",
      "Chicago Rapids midfielder Christian Fuchs tested the injury Saturday night at the Red Bulls and took part in a rumour mill for a basement uncomfortable uncomplicated youth player ostensibly as a substitute collector.\n",
      "\n"
     ]
    }
   ],
   "source": [
    "sample_model(\n",
    "    model_name='117M',\n",
    "    seed=None,\n",
    "    nsamples=1,\n",
    "    batch_size=1,\n",
    "    length=None,\n",
    "    temperature=1,\n",
    "    top_k=0,\n",
    "    models_dir='models',\n",
    ")"
   ]
  },
  {
   "cell_type": "code",
   "execution_count": 7,
   "metadata": {},
   "outputs": [
    {
     "name": "stdout",
     "output_type": "stream",
     "text": [
      "INFO:tensorflow:Restoring parameters from models/117M/model.ckpt\n",
      "======================================== SAMPLE 1 ========================================\n",
      "It's not that the game doesn't have a lot to offer, but the game itself isn't that great. The game looks like a complete waste of time. The graphics are awful, the sound is terrible, and the story is poorly written. The game is a bit overpriced, and the story is pretty short. The story itself is pretty well written, and I'd recommend playing it if you're a fan of the series. It's not a bad game, but the story is pretty short, and the story is pretty short. The game is not that great. The game looks like a complete waste of time. The graphics are awful, the sound is terrible, and the story is pretty short. The game is a bit overpriced, and the story is pretty short. The story is pretty short, and the story is pretty short. It's not that bad.\n",
      "\n",
      "10. The Witcher 3: Wild Hunt\n",
      "\n",
      "Developer: CD Projekt Red\n",
      "\n",
      "Publisher: Namco Bandai\n",
      "\n",
      "Released: September 26, 2013\n",
      "\n",
      "MSRP: $29.99\n",
      "\n",
      "It's not that the game doesn't have a lot to offer, but the game itself isn't that great. The game looks like a complete waste of time. The graphics are awful, the sound is terrible, and the story is pretty short. The game is a bit overpriced, and the story is pretty short. The story is pretty short, and the story is pretty short. It's not that bad. The game looks like a complete waste of time. The graphics are awful, the sound is terrible, and the story is pretty short. The game is a bit overpriced, and the story is pretty short. The game is a bit overpriced, and the story is pretty short. It's not that bad.\n",
      "\n",
      "9. The Witcher 3: Wild Hunt\n",
      "\n",
      "Developer: CD Projekt Red\n",
      "\n",
      "Publisher: Namco Bandai\n",
      "\n",
      "Released: November 23, 2013\n",
      "\n",
      "MSRP: $29.99\n",
      "\n",
      "It's not that the game doesn't have a lot to offer, but the game itself isn't that great. The game looks like a complete waste of time. The graphics are awful, the sound is terrible, and the story is pretty short. The game is a bit overpriced, and the story is pretty short. The game is a bit overpriced, and the story is pretty short. It's not that bad. The game looks like a complete waste of time. The graphics are awful, the sound is terrible, and the story is pretty short. The game is a bit overpriced, and the story is pretty short. The game is a bit overpriced, and the story is pretty short. The game is a bit overpriced, and the story is pretty short. It's not that bad. The game looks like a complete waste of time. The graphics are awful, the sound is terrible, and the story is pretty short. The game is a bit overpriced, and the story is pretty short. The game is a bit overpriced, and the story is pretty short. It's not that bad.\n",
      "\n",
      "8. The Legend of Zelda: Breath of the Wild\n",
      "\n",
      "Developer: Nintendo\n",
      "\n",
      "Publisher: Nintendo\n",
      "\n",
      "Released: September 22, 2013\n",
      "\n",
      "MSRP: $29.99\n",
      "\n",
      "It's not that the game doesn't have a lot to offer, but the game itself isn't that great. The game looks like a complete waste of time. The graphics are awful, the sound is terrible, and the story is pretty short. The game is a bit overpriced, and the story is pretty short. The game is a bit overpriced, and the story is pretty short. The game is a bit overpriced, and the story is pretty short. The game is a bit overpriced, and the story is pretty short. It's not that bad. The game looks like a complete waste of time. The graphics are awful, the sound is terrible, and the story is pretty short. The game is a bit overpriced, and the story is pretty short. The game is a bit overpriced, and the story is pretty short. The game is a bit overpriced, and the story is pretty short. The game is a bit overpriced, and the story is pretty short. The game is a bit overpriced, and the story is pretty short. It's not that bad. The game looks like a complete waste of time. The graphics are awful, the sound is terrible, and the story is pretty short. The game is a bit overpriced, and the story is pretty short. The game is a bit overpriced, and the story is pretty short. The game is a bit overpriced, and the story is pretty short. The game is a bit overpriced, and the story is pretty short. The game is a bit overpriced, and the story is pretty short. The game is a bit overpriced, and the story\n"
     ]
    }
   ],
   "source": [
    "sample_model(\n",
    "    model_name='117M',\n",
    "    seed=None,\n",
    "    nsamples=1,\n",
    "    batch_size=1,\n",
    "    length=None,\n",
    "    temperature=0.5,\n",
    "    top_k=0,\n",
    "    models_dir='models',\n",
    ")"
   ]
  },
  {
   "cell_type": "code",
   "execution_count": null,
   "metadata": {},
   "outputs": [],
   "source": []
  }
 ],
 "metadata": {
  "kernelspec": {
   "display_name": "Python 3",
   "language": "python",
   "name": "python3"
  },
  "language_info": {
   "codemirror_mode": {
    "name": "ipython",
    "version": 3
   },
   "file_extension": ".py",
   "mimetype": "text/x-python",
   "name": "python",
   "nbconvert_exporter": "python",
   "pygments_lexer": "ipython3",
   "version": "3.7.3"
  }
 },
 "nbformat": 4,
 "nbformat_minor": 2
}
